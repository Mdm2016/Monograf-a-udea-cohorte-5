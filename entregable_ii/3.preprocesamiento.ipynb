{
 "cells": [
  {
   "cell_type": "markdown",
   "id": "5f530a81-4a5d-4628-8dbb-a22a46c5ac24",
   "metadata": {},
   "source": [
    "# Customer shopping"
   ]
  },
  {
   "cell_type": "markdown",
   "id": "ff2cc26d-cfcb-4899-b2eb-f7363ee10df8",
   "metadata": {},
   "source": [
    "## Librearías"
   ]
  },
  {
   "cell_type": "code",
   "execution_count": 1,
   "id": "9aa9307f-8bfe-4513-a482-5672d90d2dfd",
   "metadata": {},
   "outputs": [],
   "source": [
    "import matplotlib.pyplot as plt\n",
    "import numpy as np\n",
    "import os\n",
    "import pandas as pd\n",
    "import seaborn as sns\n",
    "\n",
    "from scipy.stats import chi2_contingency\n",
    "from scipy.stats import pearsonr\n",
    "from sklearn.metrics import mutual_info_score\n",
    "from sklearn.neighbors import LocalOutlierFactor\n",
    "from sklearn.preprocessing import MinMaxScaler\n",
    "\n",
    "%matplotlib inline\n",
    "plt.style.use('ggplot')"
   ]
  },
  {
   "cell_type": "code",
   "execution_count": 2,
   "id": "b5f29a0b-046a-4552-83d1-c89f39d81016",
   "metadata": {},
   "outputs": [],
   "source": [
    "pd.set_option('display.max_colwidth', None)\n",
    "pd.set_option('display.max_columns', None)"
   ]
  },
  {
   "cell_type": "markdown",
   "id": "0a9185bd-4233-4f77-9152-1756248986fa",
   "metadata": {},
   "source": [
    "## Funciones utiles"
   ]
  },
  {
   "cell_type": "markdown",
   "id": "da74b287-1d1a-429c-9f58-242f1aee071b",
   "metadata": {},
   "source": [
    "### Gráficas"
   ]
  },
  {
   "cell_type": "code",
   "execution_count": 3,
   "id": "ef92b1f6-9116-4e87-964b-cc881f87ffa7",
   "metadata": {},
   "outputs": [],
   "source": [
    "def box_plot(df: pd.DataFrame,\n",
    "             title: str,\n",
    "             savefig: bool = False,\n",
    "             showfliers: bool = True):\n",
    "    \"\"\"Genera un diagrama de cajas utilizando el mapa de colores RdYlGn.\n",
    "\n",
    "    Args:\n",
    "        df (pd.DataFrame): El DataFrame que se utilizará para generar \n",
    "         el diagrama de cajas.\n",
    "         title: Título de la gráfica.\n",
    "        savefig: Opcional. Si se quiere guardar la imagen \n",
    "         en output.\n",
    "        showfliers (bool): Indica si se muestran o no los valores \n",
    "         atípicos en el diagrama de cajas. Valor predeterminado es True.\n",
    "\n",
    "    Returns:\n",
    "        None: Muestra el gráfico de barras.\n",
    "        \n",
    "    \"\"\"\n",
    "    # Generar el diagrama de cajas utilizando df.plot(kind='box')\n",
    "    ax = df.plot(kind='box', patch_artist=True, figsize=(8, 5), showfliers=showfliers, vert=False)\n",
    "    \n",
    "    # Configurar el mapa de colores\n",
    "    cmap = plt.cm.RdYlGn\n",
    "    \n",
    "    # Personalizar el color de las cajas utilizando el mapa de colores\n",
    "    for patch, color in zip(ax.artists, cmap(np.linspace(0.1, 0.9, len(ax.artists)))):\n",
    "        patch.set_facecolor(color)\n",
    "        \n",
    "    # Agregar título\n",
    "    plt.title(title)\n",
    "    \n",
    "    # Guardar la figura si savefig es True y se proporciona una ruta\n",
    "    if savefig:\n",
    "        plt.savefig(os.path.join('..', 'output', f'{title}.png'), bbox_inches='tight')\n",
    "\n",
    "    plt.show()"
   ]
  },
  {
   "cell_type": "code",
   "execution_count": 4,
   "id": "4d22b787-af42-436c-9af9-2c85df61067d",
   "metadata": {},
   "outputs": [],
   "source": [
    "def pie_plot(data: pd.DataFrame, \n",
    "             col: str,\n",
    "             title: str,\n",
    "             savefig: bool = False) -> None:\n",
    "    \"\"\"Genera un gráfico de torta basado en una columna de un DataFrame.\n",
    "\n",
    "    Args:\n",
    "        data (pd.DataFrame): El DataFrame que contiene los datos.\n",
    "        col (str): El nombre de la columna a graficar.\n",
    "        title: Título de la gráfica.\n",
    "        savefig: Opcional. Si se quiere guardar la imagen \n",
    "         en output.\n",
    "\n",
    "    Returns:\n",
    "        None: Muestra el gráfico de pastel.\n",
    "\n",
    "    \"\"\"\n",
    "    plt.figure(figsize=(8, 5))\n",
    "    datos = data[col]\n",
    "    labels = data.index\n",
    "    \n",
    "    # Se agregan colores con plt.cm estableciendo un color para cada espacio en el \n",
    "    # diagrama, por eso se usa un linspace de la misma magnitud de los datos.\n",
    "    colors = plt.cm.RdYlGn(np.linspace(0.1, 0.7, len(datos)))\n",
    "    \n",
    "    # Generación del diagrama circular\n",
    "    patches, texts = plt.pie(datos, labels=labels, colors=colors)\n",
    "\n",
    "    # Para que siempre se vea como un círculo\n",
    "    plt.axis('equal')\n",
    "    \n",
    "    # Se eliminan las líneas\n",
    "    plt.rcParams['patch.linewidth'] = 0\n",
    "    \n",
    "    # Estimación porcentaje\n",
    "    porcent = 100 * datos / sum(datos)\n",
    "    # Lista que será expuesta en la legenda\n",
    "    labels = ['{0} - {1:1.1f} %'.format(i,j) for i, j in zip(labels, porcent)]\n",
    "    \n",
    "    # Se genera la legenda\n",
    "    # bbox_to_anchor especifica en coordenadas la posición de la legenda\n",
    "    plt.legend(patches, labels, bbox_to_anchor=(-0.1, 1.), fontsize=8)\n",
    "    \n",
    "    # Agregar título\n",
    "    plt.title(title)\n",
    "    \n",
    "    # Guardar la figura si savefig es True y se proporciona una ruta\n",
    "    if savefig:\n",
    "        plt.savefig(os.path.join('..', 'output', f'{title}.png'), bbox_inches='tight')\n",
    "        \n",
    "    plt.show()"
   ]
  },
  {
   "cell_type": "markdown",
   "id": "a760b2d8-6d0c-4143-b1e3-e019afd01622",
   "metadata": {},
   "source": [
    "### Limpieza"
   ]
  },
  {
   "cell_type": "code",
   "execution_count": 5,
   "id": "a48cfb09-6876-4351-8e0b-ecf0592e8f38",
   "metadata": {},
   "outputs": [],
   "source": [
    "def find_missing(df: pd.DataFrame) -> pd.DataFrame:\n",
    "    \"\"\"Encuentra los valores faltantes en un DataFrame y devuelve un nuevo DataFrame\n",
    "     que muestra la cantidad de valores faltantes y el porcentaje correspondiente.\n",
    "\n",
    "    Args:\n",
    "        df (pd.DataFrame): El DataFrame que se va a analizar.\n",
    "\n",
    "    Returns:\n",
    "        pd.DataFrame: Un nuevo DataFrame que muestra las columnas, la cantidad de\n",
    "        valores faltantes y el porcentaje de valores faltantes para cada columna.\n",
    "\n",
    "    \"\"\"\n",
    "    lista = []\n",
    "    for col in df.columns:\n",
    "        num = df[df[col].isnull()].shape[0]\n",
    "        lista.append(num)\n",
    "    \n",
    "    dic = {\n",
    "        'Columnas': df.columns,\n",
    "        'Faltantes': lista}\n",
    "    df_faltantes = pd.DataFrame(dic)\n",
    "    \n",
    "    df_faltantes['Porcentaje'] = df_faltantes['Faltantes'] / df.shape[0]\n",
    "    \n",
    "    return df_faltantes"
   ]
  },
  {
   "cell_type": "markdown",
   "id": "35f50e94-9b89-4fe0-80b4-074b3e81dc0d",
   "metadata": {},
   "source": [
    "# Procesamiento"
   ]
  },
  {
   "cell_type": "markdown",
   "id": "3fe18c9b-ac9b-45d0-b539-fc18c6073d82",
   "metadata": {},
   "source": [
    "## Carga de datos"
   ]
  },
  {
   "cell_type": "code",
   "execution_count": 6,
   "id": "20beb460-92a2-458f-8c1c-bb942de78b84",
   "metadata": {},
   "outputs": [],
   "source": [
    "path = os.path.join('..', 'data', 'customer_shopping_data.csv')\n",
    "shopping_data = pd.read_csv(path)"
   ]
  },
  {
   "cell_type": "markdown",
   "id": "8a969b0d-c97a-4bb7-b5ef-aacbee210607",
   "metadata": {},
   "source": [
    "## Imputación de datos"
   ]
  },
  {
   "cell_type": "code",
   "execution_count": 7,
   "id": "4fe037ab-b988-4f45-b67b-da404f54fd0a",
   "metadata": {},
   "outputs": [],
   "source": [
    "missing_values = find_missing(shopping_data)"
   ]
  },
  {
   "cell_type": "code",
   "execution_count": 8,
   "id": "be2fe1ec-d094-4e7a-b053-a88263941fe7",
   "metadata": {},
   "outputs": [
    {
     "data": {
      "text/html": [
       "<div>\n",
       "<style scoped>\n",
       "    .dataframe tbody tr th:only-of-type {\n",
       "        vertical-align: middle;\n",
       "    }\n",
       "\n",
       "    .dataframe tbody tr th {\n",
       "        vertical-align: top;\n",
       "    }\n",
       "\n",
       "    .dataframe thead th {\n",
       "        text-align: right;\n",
       "    }\n",
       "</style>\n",
       "<table border=\"1\" class=\"dataframe\">\n",
       "  <thead>\n",
       "    <tr style=\"text-align: right;\">\n",
       "      <th></th>\n",
       "      <th>Columnas</th>\n",
       "      <th>Faltantes</th>\n",
       "      <th>Porcentaje</th>\n",
       "    </tr>\n",
       "  </thead>\n",
       "  <tbody>\n",
       "    <tr>\n",
       "      <th>0</th>\n",
       "      <td>invoice_no</td>\n",
       "      <td>0</td>\n",
       "      <td>0.0</td>\n",
       "    </tr>\n",
       "    <tr>\n",
       "      <th>1</th>\n",
       "      <td>customer_id</td>\n",
       "      <td>0</td>\n",
       "      <td>0.0</td>\n",
       "    </tr>\n",
       "    <tr>\n",
       "      <th>2</th>\n",
       "      <td>gender</td>\n",
       "      <td>0</td>\n",
       "      <td>0.0</td>\n",
       "    </tr>\n",
       "    <tr>\n",
       "      <th>3</th>\n",
       "      <td>age</td>\n",
       "      <td>0</td>\n",
       "      <td>0.0</td>\n",
       "    </tr>\n",
       "    <tr>\n",
       "      <th>4</th>\n",
       "      <td>category</td>\n",
       "      <td>0</td>\n",
       "      <td>0.0</td>\n",
       "    </tr>\n",
       "    <tr>\n",
       "      <th>5</th>\n",
       "      <td>quantity</td>\n",
       "      <td>0</td>\n",
       "      <td>0.0</td>\n",
       "    </tr>\n",
       "    <tr>\n",
       "      <th>6</th>\n",
       "      <td>price</td>\n",
       "      <td>0</td>\n",
       "      <td>0.0</td>\n",
       "    </tr>\n",
       "    <tr>\n",
       "      <th>7</th>\n",
       "      <td>payment_method</td>\n",
       "      <td>0</td>\n",
       "      <td>0.0</td>\n",
       "    </tr>\n",
       "    <tr>\n",
       "      <th>8</th>\n",
       "      <td>invoice_date</td>\n",
       "      <td>0</td>\n",
       "      <td>0.0</td>\n",
       "    </tr>\n",
       "    <tr>\n",
       "      <th>9</th>\n",
       "      <td>shopping_mall</td>\n",
       "      <td>0</td>\n",
       "      <td>0.0</td>\n",
       "    </tr>\n",
       "  </tbody>\n",
       "</table>\n",
       "</div>"
      ],
      "text/plain": [
       "         Columnas  Faltantes  Porcentaje\n",
       "0      invoice_no          0         0.0\n",
       "1     customer_id          0         0.0\n",
       "2          gender          0         0.0\n",
       "3             age          0         0.0\n",
       "4        category          0         0.0\n",
       "5        quantity          0         0.0\n",
       "6           price          0         0.0\n",
       "7  payment_method          0         0.0\n",
       "8    invoice_date          0         0.0\n",
       "9   shopping_mall          0         0.0"
      ]
     },
     "execution_count": 8,
     "metadata": {},
     "output_type": "execute_result"
    }
   ],
   "source": [
    "missing_values"
   ]
  },
  {
   "cell_type": "markdown",
   "id": "90996c4b-6a0b-4ced-85a9-564942b4c8f4",
   "metadata": {},
   "source": [
    "* No se realiza imputación de datos debido a que no se encuentran datos faltantes"
   ]
  },
  {
   "cell_type": "code",
   "execution_count": 9,
   "id": "7e45defe-aecb-4e66-a990-6e620f1221da",
   "metadata": {},
   "outputs": [],
   "source": [
    "shopping_categorical = shopping_data.select_dtypes(include=['object'])\n",
    "shopping_numeric = shopping_data.select_dtypes(include=[np.number])"
   ]
  },
  {
   "cell_type": "markdown",
   "id": "f0fed333-8be1-4d90-8450-58c931493a81",
   "metadata": {},
   "source": [
    "## Datos atípicos"
   ]
  },
  {
   "cell_type": "code",
   "execution_count": 10,
   "id": "3bdd9367-ccc3-4f04-98ba-b106467c367a",
   "metadata": {},
   "outputs": [
    {
     "data": {
      "image/png": "[encoded data removed]",
      "text/plain": [
       "<Figure size 576x360 with 1 Axes>"
      ]
     },
     "metadata": {},
     "output_type": "display_data"
    }
   ],
   "source": [
    "box_plot(\n",
    "    df=shopping_numeric,\n",
    "    title='Boxplot customer shopping',\n",
    "    savefig=True)"
   ]
  },
  {
   "cell_type": "code",
   "execution_count": 11,
   "id": "541dd40f-7908-4919-83de-7c64e59eba88",
   "metadata": {},
   "outputs": [],
   "source": [
    "# Normalización de los datos\n",
    "min_max = MinMaxScaler()\n",
    "\n",
    "numeric_scale = min_max.fit_transform(shopping_numeric)\n",
    "\n",
    "numeric_scale = pd.DataFrame(numeric_scale, columns=shopping_numeric.columns)"
   ]
  },
  {
   "cell_type": "code",
   "execution_count": 12,
   "id": "1e872143-38e0-4155-910e-b1cb9e95f1ef",
   "metadata": {},
   "outputs": [
    {
     "data": {
      "image/png": "[encoded data removed]",
      "text/plain": [
       "<Figure size 576x360 with 1 Axes>"
      ]
     },
     "metadata": {},
     "output_type": "display_data"
    }
   ],
   "source": [
    "box_plot(\n",
    "    df=numeric_scale,\n",
    "    title='Boxplot customer shopping normalizado',\n",
    "    savefig=True)"
   ]
  },
  {
   "cell_type": "code",
   "execution_count": 13,
   "id": "22570744-162a-4105-a474-7ee9d2078243",
   "metadata": {},
   "outputs": [
    {
     "data": {
      "image/png": "[encoded data removed]",
      "text/plain": [
       "<Figure size 576x360 with 1 Axes>"
      ]
     },
     "metadata": {},
     "output_type": "display_data"
    }
   ],
   "source": [
    "box_plot(\n",
    "    df=shopping_data['price'],\n",
    "    title='Boxplot price',\n",
    "    savefig=True)"
   ]
  },
  {
   "cell_type": "code",
   "execution_count": 14,
   "id": "bc9943d1-ea5a-446c-82e3-91d57cd8b0b4",
   "metadata": {},
   "outputs": [],
   "source": [
    "shopping_data = shopping_data.sort_values(by='price', ascending=False)"
   ]
  },
  {
   "cell_type": "code",
   "execution_count": 15,
   "id": "06b047e9-b49d-4abc-a292-1e4261a2b3a3",
   "metadata": {},
   "outputs": [
    {
     "data": {
      "text/html": [
       "<div>\n",
       "<style scoped>\n",
       "    .dataframe tbody tr th:only-of-type {\n",
       "        vertical-align: middle;\n",
       "    }\n",
       "\n",
       "    .dataframe tbody tr th {\n",
       "        vertical-align: top;\n",
       "    }\n",
       "\n",
       "    .dataframe thead th {\n",
       "        text-align: right;\n",
       "    }\n",
       "</style>\n",
       "<table border=\"1\" class=\"dataframe\">\n",
       "  <thead>\n",
       "    <tr style=\"text-align: right;\">\n",
       "      <th></th>\n",
       "      <th>invoice_no</th>\n",
       "    </tr>\n",
       "    <tr>\n",
       "      <th>price</th>\n",
       "      <th></th>\n",
       "    </tr>\n",
       "  </thead>\n",
       "  <tbody>\n",
       "    <tr>\n",
       "      <th>5.23</th>\n",
       "      <td>3002</td>\n",
       "    </tr>\n",
       "    <tr>\n",
       "      <th>10.46</th>\n",
       "      <td>2909</td>\n",
       "    </tr>\n",
       "    <tr>\n",
       "      <th>11.73</th>\n",
       "      <td>1024</td>\n",
       "    </tr>\n",
       "    <tr>\n",
       "      <th>15.15</th>\n",
       "      <td>985</td>\n",
       "    </tr>\n",
       "    <tr>\n",
       "      <th>15.69</th>\n",
       "      <td>2992</td>\n",
       "    </tr>\n",
       "    <tr>\n",
       "      <th>20.92</th>\n",
       "      <td>2884</td>\n",
       "    </tr>\n",
       "    <tr>\n",
       "      <th>23.46</th>\n",
       "      <td>984</td>\n",
       "    </tr>\n",
       "    <tr>\n",
       "      <th>26.15</th>\n",
       "      <td>2989</td>\n",
       "    </tr>\n",
       "    <tr>\n",
       "      <th>30.30</th>\n",
       "      <td>1008</td>\n",
       "    </tr>\n",
       "    <tr>\n",
       "      <th>35.19</th>\n",
       "      <td>1077</td>\n",
       "    </tr>\n",
       "    <tr>\n",
       "      <th>35.84</th>\n",
       "      <td>2000</td>\n",
       "    </tr>\n",
       "    <tr>\n",
       "      <th>40.66</th>\n",
       "      <td>2986</td>\n",
       "    </tr>\n",
       "    <tr>\n",
       "      <th>45.45</th>\n",
       "      <td>1000</td>\n",
       "    </tr>\n",
       "    <tr>\n",
       "      <th>46.92</th>\n",
       "      <td>922</td>\n",
       "    </tr>\n",
       "    <tr>\n",
       "      <th>58.65</th>\n",
       "      <td>992</td>\n",
       "    </tr>\n",
       "    <tr>\n",
       "      <th>60.60</th>\n",
       "      <td>959</td>\n",
       "    </tr>\n",
       "    <tr>\n",
       "      <th>71.68</th>\n",
       "      <td>1958</td>\n",
       "    </tr>\n",
       "    <tr>\n",
       "      <th>75.75</th>\n",
       "      <td>1029</td>\n",
       "    </tr>\n",
       "    <tr>\n",
       "      <th>81.32</th>\n",
       "      <td>2974</td>\n",
       "    </tr>\n",
       "    <tr>\n",
       "      <th>107.52</th>\n",
       "      <td>2082</td>\n",
       "    </tr>\n",
       "    <tr>\n",
       "      <th>121.98</th>\n",
       "      <td>3072</td>\n",
       "    </tr>\n",
       "    <tr>\n",
       "      <th>143.36</th>\n",
       "      <td>2076</td>\n",
       "    </tr>\n",
       "    <tr>\n",
       "      <th>162.64</th>\n",
       "      <td>3010</td>\n",
       "    </tr>\n",
       "    <tr>\n",
       "      <th>179.20</th>\n",
       "      <td>1971</td>\n",
       "    </tr>\n",
       "    <tr>\n",
       "      <th>203.30</th>\n",
       "      <td>3055</td>\n",
       "    </tr>\n",
       "    <tr>\n",
       "      <th>300.08</th>\n",
       "      <td>6841</td>\n",
       "    </tr>\n",
       "    <tr>\n",
       "      <th>600.16</th>\n",
       "      <td>6950</td>\n",
       "    </tr>\n",
       "    <tr>\n",
       "      <th>600.17</th>\n",
       "      <td>1944</td>\n",
       "    </tr>\n",
       "    <tr>\n",
       "      <th>900.24</th>\n",
       "      <td>6907</td>\n",
       "    </tr>\n",
       "    <tr>\n",
       "      <th>1050.00</th>\n",
       "      <td>985</td>\n",
       "    </tr>\n",
       "    <tr>\n",
       "      <th>1200.32</th>\n",
       "      <td>6849</td>\n",
       "    </tr>\n",
       "    <tr>\n",
       "      <th>1200.34</th>\n",
       "      <td>2045</td>\n",
       "    </tr>\n",
       "    <tr>\n",
       "      <th>1500.40</th>\n",
       "      <td>6940</td>\n",
       "    </tr>\n",
       "    <tr>\n",
       "      <th>1800.51</th>\n",
       "      <td>2010</td>\n",
       "    </tr>\n",
       "    <tr>\n",
       "      <th>2100.00</th>\n",
       "      <td>1000</td>\n",
       "    </tr>\n",
       "    <tr>\n",
       "      <th>2400.68</th>\n",
       "      <td>2022</td>\n",
       "    </tr>\n",
       "    <tr>\n",
       "      <th>3000.85</th>\n",
       "      <td>2013</td>\n",
       "    </tr>\n",
       "    <tr>\n",
       "      <th>3150.00</th>\n",
       "      <td>1009</td>\n",
       "    </tr>\n",
       "    <tr>\n",
       "      <th>4200.00</th>\n",
       "      <td>1001</td>\n",
       "    </tr>\n",
       "    <tr>\n",
       "      <th>5250.00</th>\n",
       "      <td>1001</td>\n",
       "    </tr>\n",
       "  </tbody>\n",
       "</table>\n",
       "</div>"
      ],
      "text/plain": [
       "         invoice_no\n",
       "price              \n",
       "5.23           3002\n",
       "10.46          2909\n",
       "11.73          1024\n",
       "15.15           985\n",
       "15.69          2992\n",
       "20.92          2884\n",
       "23.46           984\n",
       "26.15          2989\n",
       "30.30          1008\n",
       "35.19          1077\n",
       "35.84          2000\n",
       "40.66          2986\n",
       "45.45          1000\n",
       "46.92           922\n",
       "58.65           992\n",
       "60.60           959\n",
       "71.68          1958\n",
       "75.75          1029\n",
       "81.32          2974\n",
       "107.52         2082\n",
       "121.98         3072\n",
       "143.36         2076\n",
       "162.64         3010\n",
       "179.20         1971\n",
       "203.30         3055\n",
       "300.08         6841\n",
       "600.16         6950\n",
       "600.17         1944\n",
       "900.24         6907\n",
       "1050.00         985\n",
       "1200.32        6849\n",
       "1200.34        2045\n",
       "1500.40        6940\n",
       "1800.51        2010\n",
       "2100.00        1000\n",
       "2400.68        2022\n",
       "3000.85        2013\n",
       "3150.00        1009\n",
       "4200.00        1001\n",
       "5250.00        1001"
      ]
     },
     "execution_count": 15,
     "metadata": {},
     "output_type": "execute_result"
    }
   ],
   "source": [
    "shopping_data.groupby('price').agg({'invoice_no': 'nunique'})"
   ]
  },
  {
   "cell_type": "code",
   "execution_count": 16,
   "id": "5303300e-47f0-4837-b2f8-5d7e6b41f221",
   "metadata": {},
   "outputs": [
    {
     "data": {
      "image/png": "[encoded data removed]",
      "text/plain": [
       "<Figure size 576x360 with 1 Axes>"
      ]
     },
     "metadata": {},
     "output_type": "display_data"
    }
   ],
   "source": [
    "box_plot(\n",
    "    df=shopping_data['age'],\n",
    "    title='Boxplot age',\n",
    "    savefig=True)"
   ]
  },
  {
   "cell_type": "code",
   "execution_count": 17,
   "id": "c9ceb3e9-bced-4bff-85db-03d6f0f7f956",
   "metadata": {},
   "outputs": [
    {
     "data": {
      "text/plain": [
       "18"
      ]
     },
     "execution_count": 17,
     "metadata": {},
     "output_type": "execute_result"
    }
   ],
   "source": [
    "shopping_data['age'].min()"
   ]
  },
  {
   "cell_type": "markdown",
   "id": "a7966be6-fe11-4727-a989-268fe4853b0c",
   "metadata": {},
   "source": [
    "## Detección de outliers con el algoritmo LOF"
   ]
  },
  {
   "cell_type": "code",
   "execution_count": 18,
   "id": "cbe09848-037a-4fca-86a3-27e4bf752bef",
   "metadata": {},
   "outputs": [],
   "source": [
    "lof = LocalOutlierFactor(\n",
    "    n_neighbors=3, \n",
    "    algorithm='auto', \n",
    "    contamination='auto', \n",
    "    metric='euclidean')"
   ]
  },
  {
   "cell_type": "code",
   "execution_count": 19,
   "id": "fbd07217-0d11-431c-bf68-231cf7a5877b",
   "metadata": {},
   "outputs": [],
   "source": [
    "lof_array = lof.fit_predict(numeric_scale)"
   ]
  },
  {
   "cell_type": "code",
   "execution_count": 20,
   "id": "41d95b26-dd4a-45da-88a2-094ff89ec0fc",
   "metadata": {},
   "outputs": [],
   "source": [
    "ground_truth = np.ones(len(numeric_scale), dtype=int)"
   ]
  },
  {
   "cell_type": "code",
   "execution_count": 21,
   "id": "e13bc6c9-28e6-4501-aafd-b0313412dab3",
   "metadata": {},
   "outputs": [],
   "source": [
    "n_errors = (lof_array != ground_truth).sum()"
   ]
  },
  {
   "cell_type": "code",
   "execution_count": 22,
   "id": "8c8f96e7-673f-46d8-8702-c368b3917f79",
   "metadata": {},
   "outputs": [
    {
     "data": {
      "text/plain": [
       "0"
      ]
     },
     "execution_count": 22,
     "metadata": {},
     "output_type": "execute_result"
    }
   ],
   "source": [
    "n_errors"
   ]
  },
  {
   "cell_type": "markdown",
   "id": "484a10df-255a-4b05-ae60-a0305c08137a",
   "metadata": {},
   "source": [
    "Bajo el algoritmo LOF no se encontraron datos atípicos por lo que no hay necesidad de realizar imputación de datos."
   ]
  },
  {
   "cell_type": "markdown",
   "id": "a4ff75a9-deab-4ebd-a74b-77678d48f162",
   "metadata": {},
   "source": [
    "# Análisis estadístico"
   ]
  },
  {
   "cell_type": "code",
   "execution_count": 23,
   "id": "cd0a9961-f425-4fdc-9caf-9fd9ee7bcdd4",
   "metadata": {},
   "outputs": [],
   "source": [
    "cols = ['gender', 'payment_method', 'shopping_mall']\n",
    "shopping_categorical = shopping_categorical[cols]"
   ]
  },
  {
   "cell_type": "markdown",
   "id": "95d39685-552e-4a95-bd49-6c85e543b1d5",
   "metadata": {},
   "source": [
    "## Variables categóricas"
   ]
  },
  {
   "cell_type": "markdown",
   "id": "597fb8f1-119d-40d9-8389-4ad540367431",
   "metadata": {},
   "source": [
    "### Tablas de contingencia"
   ]
  },
  {
   "cell_type": "markdown",
   "id": "abab22db-7bb4-40cc-b931-2589cbb3d4bc",
   "metadata": {},
   "source": [
    "Una tabla de contingencia, es una herramienta estadística que se utiliza para resumir y analizar la relación entre dos o más variables categóricas. En una tabla de contingencia, se registran las frecuencias conjuntas de las categorías de las variables categóricas, lo que permite visualizar y analizar patrones de asociación o independencia entre ellas."
   ]
  },
  {
   "cell_type": "code",
   "execution_count": 24,
   "id": "cca56add-1f79-4340-a7a4-87c8386d98d6",
   "metadata": {},
   "outputs": [
    {
     "data": {
      "text/html": [
       "<div>\n",
       "<style scoped>\n",
       "    .dataframe tbody tr th:only-of-type {\n",
       "        vertical-align: middle;\n",
       "    }\n",
       "\n",
       "    .dataframe tbody tr th {\n",
       "        vertical-align: top;\n",
       "    }\n",
       "\n",
       "    .dataframe thead th {\n",
       "        text-align: right;\n",
       "    }\n",
       "</style>\n",
       "<table border=\"1\" class=\"dataframe\">\n",
       "  <thead>\n",
       "    <tr style=\"text-align: right;\">\n",
       "      <th>payment_method</th>\n",
       "      <th>Cash</th>\n",
       "      <th>Credit Card</th>\n",
       "      <th>Debit Card</th>\n",
       "      <th>Total</th>\n",
       "    </tr>\n",
       "    <tr>\n",
       "      <th>gender</th>\n",
       "      <th></th>\n",
       "      <th></th>\n",
       "      <th></th>\n",
       "      <th></th>\n",
       "    </tr>\n",
       "  </thead>\n",
       "  <tbody>\n",
       "    <tr>\n",
       "      <th>Female</th>\n",
       "      <td>26509</td>\n",
       "      <td>21011</td>\n",
       "      <td>11962</td>\n",
       "      <td>59482</td>\n",
       "    </tr>\n",
       "    <tr>\n",
       "      <th>Male</th>\n",
       "      <td>17938</td>\n",
       "      <td>13920</td>\n",
       "      <td>8117</td>\n",
       "      <td>39975</td>\n",
       "    </tr>\n",
       "    <tr>\n",
       "      <th>Total</th>\n",
       "      <td>44447</td>\n",
       "      <td>34931</td>\n",
       "      <td>20079</td>\n",
       "      <td>99457</td>\n",
       "    </tr>\n",
       "  </tbody>\n",
       "</table>\n",
       "</div>"
      ],
      "text/plain": [
       "payment_method   Cash  Credit Card  Debit Card  Total\n",
       "gender                                               \n",
       "Female          26509        21011       11962  59482\n",
       "Male            17938        13920        8117  39975\n",
       "Total           44447        34931       20079  99457"
      ]
     },
     "execution_count": 24,
     "metadata": {},
     "output_type": "execute_result"
    }
   ],
   "source": [
    "gender_payment = pd.crosstab(\n",
    "    index=shopping_categorical['gender'],\n",
    "    columns=shopping_categorical['payment_method'],\n",
    "    margins=True,\n",
    "    margins_name=\"Total\")\n",
    "\n",
    "gender_payment"
   ]
  },
  {
   "cell_type": "code",
   "execution_count": 25,
   "id": "6c45e647-a050-4ea3-b20f-4330a1c2bcc5",
   "metadata": {},
   "outputs": [
    {
     "data": {
      "text/html": [
       "<div>\n",
       "<style scoped>\n",
       "    .dataframe tbody tr th:only-of-type {\n",
       "        vertical-align: middle;\n",
       "    }\n",
       "\n",
       "    .dataframe tbody tr th {\n",
       "        vertical-align: top;\n",
       "    }\n",
       "\n",
       "    .dataframe thead th {\n",
       "        text-align: right;\n",
       "    }\n",
       "</style>\n",
       "<table border=\"1\" class=\"dataframe\">\n",
       "  <thead>\n",
       "    <tr style=\"text-align: right;\">\n",
       "      <th>shopping_mall</th>\n",
       "      <th>Cevahir AVM</th>\n",
       "      <th>Emaar Square Mall</th>\n",
       "      <th>Forum Istanbul</th>\n",
       "      <th>Istinye Park</th>\n",
       "      <th>Kanyon</th>\n",
       "      <th>Mall of Istanbul</th>\n",
       "      <th>Metrocity</th>\n",
       "      <th>Metropol AVM</th>\n",
       "      <th>Viaport Outlet</th>\n",
       "      <th>Zorlu Center</th>\n",
       "      <th>Total</th>\n",
       "    </tr>\n",
       "    <tr>\n",
       "      <th>gender</th>\n",
       "      <th></th>\n",
       "      <th></th>\n",
       "      <th></th>\n",
       "      <th></th>\n",
       "      <th></th>\n",
       "      <th></th>\n",
       "      <th></th>\n",
       "      <th></th>\n",
       "      <th></th>\n",
       "      <th></th>\n",
       "      <th></th>\n",
       "    </tr>\n",
       "  </thead>\n",
       "  <tbody>\n",
       "    <tr>\n",
       "      <th>Female</th>\n",
       "      <td>2940</td>\n",
       "      <td>2842</td>\n",
       "      <td>3016</td>\n",
       "      <td>5874</td>\n",
       "      <td>11906</td>\n",
       "      <td>11902</td>\n",
       "      <td>8941</td>\n",
       "      <td>6144</td>\n",
       "      <td>2949</td>\n",
       "      <td>2968</td>\n",
       "      <td>59482</td>\n",
       "    </tr>\n",
       "    <tr>\n",
       "      <th>Male</th>\n",
       "      <td>2051</td>\n",
       "      <td>1969</td>\n",
       "      <td>1931</td>\n",
       "      <td>3907</td>\n",
       "      <td>7917</td>\n",
       "      <td>8041</td>\n",
       "      <td>6070</td>\n",
       "      <td>4017</td>\n",
       "      <td>1965</td>\n",
       "      <td>2107</td>\n",
       "      <td>39975</td>\n",
       "    </tr>\n",
       "    <tr>\n",
       "      <th>Total</th>\n",
       "      <td>4991</td>\n",
       "      <td>4811</td>\n",
       "      <td>4947</td>\n",
       "      <td>9781</td>\n",
       "      <td>19823</td>\n",
       "      <td>19943</td>\n",
       "      <td>15011</td>\n",
       "      <td>10161</td>\n",
       "      <td>4914</td>\n",
       "      <td>5075</td>\n",
       "      <td>99457</td>\n",
       "    </tr>\n",
       "  </tbody>\n",
       "</table>\n",
       "</div>"
      ],
      "text/plain": [
       "shopping_mall  Cevahir AVM  Emaar Square Mall  Forum Istanbul  Istinye Park  \\\n",
       "gender                                                                        \n",
       "Female                2940               2842            3016          5874   \n",
       "Male                  2051               1969            1931          3907   \n",
       "Total                 4991               4811            4947          9781   \n",
       "\n",
       "shopping_mall  Kanyon  Mall of Istanbul  Metrocity  Metropol AVM  \\\n",
       "gender                                                             \n",
       "Female          11906             11902       8941          6144   \n",
       "Male             7917              8041       6070          4017   \n",
       "Total           19823             19943      15011         10161   \n",
       "\n",
       "shopping_mall  Viaport Outlet  Zorlu Center  Total  \n",
       "gender                                              \n",
       "Female                   2949          2968  59482  \n",
       "Male                     1965          2107  39975  \n",
       "Total                    4914          5075  99457  "
      ]
     },
     "execution_count": 25,
     "metadata": {},
     "output_type": "execute_result"
    }
   ],
   "source": [
    "gender_mall = pd.crosstab(\n",
    "    index=shopping_categorical['gender'],\n",
    "    columns=shopping_categorical['shopping_mall'],\n",
    "    margins=True,\n",
    "    margins_name=\"Total\")\n",
    "\n",
    "gender_mall"
   ]
  },
  {
   "cell_type": "code",
   "execution_count": 26,
   "id": "ac89ff46-1ce5-4991-a158-7bb5a9c2b925",
   "metadata": {},
   "outputs": [
    {
     "data": {
      "text/html": [
       "<div>\n",
       "<style scoped>\n",
       "    .dataframe tbody tr th:only-of-type {\n",
       "        vertical-align: middle;\n",
       "    }\n",
       "\n",
       "    .dataframe tbody tr th {\n",
       "        vertical-align: top;\n",
       "    }\n",
       "\n",
       "    .dataframe thead th {\n",
       "        text-align: right;\n",
       "    }\n",
       "</style>\n",
       "<table border=\"1\" class=\"dataframe\">\n",
       "  <thead>\n",
       "    <tr style=\"text-align: right;\">\n",
       "      <th>shopping_mall</th>\n",
       "      <th>Cevahir AVM</th>\n",
       "      <th>Emaar Square Mall</th>\n",
       "      <th>Forum Istanbul</th>\n",
       "      <th>Istinye Park</th>\n",
       "      <th>Kanyon</th>\n",
       "      <th>Mall of Istanbul</th>\n",
       "      <th>Metrocity</th>\n",
       "      <th>Metropol AVM</th>\n",
       "      <th>Viaport Outlet</th>\n",
       "      <th>Zorlu Center</th>\n",
       "      <th>Total</th>\n",
       "    </tr>\n",
       "    <tr>\n",
       "      <th>payment_method</th>\n",
       "      <th></th>\n",
       "      <th></th>\n",
       "      <th></th>\n",
       "      <th></th>\n",
       "      <th></th>\n",
       "      <th></th>\n",
       "      <th></th>\n",
       "      <th></th>\n",
       "      <th></th>\n",
       "      <th></th>\n",
       "      <th></th>\n",
       "    </tr>\n",
       "  </thead>\n",
       "  <tbody>\n",
       "    <tr>\n",
       "      <th>Cash</th>\n",
       "      <td>2228</td>\n",
       "      <td>2114</td>\n",
       "      <td>2183</td>\n",
       "      <td>4436</td>\n",
       "      <td>8853</td>\n",
       "      <td>8894</td>\n",
       "      <td>6625</td>\n",
       "      <td>4559</td>\n",
       "      <td>2231</td>\n",
       "      <td>2324</td>\n",
       "      <td>44447</td>\n",
       "    </tr>\n",
       "    <tr>\n",
       "      <th>Credit Card</th>\n",
       "      <td>1779</td>\n",
       "      <td>1696</td>\n",
       "      <td>1750</td>\n",
       "      <td>3422</td>\n",
       "      <td>6916</td>\n",
       "      <td>7019</td>\n",
       "      <td>5347</td>\n",
       "      <td>3521</td>\n",
       "      <td>1721</td>\n",
       "      <td>1760</td>\n",
       "      <td>34931</td>\n",
       "    </tr>\n",
       "    <tr>\n",
       "      <th>Debit Card</th>\n",
       "      <td>984</td>\n",
       "      <td>1001</td>\n",
       "      <td>1014</td>\n",
       "      <td>1923</td>\n",
       "      <td>4054</td>\n",
       "      <td>4030</td>\n",
       "      <td>3039</td>\n",
       "      <td>2081</td>\n",
       "      <td>962</td>\n",
       "      <td>991</td>\n",
       "      <td>20079</td>\n",
       "    </tr>\n",
       "    <tr>\n",
       "      <th>Total</th>\n",
       "      <td>4991</td>\n",
       "      <td>4811</td>\n",
       "      <td>4947</td>\n",
       "      <td>9781</td>\n",
       "      <td>19823</td>\n",
       "      <td>19943</td>\n",
       "      <td>15011</td>\n",
       "      <td>10161</td>\n",
       "      <td>4914</td>\n",
       "      <td>5075</td>\n",
       "      <td>99457</td>\n",
       "    </tr>\n",
       "  </tbody>\n",
       "</table>\n",
       "</div>"
      ],
      "text/plain": [
       "shopping_mall   Cevahir AVM  Emaar Square Mall  Forum Istanbul  Istinye Park  \\\n",
       "payment_method                                                                 \n",
       "Cash                   2228               2114            2183          4436   \n",
       "Credit Card            1779               1696            1750          3422   \n",
       "Debit Card              984               1001            1014          1923   \n",
       "Total                  4991               4811            4947          9781   \n",
       "\n",
       "shopping_mall   Kanyon  Mall of Istanbul  Metrocity  Metropol AVM  \\\n",
       "payment_method                                                      \n",
       "Cash              8853              8894       6625          4559   \n",
       "Credit Card       6916              7019       5347          3521   \n",
       "Debit Card        4054              4030       3039          2081   \n",
       "Total            19823             19943      15011         10161   \n",
       "\n",
       "shopping_mall   Viaport Outlet  Zorlu Center  Total  \n",
       "payment_method                                       \n",
       "Cash                      2231          2324  44447  \n",
       "Credit Card               1721          1760  34931  \n",
       "Debit Card                 962           991  20079  \n",
       "Total                     4914          5075  99457  "
      ]
     },
     "execution_count": 26,
     "metadata": {},
     "output_type": "execute_result"
    }
   ],
   "source": [
    "payment_mall = pd.crosstab(\n",
    "    index=shopping_categorical['payment_method'],\n",
    "    columns=shopping_categorical['shopping_mall'],\n",
    "    margins=True,\n",
    "    margins_name=\"Total\")\n",
    "\n",
    "payment_mall"
   ]
  },
  {
   "cell_type": "markdown",
   "id": "89d20e0a-005a-4da8-a75c-49ef9f93c7d1",
   "metadata": {},
   "source": [
    "### Test Chi-Cuadrado"
   ]
  },
  {
   "cell_type": "markdown",
   "id": "a7082bd2-1e46-43db-b319-90df374e6608",
   "metadata": {},
   "source": [
    "El test de chi-cuadrado, es una prueba estadística que se utiliza para determinar si existe una asociación significativa entre dos variables categóricas en una tabla de contingencia. El objetivo principal del test de chi-cuadrado es evaluar si las dos variables son independientes o si existe una relación significativa entre ellas."
   ]
  },
  {
   "cell_type": "code",
   "execution_count": 27,
   "id": "946419ab-d720-4b4b-b985-5036247e85d7",
   "metadata": {},
   "outputs": [
    {
     "name": "stdout",
     "output_type": "stream",
     "text": [
      "Estadístico Chi-cuadrado: 2.66502007287277\n",
      "Valor p: 0.8495614219432935\n",
      "No se rechaza la hipótesis nula:No hay evidencia suficiente para concluir una relación significativa.\n"
     ]
    }
   ],
   "source": [
    "chi2, p, _, _ = chi2_contingency(gender_payment)\n",
    "\n",
    "print('Estadístico Chi-cuadrado:', chi2)\n",
    "print('Valor p:', p)\n",
    "\n",
    "# Determina si rechazar o no la hipótesis nula\n",
    "alpha = 0.05  # Nivel de significancia\n",
    "if p < alpha:\n",
    "    print('Se rechaza la hipótesis nula:'\n",
    "          'Hay una relación significativa entre gender y payment_method.')\n",
    "else:\n",
    "    print('No se rechaza la hipótesis nula:'\n",
    "          'No hay evidencia suficiente para concluir una relación significativa.')"
   ]
  },
  {
   "cell_type": "markdown",
   "id": "066e9f5f-b82c-4b28-8631-0d2c09a351f5",
   "metadata": {},
   "source": [
    "Como el valor p (0.85) es mayor que un nivel de significancia predefinido (generalmente 0.05), no tenemos evidencia suficiente para concluir que hay una relación significativa entre el género y el método de pago.\n",
    "En otras palabras, no podemos decir con confianza que el género de las personas está relacionado de manera significativa con el método de pago que eligen."
   ]
  },
  {
   "cell_type": "code",
   "execution_count": 28,
   "id": "3139eac4-eafe-437e-baf9-709629342b59",
   "metadata": {},
   "outputs": [
    {
     "name": "stdout",
     "output_type": "stream",
     "text": [
      "Estadístico Chi-cuadrado: 12.446589184688174\n",
      "Valor p: 0.8998478278721687\n",
      "No se rechaza la hipótesis nula:No hay evidencia suficiente para concluir una relación significativa.\n"
     ]
    }
   ],
   "source": [
    "chi2, p, _, _ = chi2_contingency(gender_mall)\n",
    "\n",
    "print('Estadístico Chi-cuadrado:', chi2)\n",
    "print('Valor p:', p)\n",
    "\n",
    "# Determina si rechazar o no la hipótesis nula\n",
    "alpha = 0.05  # Nivel de significancia\n",
    "if p < alpha:\n",
    "    print('Se rechaza la hipótesis nula:'\n",
    "          'Hay una relación significativa entre gender y shopping_mall.')\n",
    "else:\n",
    "    print('No se rechaza la hipótesis nula:'\n",
    "          'No hay evidencia suficiente para concluir una relación significativa.')"
   ]
  },
  {
   "cell_type": "code",
   "execution_count": 29,
   "id": "843e00ec-59a0-4709-85b8-32060e550889",
   "metadata": {},
   "outputs": [
    {
     "name": "stdout",
     "output_type": "stream",
     "text": [
      "Estadístico Chi-cuadrado: 14.086052029704614\n",
      "Valor p: 0.9939709287574926\n",
      "No se rechaza la hipótesis nula:No hay evidencia suficiente para concluir una relación significativa.\n"
     ]
    }
   ],
   "source": [
    "chi2, p, _, _ = chi2_contingency(payment_mall)\n",
    "\n",
    "print('Estadístico Chi-cuadrado:', chi2)\n",
    "print('Valor p:', p)\n",
    "\n",
    "# Determina si rechazar o no la hipótesis nula\n",
    "alpha = 0.05  # Nivel de significancia\n",
    "if p < alpha:\n",
    "    print('Se rechaza la hipótesis nula:'\n",
    "          'Hay una relación significativa entre payment_method y shopping_mall.')\n",
    "else:\n",
    "    print('No se rechaza la hipótesis nula:'\n",
    "          'No hay evidencia suficiente para concluir una relación significativa.')"
   ]
  },
  {
   "cell_type": "markdown",
   "id": "c778dd5f-e8ff-4ffe-aa02-9374e313bae0",
   "metadata": {},
   "source": [
    "### Matriz de Información Mutua"
   ]
  },
  {
   "cell_type": "markdown",
   "id": "3568278b-008f-466c-801a-7f117e4214fb",
   "metadata": {},
   "source": [
    "La Matriz de Información Mutua (MIM), es una herramienta utilizada en el campo de la estadística y el análisis de datos para medir la relación o la dependencia entre dos o más variables aleatorias, especialmente en el contexto de variables discretas o categóricas. La Información Mutua (MI) es una medida que cuantifica la dependencia entre dos variables aleatorias al medir cuánta información proporciona una variable sobre la otra."
   ]
  },
  {
   "cell_type": "code",
   "execution_count": 30,
   "id": "6dd65da6-6f2a-41c2-8be1-130e3eceb92b",
   "metadata": {},
   "outputs": [],
   "source": [
    "datos_array = shopping_categorical.values\n",
    "features = np.arange(0, datos_array.shape[1])\n",
    "MI = []\n",
    "\n",
    "for d in features:\n",
    "    for e in features:\n",
    "        Tabla_Contingencia = pd.crosstab(datos_array[:,d], datos_array[:,e])\n",
    "        mi = mutual_info_score(labels_true=None, labels_pred=None, contingency = Tabla_Contingencia)\n",
    "        MI.append(mi)"
   ]
  },
  {
   "cell_type": "code",
   "execution_count": 31,
   "id": "f829049a-cc5b-4a72-ab5c-e8dfeee9ab68",
   "metadata": {},
   "outputs": [
    {
     "data": {
      "image/png": "[encoded data removed]",
      "text/plain": [
       "<Figure size 576x576 with 2 Axes>"
      ]
     },
     "metadata": {},
     "output_type": "display_data"
    }
   ],
   "source": [
    "MI = np.asarray(MI)\n",
    "MI = MI.reshape(datos_array.shape[1], datos_array.shape[1])\n",
    "\n",
    "plt.figure(figsize=(8, 8))\n",
    "ax = sns.heatmap(\n",
    "    MI, \n",
    "    annot=True, \n",
    "    fmt='g', \n",
    "    xticklabels = shopping_categorical.columns,\n",
    "    yticklabels = shopping_categorical.columns)\n",
    "plt.show()"
   ]
  },
  {
   "cell_type": "markdown",
   "id": "f9c8c4a9-e894-4856-8ded-19f7ab4544e3",
   "metadata": {},
   "source": [
    "Los valores de infomración mutua son muy pequeños por lo que podemos concluir que las variables categóricas no están relacionadas."
   ]
  },
  {
   "cell_type": "markdown",
   "id": "d200bcd9-d585-4452-a91e-e4f8491d1f5a",
   "metadata": {},
   "source": [
    "## Variables numéricas"
   ]
  },
  {
   "cell_type": "markdown",
   "id": "f2105f2b-3313-41a2-bb95-6c561dca5a31",
   "metadata": {},
   "source": [
    "### Coeficiente de Correlación de Pearson"
   ]
  },
  {
   "cell_type": "code",
   "execution_count": 32,
   "id": "49bb6e6d-ccfc-4e59-b01b-79ff2f56fb69",
   "metadata": {},
   "outputs": [],
   "source": [
    "r = []\n",
    "valor_p = []\n",
    "\n",
    "data = shopping_numeric.values\n",
    "caracteristicas = shopping_numeric.columns\n",
    "data = np.asarray(data)\n",
    "\n",
    "for _, n in enumerate(np.arange(0, data.shape[1])):\n",
    "    for _, m in enumerate(np.arange(0, data.shape[1])):\n",
    "        r_valor, p_valor = pearsonr(data[:, n], data[:, m])\n",
    "        r.append(r_valor)\n",
    "        valor_p.append(p_valor)"
   ]
  },
  {
   "cell_type": "code",
   "execution_count": 33,
   "id": "34cf1c8e-b935-4704-a8d3-b76c9a495698",
   "metadata": {},
   "outputs": [
    {
     "data": {
      "image/png": "[encoded data removed]",
      "text/plain": [
       "<Figure size 576x576 with 2 Axes>"
      ]
     },
     "metadata": {},
     "output_type": "display_data"
    }
   ],
   "source": [
    "r = np.asarray(r)\n",
    "valor_p = np.asarray(valor_p)\n",
    "\n",
    "# Reshape de los arreglos para coincidir con las dimensiones de los datos originales\n",
    "pearson_r = r.reshape(data.shape[1], data.shape[1])\n",
    "p_value = valor_p.reshape(data.shape[1], data.shape[1])\n",
    "\n",
    "# Creación de un gráfico de mapa de calor\n",
    "plt.figure(figsize=(8, 8))\n",
    "ax = sns.heatmap(\n",
    "    pearson_r, \n",
    "    annot=True, \n",
    "    fmt='g', \n",
    "    xticklabels=caracteristicas, \n",
    "    yticklabels=caracteristicas)\n",
    "\n",
    "plt.show()"
   ]
  },
  {
   "cell_type": "code",
   "execution_count": 34,
   "id": "7034c063-5a7c-493c-b5a4-f7f92182d320",
   "metadata": {},
   "outputs": [
    {
     "data": {
      "image/png": "[encoded data removed]",
      "text/plain": [
       "<Figure size 576x576 with 2 Axes>"
      ]
     },
     "metadata": {},
     "output_type": "display_data"
    }
   ],
   "source": [
    "plt.figure(figsize=(8, 8))\n",
    "ax = sns.heatmap(\n",
    "    p_value, \n",
    "    annot=True, \n",
    "    fmt='g', \n",
    "    xticklabels=caracteristicas, \n",
    "    yticklabels=caracteristicas)\n",
    "\n",
    "plt.show()"
   ]
  },
  {
   "cell_type": "markdown",
   "id": "228acca5-4b2f-43fb-8728-fc5fd55ea247",
   "metadata": {},
   "source": [
    "Si $ \\rho <= 0.05 $, la correlación es estadísticamente significativo lo cual hay una relación lineal entre las dos características o variables.\n",
    "Si $ \\rho > 0.05 $, la correlación no es estadísticamente significativo lo cual no hay una correlación lineal significativa entre las dos características o variables.\n",
    "\n",
    "Por lo tanto, $price$ y $quantity$ estan correlacionadas linealmente."
   ]
  },
  {
   "cell_type": "markdown",
   "id": "02c3486f-f1f4-44ef-aab5-9bfcd70f280b",
   "metadata": {},
   "source": [
    "# Transformaciones"
   ]
  },
  {
   "cell_type": "code",
   "execution_count": 35,
   "id": "5658ba84-5f49-4451-a327-0ffe72b11251",
   "metadata": {},
   "outputs": [],
   "source": [
    "shopping_categorical_dummy = pd.get_dummies(shopping_categorical, drop_first=True)"
   ]
  },
  {
   "cell_type": "code",
   "execution_count": 36,
   "id": "c3cbd5b5-df6f-40ab-b60f-e1c357320883",
   "metadata": {},
   "outputs": [
    {
     "data": {
      "text/html": [
       "<div>\n",
       "<style scoped>\n",
       "    .dataframe tbody tr th:only-of-type {\n",
       "        vertical-align: middle;\n",
       "    }\n",
       "\n",
       "    .dataframe tbody tr th {\n",
       "        vertical-align: top;\n",
       "    }\n",
       "\n",
       "    .dataframe thead th {\n",
       "        text-align: right;\n",
       "    }\n",
       "</style>\n",
       "<table border=\"1\" class=\"dataframe\">\n",
       "  <thead>\n",
       "    <tr style=\"text-align: right;\">\n",
       "      <th></th>\n",
       "      <th>gender_Male</th>\n",
       "      <th>payment_method_Credit Card</th>\n",
       "      <th>payment_method_Debit Card</th>\n",
       "      <th>shopping_mall_Emaar Square Mall</th>\n",
       "      <th>shopping_mall_Forum Istanbul</th>\n",
       "      <th>shopping_mall_Istinye Park</th>\n",
       "      <th>shopping_mall_Kanyon</th>\n",
       "      <th>shopping_mall_Mall of Istanbul</th>\n",
       "      <th>shopping_mall_Metrocity</th>\n",
       "      <th>shopping_mall_Metropol AVM</th>\n",
       "      <th>shopping_mall_Viaport Outlet</th>\n",
       "      <th>shopping_mall_Zorlu Center</th>\n",
       "    </tr>\n",
       "  </thead>\n",
       "  <tbody>\n",
       "    <tr>\n",
       "      <th>0</th>\n",
       "      <td>0</td>\n",
       "      <td>1</td>\n",
       "      <td>0</td>\n",
       "      <td>0</td>\n",
       "      <td>0</td>\n",
       "      <td>0</td>\n",
       "      <td>1</td>\n",
       "      <td>0</td>\n",
       "      <td>0</td>\n",
       "      <td>0</td>\n",
       "      <td>0</td>\n",
       "      <td>0</td>\n",
       "    </tr>\n",
       "    <tr>\n",
       "      <th>1</th>\n",
       "      <td>1</td>\n",
       "      <td>0</td>\n",
       "      <td>1</td>\n",
       "      <td>0</td>\n",
       "      <td>1</td>\n",
       "      <td>0</td>\n",
       "      <td>0</td>\n",
       "      <td>0</td>\n",
       "      <td>0</td>\n",
       "      <td>0</td>\n",
       "      <td>0</td>\n",
       "      <td>0</td>\n",
       "    </tr>\n",
       "    <tr>\n",
       "      <th>2</th>\n",
       "      <td>1</td>\n",
       "      <td>0</td>\n",
       "      <td>0</td>\n",
       "      <td>0</td>\n",
       "      <td>0</td>\n",
       "      <td>0</td>\n",
       "      <td>0</td>\n",
       "      <td>0</td>\n",
       "      <td>1</td>\n",
       "      <td>0</td>\n",
       "      <td>0</td>\n",
       "      <td>0</td>\n",
       "    </tr>\n",
       "    <tr>\n",
       "      <th>3</th>\n",
       "      <td>0</td>\n",
       "      <td>1</td>\n",
       "      <td>0</td>\n",
       "      <td>0</td>\n",
       "      <td>0</td>\n",
       "      <td>0</td>\n",
       "      <td>0</td>\n",
       "      <td>0</td>\n",
       "      <td>0</td>\n",
       "      <td>1</td>\n",
       "      <td>0</td>\n",
       "      <td>0</td>\n",
       "    </tr>\n",
       "    <tr>\n",
       "      <th>4</th>\n",
       "      <td>0</td>\n",
       "      <td>0</td>\n",
       "      <td>0</td>\n",
       "      <td>0</td>\n",
       "      <td>0</td>\n",
       "      <td>0</td>\n",
       "      <td>1</td>\n",
       "      <td>0</td>\n",
       "      <td>0</td>\n",
       "      <td>0</td>\n",
       "      <td>0</td>\n",
       "      <td>0</td>\n",
       "    </tr>\n",
       "  </tbody>\n",
       "</table>\n",
       "</div>"
      ],
      "text/plain": [
       "   gender_Male  payment_method_Credit Card  payment_method_Debit Card  \\\n",
       "0            0                           1                          0   \n",
       "1            1                           0                          1   \n",
       "2            1                           0                          0   \n",
       "3            0                           1                          0   \n",
       "4            0                           0                          0   \n",
       "\n",
       "   shopping_mall_Emaar Square Mall  shopping_mall_Forum Istanbul  \\\n",
       "0                                0                             0   \n",
       "1                                0                             1   \n",
       "2                                0                             0   \n",
       "3                                0                             0   \n",
       "4                                0                             0   \n",
       "\n",
       "   shopping_mall_Istinye Park  shopping_mall_Kanyon  \\\n",
       "0                           0                     1   \n",
       "1                           0                     0   \n",
       "2                           0                     0   \n",
       "3                           0                     0   \n",
       "4                           0                     1   \n",
       "\n",
       "   shopping_mall_Mall of Istanbul  shopping_mall_Metrocity  \\\n",
       "0                               0                        0   \n",
       "1                               0                        0   \n",
       "2                               0                        1   \n",
       "3                               0                        0   \n",
       "4                               0                        0   \n",
       "\n",
       "   shopping_mall_Metropol AVM  shopping_mall_Viaport Outlet  \\\n",
       "0                           0                             0   \n",
       "1                           0                             0   \n",
       "2                           0                             0   \n",
       "3                           1                             0   \n",
       "4                           0                             0   \n",
       "\n",
       "   shopping_mall_Zorlu Center  \n",
       "0                           0  \n",
       "1                           0  \n",
       "2                           0  \n",
       "3                           0  \n",
       "4                           0  "
      ]
     },
     "execution_count": 36,
     "metadata": {},
     "output_type": "execute_result"
    }
   ],
   "source": [
    "shopping_categorical_dummy.head()"
   ]
  },
  {
   "cell_type": "code",
   "execution_count": 37,
   "id": "9e9c3df7-89e2-4d62-81e0-fd34250fb23a",
   "metadata": {},
   "outputs": [
    {
     "data": {
      "text/plain": [
       "Clothing           34487\n",
       "Cosmetics          15097\n",
       "Food & Beverage    14776\n",
       "Toys               10087\n",
       "Shoes              10034\n",
       "Souvenir            4999\n",
       "Technology          4996\n",
       "Books               4981\n",
       "Name: category, dtype: int64"
      ]
     },
     "execution_count": 37,
     "metadata": {},
     "output_type": "execute_result"
    }
   ],
   "source": [
    "shopping_data['category'].value_counts()"
   ]
  },
  {
   "cell_type": "code",
   "execution_count": 38,
   "id": "e9fed11d-de48-4a39-b264-72c376d89648",
   "metadata": {},
   "outputs": [],
   "source": [
    "categories_shopping = shopping_data.groupby('category').agg({'customer_id': 'count'})"
   ]
  },
  {
   "cell_type": "code",
   "execution_count": 39,
   "id": "872e717a-c8f4-4b02-9efc-50613daf38ee",
   "metadata": {},
   "outputs": [
    {
     "data": {
      "text/html": [
       "<div>\n",
       "<style scoped>\n",
       "    .dataframe tbody tr th:only-of-type {\n",
       "        vertical-align: middle;\n",
       "    }\n",
       "\n",
       "    .dataframe tbody tr th {\n",
       "        vertical-align: top;\n",
       "    }\n",
       "\n",
       "    .dataframe thead th {\n",
       "        text-align: right;\n",
       "    }\n",
       "</style>\n",
       "<table border=\"1\" class=\"dataframe\">\n",
       "  <thead>\n",
       "    <tr style=\"text-align: right;\">\n",
       "      <th></th>\n",
       "      <th>customer_id</th>\n",
       "    </tr>\n",
       "    <tr>\n",
       "      <th>category</th>\n",
       "      <th></th>\n",
       "    </tr>\n",
       "  </thead>\n",
       "  <tbody>\n",
       "    <tr>\n",
       "      <th>Books</th>\n",
       "      <td>4981</td>\n",
       "    </tr>\n",
       "    <tr>\n",
       "      <th>Clothing</th>\n",
       "      <td>34487</td>\n",
       "    </tr>\n",
       "    <tr>\n",
       "      <th>Cosmetics</th>\n",
       "      <td>15097</td>\n",
       "    </tr>\n",
       "    <tr>\n",
       "      <th>Food &amp; Beverage</th>\n",
       "      <td>14776</td>\n",
       "    </tr>\n",
       "    <tr>\n",
       "      <th>Shoes</th>\n",
       "      <td>10034</td>\n",
       "    </tr>\n",
       "    <tr>\n",
       "      <th>Souvenir</th>\n",
       "      <td>4999</td>\n",
       "    </tr>\n",
       "    <tr>\n",
       "      <th>Technology</th>\n",
       "      <td>4996</td>\n",
       "    </tr>\n",
       "    <tr>\n",
       "      <th>Toys</th>\n",
       "      <td>10087</td>\n",
       "    </tr>\n",
       "  </tbody>\n",
       "</table>\n",
       "</div>"
      ],
      "text/plain": [
       "                 customer_id\n",
       "category                    \n",
       "Books                   4981\n",
       "Clothing               34487\n",
       "Cosmetics              15097\n",
       "Food & Beverage        14776\n",
       "Shoes                  10034\n",
       "Souvenir                4999\n",
       "Technology              4996\n",
       "Toys                   10087"
      ]
     },
     "execution_count": 39,
     "metadata": {},
     "output_type": "execute_result"
    }
   ],
   "source": [
    "categories_shopping"
   ]
  },
  {
   "cell_type": "code",
   "execution_count": 40,
   "id": "91a75816-a08a-4b4d-8d92-cde469440d08",
   "metadata": {},
   "outputs": [],
   "source": [
    "categories_shopping['per'] = categories_shopping['customer_id'] / categories_shopping['customer_id'].sum() * 100"
   ]
  },
  {
   "cell_type": "code",
   "execution_count": 41,
   "id": "5ab41b11-5774-4d9d-9201-ed087b75b140",
   "metadata": {},
   "outputs": [],
   "source": [
    "categories_shopping = categories_shopping.sort_values(by='customer_id', ascending=False)"
   ]
  },
  {
   "cell_type": "code",
   "execution_count": 42,
   "id": "02411ddc-06b1-4108-8a36-1f8c15486ad4",
   "metadata": {},
   "outputs": [
    {
     "data": {
      "text/html": [
       "<div>\n",
       "<style scoped>\n",
       "    .dataframe tbody tr th:only-of-type {\n",
       "        vertical-align: middle;\n",
       "    }\n",
       "\n",
       "    .dataframe tbody tr th {\n",
       "        vertical-align: top;\n",
       "    }\n",
       "\n",
       "    .dataframe thead th {\n",
       "        text-align: right;\n",
       "    }\n",
       "</style>\n",
       "<table border=\"1\" class=\"dataframe\">\n",
       "  <thead>\n",
       "    <tr style=\"text-align: right;\">\n",
       "      <th></th>\n",
       "      <th>customer_id</th>\n",
       "      <th>per</th>\n",
       "    </tr>\n",
       "    <tr>\n",
       "      <th>category</th>\n",
       "      <th></th>\n",
       "      <th></th>\n",
       "    </tr>\n",
       "  </thead>\n",
       "  <tbody>\n",
       "    <tr>\n",
       "      <th>Clothing</th>\n",
       "      <td>34487</td>\n",
       "      <td>34.675287</td>\n",
       "    </tr>\n",
       "    <tr>\n",
       "      <th>Cosmetics</th>\n",
       "      <td>15097</td>\n",
       "      <td>15.179424</td>\n",
       "    </tr>\n",
       "    <tr>\n",
       "      <th>Food &amp; Beverage</th>\n",
       "      <td>14776</td>\n",
       "      <td>14.856672</td>\n",
       "    </tr>\n",
       "    <tr>\n",
       "      <th>Toys</th>\n",
       "      <td>10087</td>\n",
       "      <td>10.142071</td>\n",
       "    </tr>\n",
       "    <tr>\n",
       "      <th>Shoes</th>\n",
       "      <td>10034</td>\n",
       "      <td>10.088782</td>\n",
       "    </tr>\n",
       "    <tr>\n",
       "      <th>Souvenir</th>\n",
       "      <td>4999</td>\n",
       "      <td>5.026293</td>\n",
       "    </tr>\n",
       "    <tr>\n",
       "      <th>Technology</th>\n",
       "      <td>4996</td>\n",
       "      <td>5.023276</td>\n",
       "    </tr>\n",
       "    <tr>\n",
       "      <th>Books</th>\n",
       "      <td>4981</td>\n",
       "      <td>5.008194</td>\n",
       "    </tr>\n",
       "  </tbody>\n",
       "</table>\n",
       "</div>"
      ],
      "text/plain": [
       "                 customer_id        per\n",
       "category                               \n",
       "Clothing               34487  34.675287\n",
       "Cosmetics              15097  15.179424\n",
       "Food & Beverage        14776  14.856672\n",
       "Toys                   10087  10.142071\n",
       "Shoes                  10034  10.088782\n",
       "Souvenir                4999   5.026293\n",
       "Technology              4996   5.023276\n",
       "Books                   4981   5.008194"
      ]
     },
     "execution_count": 42,
     "metadata": {},
     "output_type": "execute_result"
    }
   ],
   "source": [
    "categories_shopping"
   ]
  },
  {
   "cell_type": "code",
   "execution_count": 43,
   "id": "ff6b2a0f-6177-43c6-a563-f44cfeeb6850",
   "metadata": {},
   "outputs": [
    {
     "data": {
      "image/png": "[encoded data removed]",
      "text/plain": [
       "<Figure size 576x360 with 1 Axes>"
      ]
     },
     "metadata": {},
     "output_type": "display_data"
    }
   ],
   "source": [
    "pie_plot(\n",
    "    data=categories_shopping, \n",
    "    col='customer_id',\n",
    "    title='Categorías',\n",
    "    savefig=True)"
   ]
  },
  {
   "cell_type": "markdown",
   "id": "be4401f1-b34d-4bf4-942b-92a4d2768daf",
   "metadata": {},
   "source": [
    "## Agrupación de categorias de bajo porcentaje de participación"
   ]
  },
  {
   "cell_type": "markdown",
   "id": "24a746ba-e368-4e10-8cc8-c713110a8349",
   "metadata": {},
   "source": [
    "* Eliminar la columna Technology porque no aporta suficientes datos al modelo."
   ]
  },
  {
   "cell_type": "code",
   "execution_count": 44,
   "id": "9da7cfc3-5f82-42d3-88c6-06f6918d4421",
   "metadata": {},
   "outputs": [],
   "source": [
    "cond = shopping_data['category'] != 'Technology'\n",
    "shopping_data = shopping_data[cond]"
   ]
  },
  {
   "cell_type": "code",
   "execution_count": 45,
   "id": "ad2babbe-a554-4e42-9ba4-933d766bd28c",
   "metadata": {},
   "outputs": [],
   "source": [
    "cats = ['Souvenir', 'Books']\n",
    "\n",
    "for cat in cats:\n",
    "    cond = shopping_data['category'] == cat\n",
    "    shopping_data.loc[cond, 'category'] = 'Other'"
   ]
  },
  {
   "cell_type": "code",
   "execution_count": 46,
   "id": "c881d682-0a0c-4c19-a502-6de075ec9f80",
   "metadata": {},
   "outputs": [],
   "source": [
    "categories_shopping = shopping_data.groupby('category').agg({'customer_id': 'count'})"
   ]
  },
  {
   "cell_type": "code",
   "execution_count": 47,
   "id": "cf44ce38-9f8e-4d46-a62b-45d45d3e5d2b",
   "metadata": {},
   "outputs": [
    {
     "data": {
      "text/html": [
       "<div>\n",
       "<style scoped>\n",
       "    .dataframe tbody tr th:only-of-type {\n",
       "        vertical-align: middle;\n",
       "    }\n",
       "\n",
       "    .dataframe tbody tr th {\n",
       "        vertical-align: top;\n",
       "    }\n",
       "\n",
       "    .dataframe thead th {\n",
       "        text-align: right;\n",
       "    }\n",
       "</style>\n",
       "<table border=\"1\" class=\"dataframe\">\n",
       "  <thead>\n",
       "    <tr style=\"text-align: right;\">\n",
       "      <th></th>\n",
       "      <th>customer_id</th>\n",
       "    </tr>\n",
       "    <tr>\n",
       "      <th>category</th>\n",
       "      <th></th>\n",
       "    </tr>\n",
       "  </thead>\n",
       "  <tbody>\n",
       "    <tr>\n",
       "      <th>Clothing</th>\n",
       "      <td>34487</td>\n",
       "    </tr>\n",
       "    <tr>\n",
       "      <th>Cosmetics</th>\n",
       "      <td>15097</td>\n",
       "    </tr>\n",
       "    <tr>\n",
       "      <th>Food &amp; Beverage</th>\n",
       "      <td>14776</td>\n",
       "    </tr>\n",
       "    <tr>\n",
       "      <th>Other</th>\n",
       "      <td>9980</td>\n",
       "    </tr>\n",
       "    <tr>\n",
       "      <th>Shoes</th>\n",
       "      <td>10034</td>\n",
       "    </tr>\n",
       "    <tr>\n",
       "      <th>Toys</th>\n",
       "      <td>10087</td>\n",
       "    </tr>\n",
       "  </tbody>\n",
       "</table>\n",
       "</div>"
      ],
      "text/plain": [
       "                 customer_id\n",
       "category                    \n",
       "Clothing               34487\n",
       "Cosmetics              15097\n",
       "Food & Beverage        14776\n",
       "Other                   9980\n",
       "Shoes                  10034\n",
       "Toys                   10087"
      ]
     },
     "execution_count": 47,
     "metadata": {},
     "output_type": "execute_result"
    }
   ],
   "source": [
    "categories_shopping"
   ]
  },
  {
   "cell_type": "code",
   "execution_count": 48,
   "id": "4cc4088c-a117-42ee-9bcd-77c59f1519a1",
   "metadata": {},
   "outputs": [
    {
     "data": {
      "image/png": "[encoded data removed]",
      "text/plain": [
       "<Figure size 576x360 with 1 Axes>"
      ]
     },
     "metadata": {},
     "output_type": "display_data"
    }
   ],
   "source": [
    "pie_plot(\n",
    "    data=categories_shopping, \n",
    "    col='customer_id',\n",
    "    title='Categorías agrupadas',\n",
    "    savefig=True)"
   ]
  },
  {
   "cell_type": "markdown",
   "id": "5d38f0ed-20cb-44e1-aeff-8a1a9a2fe522",
   "metadata": {},
   "source": [
    "## Creación de nuevas columnas"
   ]
  },
  {
   "cell_type": "code",
   "execution_count": 49,
   "id": "f9002d3d-23d3-48d9-9a31-e571faa7d368",
   "metadata": {},
   "outputs": [
    {
     "data": {
      "text/plain": [
       "Index(['invoice_no', 'customer_id', 'gender', 'age', 'category', 'quantity',\n",
       "       'price', 'payment_method', 'invoice_date', 'shopping_mall'],\n",
       "      dtype='object')"
      ]
     },
     "execution_count": 49,
     "metadata": {},
     "output_type": "execute_result"
    }
   ],
   "source": [
    "shopping_data.columns"
   ]
  },
  {
   "cell_type": "code",
   "execution_count": 50,
   "id": "4fec26e1-b7e9-4666-9815-c17c65cc4a93",
   "metadata": {},
   "outputs": [
    {
     "data": {
      "text/plain": [
       "(94461, 10)"
      ]
     },
     "execution_count": 50,
     "metadata": {},
     "output_type": "execute_result"
    }
   ],
   "source": [
    "shopping_data.shape"
   ]
  },
  {
   "cell_type": "code",
   "execution_count": 51,
   "id": "14d834fe-ef52-4088-8683-46277f2c11f6",
   "metadata": {},
   "outputs": [],
   "source": [
    "shopping_categorical_dummy = shopping_categorical_dummy.iloc[shopping_data.index]"
   ]
  },
  {
   "cell_type": "code",
   "execution_count": 52,
   "id": "df268b2e-dc78-4bbd-8727-1e6e9458fa4d",
   "metadata": {},
   "outputs": [],
   "source": [
    "columns = ['age', 'category', 'price']"
   ]
  },
  {
   "cell_type": "code",
   "execution_count": 53,
   "id": "fc2a767d-3a32-4019-b583-256acf9fa634",
   "metadata": {},
   "outputs": [],
   "source": [
    "data_set = shopping_data[columns]"
   ]
  },
  {
   "cell_type": "code",
   "execution_count": 54,
   "id": "c03d2186-e554-4d2a-9367-8f09d2569008",
   "metadata": {},
   "outputs": [],
   "source": [
    "data_set = pd.concat([data_set, shopping_categorical_dummy], axis=1)"
   ]
  },
  {
   "cell_type": "code",
   "execution_count": 55,
   "id": "8726e9af-6819-4593-80a5-7dfe33755c1a",
   "metadata": {},
   "outputs": [
    {
     "data": {
      "text/html": [
       "<div>\n",
       "<style scoped>\n",
       "    .dataframe tbody tr th:only-of-type {\n",
       "        vertical-align: middle;\n",
       "    }\n",
       "\n",
       "    .dataframe tbody tr th {\n",
       "        vertical-align: top;\n",
       "    }\n",
       "\n",
       "    .dataframe thead th {\n",
       "        text-align: right;\n",
       "    }\n",
       "</style>\n",
       "<table border=\"1\" class=\"dataframe\">\n",
       "  <thead>\n",
       "    <tr style=\"text-align: right;\">\n",
       "      <th></th>\n",
       "      <th>age</th>\n",
       "      <th>category</th>\n",
       "      <th>price</th>\n",
       "      <th>gender_Male</th>\n",
       "      <th>payment_method_Credit Card</th>\n",
       "      <th>payment_method_Debit Card</th>\n",
       "      <th>shopping_mall_Emaar Square Mall</th>\n",
       "      <th>shopping_mall_Forum Istanbul</th>\n",
       "      <th>shopping_mall_Istinye Park</th>\n",
       "      <th>shopping_mall_Kanyon</th>\n",
       "      <th>shopping_mall_Mall of Istanbul</th>\n",
       "      <th>shopping_mall_Metrocity</th>\n",
       "      <th>shopping_mall_Metropol AVM</th>\n",
       "      <th>shopping_mall_Viaport Outlet</th>\n",
       "      <th>shopping_mall_Zorlu Center</th>\n",
       "    </tr>\n",
       "  </thead>\n",
       "  <tbody>\n",
       "    <tr>\n",
       "      <th>72972</th>\n",
       "      <td>19</td>\n",
       "      <td>Shoes</td>\n",
       "      <td>3000.85</td>\n",
       "      <td>0</td>\n",
       "      <td>0</td>\n",
       "      <td>1</td>\n",
       "      <td>0</td>\n",
       "      <td>0</td>\n",
       "      <td>0</td>\n",
       "      <td>0</td>\n",
       "      <td>0</td>\n",
       "      <td>1</td>\n",
       "      <td>0</td>\n",
       "      <td>0</td>\n",
       "      <td>0</td>\n",
       "    </tr>\n",
       "    <tr>\n",
       "      <th>81864</th>\n",
       "      <td>23</td>\n",
       "      <td>Shoes</td>\n",
       "      <td>3000.85</td>\n",
       "      <td>1</td>\n",
       "      <td>0</td>\n",
       "      <td>0</td>\n",
       "      <td>0</td>\n",
       "      <td>0</td>\n",
       "      <td>0</td>\n",
       "      <td>1</td>\n",
       "      <td>0</td>\n",
       "      <td>0</td>\n",
       "      <td>0</td>\n",
       "      <td>0</td>\n",
       "      <td>0</td>\n",
       "    </tr>\n",
       "    <tr>\n",
       "      <th>1296</th>\n",
       "      <td>69</td>\n",
       "      <td>Shoes</td>\n",
       "      <td>3000.85</td>\n",
       "      <td>1</td>\n",
       "      <td>0</td>\n",
       "      <td>0</td>\n",
       "      <td>0</td>\n",
       "      <td>1</td>\n",
       "      <td>0</td>\n",
       "      <td>0</td>\n",
       "      <td>0</td>\n",
       "      <td>0</td>\n",
       "      <td>0</td>\n",
       "      <td>0</td>\n",
       "      <td>0</td>\n",
       "    </tr>\n",
       "    <tr>\n",
       "      <th>31060</th>\n",
       "      <td>67</td>\n",
       "      <td>Shoes</td>\n",
       "      <td>3000.85</td>\n",
       "      <td>0</td>\n",
       "      <td>0</td>\n",
       "      <td>1</td>\n",
       "      <td>0</td>\n",
       "      <td>0</td>\n",
       "      <td>0</td>\n",
       "      <td>0</td>\n",
       "      <td>0</td>\n",
       "      <td>0</td>\n",
       "      <td>0</td>\n",
       "      <td>0</td>\n",
       "      <td>1</td>\n",
       "    </tr>\n",
       "    <tr>\n",
       "      <th>15731</th>\n",
       "      <td>42</td>\n",
       "      <td>Shoes</td>\n",
       "      <td>3000.85</td>\n",
       "      <td>1</td>\n",
       "      <td>1</td>\n",
       "      <td>0</td>\n",
       "      <td>1</td>\n",
       "      <td>0</td>\n",
       "      <td>0</td>\n",
       "      <td>0</td>\n",
       "      <td>0</td>\n",
       "      <td>0</td>\n",
       "      <td>0</td>\n",
       "      <td>0</td>\n",
       "      <td>0</td>\n",
       "    </tr>\n",
       "  </tbody>\n",
       "</table>\n",
       "</div>"
      ],
      "text/plain": [
       "       age category    price  gender_Male  payment_method_Credit Card  \\\n",
       "72972   19    Shoes  3000.85            0                           0   \n",
       "81864   23    Shoes  3000.85            1                           0   \n",
       "1296    69    Shoes  3000.85            1                           0   \n",
       "31060   67    Shoes  3000.85            0                           0   \n",
       "15731   42    Shoes  3000.85            1                           1   \n",
       "\n",
       "       payment_method_Debit Card  shopping_mall_Emaar Square Mall  \\\n",
       "72972                          1                                0   \n",
       "81864                          0                                0   \n",
       "1296                           0                                0   \n",
       "31060                          1                                0   \n",
       "15731                          0                                1   \n",
       "\n",
       "       shopping_mall_Forum Istanbul  shopping_mall_Istinye Park  \\\n",
       "72972                             0                           0   \n",
       "81864                             0                           0   \n",
       "1296                              1                           0   \n",
       "31060                             0                           0   \n",
       "15731                             0                           0   \n",
       "\n",
       "       shopping_mall_Kanyon  shopping_mall_Mall of Istanbul  \\\n",
       "72972                     0                               0   \n",
       "81864                     1                               0   \n",
       "1296                      0                               0   \n",
       "31060                     0                               0   \n",
       "15731                     0                               0   \n",
       "\n",
       "       shopping_mall_Metrocity  shopping_mall_Metropol AVM  \\\n",
       "72972                        1                           0   \n",
       "81864                        0                           0   \n",
       "1296                         0                           0   \n",
       "31060                        0                           0   \n",
       "15731                        0                           0   \n",
       "\n",
       "       shopping_mall_Viaport Outlet  shopping_mall_Zorlu Center  \n",
       "72972                             0                           0  \n",
       "81864                             0                           0  \n",
       "1296                              0                           0  \n",
       "31060                             0                           1  \n",
       "15731                             0                           0  "
      ]
     },
     "execution_count": 55,
     "metadata": {},
     "output_type": "execute_result"
    }
   ],
   "source": [
    "data_set.head()"
   ]
  },
  {
   "cell_type": "code",
   "execution_count": 56,
   "id": "3e0c0cdc-c5cd-4525-9295-d9aca143722e",
   "metadata": {},
   "outputs": [],
   "source": [
    "path_save = os.path.join('..', 'data', 'customers_model.csv')\n",
    "data_set.to_csv(path_save, index=False)"
   ]
  },
  {
   "cell_type": "code",
   "execution_count": null,
   "id": "5c6ac501-6a6d-404a-b272-cfa055827007",
   "metadata": {},
   "outputs": [],
   "source": []
  }
 ],
 "metadata": {
  "kernelspec": {
   "display_name": "Python 3 (ipykernel)",
   "language": "python",
   "name": "python3"
  },
  "language_info": {
   "codemirror_mode": {
    "name": "ipython",
    "version": 3
   },
   "file_extension": ".py",
   "mimetype": "text/x-python",
   "name": "python",
   "nbconvert_exporter": "python",
   "pygments_lexer": "ipython3",
   "version": "3.9.13"
  }
 },
 "nbformat": 4,
 "nbformat_minor": 5
}
