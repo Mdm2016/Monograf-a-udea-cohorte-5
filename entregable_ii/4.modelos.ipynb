{
 "cells": [
  {
   "cell_type": "markdown",
   "id": "6fb270bb-6cf6-40f8-ae3d-d7029764f3b4",
   "metadata": {},
   "source": [
    "# Customer shopping"
   ]
  },
  {
   "cell_type": "markdown",
   "id": "25271405-758c-4fda-82f4-c1cbf9ab2433",
   "metadata": {},
   "source": [
    "## Librerías"
   ]
  },
  {
   "cell_type": "code",
   "execution_count": 1,
   "id": "7cc7031e-d11f-4134-92cb-daac39576ea6",
   "metadata": {},
   "outputs": [],
   "source": [
    "import keras\n",
    "import matplotlib.pyplot as plt\n",
    "import numpy as np\n",
    "import os\n",
    "import pandas as pd\n",
    "import pickle\n",
    "import warnings\n",
    "import tensorflow as tf\n",
    "\n",
    "from sklearn import metrics\n",
    "from sklearn.ensemble import AdaBoostClassifier\n",
    "from sklearn.ensemble import RandomForestClassifier\n",
    "from sklearn.model_selection import cross_val_score\n",
    "from sklearn.model_selection import GridSearchCV\n",
    "from sklearn.model_selection import train_test_split\n",
    "from sklearn.naive_bayes import GaussianNB\n",
    "from sklearn.naive_bayes import BernoulliNB\n",
    "from sklearn.naive_bayes import MultinomialNB\n",
    "from sklearn.neighbors import LocalOutlierFactor\n",
    "from sklearn.preprocessing import MinMaxScaler\n",
    "from sklearn.tree import DecisionTreeClassifier\n",
    "from sklearn.tree import plot_tree\n",
    "\n",
    "from tensorflow.keras.models import Sequential\n",
    "from tensorflow.keras.layers import Dense, Dropout, BatchNormalization"
   ]
  },
  {
   "cell_type": "code",
   "execution_count": 2,
   "id": "60262b38-b154-48bc-bd32-6887edcc324c",
   "metadata": {},
   "outputs": [],
   "source": [
    "warnings.filterwarnings('ignore')"
   ]
  },
  {
   "cell_type": "code",
   "execution_count": 3,
   "id": "a64628b3-76fd-4c87-9097-5e44b67bec2f",
   "metadata": {},
   "outputs": [],
   "source": [
    "%matplotlib inline\n",
    "\n",
    "plt.style.use('ggplot')"
   ]
  },
  {
   "cell_type": "markdown",
   "id": "c7317a3f-fbe4-4f5d-913c-a96abf726d6d",
   "metadata": {},
   "source": [
    "## Cargas de datos"
   ]
  },
  {
   "cell_type": "code",
   "execution_count": 4,
   "id": "28943dd3-292a-4a43-a556-a29b53b29e66",
   "metadata": {},
   "outputs": [],
   "source": [
    "path = os.path.join('data', 'customers_model.csv')\n",
    "customer_data = pd.read_csv(path)"
   ]
  },
  {
   "cell_type": "code",
   "execution_count": 5,
   "id": "649795e8-94f6-4d71-8fd0-962ee1853f9c",
   "metadata": {},
   "outputs": [
    {
     "data": {
      "text/html": [
       "<div>\n",
       "<style scoped>\n",
       "    .dataframe tbody tr th:only-of-type {\n",
       "        vertical-align: middle;\n",
       "    }\n",
       "\n",
       "    .dataframe tbody tr th {\n",
       "        vertical-align: top;\n",
       "    }\n",
       "\n",
       "    .dataframe thead th {\n",
       "        text-align: right;\n",
       "    }\n",
       "</style>\n",
       "<table border=\"1\" class=\"dataframe\">\n",
       "  <thead>\n",
       "    <tr style=\"text-align: right;\">\n",
       "      <th></th>\n",
       "      <th>age</th>\n",
       "      <th>category</th>\n",
       "      <th>price</th>\n",
       "      <th>gender_Male</th>\n",
       "      <th>payment_method_Credit Card</th>\n",
       "      <th>payment_method_Debit Card</th>\n",
       "      <th>shopping_mall_Emaar Square Mall</th>\n",
       "      <th>shopping_mall_Forum Istanbul</th>\n",
       "      <th>shopping_mall_Istinye Park</th>\n",
       "      <th>shopping_mall_Kanyon</th>\n",
       "      <th>shopping_mall_Mall of Istanbul</th>\n",
       "      <th>shopping_mall_Metrocity</th>\n",
       "      <th>shopping_mall_Metropol AVM</th>\n",
       "      <th>shopping_mall_Viaport Outlet</th>\n",
       "      <th>shopping_mall_Zorlu Center</th>\n",
       "    </tr>\n",
       "  </thead>\n",
       "  <tbody>\n",
       "    <tr>\n",
       "      <th>0</th>\n",
       "      <td>19</td>\n",
       "      <td>Shoes</td>\n",
       "      <td>3000.85</td>\n",
       "      <td>0</td>\n",
       "      <td>0</td>\n",
       "      <td>1</td>\n",
       "      <td>0</td>\n",
       "      <td>0</td>\n",
       "      <td>0</td>\n",
       "      <td>0</td>\n",
       "      <td>0</td>\n",
       "      <td>1</td>\n",
       "      <td>0</td>\n",
       "      <td>0</td>\n",
       "      <td>0</td>\n",
       "    </tr>\n",
       "    <tr>\n",
       "      <th>1</th>\n",
       "      <td>23</td>\n",
       "      <td>Shoes</td>\n",
       "      <td>3000.85</td>\n",
       "      <td>1</td>\n",
       "      <td>0</td>\n",
       "      <td>0</td>\n",
       "      <td>0</td>\n",
       "      <td>0</td>\n",
       "      <td>0</td>\n",
       "      <td>1</td>\n",
       "      <td>0</td>\n",
       "      <td>0</td>\n",
       "      <td>0</td>\n",
       "      <td>0</td>\n",
       "      <td>0</td>\n",
       "    </tr>\n",
       "    <tr>\n",
       "      <th>2</th>\n",
       "      <td>69</td>\n",
       "      <td>Shoes</td>\n",
       "      <td>3000.85</td>\n",
       "      <td>1</td>\n",
       "      <td>0</td>\n",
       "      <td>0</td>\n",
       "      <td>0</td>\n",
       "      <td>1</td>\n",
       "      <td>0</td>\n",
       "      <td>0</td>\n",
       "      <td>0</td>\n",
       "      <td>0</td>\n",
       "      <td>0</td>\n",
       "      <td>0</td>\n",
       "      <td>0</td>\n",
       "    </tr>\n",
       "    <tr>\n",
       "      <th>3</th>\n",
       "      <td>67</td>\n",
       "      <td>Shoes</td>\n",
       "      <td>3000.85</td>\n",
       "      <td>0</td>\n",
       "      <td>0</td>\n",
       "      <td>1</td>\n",
       "      <td>0</td>\n",
       "      <td>0</td>\n",
       "      <td>0</td>\n",
       "      <td>0</td>\n",
       "      <td>0</td>\n",
       "      <td>0</td>\n",
       "      <td>0</td>\n",
       "      <td>0</td>\n",
       "      <td>1</td>\n",
       "    </tr>\n",
       "    <tr>\n",
       "      <th>4</th>\n",
       "      <td>42</td>\n",
       "      <td>Shoes</td>\n",
       "      <td>3000.85</td>\n",
       "      <td>1</td>\n",
       "      <td>1</td>\n",
       "      <td>0</td>\n",
       "      <td>1</td>\n",
       "      <td>0</td>\n",
       "      <td>0</td>\n",
       "      <td>0</td>\n",
       "      <td>0</td>\n",
       "      <td>0</td>\n",
       "      <td>0</td>\n",
       "      <td>0</td>\n",
       "      <td>0</td>\n",
       "    </tr>\n",
       "  </tbody>\n",
       "</table>\n",
       "</div>"
      ],
      "text/plain": [
       "   age category    price  gender_Male  payment_method_Credit Card  \\\n",
       "0   19    Shoes  3000.85            0                           0   \n",
       "1   23    Shoes  3000.85            1                           0   \n",
       "2   69    Shoes  3000.85            1                           0   \n",
       "3   67    Shoes  3000.85            0                           0   \n",
       "4   42    Shoes  3000.85            1                           1   \n",
       "\n",
       "   payment_method_Debit Card  shopping_mall_Emaar Square Mall  \\\n",
       "0                          1                                0   \n",
       "1                          0                                0   \n",
       "2                          0                                0   \n",
       "3                          1                                0   \n",
       "4                          0                                1   \n",
       "\n",
       "   shopping_mall_Forum Istanbul  shopping_mall_Istinye Park  \\\n",
       "0                             0                           0   \n",
       "1                             0                           0   \n",
       "2                             1                           0   \n",
       "3                             0                           0   \n",
       "4                             0                           0   \n",
       "\n",
       "   shopping_mall_Kanyon  shopping_mall_Mall of Istanbul  \\\n",
       "0                     0                               0   \n",
       "1                     1                               0   \n",
       "2                     0                               0   \n",
       "3                     0                               0   \n",
       "4                     0                               0   \n",
       "\n",
       "   shopping_mall_Metrocity  shopping_mall_Metropol AVM  \\\n",
       "0                        1                           0   \n",
       "1                        0                           0   \n",
       "2                        0                           0   \n",
       "3                        0                           0   \n",
       "4                        0                           0   \n",
       "\n",
       "   shopping_mall_Viaport Outlet  shopping_mall_Zorlu Center  \n",
       "0                             0                           0  \n",
       "1                             0                           0  \n",
       "2                             0                           0  \n",
       "3                             0                           1  \n",
       "4                             0                           0  "
      ]
     },
     "execution_count": 5,
     "metadata": {},
     "output_type": "execute_result"
    }
   ],
   "source": [
    "customer_data.head()"
   ]
  },
  {
   "cell_type": "markdown",
   "id": "9c2f8bac-de1f-4e40-81d3-c1a460f3f05d",
   "metadata": {},
   "source": [
    "## Preparación"
   ]
  },
  {
   "cell_type": "code",
   "execution_count": 6,
   "id": "bc6d5825-c75b-4095-9d18-3550087e4393",
   "metadata": {},
   "outputs": [],
   "source": [
    "x = customer_data.drop('category', axis=1)\n",
    "y = customer_data['category']"
   ]
  },
  {
   "cell_type": "markdown",
   "id": "81fb54fc-99a3-42de-a8e0-2386fdb3775d",
   "metadata": {},
   "source": [
    "### Escalamiento"
   ]
  },
  {
   "cell_type": "code",
   "execution_count": 7,
   "id": "16d5d6eb-e613-4464-803a-82f8a6c29b30",
   "metadata": {},
   "outputs": [],
   "source": [
    "min_max = MinMaxScaler()\n",
    "\n",
    "x_scale = min_max.fit_transform(x)\n",
    "\n",
    "x_scale = pd.DataFrame(x_scale, columns=x.columns)"
   ]
  },
  {
   "cell_type": "markdown",
   "id": "c73bfd00-d90b-418b-8874-140741e05283",
   "metadata": {},
   "source": [
    "### División de datos"
   ]
  },
  {
   "cell_type": "code",
   "execution_count": 8,
   "id": "f43965e1-77e9-4ed4-93a6-027b4026f62e",
   "metadata": {},
   "outputs": [],
   "source": [
    "x_train, x_test, y_train, y_test = train_test_split(\n",
    "    x_scale, \n",
    "    y, \n",
    "    test_size=0.2, \n",
    "    shuffle=True, \n",
    "    random_state=0)"
   ]
  },
  {
   "cell_type": "code",
   "execution_count": 9,
   "id": "92183d9e-7abc-4cd9-aa2c-e35ae2bd50cf",
   "metadata": {},
   "outputs": [
    {
     "name": "stdout",
     "output_type": "stream",
     "text": [
      "Tamaño del conjunto de entrenamiento:\n",
      "x_train: (75568, 14)\n",
      "y_train: (75568,)\n",
      "Tamaño del conjunto de prueba:\n",
      "x_test: (18893, 14)\n",
      "y_test: (18893,)\n"
     ]
    }
   ],
   "source": [
    "print(\"Tamaño del conjunto de entrenamiento:\")\n",
    "print(\"x_train:\", x_train.shape)\n",
    "print(\"y_train:\", y_train.shape)\n",
    "\n",
    "print(\"Tamaño del conjunto de prueba:\")\n",
    "print(\"x_test:\", x_test.shape)\n",
    "print(\"y_test:\", y_test.shape)"
   ]
  },
  {
   "cell_type": "markdown",
   "id": "58b14054-e562-4795-9ebf-4980858da425",
   "metadata": {},
   "source": [
    "## **Modelos de clasificación**"
   ]
  },
  {
   "cell_type": "markdown",
   "id": "48e0c317-136b-4bcd-90a2-cc91e2f6fdce",
   "metadata": {
    "tags": []
   },
   "source": [
    "### Naive Bayes"
   ]
  },
  {
   "cell_type": "code",
   "execution_count": 10,
   "id": "d1e84d22-57c8-431a-aef1-3a7f4882c31c",
   "metadata": {},
   "outputs": [],
   "source": [
    "modelGNB = GaussianNB()\n",
    "modelBNB = BernoulliNB(binarize=0.5)\n",
    "modelMNB = MultinomialNB()"
   ]
  },
  {
   "cell_type": "code",
   "execution_count": 11,
   "id": "675a0c45-912e-4229-b42b-bc5b0a45c6d8",
   "metadata": {},
   "outputs": [
    {
     "data": {
      "text/html": [
       "<style>#sk-container-id-1 {color: black;background-color: white;}#sk-container-id-1 pre{padding: 0;}#sk-container-id-1 div.sk-toggleable {background-color: white;}#sk-container-id-1 label.sk-toggleable__label {cursor: pointer;display: block;width: 100%;margin-bottom: 0;padding: 0.3em;box-sizing: border-box;text-align: center;}#sk-container-id-1 label.sk-toggleable__label-arrow:before {content: \"▸\";float: left;margin-right: 0.25em;color: #696969;}#sk-container-id-1 label.sk-toggleable__label-arrow:hover:before {color: black;}#sk-container-id-1 div.sk-estimator:hover label.sk-toggleable__label-arrow:before {color: black;}#sk-container-id-1 div.sk-toggleable__content {max-height: 0;max-width: 0;overflow: hidden;text-align: left;background-color: #f0f8ff;}#sk-container-id-1 div.sk-toggleable__content pre {margin: 0.2em;color: black;border-radius: 0.25em;background-color: #f0f8ff;}#sk-container-id-1 input.sk-toggleable__control:checked~div.sk-toggleable__content {max-height: 200px;max-width: 100%;overflow: auto;}#sk-container-id-1 input.sk-toggleable__control:checked~label.sk-toggleable__label-arrow:before {content: \"▾\";}#sk-container-id-1 div.sk-estimator input.sk-toggleable__control:checked~label.sk-toggleable__label {background-color: #d4ebff;}#sk-container-id-1 div.sk-label input.sk-toggleable__control:checked~label.sk-toggleable__label {background-color: #d4ebff;}#sk-container-id-1 input.sk-hidden--visually {border: 0;clip: rect(1px 1px 1px 1px);clip: rect(1px, 1px, 1px, 1px);height: 1px;margin: -1px;overflow: hidden;padding: 0;position: absolute;width: 1px;}#sk-container-id-1 div.sk-estimator {font-family: monospace;background-color: #f0f8ff;border: 1px dotted black;border-radius: 0.25em;box-sizing: border-box;margin-bottom: 0.5em;}#sk-container-id-1 div.sk-estimator:hover {background-color: #d4ebff;}#sk-container-id-1 div.sk-parallel-item::after {content: \"\";width: 100%;border-bottom: 1px solid gray;flex-grow: 1;}#sk-container-id-1 div.sk-label:hover label.sk-toggleable__label {background-color: #d4ebff;}#sk-container-id-1 div.sk-serial::before {content: \"\";position: absolute;border-left: 1px solid gray;box-sizing: border-box;top: 0;bottom: 0;left: 50%;z-index: 0;}#sk-container-id-1 div.sk-serial {display: flex;flex-direction: column;align-items: center;background-color: white;padding-right: 0.2em;padding-left: 0.2em;position: relative;}#sk-container-id-1 div.sk-item {position: relative;z-index: 1;}#sk-container-id-1 div.sk-parallel {display: flex;align-items: stretch;justify-content: center;background-color: white;position: relative;}#sk-container-id-1 div.sk-item::before, #sk-container-id-1 div.sk-parallel-item::before {content: \"\";position: absolute;border-left: 1px solid gray;box-sizing: border-box;top: 0;bottom: 0;left: 50%;z-index: -1;}#sk-container-id-1 div.sk-parallel-item {display: flex;flex-direction: column;z-index: 1;position: relative;background-color: white;}#sk-container-id-1 div.sk-parallel-item:first-child::after {align-self: flex-end;width: 50%;}#sk-container-id-1 div.sk-parallel-item:last-child::after {align-self: flex-start;width: 50%;}#sk-container-id-1 div.sk-parallel-item:only-child::after {width: 0;}#sk-container-id-1 div.sk-dashed-wrapped {border: 1px dashed gray;margin: 0 0.4em 0.5em 0.4em;box-sizing: border-box;padding-bottom: 0.4em;background-color: white;}#sk-container-id-1 div.sk-label label {font-family: monospace;font-weight: bold;display: inline-block;line-height: 1.2em;}#sk-container-id-1 div.sk-label-container {text-align: center;}#sk-container-id-1 div.sk-container {/* jupyter's `normalize.less` sets `[hidden] { display: none; }` but bootstrap.min.css set `[hidden] { display: none !important; }` so we also need the `!important` here to be able to override the default hidden behavior on the sphinx rendered scikit-learn.org. See: https://github.com/scikit-learn/scikit-learn/issues/21755 */display: inline-block !important;position: relative;}#sk-container-id-1 div.sk-text-repr-fallback {display: none;}</style><div id=\"sk-container-id-1\" class=\"sk-top-container\"><div class=\"sk-text-repr-fallback\"><pre>MultinomialNB()</pre><b>In a Jupyter environment, please rerun this cell to show the HTML representation or trust the notebook. <br />On GitHub, the HTML representation is unable to render, please try loading this page with nbviewer.org.</b></div><div class=\"sk-container\" hidden><div class=\"sk-item\"><div class=\"sk-estimator sk-toggleable\"><input class=\"sk-toggleable__control sk-hidden--visually\" id=\"sk-estimator-id-1\" type=\"checkbox\" checked><label for=\"sk-estimator-id-1\" class=\"sk-toggleable__label sk-toggleable__label-arrow\">MultinomialNB</label><div class=\"sk-toggleable__content\"><pre>MultinomialNB()</pre></div></div></div></div></div>"
      ],
      "text/plain": [
       "MultinomialNB()"
      ]
     },
     "execution_count": 11,
     "metadata": {},
     "output_type": "execute_result"
    }
   ],
   "source": [
    "modelGNB.fit(x_train, y_train)\n",
    "modelBNB.fit(x_train, y_train)\n",
    "modelMNB.fit(x_train, y_train)"
   ]
  },
  {
   "cell_type": "code",
   "execution_count": 12,
   "id": "846c7b50-8d6e-4e7e-b2d4-e80d9126d405",
   "metadata": {},
   "outputs": [],
   "source": [
    "y_modelGNB = modelGNB.predict(x_test)\n",
    "y_modelBNB = modelBNB.predict(x_test)\n",
    "y_modelMNB = modelMNB.predict(x_test)"
   ]
  },
  {
   "cell_type": "code",
   "execution_count": 13,
   "id": "d176ecb3-6c1a-439a-a844-b06e7238b381",
   "metadata": {},
   "outputs": [
    {
     "name": "stdout",
     "output_type": "stream",
     "text": [
      "modelGNB: 0.7753665378711693\n",
      "modelBNB: 0.4273011168157519\n",
      "modelMNB: 0.36420896628380883\n"
     ]
    }
   ],
   "source": [
    "print('modelGNB:', metrics.accuracy_score(y_test, y_modelGNB))\n",
    "print('modelBNB:', metrics.accuracy_score(y_test, y_modelBNB))\n",
    "print('modelMNB:', metrics.accuracy_score(y_test, y_modelMNB))"
   ]
  },
  {
   "cell_type": "markdown",
   "id": "bf156148-56c0-4c30-8121-ad9a3a682375",
   "metadata": {},
   "source": [
    "#### Guardar modelos"
   ]
  },
  {
   "cell_type": "code",
   "execution_count": 14,
   "id": "8188e705-01a0-4193-afa0-37938d3d31af",
   "metadata": {},
   "outputs": [],
   "source": [
    "def save_model(model):\n",
    "    name = type(model).__name__\n",
    "    print(name)\n",
    "    path = os.path.join('..', 'output', 'modelos', f'{name}.pkl')\n",
    "    with open(path, 'wb') as file:\n",
    "        pickle.dump(model, file)"
   ]
  },
  {
   "cell_type": "code",
   "execution_count": 15,
   "id": "a836df66-b8e9-4205-989a-f59541070dc8",
   "metadata": {},
   "outputs": [
    {
     "name": "stdout",
     "output_type": "stream",
     "text": [
      "GaussianNB\n",
      "BernoulliNB\n",
      "MultinomialNB\n"
     ]
    }
   ],
   "source": [
    "save_model(modelGNB)\n",
    "save_model(modelBNB)\n",
    "save_model(modelMNB)"
   ]
  },
  {
   "cell_type": "markdown",
   "id": "2410c164",
   "metadata": {},
   "source": [
    "**GridSearchCV** es una técnica de validación cruzada incluida en el paquete de scikit learn. Lo que hace es ejecutarse a través de los diferentes parámetros que se introducen en la cuadrícula de parámetros y extraer los mejores valores y combinaciones de parámetros."
   ]
  },
  {
   "cell_type": "markdown",
   "id": "46c365ef",
   "metadata": {},
   "source": [
    "### **Random Forest Classifier**"
   ]
  },
  {
   "cell_type": "code",
   "execution_count": 16,
   "id": "43c48c5b-a4e6-41a1-a8a8-8c0d07ff2c4a",
   "metadata": {},
   "outputs": [],
   "source": [
    "rfc = RandomForestClassifier()"
   ]
  },
  {
   "cell_type": "code",
   "execution_count": 17,
   "id": "c0b30e3f-7104-41fb-9690-987642d3461d",
   "metadata": {},
   "outputs": [],
   "source": [
    "forest_params = [\n",
    "    {'n_estimators': [10,20,50,100],\n",
    "     'max_depth': np.arange(5, 15), \n",
    "     'max_features': np.arange(5,14)}\n",
    "]"
   ]
  },
  {
   "cell_type": "code",
   "execution_count": 18,
   "id": "d49197dc-898a-40be-96b0-0db972f48efd",
   "metadata": {},
   "outputs": [],
   "source": [
    "clf = GridSearchCV(rfc, forest_params, cv=5, scoring='accuracy')"
   ]
  },
  {
   "cell_type": "code",
   "execution_count": 19,
   "id": "fbdc83b5-9078-42eb-81cf-01d0638d23eb",
   "metadata": {},
   "outputs": [
    {
     "name": "stdout",
     "output_type": "stream",
     "text": [
      "Los mejores hiperparámetros: {'max_depth': 9, 'max_features': 12, 'n_estimators': 20}\n",
      "El mejor puntaje: 1.0\n"
     ]
    }
   ],
   "source": [
    "clf.fit(x_train, y_train)\n",
    "\n",
    "print('Los mejores hiperparámetros: '+ str(clf.best_params_))\n",
    "print('El mejor puntaje: ' + str(clf.best_score_))"
   ]
  },
  {
   "cell_type": "code",
   "execution_count": 20,
   "id": "dcca7a6f",
   "metadata": {},
   "outputs": [
    {
     "name": "stdout",
     "output_type": "stream",
     "text": [
      "Exactitud del modelo: 100.00%\n"
     ]
    }
   ],
   "source": [
    "# Obtener el mejor modelo\n",
    "best_rfc = clf.best_estimator_\n",
    "y_pred_rf = best_rfc.predict(x_test)\n",
    "\n",
    "accuracy_rf = metrics.accuracy_score(y_test, y_pred_rf)\n",
    "\n",
    "print(\"Exactitud del modelo: {:.2f}%\".format(accuracy_rf * 100))"
   ]
  },
  {
   "cell_type": "markdown",
   "id": "490bfe0c",
   "metadata": {},
   "source": [
    "**Test con menos árboles, buscando encontrar igual exactitud con menor complejidad**"
   ]
  },
  {
   "cell_type": "code",
   "execution_count": 21,
   "id": "e9e2b946-7177-4f00-a321-316f2d25fa39",
   "metadata": {},
   "outputs": [],
   "source": [
    "rfc_ = RandomForestClassifier()"
   ]
  },
  {
   "cell_type": "code",
   "execution_count": 22,
   "id": "84d9e84c-bede-41f4-ad3a-2e0b39b72777",
   "metadata": {},
   "outputs": [],
   "source": [
    "forest_params_ = [\n",
    "    {'n_estimators': [10,20],\n",
    "     'max_depth': np.arange(5,15), \n",
    "     'max_features': np.arange(5,14)}\n",
    "]"
   ]
  },
  {
   "cell_type": "code",
   "execution_count": 23,
   "id": "08e34593-0995-4984-b577-d29331c19c96",
   "metadata": {},
   "outputs": [],
   "source": [
    "clf_ = GridSearchCV(rfc_, forest_params_, cv=5, scoring='accuracy')"
   ]
  },
  {
   "cell_type": "code",
   "execution_count": null,
   "id": "ed075405-2d90-4c8c-99c0-21059862bfc7",
   "metadata": {},
   "outputs": [],
   "source": [
    "clf_.fit(x_train, y_train)\n",
    "\n",
    "print('Los mejores hiperparámetros: ' + str(clf_.best_params_))\n",
    "print('El mejor puntaje: ' + str(clf_.best_score_))"
   ]
  },
  {
   "cell_type": "code",
   "execution_count": null,
   "id": "6d610033",
   "metadata": {},
   "outputs": [],
   "source": [
    "best_rfc = clf_.best_estimator_\n",
    "y_pred_rf = best_rfc.predict(x_test)\n",
    "\n",
    "accuracy_rf_ = metrics.accuracy_score(y_test, y_pred_rf)\n",
    "\n",
    "print(\"Exactitud del modelo: {:.2f}%\".format(accuracy_rf_ * 100))"
   ]
  },
  {
   "cell_type": "markdown",
   "id": "7cbcd54f-81e4-4aed-bba3-e27223a26c04",
   "metadata": {},
   "source": [
    "* Importancia de las características"
   ]
  },
  {
   "cell_type": "code",
   "execution_count": null,
   "id": "885598e9",
   "metadata": {},
   "outputs": [],
   "source": [
    "importancia = pd.DataFrame({\n",
    "    'predictor': x.columns,\n",
    "    'importancia': best_rfc.feature_importances_\n",
    "})"
   ]
  },
  {
   "cell_type": "code",
   "execution_count": null,
   "id": "09dca698-b2f3-4ee8-86ea-ff762e054200",
   "metadata": {},
   "outputs": [],
   "source": [
    "importancia.sort_values('importancia', ascending=False)\n",
    "\n",
    "out_rfc = pd.DataFrame(clf.cv_results_)\n",
    "out_rfc = out_rfc.filter(regex = '(param*|mean_t|std_t)').drop(columns = 'params').sort_values('mean_test_score', ascending=False)\n",
    "out_rfc"
   ]
  },
  {
   "cell_type": "markdown",
   "id": "1db2cfa1-5785-41a5-8b70-7d78f430d9df",
   "metadata": {},
   "source": [
    "* Validación cruzada, para comprobar que el modelo no haga sobreajuste"
   ]
  },
  {
   "cell_type": "code",
   "execution_count": null,
   "id": "8e9e18d5-e30c-49b5-b124-7dd469151d5e",
   "metadata": {},
   "outputs": [],
   "source": [
    "scores_rfc = cross_val_score(best_rfc, x_train, y_train, cv=5)\n",
    "\n",
    "for i, j in enumerate(scores_rfc):\n",
    "    print(f'cross_val_score --> fold {i+1}: {j}')\n",
    "\n",
    "print(f'mean acc: {scores_rfc.mean()}')"
   ]
  },
  {
   "cell_type": "markdown",
   "id": "aabaecc6-9e85-4e61-8c15-d9582767a456",
   "metadata": {},
   "source": [
    "#### Guardar mejor modelo"
   ]
  },
  {
   "cell_type": "code",
   "execution_count": null,
   "id": "13ace83c-1de4-404c-b665-995803721c59",
   "metadata": {},
   "outputs": [],
   "source": [
    "save_model(best_rfc)"
   ]
  },
  {
   "cell_type": "markdown",
   "id": "15841240",
   "metadata": {},
   "source": [
    "### **DecisionTreeClassifier**"
   ]
  },
  {
   "cell_type": "code",
   "execution_count": null,
   "id": "b954a742-cf09-44e7-87a2-0b4a3e9f7fe0",
   "metadata": {},
   "outputs": [],
   "source": [
    "tree_clas = DecisionTreeClassifier(random_state=1024)"
   ]
  },
  {
   "cell_type": "code",
   "execution_count": null,
   "id": "5a6daf3f-ecec-4abf-9d43-c0ddfd87ae24",
   "metadata": {},
   "outputs": [],
   "source": [
    "param_grid = {\n",
    "    'max_features': ['auto', 'sqrt', 'log2'],\n",
    "    'ccp_alpha': [0.1, .01, .001],\n",
    "    'max_depth' :  np.arange(3, 10),\n",
    "    'criterion' :['gini', 'entropy'],\n",
    "    'min_samples_leaf': [1, 2, 4],\n",
    "    'min_samples_split': [2, 5, 10],\n",
    "}"
   ]
  },
  {
   "cell_type": "code",
   "execution_count": null,
   "id": "b627a076-f846-4f88-bd7c-56609f762e68",
   "metadata": {},
   "outputs": [],
   "source": [
    "dec_tree = GridSearchCV(estimator=tree_clas, param_grid=param_grid, cv=5)"
   ]
  },
  {
   "cell_type": "code",
   "execution_count": null,
   "id": "0b320ed5-818f-4358-a7e8-0e27f7d0baf4",
   "metadata": {},
   "outputs": [],
   "source": [
    "dec_tree.fit(x_train, y_train)\n",
    "\n",
    "print('Los mejores hiperparámetros: ' + str(dec_tree.best_params_))\n",
    "print('El mejor puntaje: ' + str(dec_tree.best_score_))"
   ]
  },
  {
   "cell_type": "code",
   "execution_count": null,
   "id": "6257794c",
   "metadata": {},
   "outputs": [],
   "source": [
    "best_tree = dec_tree.best_estimator_\n",
    "y_pred_tree = best_tree.predict(x_test)\n",
    "\n",
    "accuracy_tree = metrics.accuracy_score(y_test, y_pred_tree)\n",
    "\n",
    "print(\"Exactitud del modelo: {:.2f}%\".format(accuracy_tree * 100))"
   ]
  },
  {
   "cell_type": "markdown",
   "id": "578fc321-0845-4b87-b59a-87750249d31a",
   "metadata": {},
   "source": [
    "* Crossvalidation"
   ]
  },
  {
   "cell_type": "code",
   "execution_count": null,
   "id": "a296c93a",
   "metadata": {},
   "outputs": [],
   "source": [
    "scores_tree = cross_val_score(best_tree, x_train, y_train, cv=5)\n",
    "\n",
    "for i, j in enumerate(scores_tree):\n",
    "    print(f'cross_val_score --> fold {i+1}: {j}')\n",
    "\n",
    "print(f'mean acc: {scores_tree.mean()}')"
   ]
  },
  {
   "cell_type": "code",
   "execution_count": null,
   "id": "1e667a90-c549-42d6-a186-af521032551e",
   "metadata": {},
   "outputs": [],
   "source": [
    "fig, ax = plt.subplots(figsize=(28, 8))\n",
    "\n",
    "print(f\"Profundidad del árbol: {best_tree.get_depth()}\")\n",
    "print(f\"Número de nodos terminales: {best_tree.get_n_leaves()}\")\n",
    "\n",
    "tree_plot = plot_tree(\n",
    "    decision_tree=best_tree,\n",
    "    feature_names=x.columns,\n",
    "    class_names='category',\n",
    "    filled=True,\n",
    "    impurity=True,\n",
    "    fontsize=7,\n",
    "    ax=ax)\n",
    "\n",
    "path = os.path.join('..', 'output', 'arbol_decision.png')\n",
    "plt.savefig(path)\n",
    "\n",
    "plt.show()"
   ]
  },
  {
   "cell_type": "markdown",
   "id": "e376c6ab-1f29-4bde-8bcb-2a052b18936c",
   "metadata": {},
   "source": [
    "#### Guardar modelo"
   ]
  },
  {
   "cell_type": "code",
   "execution_count": null,
   "id": "fb3e7a3a-222a-4c29-ba37-cbf542a4d29f",
   "metadata": {},
   "outputs": [],
   "source": [
    "save_model(best_tree)"
   ]
  },
  {
   "cell_type": "markdown",
   "id": "a4baaaf3-561a-4460-8ee9-8d7184de0567",
   "metadata": {},
   "source": [
    "### AdaBoost"
   ]
  },
  {
   "cell_type": "code",
   "execution_count": null,
   "id": "c3574470-aa45-42c0-ae1e-540428d80c51",
   "metadata": {},
   "outputs": [],
   "source": [
    "ada = AdaBoostClassifier()"
   ]
  },
  {
   "cell_type": "code",
   "execution_count": null,
   "id": "edcab581-ce0e-4927-a3fb-8b7dfa5234db",
   "metadata": {},
   "outputs": [],
   "source": [
    "param_grid = {'n_estimators': range(1, 100, 5),\n",
    "             'learning_rate':[.001,0.01,.1]\n",
    "             }"
   ]
  },
  {
   "cell_type": "code",
   "execution_count": null,
   "id": "45e0cff2-eb68-43b1-b231-47da47d53860",
   "metadata": {},
   "outputs": [],
   "source": [
    "grid = GridSearchCV(\n",
    "        estimator  = ada,\n",
    "        param_grid = param_grid,\n",
    "        scoring    = 'accuracy',\n",
    "        n_jobs     = - 1,\n",
    "        cv         = 10, \n",
    "        refit      = True,\n",
    "        verbose    = 0,\n",
    "        return_train_score = True)"
   ]
  },
  {
   "cell_type": "code",
   "execution_count": null,
   "id": "3711f3c1-57c8-4473-842c-2e4ee7370623",
   "metadata": {},
   "outputs": [],
   "source": [
    "grid.fit(x_train, y_train)"
   ]
  },
  {
   "cell_type": "code",
   "execution_count": null,
   "id": "31da3356-48df-4660-9aff-6be2d6ec1e53",
   "metadata": {},
   "outputs": [],
   "source": [
    "print('Los mejores hiperparámetros: ' + str(grid.best_params_))\n",
    "print('El mejor puntaje: ' + str(grid.best_score_))"
   ]
  },
  {
   "cell_type": "code",
   "execution_count": null,
   "id": "ad1d9394-b172-4e0f-bfc7-975432b79957",
   "metadata": {},
   "outputs": [],
   "source": [
    "ada_model = grid.best_estimator_\n",
    "y_pred_ada = ada_model.predict(x_test)\n",
    "\n",
    "accuracy_ada = metrics.accuracy_score(y_test, y_pred_ada)\n",
    "\n",
    "print(\"Exactitud del modelo: {:.2f}%\".format(accuracy_ada * 100))"
   ]
  },
  {
   "cell_type": "code",
   "execution_count": null,
   "id": "f42275a4-b7cd-4685-b5e3-0c1ba1022ff3",
   "metadata": {},
   "outputs": [],
   "source": [
    "save_model(ada_model)"
   ]
  },
  {
   "cell_type": "markdown",
   "id": "28c9bb40-bd08-4b78-ba56-0aa17b1596d9",
   "metadata": {},
   "source": [
    "### Redes neuronales"
   ]
  },
  {
   "cell_type": "code",
   "execution_count": null,
   "id": "22ad4053-3112-4802-9fc9-3c934d5e2b7f",
   "metadata": {},
   "outputs": [],
   "source": [
    "def one_hot_encode_object_array(arr):\n",
    "    \"\"\"Aplica codificación one-hot a un array numpy de objetos (por ejemplo, cadenas).\n",
    "\n",
    "    Args:\n",
    "        arr: array de tipo numpy\n",
    "            El array que contiene objetos a codificar en one-hot.\n",
    "\n",
    "    Returns:\n",
    "        numpy.ndarray\n",
    "            Matriz numpy con la codificación one-hot de los objetos en el array de entrada.\n",
    "\n",
    "    \"\"\"\n",
    "    uniques, ids = np.unique(arr, return_inverse=True)\n",
    "    return keras.utils.to_categorical(ids, len(uniques))\n",
    "\n",
    "train_labels = one_hot_encode_object_array(y_train)\n",
    "test_labels = one_hot_encode_object_array(y_test)"
   ]
  },
  {
   "cell_type": "code",
   "execution_count": null,
   "id": "5addd6a7-8feb-4ac2-9ef1-a1f3c5dd46d1",
   "metadata": {},
   "outputs": [],
   "source": [
    "neural_network = Sequential()\n",
    "\n",
    "neural_network.add(Dense(256, input_shape=(x_train.shape[1],), activation='relu'))\n",
    "neural_network.add(BatchNormalization())  \n",
    "neural_network.add(Dropout(0.5))\n",
    "\n",
    "neural_network.add(Dense(128, activation='relu'))\n",
    "neural_network.add(BatchNormalization())  \n",
    "neural_network.add(Dropout(0.5))\n",
    "\n",
    "neural_network.add(Dense(64, activation='relu'))\n",
    "neural_network.add(BatchNormalization())  \n",
    "neural_network.add(Dropout(0.5))\n",
    "\n",
    "neural_network.add(Dense(32, activation='relu'))\n",
    "neural_network.add(BatchNormalization())  \n",
    "\n",
    "neural_network.add(Dense(6, activation='softmax')) "
   ]
  },
  {
   "cell_type": "code",
   "execution_count": null,
   "id": "5ece3015-2de3-47b3-94d6-d19e6858cfe4",
   "metadata": {},
   "outputs": [],
   "source": [
    "neural_network.compile(\n",
    "    optimizer='adam',\n",
    "    loss='categorical_crossentropy', \n",
    "    metrics=['accuracy']\n",
    ")"
   ]
  },
  {
   "cell_type": "code",
   "execution_count": null,
   "id": "7e1450da-70ef-42ea-b239-b964ea0629a6",
   "metadata": {},
   "outputs": [],
   "source": [
    "neural_network.summary()"
   ]
  },
  {
   "cell_type": "code",
   "execution_count": null,
   "id": "59548d63-bec9-4032-81a2-2a89bd96a398",
   "metadata": {},
   "outputs": [],
   "source": [
    "neural_network.fit(x_train, train_labels, epochs=100, batch_size=32)"
   ]
  },
  {
   "cell_type": "code",
   "execution_count": null,
   "id": "9407282b-4268-401d-bb41-6c1acef8fbbe",
   "metadata": {},
   "outputs": [],
   "source": [
    "loss, accuracy = neural_network.evaluate(x_test, test_labels)\n",
    "\n",
    "print(f\"Test Accuracy: {accuracy * 100:.2f}%\")"
   ]
  },
  {
   "cell_type": "code",
   "execution_count": null,
   "id": "5c0401d5-35ee-477b-80b1-3cd04fc18935",
   "metadata": {},
   "outputs": [],
   "source": [
    "y_nn = neural_network.predict(x_test)"
   ]
  },
  {
   "cell_type": "code",
   "execution_count": null,
   "id": "4b785475-a0e1-4cd5-8a92-14a6a469c171",
   "metadata": {},
   "outputs": [],
   "source": [
    "predicted_classes = y_nn.argmax(axis=1)"
   ]
  },
  {
   "cell_type": "code",
   "execution_count": null,
   "id": "81a7f6f3-2a15-411b-968e-0ad6a6e9a3c4",
   "metadata": {},
   "outputs": [],
   "source": [
    "y_nn_predcit = [np.unique(y_train)[pred] for pred in predicted_classes]"
   ]
  },
  {
   "cell_type": "code",
   "execution_count": null,
   "id": "83fa6ea1-a43f-4325-a1c2-fcebc15067c4",
   "metadata": {},
   "outputs": [],
   "source": [
    "save_model(neural_network)"
   ]
  },
  {
   "cell_type": "markdown",
   "id": "4141a2f5-390e-438d-a53c-96f79ec75cf9",
   "metadata": {},
   "source": [
    "## Resultados"
   ]
  },
  {
   "cell_type": "code",
   "execution_count": null,
   "id": "2d34c39b-fc4e-4b7a-9b64-8a4c701d0fee",
   "metadata": {},
   "outputs": [],
   "source": [
    "modelos = [\n",
    "    'GaussianNB',\n",
    "    'MultinomialNB',\n",
    "    'BernoulliNB',\n",
    "    'DecisionTreeClassifier',\n",
    "    'RandomForestClassifier',\n",
    "    'NeuralNetwork',\n",
    "    'AdaBoostClassifier']\n",
    "\n",
    "sc = [\n",
    "    metrics.accuracy_score(y_test, y_modelGNB),\n",
    "    metrics.accuracy_score(y_test, y_modelMNB),\n",
    "    metrics.accuracy_score(y_test, y_modelBNB),\n",
    "    metrics.accuracy_score(y_test, y_pred_tree),\n",
    "    metrics.accuracy_score(y_test, y_pred_rf),\n",
    "    metrics.accuracy_score(y_test, y_nn_predcit),\n",
    "    metrics.accuracy_score(y_test, y_pred_ada)\n",
    "]\n",
    "\n",
    "dic = {'Modelo': modelos, 'Scores': sc}\n",
    "\n",
    "resultados = pd.DataFrame(dic)\n",
    "resultados = resultados.sort_values(by='Scores', ascending=False)\n",
    "\n",
    "resultados"
   ]
  },
  {
   "cell_type": "code",
   "execution_count": null,
   "id": "23d9fe2c-92f0-4f82-ab69-0a0ac917f9d4",
   "metadata": {},
   "outputs": [],
   "source": []
  }
 ],
 "metadata": {
  "kernelspec": {
   "display_name": "Python 3 (ipykernel)",
   "language": "python",
   "name": "python3"
  },
  "language_info": {
   "codemirror_mode": {
    "name": "ipython",
    "version": 3
   },
   "file_extension": ".py",
   "mimetype": "text/x-python",
   "name": "python",
   "nbconvert_exporter": "python",
   "pygments_lexer": "ipython3",
   "version": "3.9.13"
  },
  "toc-autonumbering": true
 },
 "nbformat": 4,
 "nbformat_minor": 5
}
