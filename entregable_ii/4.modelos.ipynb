{
 "cells": [
  {
   "cell_type": "markdown",
   "id": "6fb270bb-6cf6-40f8-ae3d-d7029764f3b4",
   "metadata": {},
   "source": [
    "# Customer shopping"
   ]
  },
  {
   "cell_type": "markdown",
   "id": "25271405-758c-4fda-82f4-c1cbf9ab2433",
   "metadata": {},
   "source": [
    "## Librerías"
   ]
  },
  {
   "cell_type": "code",
   "execution_count": 1,
   "id": "7cc7031e-d11f-4134-92cb-daac39576ea6",
   "metadata": {},
   "outputs": [],
   "source": [
    "import matplotlib.pyplot as plt\n",
    "import numpy as np\n",
    "import os\n",
    "import pandas as pd\n",
    "\n",
    "from sklearn import metrics\n",
    "from sklearn.ensemble import AdaBoostClassifier\n",
    "from sklearn.ensemble import RandomForestClassifier\n",
    "from sklearn.model_selection import cross_val_score\n",
    "from sklearn.model_selection import GridSearchCV\n",
    "from sklearn.model_selection import train_test_split\n",
    "from sklearn.naive_bayes import GaussianNB\n",
    "from sklearn.naive_bayes import BernoulliNB\n",
    "from sklearn.naive_bayes import MultinomialNB\n",
    "from sklearn.neighbors import LocalOutlierFactor\n",
    "from sklearn.preprocessing import MinMaxScaler\n",
    "from sklearn.tree import DecisionTreeClassifier\n",
    "from sklearn.tree import plot_tree\n",
    "\n",
    "%matplotlib inline\n",
    "plt.style.use('ggplot')"
   ]
  },
  {
   "cell_type": "markdown",
   "id": "c7317a3f-fbe4-4f5d-913c-a96abf726d6d",
   "metadata": {},
   "source": [
    "## Cargas de datos"
   ]
  },
  {
   "cell_type": "code",
   "execution_count": 2,
   "id": "28943dd3-292a-4a43-a556-a29b53b29e66",
   "metadata": {},
   "outputs": [],
   "source": [
    "path = os.path.join('data', 'customers_model.csv')\n",
    "customer_data = pd.read_csv(path)"
   ]
  },
  {
   "cell_type": "code",
   "execution_count": 3,
   "id": "649795e8-94f6-4d71-8fd0-962ee1853f9c",
   "metadata": {},
   "outputs": [
    {
     "data": {
      "text/html": [
       "<div>\n",
       "<style scoped>\n",
       "    .dataframe tbody tr th:only-of-type {\n",
       "        vertical-align: middle;\n",
       "    }\n",
       "\n",
       "    .dataframe tbody tr th {\n",
       "        vertical-align: top;\n",
       "    }\n",
       "\n",
       "    .dataframe thead th {\n",
       "        text-align: right;\n",
       "    }\n",
       "</style>\n",
       "<table border=\"1\" class=\"dataframe\">\n",
       "  <thead>\n",
       "    <tr style=\"text-align: right;\">\n",
       "      <th></th>\n",
       "      <th>age</th>\n",
       "      <th>category</th>\n",
       "      <th>price</th>\n",
       "      <th>gender_Male</th>\n",
       "      <th>payment_method_Credit Card</th>\n",
       "      <th>payment_method_Debit Card</th>\n",
       "      <th>shopping_mall_Emaar Square Mall</th>\n",
       "      <th>shopping_mall_Forum Istanbul</th>\n",
       "      <th>shopping_mall_Istinye Park</th>\n",
       "      <th>shopping_mall_Kanyon</th>\n",
       "      <th>shopping_mall_Mall of Istanbul</th>\n",
       "      <th>shopping_mall_Metrocity</th>\n",
       "      <th>shopping_mall_Metropol AVM</th>\n",
       "      <th>shopping_mall_Viaport Outlet</th>\n",
       "      <th>shopping_mall_Zorlu Center</th>\n",
       "    </tr>\n",
       "  </thead>\n",
       "  <tbody>\n",
       "    <tr>\n",
       "      <th>0</th>\n",
       "      <td>19</td>\n",
       "      <td>Shoes</td>\n",
       "      <td>3000.85</td>\n",
       "      <td>0</td>\n",
       "      <td>0</td>\n",
       "      <td>1</td>\n",
       "      <td>0</td>\n",
       "      <td>0</td>\n",
       "      <td>0</td>\n",
       "      <td>0</td>\n",
       "      <td>0</td>\n",
       "      <td>1</td>\n",
       "      <td>0</td>\n",
       "      <td>0</td>\n",
       "      <td>0</td>\n",
       "    </tr>\n",
       "    <tr>\n",
       "      <th>1</th>\n",
       "      <td>23</td>\n",
       "      <td>Shoes</td>\n",
       "      <td>3000.85</td>\n",
       "      <td>1</td>\n",
       "      <td>0</td>\n",
       "      <td>0</td>\n",
       "      <td>0</td>\n",
       "      <td>0</td>\n",
       "      <td>0</td>\n",
       "      <td>1</td>\n",
       "      <td>0</td>\n",
       "      <td>0</td>\n",
       "      <td>0</td>\n",
       "      <td>0</td>\n",
       "      <td>0</td>\n",
       "    </tr>\n",
       "    <tr>\n",
       "      <th>2</th>\n",
       "      <td>69</td>\n",
       "      <td>Shoes</td>\n",
       "      <td>3000.85</td>\n",
       "      <td>1</td>\n",
       "      <td>0</td>\n",
       "      <td>0</td>\n",
       "      <td>0</td>\n",
       "      <td>1</td>\n",
       "      <td>0</td>\n",
       "      <td>0</td>\n",
       "      <td>0</td>\n",
       "      <td>0</td>\n",
       "      <td>0</td>\n",
       "      <td>0</td>\n",
       "      <td>0</td>\n",
       "    </tr>\n",
       "    <tr>\n",
       "      <th>3</th>\n",
       "      <td>67</td>\n",
       "      <td>Shoes</td>\n",
       "      <td>3000.85</td>\n",
       "      <td>0</td>\n",
       "      <td>0</td>\n",
       "      <td>1</td>\n",
       "      <td>0</td>\n",
       "      <td>0</td>\n",
       "      <td>0</td>\n",
       "      <td>0</td>\n",
       "      <td>0</td>\n",
       "      <td>0</td>\n",
       "      <td>0</td>\n",
       "      <td>0</td>\n",
       "      <td>1</td>\n",
       "    </tr>\n",
       "    <tr>\n",
       "      <th>4</th>\n",
       "      <td>42</td>\n",
       "      <td>Shoes</td>\n",
       "      <td>3000.85</td>\n",
       "      <td>1</td>\n",
       "      <td>1</td>\n",
       "      <td>0</td>\n",
       "      <td>1</td>\n",
       "      <td>0</td>\n",
       "      <td>0</td>\n",
       "      <td>0</td>\n",
       "      <td>0</td>\n",
       "      <td>0</td>\n",
       "      <td>0</td>\n",
       "      <td>0</td>\n",
       "      <td>0</td>\n",
       "    </tr>\n",
       "    <tr>\n",
       "      <th>...</th>\n",
       "      <td>...</td>\n",
       "      <td>...</td>\n",
       "      <td>...</td>\n",
       "      <td>...</td>\n",
       "      <td>...</td>\n",
       "      <td>...</td>\n",
       "      <td>...</td>\n",
       "      <td>...</td>\n",
       "      <td>...</td>\n",
       "      <td>...</td>\n",
       "      <td>...</td>\n",
       "      <td>...</td>\n",
       "      <td>...</td>\n",
       "      <td>...</td>\n",
       "      <td>...</td>\n",
       "    </tr>\n",
       "    <tr>\n",
       "      <th>94456</th>\n",
       "      <td>54</td>\n",
       "      <td>Food &amp; Beverage</td>\n",
       "      <td>5.23</td>\n",
       "      <td>0</td>\n",
       "      <td>1</td>\n",
       "      <td>0</td>\n",
       "      <td>0</td>\n",
       "      <td>0</td>\n",
       "      <td>0</td>\n",
       "      <td>0</td>\n",
       "      <td>0</td>\n",
       "      <td>0</td>\n",
       "      <td>1</td>\n",
       "      <td>0</td>\n",
       "      <td>0</td>\n",
       "    </tr>\n",
       "    <tr>\n",
       "      <th>94457</th>\n",
       "      <td>67</td>\n",
       "      <td>Food &amp; Beverage</td>\n",
       "      <td>5.23</td>\n",
       "      <td>1</td>\n",
       "      <td>0</td>\n",
       "      <td>0</td>\n",
       "      <td>0</td>\n",
       "      <td>0</td>\n",
       "      <td>0</td>\n",
       "      <td>1</td>\n",
       "      <td>0</td>\n",
       "      <td>0</td>\n",
       "      <td>0</td>\n",
       "      <td>0</td>\n",
       "      <td>0</td>\n",
       "    </tr>\n",
       "    <tr>\n",
       "      <th>94458</th>\n",
       "      <td>26</td>\n",
       "      <td>Food &amp; Beverage</td>\n",
       "      <td>5.23</td>\n",
       "      <td>0</td>\n",
       "      <td>1</td>\n",
       "      <td>0</td>\n",
       "      <td>0</td>\n",
       "      <td>0</td>\n",
       "      <td>0</td>\n",
       "      <td>0</td>\n",
       "      <td>1</td>\n",
       "      <td>0</td>\n",
       "      <td>0</td>\n",
       "      <td>0</td>\n",
       "      <td>0</td>\n",
       "    </tr>\n",
       "    <tr>\n",
       "      <th>94459</th>\n",
       "      <td>19</td>\n",
       "      <td>Food &amp; Beverage</td>\n",
       "      <td>5.23</td>\n",
       "      <td>1</td>\n",
       "      <td>0</td>\n",
       "      <td>1</td>\n",
       "      <td>0</td>\n",
       "      <td>1</td>\n",
       "      <td>0</td>\n",
       "      <td>0</td>\n",
       "      <td>0</td>\n",
       "      <td>0</td>\n",
       "      <td>0</td>\n",
       "      <td>0</td>\n",
       "      <td>0</td>\n",
       "    </tr>\n",
       "    <tr>\n",
       "      <th>94460</th>\n",
       "      <td>20</td>\n",
       "      <td>Food &amp; Beverage</td>\n",
       "      <td>5.23</td>\n",
       "      <td>0</td>\n",
       "      <td>0</td>\n",
       "      <td>1</td>\n",
       "      <td>0</td>\n",
       "      <td>0</td>\n",
       "      <td>0</td>\n",
       "      <td>1</td>\n",
       "      <td>0</td>\n",
       "      <td>0</td>\n",
       "      <td>0</td>\n",
       "      <td>0</td>\n",
       "      <td>0</td>\n",
       "    </tr>\n",
       "  </tbody>\n",
       "</table>\n",
       "<p>94461 rows × 15 columns</p>\n",
       "</div>"
      ],
      "text/plain": [
       "       age         category    price  gender_Male  payment_method_Credit Card  \\\n",
       "0       19            Shoes  3000.85            0                           0   \n",
       "1       23            Shoes  3000.85            1                           0   \n",
       "2       69            Shoes  3000.85            1                           0   \n",
       "3       67            Shoes  3000.85            0                           0   \n",
       "4       42            Shoes  3000.85            1                           1   \n",
       "...    ...              ...      ...          ...                         ...   \n",
       "94456   54  Food & Beverage     5.23            0                           1   \n",
       "94457   67  Food & Beverage     5.23            1                           0   \n",
       "94458   26  Food & Beverage     5.23            0                           1   \n",
       "94459   19  Food & Beverage     5.23            1                           0   \n",
       "94460   20  Food & Beverage     5.23            0                           0   \n",
       "\n",
       "       payment_method_Debit Card  shopping_mall_Emaar Square Mall  \\\n",
       "0                              1                                0   \n",
       "1                              0                                0   \n",
       "2                              0                                0   \n",
       "3                              1                                0   \n",
       "4                              0                                1   \n",
       "...                          ...                              ...   \n",
       "94456                          0                                0   \n",
       "94457                          0                                0   \n",
       "94458                          0                                0   \n",
       "94459                          1                                0   \n",
       "94460                          1                                0   \n",
       "\n",
       "       shopping_mall_Forum Istanbul  shopping_mall_Istinye Park  \\\n",
       "0                                 0                           0   \n",
       "1                                 0                           0   \n",
       "2                                 1                           0   \n",
       "3                                 0                           0   \n",
       "4                                 0                           0   \n",
       "...                             ...                         ...   \n",
       "94456                             0                           0   \n",
       "94457                             0                           0   \n",
       "94458                             0                           0   \n",
       "94459                             1                           0   \n",
       "94460                             0                           0   \n",
       "\n",
       "       shopping_mall_Kanyon  shopping_mall_Mall of Istanbul  \\\n",
       "0                         0                               0   \n",
       "1                         1                               0   \n",
       "2                         0                               0   \n",
       "3                         0                               0   \n",
       "4                         0                               0   \n",
       "...                     ...                             ...   \n",
       "94456                     0                               0   \n",
       "94457                     1                               0   \n",
       "94458                     0                               1   \n",
       "94459                     0                               0   \n",
       "94460                     1                               0   \n",
       "\n",
       "       shopping_mall_Metrocity  shopping_mall_Metropol AVM  \\\n",
       "0                            1                           0   \n",
       "1                            0                           0   \n",
       "2                            0                           0   \n",
       "3                            0                           0   \n",
       "4                            0                           0   \n",
       "...                        ...                         ...   \n",
       "94456                        0                           1   \n",
       "94457                        0                           0   \n",
       "94458                        0                           0   \n",
       "94459                        0                           0   \n",
       "94460                        0                           0   \n",
       "\n",
       "       shopping_mall_Viaport Outlet  shopping_mall_Zorlu Center  \n",
       "0                                 0                           0  \n",
       "1                                 0                           0  \n",
       "2                                 0                           0  \n",
       "3                                 0                           1  \n",
       "4                                 0                           0  \n",
       "...                             ...                         ...  \n",
       "94456                             0                           0  \n",
       "94457                             0                           0  \n",
       "94458                             0                           0  \n",
       "94459                             0                           0  \n",
       "94460                             0                           0  \n",
       "\n",
       "[94461 rows x 15 columns]"
      ]
     },
     "execution_count": 3,
     "metadata": {},
     "output_type": "execute_result"
    }
   ],
   "source": [
    "customer_data"
   ]
  },
  {
   "cell_type": "markdown",
   "id": "9c2f8bac-de1f-4e40-81d3-c1a460f3f05d",
   "metadata": {},
   "source": [
    "## Preparación"
   ]
  },
  {
   "cell_type": "code",
   "execution_count": 4,
   "id": "bc6d5825-c75b-4095-9d18-3550087e4393",
   "metadata": {},
   "outputs": [],
   "source": [
    "x = customer_data.drop('category', axis=1)\n",
    "y = customer_data['category']"
   ]
  },
  {
   "cell_type": "markdown",
   "id": "81fb54fc-99a3-42de-a8e0-2386fdb3775d",
   "metadata": {},
   "source": [
    "### Escalamiento"
   ]
  },
  {
   "cell_type": "code",
   "execution_count": 5,
   "id": "16d5d6eb-e613-4464-803a-82f8a6c29b30",
   "metadata": {},
   "outputs": [],
   "source": [
    "min_max = MinMaxScaler()\n",
    "\n",
    "x_scale = min_max.fit_transform(x)\n",
    "\n",
    "x_scale = pd.DataFrame(x_scale, columns=x.columns)"
   ]
  },
  {
   "cell_type": "markdown",
   "id": "c73bfd00-d90b-418b-8874-140741e05283",
   "metadata": {},
   "source": [
    "### División de datos"
   ]
  },
  {
   "cell_type": "code",
   "execution_count": 6,
   "id": "f43965e1-77e9-4ed4-93a6-027b4026f62e",
   "metadata": {},
   "outputs": [],
   "source": [
    "x_train, x_test, y_train, y_test = train_test_split(x_scale, y, test_size = 0.2, shuffle = True, random_state = 0)"
   ]
  },
  {
   "cell_type": "code",
   "execution_count": 7,
   "id": "92183d9e-7abc-4cd9-aa2c-e35ae2bd50cf",
   "metadata": {},
   "outputs": [
    {
     "name": "stdout",
     "output_type": "stream",
     "text": [
      "Tamaño del conjunto de entrenamiento:\n",
      "x_train: (75568, 14)\n",
      "y_train: (75568,)\n",
      "Tamaño del conjunto de prueba:\n",
      "x_test: (18893, 14)\n",
      "y_test: (18893,)\n"
     ]
    }
   ],
   "source": [
    "print(\"Tamaño del conjunto de entrenamiento:\")\n",
    "print(\"x_train:\", x_train.shape)\n",
    "print(\"y_train:\", y_train.shape)\n",
    "\n",
    "print(\"Tamaño del conjunto de prueba:\")\n",
    "print(\"x_test:\", x_test.shape)\n",
    "print(\"y_test:\", y_test.shape)"
   ]
  },
  {
   "cell_type": "markdown",
   "id": "58b14054-e562-4795-9ebf-4980858da425",
   "metadata": {},
   "source": [
    "## **Modelos de clasificación**"
   ]
  },
  {
   "cell_type": "markdown",
   "id": "2410c164",
   "metadata": {},
   "source": [
    "**GridSearchCV** es una técnica de validación cruzada incluida en el paquete de scikit learn. Lo que hace es ejecutarse a través de los diferentes parámetros que se introducen en la cuadrícula de parámetros y extraer los mejores valores y combinaciones de parámetros."
   ]
  },
  {
   "cell_type": "markdown",
   "id": "46c365ef",
   "metadata": {},
   "source": [
    "### **Random Forest Classifier**"
   ]
  },
  {
   "cell_type": "code",
   "execution_count": 41,
   "id": "dcca7a6f",
   "metadata": {},
   "outputs": [
    {
     "name": "stdout",
     "output_type": "stream",
     "text": [
      "Best hyperparameters are: {'max_depth': 9, 'max_features': 11, 'n_estimators': 100}\n",
      "Best score is: 1.0\n",
      "Exactitud del modelo: 100.00%\n"
     ]
    }
   ],
   "source": [
    "# Building Random Forest Classifier\n",
    "rfc = RandomForestClassifier()\n",
    "# Initializing GridSearchCV() object and fitting it with hyperparameters\n",
    "forest_params = [{'n_estimators': [10,20,50,100],\n",
    "                  'max_depth': np.arange(5, 15), \n",
    "                  'max_features': np.arange(5,14)}]\n",
    "clf = GridSearchCV(rfc, forest_params, cv = 5, scoring='accuracy')\n",
    "clf.fit(x_train, y_train)\n",
    "# Getting the Best Hyperparameters\n",
    "print('Best hyperparameters are: '+str(clf.best_params_))\n",
    "print('Best score is: ' +str(clf.best_score_))\n",
    "#  Getting the Best model\n",
    "best_rfc = clf.best_estimator_\n",
    "y_pred_rf = best_rfc.predict(x_test)\n",
    "accuracy_rf = metrics.accuracy_score(y_test, y_pred_rf)\n",
    "print(\"Exactitud del modelo: {:.2f}%\".format(accuracy_rf * 100))"
   ]
  },
  {
   "cell_type": "markdown",
   "id": "490bfe0c",
   "metadata": {},
   "source": [
    "**Test con menos árboles, buscando encontrar igual exactitud con menor complejidad**"
   ]
  },
  {
   "cell_type": "code",
   "execution_count": 44,
   "id": "6d610033",
   "metadata": {},
   "outputs": [
    {
     "name": "stdout",
     "output_type": "stream",
     "text": [
      "Best hyperparameters are: {'max_depth': 9, 'max_features': 12, 'n_estimators': 10}\n",
      "Best score is: 1.0\n",
      "Exactitud del modelo: 100.00%\n"
     ]
    }
   ],
   "source": [
    "# Building Random Forest Classifier\n",
    "rfc = RandomForestClassifier()\n",
    "# Initializing GridSearchCV() object and fitting it with hyperparameters\n",
    "forest_params = [{'n_estimators': [10,20],\n",
    "                  'max_depth': np.arange(5,15), \n",
    "                  'max_features': np.arange(5,14)}]\n",
    "clf = GridSearchCV(rfc, forest_params, cv = 5, scoring='accuracy')\n",
    "clf.fit(x_train, y_train)\n",
    "# Getting the Best Hyperparameters\n",
    "print('Best hyperparameters are: '+str(clf.best_params_))\n",
    "print('Best score is: ' +str(clf.best_score_))\n",
    "#  Getting the Best model\n",
    "best_rfc = clf.best_estimator_\n",
    "y_pred_rf = best_rfc.predict(x_test)\n",
    "accuracy_rf = metrics.accuracy_score(y_test, y_pred_rf)\n",
    "print(\"Exactitud del modelo: {:.2f}%\".format(accuracy_rf * 100))"
   ]
  },
  {
   "cell_type": "code",
   "execution_count": 45,
   "id": "885598e9",
   "metadata": {},
   "outputs": [
    {
     "name": "stdout",
     "output_type": "stream",
     "text": [
      "cross_val_score --> fold 1: 0.9993383617837767\n",
      "cross_val_score --> fold 2: 1.0\n",
      "cross_val_score --> fold 3: 0.9863702527457986\n",
      "cross_val_score --> fold 4: 1.0\n",
      "cross_val_score --> fold 5: 1.0\n",
      "mean acc: 0.997141722905915\n"
     ]
    }
   ],
   "source": [
    "# Feauture importances\n",
    "importancia = pd.DataFrame({\n",
    "    'predictor': x.columns,\n",
    "    'importancia': best_rfc.feature_importances_\n",
    "})\n",
    "importancia.sort_values('importancia', ascending=False)\n",
    "# save results\n",
    "out_rfc = pd.DataFrame(clf.cv_results_)\n",
    "out_rfc = out_rfc.filter(regex = '(param*|mean_t|std_t)').drop(columns = 'params').sort_values('mean_test_score', ascending=False)\n",
    "out_rfc\n",
    "# Cross validation\n",
    "scores_rfc = cross_val_score(best_rfc, x_train, y_train, cv=5)\n",
    "for i, j in enumerate(scores_rfc):\n",
    "    print(f'cross_val_score --> fold {i+1}: {j}')\n",
    "print(f'mean acc: {scores_rfc.mean()}')"
   ]
  },
  {
   "cell_type": "markdown",
   "id": "15841240",
   "metadata": {},
   "source": [
    "### **DecisionTreeClassifier**"
   ]
  },
  {
   "cell_type": "code",
   "execution_count": 49,
   "id": "6257794c",
   "metadata": {},
   "outputs": [
    {
     "name": "stderr",
     "output_type": "stream",
     "text": [
      "c:\\Users\\ASUS\\Anaconda3\\Lib\\site-packages\\sklearn\\model_selection\\_validation.py:425: FitFailedWarning: \n",
      "630 fits failed out of a total of 1890.\n",
      "The score on these train-test partitions for these parameters will be set to nan.\n",
      "If these failures are not expected, you can try to debug them by setting error_score='raise'.\n",
      "\n",
      "Below are more details about the failures:\n",
      "--------------------------------------------------------------------------------\n",
      "630 fits failed with the following error:\n",
      "Traceback (most recent call last):\n",
      "  File \"c:\\Users\\ASUS\\Anaconda3\\Lib\\site-packages\\sklearn\\model_selection\\_validation.py\", line 732, in _fit_and_score\n",
      "    estimator.fit(X_train, y_train, **fit_params)\n",
      "  File \"c:\\Users\\ASUS\\Anaconda3\\Lib\\site-packages\\sklearn\\base.py\", line 1144, in wrapper\n",
      "    estimator._validate_params()\n",
      "  File \"c:\\Users\\ASUS\\Anaconda3\\Lib\\site-packages\\sklearn\\base.py\", line 637, in _validate_params\n",
      "    validate_parameter_constraints(\n",
      "  File \"c:\\Users\\ASUS\\Anaconda3\\Lib\\site-packages\\sklearn\\utils\\_param_validation.py\", line 95, in validate_parameter_constraints\n",
      "    raise InvalidParameterError(\n",
      "sklearn.utils._param_validation.InvalidParameterError: The 'max_features' parameter of DecisionTreeClassifier must be an int in the range [1, inf), a float in the range (0.0, 1.0], a str among {'log2', 'sqrt'} or None. Got 'auto' instead.\n",
      "\n",
      "  warnings.warn(some_fits_failed_message, FitFailedWarning)\n",
      "c:\\Users\\ASUS\\Anaconda3\\Lib\\site-packages\\sklearn\\model_selection\\_search.py:976: UserWarning: One or more of the test scores are non-finite: [       nan        nan        nan        nan        nan        nan\n",
      "        nan        nan        nan 0.37321353 0.37321353 0.37321353\n",
      " 0.37321353 0.37321353 0.37321353 0.37321353 0.37321353 0.37321353\n",
      " 0.37321353 0.37321353 0.37321353 0.37321353 0.37321353 0.37321353\n",
      " 0.37321353 0.37321353 0.37321353        nan        nan        nan\n",
      "        nan        nan        nan        nan        nan        nan\n",
      " 0.38712161 0.38712161 0.38712161 0.38712161 0.38712161 0.38712161\n",
      " 0.38712161 0.38712161 0.38712161 0.38712161 0.38712161 0.38712161\n",
      " 0.38712161 0.38712161 0.38712161 0.38712161 0.38712161 0.38712161\n",
      "        nan        nan        nan        nan        nan        nan\n",
      "        nan        nan        nan 0.39473078 0.39473078 0.39473078\n",
      " 0.39473078 0.39473078 0.39473078 0.39471754 0.39471754 0.39471754\n",
      " 0.39473078 0.39473078 0.39473078 0.39473078 0.39473078 0.39473078\n",
      " 0.39471754 0.39471754 0.39471754        nan        nan        nan\n",
      "        nan        nan        nan        nan        nan        nan\n",
      " 0.45242763 0.45293048 0.45246733 0.45242763 0.45293048 0.45246733\n",
      " 0.45226884 0.45226884 0.45285108 0.45242763 0.45293048 0.45246733\n",
      " 0.45242763 0.45293048 0.45246733 0.45226884 0.45226884 0.45285108\n",
      "        nan        nan        nan        nan        nan        nan\n",
      "        nan        nan        nan 0.44823157 0.44813893 0.44955488\n",
      " 0.44809923 0.44780809 0.44963428 0.4495417  0.4495417  0.45065326\n",
      " 0.44823157 0.44813893 0.44955488 0.44809923 0.44780809 0.44963428\n",
      " 0.4495417  0.4495417  0.45065326        nan        nan        nan\n",
      "        nan        nan        nan        nan        nan        nan\n",
      " 0.52153031 0.52211257 0.52191406 0.52182141 0.52298599 0.52191406\n",
      " 0.52194052 0.52194052 0.52215227 0.52153031 0.52211257 0.52191406\n",
      " 0.52182141 0.52298599 0.52191406 0.52194052 0.52194052 0.52215227\n",
      "        nan        nan        nan        nan        nan        nan\n",
      "        nan        nan        nan 0.57442298 0.57315267 0.56601976\n",
      " 0.56860058 0.57548168 0.56784596 0.57149859 0.57149859 0.56380998\n",
      " 0.57442298 0.57315267 0.56601976 0.56860058 0.57548168 0.56784596\n",
      " 0.57149859 0.57149859 0.56380998        nan        nan        nan\n",
      "        nan        nan        nan        nan        nan        nan\n",
      " 0.37321353 0.37321353 0.37321353 0.37321353 0.37321353 0.37321353\n",
      " 0.37321353 0.37321353 0.37321353 0.37321353 0.37321353 0.37321353\n",
      " 0.37321353 0.37321353 0.37321353 0.37321353 0.37321353 0.37321353\n",
      "        nan        nan        nan        nan        nan        nan\n",
      "        nan        nan        nan 0.38698928 0.38698928 0.38698928\n",
      " 0.38698928 0.38698928 0.38698928 0.38698928 0.38698928 0.38698928\n",
      " 0.38698928 0.38698928 0.38698928 0.38698928 0.38698928 0.38698928\n",
      " 0.38698928 0.38698928 0.38698928        nan        nan        nan\n",
      "        nan        nan        nan        nan        nan        nan\n",
      " 0.40019591 0.40019591 0.40019591 0.40019591 0.40019591 0.40019591\n",
      " 0.40018267 0.40018267 0.40018267 0.40019591 0.40019591 0.40019591\n",
      " 0.40019591 0.40019591 0.40019591 0.40018267 0.40018267 0.40018267\n",
      "        nan        nan        nan        nan        nan        nan\n",
      "        nan        nan        nan 0.44409091 0.44458052 0.44718739\n",
      " 0.44410414 0.44459375 0.44718739 0.44611552 0.44611552 0.44636696\n",
      " 0.44409091 0.44458052 0.44718739 0.44410414 0.44459375 0.44718739\n",
      " 0.44611552 0.44611552 0.44636696        nan        nan        nan\n",
      "        nan        nan        nan        nan        nan        nan\n",
      " 0.46585886 0.46522369 0.46757922 0.46626908 0.46518399 0.46753952\n",
      " 0.4663485  0.4663485  0.46714253 0.46585886 0.46522369 0.46757922\n",
      " 0.46626908 0.46518399 0.46753952 0.4663485  0.4663485  0.46714253\n",
      "        nan        nan        nan        nan        nan        nan\n",
      "        nan        nan        nan 0.51943941 0.5192806  0.51840721\n",
      " 0.51844693 0.5181029  0.51842044 0.51991579 0.51991579 0.51954528\n",
      " 0.51943941 0.5192806  0.51840721 0.51844693 0.5181029  0.51842044\n",
      " 0.51991579 0.51991579 0.51954528        nan        nan        nan\n",
      "        nan        nan        nan        nan        nan        nan\n",
      " 0.57061259 0.57482068 0.56612618 0.57343117 0.57460893 0.5654381\n",
      " 0.56948794 0.56948794 0.56563653 0.57061259 0.57482068 0.56612618\n",
      " 0.57343117 0.57460893 0.5654381  0.56948794 0.56948794 0.56563653]\n",
      "  warnings.warn(\n"
     ]
    },
    {
     "name": "stdout",
     "output_type": "stream",
     "text": [
      "Best hyperparameters are: {'criterion': 'gini', 'max_depth': 9, 'max_features': 'sqrt', 'min_samples_leaf': 2, 'min_samples_split': 5}\n",
      "Best score is: 0.5754816840478365\n",
      "Exactitud del modelo: 60.08%\n"
     ]
    }
   ],
   "source": [
    "# Building Decision Tree Classifier\n",
    "tree_clas = DecisionTreeClassifier(random_state=1024)\n",
    "# Initializing GridSearchCV() object and fitting it with hyperparameters\n",
    "param_grid = {'max_features': ['auto', 'sqrt', 'log2'],\n",
    "              'ccp_alpha': [0.1, .01, .001],\n",
    "              'max_depth' :  np.arange(3, 10),\n",
    "              'criterion' :['gini', 'entropy'],\n",
    "              'min_samples_leaf': [1, 2, 4],\n",
    "              'min_samples_split': [2, 5, 10],\n",
    "             }\n",
    "dec_tree  = GridSearchCV(estimator=tree_clas, param_grid=param_grid, cv=5)\n",
    "dec_tree.fit(x_train, y_train)\n",
    "# Getting the Best Hyperparameters\n",
    "print('Best hyperparameters are: '+str(dec_tree.best_params_))\n",
    "print('Best score is: ' +str(dec_tree.best_score_))\n",
    "# Getting the Best model\n",
    "best_tree = dec_tree.best_estimator_\n",
    "y_pred_tree = best_tree.predict(x_test)\n",
    "accuracy_tree = metrics.accuracy_score(y_test, y_pred_tree)\n",
    "print(\"Exactitud del modelo: {:.2f}%\".format(accuracy_tree * 100))"
   ]
  },
  {
   "cell_type": "code",
   "execution_count": 11,
   "id": "a296c93a",
   "metadata": {},
   "outputs": [
    {
     "name": "stdout",
     "output_type": "stream",
     "text": [
      "cross_val_score --> fold 1: 0.5484319174275506\n",
      "cross_val_score --> fold 2: 0.5601429138547043\n",
      "cross_val_score --> fold 3: 0.5451237263464338\n",
      "cross_val_score --> fold 4: 0.580692119367432\n",
      "cross_val_score --> fold 5: 0.596440150863495\n",
      "mean acc: 0.5661661655719231\n"
     ]
    }
   ],
   "source": [
    "# Cross validation\n",
    "scores_tree = cross_val_score(best_tree, x_train, y_train, cv=5)\n",
    "for i, j in enumerate(scores_tree):\n",
    "    print(f'cross_val_score --> fold {i+1}: {j}')\n",
    "print(f'mean acc: {scores_tree.mean()}')"
   ]
  },
  {
   "cell_type": "markdown",
   "id": "48e0c317-136b-4bcd-90a2-cc91e2f6fdce",
   "metadata": {},
   "source": [
    "### Naive Bayes"
   ]
  },
  {
   "cell_type": "code",
   "execution_count": 12,
   "id": "d1e84d22-57c8-431a-aef1-3a7f4882c31c",
   "metadata": {},
   "outputs": [],
   "source": [
    "modelGNB = GaussianNB()\n",
    "modelBNB = BernoulliNB(binarize=0.5)\n",
    "modelMNB = MultinomialNB()"
   ]
  },
  {
   "cell_type": "code",
   "execution_count": 13,
   "id": "675a0c45-912e-4229-b42b-bc5b0a45c6d8",
   "metadata": {},
   "outputs": [
    {
     "data": {
      "text/html": [
       "<style>#sk-container-id-1 {color: black;}#sk-container-id-1 pre{padding: 0;}#sk-container-id-1 div.sk-toggleable {background-color: white;}#sk-container-id-1 label.sk-toggleable__label {cursor: pointer;display: block;width: 100%;margin-bottom: 0;padding: 0.3em;box-sizing: border-box;text-align: center;}#sk-container-id-1 label.sk-toggleable__label-arrow:before {content: \"▸\";float: left;margin-right: 0.25em;color: #696969;}#sk-container-id-1 label.sk-toggleable__label-arrow:hover:before {color: black;}#sk-container-id-1 div.sk-estimator:hover label.sk-toggleable__label-arrow:before {color: black;}#sk-container-id-1 div.sk-toggleable__content {max-height: 0;max-width: 0;overflow: hidden;text-align: left;background-color: #f0f8ff;}#sk-container-id-1 div.sk-toggleable__content pre {margin: 0.2em;color: black;border-radius: 0.25em;background-color: #f0f8ff;}#sk-container-id-1 input.sk-toggleable__control:checked~div.sk-toggleable__content {max-height: 200px;max-width: 100%;overflow: auto;}#sk-container-id-1 input.sk-toggleable__control:checked~label.sk-toggleable__label-arrow:before {content: \"▾\";}#sk-container-id-1 div.sk-estimator input.sk-toggleable__control:checked~label.sk-toggleable__label {background-color: #d4ebff;}#sk-container-id-1 div.sk-label input.sk-toggleable__control:checked~label.sk-toggleable__label {background-color: #d4ebff;}#sk-container-id-1 input.sk-hidden--visually {border: 0;clip: rect(1px 1px 1px 1px);clip: rect(1px, 1px, 1px, 1px);height: 1px;margin: -1px;overflow: hidden;padding: 0;position: absolute;width: 1px;}#sk-container-id-1 div.sk-estimator {font-family: monospace;background-color: #f0f8ff;border: 1px dotted black;border-radius: 0.25em;box-sizing: border-box;margin-bottom: 0.5em;}#sk-container-id-1 div.sk-estimator:hover {background-color: #d4ebff;}#sk-container-id-1 div.sk-parallel-item::after {content: \"\";width: 100%;border-bottom: 1px solid gray;flex-grow: 1;}#sk-container-id-1 div.sk-label:hover label.sk-toggleable__label {background-color: #d4ebff;}#sk-container-id-1 div.sk-serial::before {content: \"\";position: absolute;border-left: 1px solid gray;box-sizing: border-box;top: 0;bottom: 0;left: 50%;z-index: 0;}#sk-container-id-1 div.sk-serial {display: flex;flex-direction: column;align-items: center;background-color: white;padding-right: 0.2em;padding-left: 0.2em;position: relative;}#sk-container-id-1 div.sk-item {position: relative;z-index: 1;}#sk-container-id-1 div.sk-parallel {display: flex;align-items: stretch;justify-content: center;background-color: white;position: relative;}#sk-container-id-1 div.sk-item::before, #sk-container-id-1 div.sk-parallel-item::before {content: \"\";position: absolute;border-left: 1px solid gray;box-sizing: border-box;top: 0;bottom: 0;left: 50%;z-index: -1;}#sk-container-id-1 div.sk-parallel-item {display: flex;flex-direction: column;z-index: 1;position: relative;background-color: white;}#sk-container-id-1 div.sk-parallel-item:first-child::after {align-self: flex-end;width: 50%;}#sk-container-id-1 div.sk-parallel-item:last-child::after {align-self: flex-start;width: 50%;}#sk-container-id-1 div.sk-parallel-item:only-child::after {width: 0;}#sk-container-id-1 div.sk-dashed-wrapped {border: 1px dashed gray;margin: 0 0.4em 0.5em 0.4em;box-sizing: border-box;padding-bottom: 0.4em;background-color: white;}#sk-container-id-1 div.sk-label label {font-family: monospace;font-weight: bold;display: inline-block;line-height: 1.2em;}#sk-container-id-1 div.sk-label-container {text-align: center;}#sk-container-id-1 div.sk-container {/* jupyter's `normalize.less` sets `[hidden] { display: none; }` but bootstrap.min.css set `[hidden] { display: none !important; }` so we also need the `!important` here to be able to override the default hidden behavior on the sphinx rendered scikit-learn.org. See: https://github.com/scikit-learn/scikit-learn/issues/21755 */display: inline-block !important;position: relative;}#sk-container-id-1 div.sk-text-repr-fallback {display: none;}</style><div id=\"sk-container-id-1\" class=\"sk-top-container\"><div class=\"sk-text-repr-fallback\"><pre>MultinomialNB()</pre><b>In a Jupyter environment, please rerun this cell to show the HTML representation or trust the notebook. <br />On GitHub, the HTML representation is unable to render, please try loading this page with nbviewer.org.</b></div><div class=\"sk-container\" hidden><div class=\"sk-item\"><div class=\"sk-estimator sk-toggleable\"><input class=\"sk-toggleable__control sk-hidden--visually\" id=\"sk-estimator-id-1\" type=\"checkbox\" checked><label for=\"sk-estimator-id-1\" class=\"sk-toggleable__label sk-toggleable__label-arrow\">MultinomialNB</label><div class=\"sk-toggleable__content\"><pre>MultinomialNB()</pre></div></div></div></div></div>"
      ],
      "text/plain": [
       "MultinomialNB()"
      ]
     },
     "execution_count": 13,
     "metadata": {},
     "output_type": "execute_result"
    }
   ],
   "source": [
    "modelGNB.fit(x_train, y_train)\n",
    "modelBNB.fit(x_train, y_train)\n",
    "modelMNB.fit(x_train, y_train)"
   ]
  },
  {
   "cell_type": "code",
   "execution_count": 14,
   "id": "846c7b50-8d6e-4e7e-b2d4-e80d9126d405",
   "metadata": {},
   "outputs": [],
   "source": [
    "y_modelGNB = modelGNB.predict(x_test)\n",
    "y_modelBNB = modelBNB.predict(x_test)\n",
    "y_modelMNB = modelMNB.predict(x_test)"
   ]
  },
  {
   "cell_type": "code",
   "execution_count": 15,
   "id": "d176ecb3-6c1a-439a-a844-b06e7238b381",
   "metadata": {},
   "outputs": [
    {
     "name": "stdout",
     "output_type": "stream",
     "text": [
      "modelGNB: 0.7753665378711693\n",
      "modelBNB: 0.4273011168157519\n",
      "modelMNB: 0.36420896628380883\n"
     ]
    }
   ],
   "source": [
    "print('modelGNB:', metrics.accuracy_score(y_test, y_modelGNB))\n",
    "print('modelBNB:', metrics.accuracy_score(y_test, y_modelBNB))\n",
    "print('modelMNB:', metrics.accuracy_score(y_test, y_modelMNB))"
   ]
  },
  {
   "cell_type": "markdown",
   "id": "bae35229-9a92-41d5-9665-f41fad72ad52",
   "metadata": {},
   "source": [
    "### DecisionTreeClassifier"
   ]
  },
  {
   "cell_type": "code",
   "execution_count": 16,
   "id": "c6fb4f73-1036-4487-abe3-9099c2670a72",
   "metadata": {},
   "outputs": [],
   "source": [
    "param_grid = {\n",
    "    'max_depth': [None, 5, 10],\n",
    "    'min_samples_split': [2, 5, 10],\n",
    "    'min_samples_leaf': [1, 2, 4]\n",
    "}"
   ]
  },
  {
   "cell_type": "code",
   "execution_count": 17,
   "id": "0e50fdab-9670-430f-98ca-6ac3e565b349",
   "metadata": {},
   "outputs": [],
   "source": [
    "dt = DecisionTreeClassifier(random_state=1234)"
   ]
  },
  {
   "cell_type": "code",
   "execution_count": 18,
   "id": "cc6727d5-ed0d-4a5b-ae16-746c32237ca2",
   "metadata": {},
   "outputs": [],
   "source": [
    "grid_search_tree = GridSearchCV(\n",
    "    estimator=dt, \n",
    "    param_grid=param_grid, \n",
    "    cv=5, \n",
    "    scoring='accuracy')"
   ]
  },
  {
   "cell_type": "code",
   "execution_count": 19,
   "id": "755c9fbb-cf90-457a-9483-fd2340b5083c",
   "metadata": {},
   "outputs": [
    {
     "data": {
      "text/html": [
       "<style>#sk-container-id-2 {color: black;}#sk-container-id-2 pre{padding: 0;}#sk-container-id-2 div.sk-toggleable {background-color: white;}#sk-container-id-2 label.sk-toggleable__label {cursor: pointer;display: block;width: 100%;margin-bottom: 0;padding: 0.3em;box-sizing: border-box;text-align: center;}#sk-container-id-2 label.sk-toggleable__label-arrow:before {content: \"▸\";float: left;margin-right: 0.25em;color: #696969;}#sk-container-id-2 label.sk-toggleable__label-arrow:hover:before {color: black;}#sk-container-id-2 div.sk-estimator:hover label.sk-toggleable__label-arrow:before {color: black;}#sk-container-id-2 div.sk-toggleable__content {max-height: 0;max-width: 0;overflow: hidden;text-align: left;background-color: #f0f8ff;}#sk-container-id-2 div.sk-toggleable__content pre {margin: 0.2em;color: black;border-radius: 0.25em;background-color: #f0f8ff;}#sk-container-id-2 input.sk-toggleable__control:checked~div.sk-toggleable__content {max-height: 200px;max-width: 100%;overflow: auto;}#sk-container-id-2 input.sk-toggleable__control:checked~label.sk-toggleable__label-arrow:before {content: \"▾\";}#sk-container-id-2 div.sk-estimator input.sk-toggleable__control:checked~label.sk-toggleable__label {background-color: #d4ebff;}#sk-container-id-2 div.sk-label input.sk-toggleable__control:checked~label.sk-toggleable__label {background-color: #d4ebff;}#sk-container-id-2 input.sk-hidden--visually {border: 0;clip: rect(1px 1px 1px 1px);clip: rect(1px, 1px, 1px, 1px);height: 1px;margin: -1px;overflow: hidden;padding: 0;position: absolute;width: 1px;}#sk-container-id-2 div.sk-estimator {font-family: monospace;background-color: #f0f8ff;border: 1px dotted black;border-radius: 0.25em;box-sizing: border-box;margin-bottom: 0.5em;}#sk-container-id-2 div.sk-estimator:hover {background-color: #d4ebff;}#sk-container-id-2 div.sk-parallel-item::after {content: \"\";width: 100%;border-bottom: 1px solid gray;flex-grow: 1;}#sk-container-id-2 div.sk-label:hover label.sk-toggleable__label {background-color: #d4ebff;}#sk-container-id-2 div.sk-serial::before {content: \"\";position: absolute;border-left: 1px solid gray;box-sizing: border-box;top: 0;bottom: 0;left: 50%;z-index: 0;}#sk-container-id-2 div.sk-serial {display: flex;flex-direction: column;align-items: center;background-color: white;padding-right: 0.2em;padding-left: 0.2em;position: relative;}#sk-container-id-2 div.sk-item {position: relative;z-index: 1;}#sk-container-id-2 div.sk-parallel {display: flex;align-items: stretch;justify-content: center;background-color: white;position: relative;}#sk-container-id-2 div.sk-item::before, #sk-container-id-2 div.sk-parallel-item::before {content: \"\";position: absolute;border-left: 1px solid gray;box-sizing: border-box;top: 0;bottom: 0;left: 50%;z-index: -1;}#sk-container-id-2 div.sk-parallel-item {display: flex;flex-direction: column;z-index: 1;position: relative;background-color: white;}#sk-container-id-2 div.sk-parallel-item:first-child::after {align-self: flex-end;width: 50%;}#sk-container-id-2 div.sk-parallel-item:last-child::after {align-self: flex-start;width: 50%;}#sk-container-id-2 div.sk-parallel-item:only-child::after {width: 0;}#sk-container-id-2 div.sk-dashed-wrapped {border: 1px dashed gray;margin: 0 0.4em 0.5em 0.4em;box-sizing: border-box;padding-bottom: 0.4em;background-color: white;}#sk-container-id-2 div.sk-label label {font-family: monospace;font-weight: bold;display: inline-block;line-height: 1.2em;}#sk-container-id-2 div.sk-label-container {text-align: center;}#sk-container-id-2 div.sk-container {/* jupyter's `normalize.less` sets `[hidden] { display: none; }` but bootstrap.min.css set `[hidden] { display: none !important; }` so we also need the `!important` here to be able to override the default hidden behavior on the sphinx rendered scikit-learn.org. See: https://github.com/scikit-learn/scikit-learn/issues/21755 */display: inline-block !important;position: relative;}#sk-container-id-2 div.sk-text-repr-fallback {display: none;}</style><div id=\"sk-container-id-2\" class=\"sk-top-container\"><div class=\"sk-text-repr-fallback\"><pre>GridSearchCV(cv=5, estimator=DecisionTreeClassifier(random_state=1234),\n",
       "             param_grid={&#x27;max_depth&#x27;: [None, 5, 10],\n",
       "                         &#x27;min_samples_leaf&#x27;: [1, 2, 4],\n",
       "                         &#x27;min_samples_split&#x27;: [2, 5, 10]},\n",
       "             scoring=&#x27;accuracy&#x27;)</pre><b>In a Jupyter environment, please rerun this cell to show the HTML representation or trust the notebook. <br />On GitHub, the HTML representation is unable to render, please try loading this page with nbviewer.org.</b></div><div class=\"sk-container\" hidden><div class=\"sk-item sk-dashed-wrapped\"><div class=\"sk-label-container\"><div class=\"sk-label sk-toggleable\"><input class=\"sk-toggleable__control sk-hidden--visually\" id=\"sk-estimator-id-2\" type=\"checkbox\" ><label for=\"sk-estimator-id-2\" class=\"sk-toggleable__label sk-toggleable__label-arrow\">GridSearchCV</label><div class=\"sk-toggleable__content\"><pre>GridSearchCV(cv=5, estimator=DecisionTreeClassifier(random_state=1234),\n",
       "             param_grid={&#x27;max_depth&#x27;: [None, 5, 10],\n",
       "                         &#x27;min_samples_leaf&#x27;: [1, 2, 4],\n",
       "                         &#x27;min_samples_split&#x27;: [2, 5, 10]},\n",
       "             scoring=&#x27;accuracy&#x27;)</pre></div></div></div><div class=\"sk-parallel\"><div class=\"sk-parallel-item\"><div class=\"sk-item\"><div class=\"sk-label-container\"><div class=\"sk-label sk-toggleable\"><input class=\"sk-toggleable__control sk-hidden--visually\" id=\"sk-estimator-id-3\" type=\"checkbox\" ><label for=\"sk-estimator-id-3\" class=\"sk-toggleable__label sk-toggleable__label-arrow\">estimator: DecisionTreeClassifier</label><div class=\"sk-toggleable__content\"><pre>DecisionTreeClassifier(random_state=1234)</pre></div></div></div><div class=\"sk-serial\"><div class=\"sk-item\"><div class=\"sk-estimator sk-toggleable\"><input class=\"sk-toggleable__control sk-hidden--visually\" id=\"sk-estimator-id-4\" type=\"checkbox\" ><label for=\"sk-estimator-id-4\" class=\"sk-toggleable__label sk-toggleable__label-arrow\">DecisionTreeClassifier</label><div class=\"sk-toggleable__content\"><pre>DecisionTreeClassifier(random_state=1234)</pre></div></div></div></div></div></div></div></div></div></div>"
      ],
      "text/plain": [
       "GridSearchCV(cv=5, estimator=DecisionTreeClassifier(random_state=1234),\n",
       "             param_grid={'max_depth': [None, 5, 10],\n",
       "                         'min_samples_leaf': [1, 2, 4],\n",
       "                         'min_samples_split': [2, 5, 10]},\n",
       "             scoring='accuracy')"
      ]
     },
     "execution_count": 19,
     "metadata": {},
     "output_type": "execute_result"
    }
   ],
   "source": [
    "grid_search_tree.fit(x_train, y_train)"
   ]
  },
  {
   "cell_type": "code",
   "execution_count": 20,
   "id": "29652a5d-3aec-42f8-b9b1-b494bb08b6b6",
   "metadata": {},
   "outputs": [],
   "source": [
    "params_dt = grid_search_tree.best_params_\n",
    "dt_model = grid_search_tree.best_estimator_"
   ]
  },
  {
   "cell_type": "code",
   "execution_count": 21,
   "id": "317852f7-46d4-49f4-9198-67771451e43d",
   "metadata": {},
   "outputs": [],
   "source": [
    "\n",
    "y_pred_dt = dt_model.predict(x_test)"
   ]
  },
  {
   "cell_type": "code",
   "execution_count": 22,
   "id": "962e9ab3-1a48-4ec5-b3a5-97c245eb6b0c",
   "metadata": {},
   "outputs": [
    {
     "name": "stdout",
     "output_type": "stream",
     "text": [
      "Exactitud del modelo: 100.00%\n"
     ]
    }
   ],
   "source": [
    "accuracy = metrics.accuracy_score(y_test, y_pred_dt)\n",
    "print(\"Exactitud del modelo: {:.2f}%\".format(accuracy * 100))"
   ]
  },
  {
   "cell_type": "markdown",
   "id": "532da060-017d-4e40-b57c-25139eb16553",
   "metadata": {},
   "source": [
    "* cross validation"
   ]
  },
  {
   "cell_type": "code",
   "execution_count": 23,
   "id": "804783af-1431-4c13-85ba-80f0693a89fd",
   "metadata": {},
   "outputs": [],
   "source": [
    "scores_tree = cross_val_score(dt_model, x_train, y_train, cv=5)"
   ]
  },
  {
   "cell_type": "code",
   "execution_count": 24,
   "id": "048c8814-2036-4d50-90a8-4735b2cc96e5",
   "metadata": {},
   "outputs": [
    {
     "name": "stdout",
     "output_type": "stream",
     "text": [
      "fold 1: 1.0\n",
      "fold 2: 1.0\n",
      "fold 3: 1.0\n",
      "fold 4: 1.0\n",
      "fold 5: 1.0\n"
     ]
    }
   ],
   "source": [
    "for i, j in enumerate(scores_tree):\n",
    "    print(f'fold {i+1}: {j}')"
   ]
  },
  {
   "cell_type": "code",
   "execution_count": 25,
   "id": "07a7e3b4-4aeb-45fb-9ce9-086649e186ee",
   "metadata": {},
   "outputs": [
    {
     "name": "stdout",
     "output_type": "stream",
     "text": [
      "mean acc: 1.0\n"
     ]
    }
   ],
   "source": [
    "print(f'mean acc: {scores_tree.mean()}')"
   ]
  },
  {
   "cell_type": "markdown",
   "id": "ee461239-bb00-49f2-86fe-356b6e3378a7",
   "metadata": {},
   "source": [
    "### Random Forest"
   ]
  },
  {
   "cell_type": "code",
   "execution_count": 26,
   "id": "2b50c4ce-80f8-48a6-9aa0-20ee11243733",
   "metadata": {},
   "outputs": [],
   "source": [
    "param_grid = {\n",
    "    'n_estimators': [50, 100, 200],\n",
    "    'max_depth': [None, 5, 10]}"
   ]
  },
  {
   "cell_type": "code",
   "execution_count": 27,
   "id": "9a220054-1b05-42e3-bc91-a60cd3786ed9",
   "metadata": {},
   "outputs": [],
   "source": [
    "rf = RandomForestClassifier(random_state=1234)"
   ]
  },
  {
   "cell_type": "code",
   "execution_count": 28,
   "id": "53d631c5-890b-44a2-973c-31f519c5be80",
   "metadata": {},
   "outputs": [],
   "source": [
    "grid_search = GridSearchCV(\n",
    "    estimator=rf, \n",
    "    param_grid=param_grid, \n",
    "    cv=5, \n",
    "    scoring='accuracy')"
   ]
  },
  {
   "cell_type": "code",
   "execution_count": 29,
   "id": "8070b6f9-5fd2-4f9d-a8bb-debcc737f5db",
   "metadata": {},
   "outputs": [
    {
     "data": {
      "text/html": [
       "<style>#sk-container-id-3 {color: black;}#sk-container-id-3 pre{padding: 0;}#sk-container-id-3 div.sk-toggleable {background-color: white;}#sk-container-id-3 label.sk-toggleable__label {cursor: pointer;display: block;width: 100%;margin-bottom: 0;padding: 0.3em;box-sizing: border-box;text-align: center;}#sk-container-id-3 label.sk-toggleable__label-arrow:before {content: \"▸\";float: left;margin-right: 0.25em;color: #696969;}#sk-container-id-3 label.sk-toggleable__label-arrow:hover:before {color: black;}#sk-container-id-3 div.sk-estimator:hover label.sk-toggleable__label-arrow:before {color: black;}#sk-container-id-3 div.sk-toggleable__content {max-height: 0;max-width: 0;overflow: hidden;text-align: left;background-color: #f0f8ff;}#sk-container-id-3 div.sk-toggleable__content pre {margin: 0.2em;color: black;border-radius: 0.25em;background-color: #f0f8ff;}#sk-container-id-3 input.sk-toggleable__control:checked~div.sk-toggleable__content {max-height: 200px;max-width: 100%;overflow: auto;}#sk-container-id-3 input.sk-toggleable__control:checked~label.sk-toggleable__label-arrow:before {content: \"▾\";}#sk-container-id-3 div.sk-estimator input.sk-toggleable__control:checked~label.sk-toggleable__label {background-color: #d4ebff;}#sk-container-id-3 div.sk-label input.sk-toggleable__control:checked~label.sk-toggleable__label {background-color: #d4ebff;}#sk-container-id-3 input.sk-hidden--visually {border: 0;clip: rect(1px 1px 1px 1px);clip: rect(1px, 1px, 1px, 1px);height: 1px;margin: -1px;overflow: hidden;padding: 0;position: absolute;width: 1px;}#sk-container-id-3 div.sk-estimator {font-family: monospace;background-color: #f0f8ff;border: 1px dotted black;border-radius: 0.25em;box-sizing: border-box;margin-bottom: 0.5em;}#sk-container-id-3 div.sk-estimator:hover {background-color: #d4ebff;}#sk-container-id-3 div.sk-parallel-item::after {content: \"\";width: 100%;border-bottom: 1px solid gray;flex-grow: 1;}#sk-container-id-3 div.sk-label:hover label.sk-toggleable__label {background-color: #d4ebff;}#sk-container-id-3 div.sk-serial::before {content: \"\";position: absolute;border-left: 1px solid gray;box-sizing: border-box;top: 0;bottom: 0;left: 50%;z-index: 0;}#sk-container-id-3 div.sk-serial {display: flex;flex-direction: column;align-items: center;background-color: white;padding-right: 0.2em;padding-left: 0.2em;position: relative;}#sk-container-id-3 div.sk-item {position: relative;z-index: 1;}#sk-container-id-3 div.sk-parallel {display: flex;align-items: stretch;justify-content: center;background-color: white;position: relative;}#sk-container-id-3 div.sk-item::before, #sk-container-id-3 div.sk-parallel-item::before {content: \"\";position: absolute;border-left: 1px solid gray;box-sizing: border-box;top: 0;bottom: 0;left: 50%;z-index: -1;}#sk-container-id-3 div.sk-parallel-item {display: flex;flex-direction: column;z-index: 1;position: relative;background-color: white;}#sk-container-id-3 div.sk-parallel-item:first-child::after {align-self: flex-end;width: 50%;}#sk-container-id-3 div.sk-parallel-item:last-child::after {align-self: flex-start;width: 50%;}#sk-container-id-3 div.sk-parallel-item:only-child::after {width: 0;}#sk-container-id-3 div.sk-dashed-wrapped {border: 1px dashed gray;margin: 0 0.4em 0.5em 0.4em;box-sizing: border-box;padding-bottom: 0.4em;background-color: white;}#sk-container-id-3 div.sk-label label {font-family: monospace;font-weight: bold;display: inline-block;line-height: 1.2em;}#sk-container-id-3 div.sk-label-container {text-align: center;}#sk-container-id-3 div.sk-container {/* jupyter's `normalize.less` sets `[hidden] { display: none; }` but bootstrap.min.css set `[hidden] { display: none !important; }` so we also need the `!important` here to be able to override the default hidden behavior on the sphinx rendered scikit-learn.org. See: https://github.com/scikit-learn/scikit-learn/issues/21755 */display: inline-block !important;position: relative;}#sk-container-id-3 div.sk-text-repr-fallback {display: none;}</style><div id=\"sk-container-id-3\" class=\"sk-top-container\"><div class=\"sk-text-repr-fallback\"><pre>GridSearchCV(cv=5, estimator=RandomForestClassifier(random_state=1234),\n",
       "             param_grid={&#x27;max_depth&#x27;: [None, 5, 10],\n",
       "                         &#x27;n_estimators&#x27;: [50, 100, 200]},\n",
       "             scoring=&#x27;accuracy&#x27;)</pre><b>In a Jupyter environment, please rerun this cell to show the HTML representation or trust the notebook. <br />On GitHub, the HTML representation is unable to render, please try loading this page with nbviewer.org.</b></div><div class=\"sk-container\" hidden><div class=\"sk-item sk-dashed-wrapped\"><div class=\"sk-label-container\"><div class=\"sk-label sk-toggleable\"><input class=\"sk-toggleable__control sk-hidden--visually\" id=\"sk-estimator-id-5\" type=\"checkbox\" ><label for=\"sk-estimator-id-5\" class=\"sk-toggleable__label sk-toggleable__label-arrow\">GridSearchCV</label><div class=\"sk-toggleable__content\"><pre>GridSearchCV(cv=5, estimator=RandomForestClassifier(random_state=1234),\n",
       "             param_grid={&#x27;max_depth&#x27;: [None, 5, 10],\n",
       "                         &#x27;n_estimators&#x27;: [50, 100, 200]},\n",
       "             scoring=&#x27;accuracy&#x27;)</pre></div></div></div><div class=\"sk-parallel\"><div class=\"sk-parallel-item\"><div class=\"sk-item\"><div class=\"sk-label-container\"><div class=\"sk-label sk-toggleable\"><input class=\"sk-toggleable__control sk-hidden--visually\" id=\"sk-estimator-id-6\" type=\"checkbox\" ><label for=\"sk-estimator-id-6\" class=\"sk-toggleable__label sk-toggleable__label-arrow\">estimator: RandomForestClassifier</label><div class=\"sk-toggleable__content\"><pre>RandomForestClassifier(random_state=1234)</pre></div></div></div><div class=\"sk-serial\"><div class=\"sk-item\"><div class=\"sk-estimator sk-toggleable\"><input class=\"sk-toggleable__control sk-hidden--visually\" id=\"sk-estimator-id-7\" type=\"checkbox\" ><label for=\"sk-estimator-id-7\" class=\"sk-toggleable__label sk-toggleable__label-arrow\">RandomForestClassifier</label><div class=\"sk-toggleable__content\"><pre>RandomForestClassifier(random_state=1234)</pre></div></div></div></div></div></div></div></div></div></div>"
      ],
      "text/plain": [
       "GridSearchCV(cv=5, estimator=RandomForestClassifier(random_state=1234),\n",
       "             param_grid={'max_depth': [None, 5, 10],\n",
       "                         'n_estimators': [50, 100, 200]},\n",
       "             scoring='accuracy')"
      ]
     },
     "execution_count": 29,
     "metadata": {},
     "output_type": "execute_result"
    }
   ],
   "source": [
    "grid_search.fit(x_train, y_train)"
   ]
  },
  {
   "cell_type": "code",
   "execution_count": 30,
   "id": "0c0f65e2-3a5f-4153-97c9-36cfbff7f37d",
   "metadata": {},
   "outputs": [],
   "source": [
    "params = grid_search.best_params_\n",
    "rf_model = grid_search.best_estimator_"
   ]
  },
  {
   "cell_type": "code",
   "execution_count": 31,
   "id": "c54f8f6f-dd3e-46b7-985b-82586f9a5f7e",
   "metadata": {},
   "outputs": [
    {
     "data": {
      "text/html": [
       "<div>\n",
       "<style scoped>\n",
       "    .dataframe tbody tr th:only-of-type {\n",
       "        vertical-align: middle;\n",
       "    }\n",
       "\n",
       "    .dataframe tbody tr th {\n",
       "        vertical-align: top;\n",
       "    }\n",
       "\n",
       "    .dataframe thead th {\n",
       "        text-align: right;\n",
       "    }\n",
       "</style>\n",
       "<table border=\"1\" class=\"dataframe\">\n",
       "  <thead>\n",
       "    <tr style=\"text-align: right;\">\n",
       "      <th></th>\n",
       "      <th>predictor</th>\n",
       "      <th>importancia</th>\n",
       "    </tr>\n",
       "  </thead>\n",
       "  <tbody>\n",
       "    <tr>\n",
       "      <th>1</th>\n",
       "      <td>price</td>\n",
       "      <td>0.941310</td>\n",
       "    </tr>\n",
       "    <tr>\n",
       "      <th>0</th>\n",
       "      <td>age</td>\n",
       "      <td>0.047898</td>\n",
       "    </tr>\n",
       "    <tr>\n",
       "      <th>2</th>\n",
       "      <td>gender_Male</td>\n",
       "      <td>0.002481</td>\n",
       "    </tr>\n",
       "    <tr>\n",
       "      <th>3</th>\n",
       "      <td>payment_method_Credit Card</td>\n",
       "      <td>0.001787</td>\n",
       "    </tr>\n",
       "    <tr>\n",
       "      <th>4</th>\n",
       "      <td>payment_method_Debit Card</td>\n",
       "      <td>0.001427</td>\n",
       "    </tr>\n",
       "    <tr>\n",
       "      <th>8</th>\n",
       "      <td>shopping_mall_Kanyon</td>\n",
       "      <td>0.000650</td>\n",
       "    </tr>\n",
       "    <tr>\n",
       "      <th>9</th>\n",
       "      <td>shopping_mall_Mall of Istanbul</td>\n",
       "      <td>0.000633</td>\n",
       "    </tr>\n",
       "    <tr>\n",
       "      <th>11</th>\n",
       "      <td>shopping_mall_Metropol AVM</td>\n",
       "      <td>0.000599</td>\n",
       "    </tr>\n",
       "    <tr>\n",
       "      <th>7</th>\n",
       "      <td>shopping_mall_Istinye Park</td>\n",
       "      <td>0.000582</td>\n",
       "    </tr>\n",
       "    <tr>\n",
       "      <th>10</th>\n",
       "      <td>shopping_mall_Metrocity</td>\n",
       "      <td>0.000570</td>\n",
       "    </tr>\n",
       "    <tr>\n",
       "      <th>6</th>\n",
       "      <td>shopping_mall_Forum Istanbul</td>\n",
       "      <td>0.000548</td>\n",
       "    </tr>\n",
       "    <tr>\n",
       "      <th>12</th>\n",
       "      <td>shopping_mall_Viaport Outlet</td>\n",
       "      <td>0.000541</td>\n",
       "    </tr>\n",
       "    <tr>\n",
       "      <th>13</th>\n",
       "      <td>shopping_mall_Zorlu Center</td>\n",
       "      <td>0.000520</td>\n",
       "    </tr>\n",
       "    <tr>\n",
       "      <th>5</th>\n",
       "      <td>shopping_mall_Emaar Square Mall</td>\n",
       "      <td>0.000457</td>\n",
       "    </tr>\n",
       "  </tbody>\n",
       "</table>\n",
       "</div>"
      ],
      "text/plain": [
       "                          predictor  importancia\n",
       "1                             price     0.941310\n",
       "0                               age     0.047898\n",
       "2                       gender_Male     0.002481\n",
       "3        payment_method_Credit Card     0.001787\n",
       "4         payment_method_Debit Card     0.001427\n",
       "8              shopping_mall_Kanyon     0.000650\n",
       "9    shopping_mall_Mall of Istanbul     0.000633\n",
       "11       shopping_mall_Metropol AVM     0.000599\n",
       "7        shopping_mall_Istinye Park     0.000582\n",
       "10          shopping_mall_Metrocity     0.000570\n",
       "6      shopping_mall_Forum Istanbul     0.000548\n",
       "12     shopping_mall_Viaport Outlet     0.000541\n",
       "13       shopping_mall_Zorlu Center     0.000520\n",
       "5   shopping_mall_Emaar Square Mall     0.000457"
      ]
     },
     "execution_count": 31,
     "metadata": {},
     "output_type": "execute_result"
    }
   ],
   "source": [
    "importancia = pd.DataFrame({\n",
    "    'predictor': x.columns,\n",
    "    'importancia': rf_model.feature_importances_\n",
    "})\n",
    "importancia.sort_values('importancia', ascending=False)"
   ]
  },
  {
   "cell_type": "code",
   "execution_count": 32,
   "id": "4a2f737a-5f32-4949-b086-949353d8a4a1",
   "metadata": {},
   "outputs": [
    {
     "data": {
      "text/html": [
       "<div>\n",
       "<style scoped>\n",
       "    .dataframe tbody tr th:only-of-type {\n",
       "        vertical-align: middle;\n",
       "    }\n",
       "\n",
       "    .dataframe tbody tr th {\n",
       "        vertical-align: top;\n",
       "    }\n",
       "\n",
       "    .dataframe thead th {\n",
       "        text-align: right;\n",
       "    }\n",
       "</style>\n",
       "<table border=\"1\" class=\"dataframe\">\n",
       "  <thead>\n",
       "    <tr style=\"text-align: right;\">\n",
       "      <th></th>\n",
       "      <th>param_max_depth</th>\n",
       "      <th>param_n_estimators</th>\n",
       "      <th>mean_test_score</th>\n",
       "      <th>std_test_score</th>\n",
       "    </tr>\n",
       "  </thead>\n",
       "  <tbody>\n",
       "    <tr>\n",
       "      <th>1</th>\n",
       "      <td>None</td>\n",
       "      <td>100</td>\n",
       "      <td>0.978840</td>\n",
       "      <td>0.001654</td>\n",
       "    </tr>\n",
       "    <tr>\n",
       "      <th>2</th>\n",
       "      <td>None</td>\n",
       "      <td>200</td>\n",
       "      <td>0.978284</td>\n",
       "      <td>0.001343</td>\n",
       "    </tr>\n",
       "    <tr>\n",
       "      <th>0</th>\n",
       "      <td>None</td>\n",
       "      <td>50</td>\n",
       "      <td>0.977239</td>\n",
       "      <td>0.001576</td>\n",
       "    </tr>\n",
       "    <tr>\n",
       "      <th>6</th>\n",
       "      <td>10</td>\n",
       "      <td>50</td>\n",
       "      <td>0.827004</td>\n",
       "      <td>0.007427</td>\n",
       "    </tr>\n",
       "    <tr>\n",
       "      <th>7</th>\n",
       "      <td>10</td>\n",
       "      <td>100</td>\n",
       "      <td>0.822293</td>\n",
       "      <td>0.004125</td>\n",
       "    </tr>\n",
       "    <tr>\n",
       "      <th>8</th>\n",
       "      <td>10</td>\n",
       "      <td>200</td>\n",
       "      <td>0.822200</td>\n",
       "      <td>0.002527</td>\n",
       "    </tr>\n",
       "    <tr>\n",
       "      <th>5</th>\n",
       "      <td>5</td>\n",
       "      <td>200</td>\n",
       "      <td>0.725095</td>\n",
       "      <td>0.014337</td>\n",
       "    </tr>\n",
       "    <tr>\n",
       "      <th>3</th>\n",
       "      <td>5</td>\n",
       "      <td>50</td>\n",
       "      <td>0.724090</td>\n",
       "      <td>0.013560</td>\n",
       "    </tr>\n",
       "    <tr>\n",
       "      <th>4</th>\n",
       "      <td>5</td>\n",
       "      <td>100</td>\n",
       "      <td>0.723190</td>\n",
       "      <td>0.010869</td>\n",
       "    </tr>\n",
       "  </tbody>\n",
       "</table>\n",
       "</div>"
      ],
      "text/plain": [
       "  param_max_depth param_n_estimators  mean_test_score  std_test_score\n",
       "1            None                100         0.978840        0.001654\n",
       "2            None                200         0.978284        0.001343\n",
       "0            None                 50         0.977239        0.001576\n",
       "6              10                 50         0.827004        0.007427\n",
       "7              10                100         0.822293        0.004125\n",
       "8              10                200         0.822200        0.002527\n",
       "5               5                200         0.725095        0.014337\n",
       "3               5                 50         0.724090        0.013560\n",
       "4               5                100         0.723190        0.010869"
      ]
     },
     "execution_count": 32,
     "metadata": {},
     "output_type": "execute_result"
    }
   ],
   "source": [
    "resultados = pd.DataFrame(grid_search.cv_results_)\n",
    "resultados = resultados.filter(regex = '(param*|mean_t|std_t)')\n",
    "resultados = resultados.drop(columns = 'params')\n",
    "resultados = resultados.sort_values('mean_test_score', ascending=False)\n",
    "resultados"
   ]
  },
  {
   "cell_type": "code",
   "execution_count": 33,
   "id": "0a7c948a-c2ce-430f-a6f9-92551789b902",
   "metadata": {},
   "outputs": [
    {
     "name": "stdout",
     "output_type": "stream",
     "text": [
      "Los mejores parametros para el RandomForest son: {'max_depth': None, 'n_estimators': 100}\n"
     ]
    }
   ],
   "source": [
    "print(f'Los mejores parametros para el RandomForest son: {params}')"
   ]
  },
  {
   "cell_type": "code",
   "execution_count": 34,
   "id": "022b0f28-262b-4229-ace8-6b9b0bf9362a",
   "metadata": {},
   "outputs": [],
   "source": [
    "y_pred_rf = rf_model.predict(x_test)"
   ]
  },
  {
   "cell_type": "code",
   "execution_count": 35,
   "id": "4c6fd95b-61e7-47e7-b075-0fed0a50a199",
   "metadata": {},
   "outputs": [
    {
     "name": "stdout",
     "output_type": "stream",
     "text": [
      "Exactitud del modelo: 98.18%\n"
     ]
    }
   ],
   "source": [
    "accuracy = metrics.accuracy_score(y_test, y_pred_rf)\n",
    "print(\"Exactitud del modelo: {:.2f}%\".format(accuracy * 100))"
   ]
  },
  {
   "cell_type": "markdown",
   "id": "8b3b2fd2-b866-40a4-9aad-e014c259167a",
   "metadata": {},
   "source": [
    "* Cross validation"
   ]
  },
  {
   "cell_type": "code",
   "execution_count": 36,
   "id": "541ec5f4-83b8-4a02-9bcc-b0f84722c47c",
   "metadata": {},
   "outputs": [],
   "source": [
    "scores = cross_val_score(rf_model, x_train, y_train, cv=5)\n"
   ]
  },
  {
   "cell_type": "code",
   "execution_count": 37,
   "id": "8f76c5fd-8406-4f59-9753-30997268e919",
   "metadata": {},
   "outputs": [
    {
     "name": "stdout",
     "output_type": "stream",
     "text": [
      "fold 1: 0.9814741299457457\n",
      "fold 2: 0.9783644303294958\n",
      "fold 3: 0.9778351197565172\n",
      "fold 4: 0.9798186991331966\n",
      "fold 5: 0.976708793753722\n"
     ]
    }
   ],
   "source": [
    "for i, j in enumerate(scores):\n",
    "    print(f'fold {i+1}: {j}')"
   ]
  },
  {
   "cell_type": "code",
   "execution_count": 38,
   "id": "f93f56b3-d150-4b26-9808-1bf9b09d0988",
   "metadata": {},
   "outputs": [
    {
     "name": "stdout",
     "output_type": "stream",
     "text": [
      "mean acc: 0.9788402345837355\n"
     ]
    }
   ],
   "source": [
    "print(f'mean acc: {scores.mean()}')"
   ]
  },
  {
   "cell_type": "markdown",
   "id": "a4baaaf3-561a-4460-8ee9-8d7184de0567",
   "metadata": {},
   "source": [
    "### AdaBoost"
   ]
  },
  {
   "cell_type": "markdown",
   "id": "e781aac4-4365-42d6-b266-148c1e2032cb",
   "metadata": {},
   "source": [
    "### Gradient Boosting"
   ]
  },
  {
   "cell_type": "markdown",
   "id": "28c9bb40-bd08-4b78-ba56-0aa17b1596d9",
   "metadata": {},
   "source": [
    "### Redes neuronales"
   ]
  },
  {
   "cell_type": "markdown",
   "id": "4141a2f5-390e-438d-a53c-96f79ec75cf9",
   "metadata": {},
   "source": [
    "## Resultados"
   ]
  },
  {
   "cell_type": "code",
   "execution_count": 39,
   "id": "2d34c39b-fc4e-4b7a-9b64-8a4c701d0fee",
   "metadata": {},
   "outputs": [
    {
     "data": {
      "text/html": [
       "<div>\n",
       "<style scoped>\n",
       "    .dataframe tbody tr th:only-of-type {\n",
       "        vertical-align: middle;\n",
       "    }\n",
       "\n",
       "    .dataframe tbody tr th {\n",
       "        vertical-align: top;\n",
       "    }\n",
       "\n",
       "    .dataframe thead th {\n",
       "        text-align: right;\n",
       "    }\n",
       "</style>\n",
       "<table border=\"1\" class=\"dataframe\">\n",
       "  <thead>\n",
       "    <tr style=\"text-align: right;\">\n",
       "      <th></th>\n",
       "      <th>Modelo</th>\n",
       "      <th>Scores</th>\n",
       "    </tr>\n",
       "  </thead>\n",
       "  <tbody>\n",
       "    <tr>\n",
       "      <th>3</th>\n",
       "      <td>DecisionTreeClassifier</td>\n",
       "      <td>1.000000</td>\n",
       "    </tr>\n",
       "    <tr>\n",
       "      <th>4</th>\n",
       "      <td>RandomForestClassifier</td>\n",
       "      <td>0.981792</td>\n",
       "    </tr>\n",
       "    <tr>\n",
       "      <th>0</th>\n",
       "      <td>GaussianNB</td>\n",
       "      <td>0.775367</td>\n",
       "    </tr>\n",
       "    <tr>\n",
       "      <th>2</th>\n",
       "      <td>BernoulliNB</td>\n",
       "      <td>0.427301</td>\n",
       "    </tr>\n",
       "    <tr>\n",
       "      <th>1</th>\n",
       "      <td>MultinomialNB</td>\n",
       "      <td>0.364209</td>\n",
       "    </tr>\n",
       "  </tbody>\n",
       "</table>\n",
       "</div>"
      ],
      "text/plain": [
       "                   Modelo    Scores\n",
       "3  DecisionTreeClassifier  1.000000\n",
       "4  RandomForestClassifier  0.981792\n",
       "0              GaussianNB  0.775367\n",
       "2             BernoulliNB  0.427301\n",
       "1           MultinomialNB  0.364209"
      ]
     },
     "execution_count": 39,
     "metadata": {},
     "output_type": "execute_result"
    }
   ],
   "source": [
    "modelos = [\n",
    "    'GaussianNB',\n",
    "    'MultinomialNB',\n",
    "    'BernoulliNB',\n",
    "    'DecisionTreeClassifier',\n",
    "    'RandomForestClassifier']\n",
    "\n",
    "sc = [\n",
    "    metrics.accuracy_score(y_test, y_modelGNB),\n",
    "    metrics.accuracy_score(y_test, y_modelMNB),\n",
    "    metrics.accuracy_score(y_test, y_modelBNB),\n",
    "    metrics.accuracy_score(y_test, y_pred_dt),\n",
    "    metrics.accuracy_score(y_test, y_pred_rf)]\n",
    "\n",
    "dic = {'Modelo': modelos, 'Scores': sc}\n",
    "\n",
    "resultados = pd.DataFrame(dic)\n",
    "resultados = resultados.sort_values(by='Scores', ascending=False)\n",
    "\n",
    "resultados"
   ]
  },
  {
   "cell_type": "code",
   "execution_count": null,
   "id": "a4ae0f07-4064-4655-a5cc-18972e2536ca",
   "metadata": {},
   "outputs": [],
   "source": []
  }
 ],
 "metadata": {
  "kernelspec": {
   "display_name": "Python 3 (ipykernel)",
   "language": "python",
   "name": "python3"
  },
  "language_info": {
   "codemirror_mode": {
    "name": "ipython",
    "version": 3
   },
   "file_extension": ".py",
   "mimetype": "text/x-python",
   "name": "python",
   "nbconvert_exporter": "python",
   "pygments_lexer": "ipython3",
   "version": "3.11.4"
  }
 },
 "nbformat": 4,
 "nbformat_minor": 5
}
