{
 "cells": [
  {
   "cell_type": "markdown",
   "id": "20909546-8773-4b04-b68a-b7143fe8865f",
   "metadata": {},
   "source": [
    "# Customer shopping"
   ]
  },
  {
   "cell_type": "code",
   "execution_count": 1,
   "id": "2f2501d7-e492-4ef5-8e8e-bd0dda31ce86",
   "metadata": {},
   "outputs": [],
   "source": [
    "import matplotlib.pyplot as plt\n",
    "import numpy as np\n",
    "import os\n",
    "import pandas as pd\n",
    "\n",
    "from sklearn.neighbors import LocalOutlierFactor\n",
    "from sklearn.preprocessing import MinMaxScaler\n",
    "from typing import List\n",
    "\n",
    "%matplotlib inline\n",
    "plt.style.use('ggplot')"
   ]
  },
  {
   "cell_type": "markdown",
   "id": "ab5a5cf0-80f3-4d07-b48f-3eee8b5e7be6",
   "metadata": {},
   "source": [
    "## Funciones utiles"
   ]
  },
  {
   "cell_type": "markdown",
   "id": "1c5a8704-046e-4a32-9af5-3a8c1da2ea2e",
   "metadata": {},
   "source": [
    "### Gráficas"
   ]
  },
  {
   "cell_type": "code",
   "execution_count": 2,
   "id": "5023be15-8864-4c95-99a8-1d05ab884cff",
   "metadata": {},
   "outputs": [],
   "source": [
    "def pie_plot(data: pd.DataFrame, col: str) -> None:\n",
    "    \"\"\"Genera un gráfico de torta basado en una columna de un DataFrame.\n",
    "\n",
    "    Args:\n",
    "        data (pd.DataFrame): El DataFrame que contiene los datos.\n",
    "        col (str): El nombre de la columna a graficar.\n",
    "\n",
    "    Returns:\n",
    "        None: Muestra el gráfico de pastel.\n",
    "\n",
    "    \"\"\"\n",
    "    plt.figure(figsize=(8, 5))\n",
    "    datos = data[col]\n",
    "    labels = data.index\n",
    "    \n",
    "    # Se agregan colores con plt.cm estableciendo un color para cada espacio en el \n",
    "    # diagrama, por eso se usa un linspace de la misma magnitud de los datos.\n",
    "    colors = plt.cm.RdYlGn(np.linspace(0.1, 0.7, len(datos)))\n",
    "    \n",
    "    # Generación del diagrama circular\n",
    "    patches, texts = plt.pie(datos, labels=labels, colors=colors)\n",
    "\n",
    "    # Para que siempre se vea como un círculo\n",
    "    plt.axis('equal')\n",
    "    \n",
    "    # Se eliminan las líneas\n",
    "    plt.rcParams['patch.linewidth'] = 0\n",
    "    \n",
    "    # Estimación porcentaje\n",
    "    porcent = 100 * datos / sum(datos)\n",
    "    # Lista que será expuesta en la legenda\n",
    "    labels = ['{0} - {1:1.1f} %'.format(i,j) for i, j in zip(labels, porcent)]\n",
    "    \n",
    "    # Se genera la legenda\n",
    "    # bbox_to_anchor especifica en coordenadas la posición de la legenda\n",
    "    plt.legend(patches, labels, bbox_to_anchor=(-0.1, 1.), fontsize=8)\n",
    "    \n",
    "    plt.show()"
   ]
  },
  {
   "cell_type": "code",
   "execution_count": 3,
   "id": "57bb8f12-35ed-4cfc-90b8-f957980d8e1a",
   "metadata": {},
   "outputs": [],
   "source": [
    "def box_plot(df: pd.DataFrame, showfliers: bool = True):\n",
    "    \"\"\"Genera un diagrama de cajas utilizando el mapa de colores RdYlGn.\n",
    "\n",
    "    Args:\n",
    "        df (pd.DataFrame): El DataFrame que se utilizará para generar \n",
    "         el diagrama de cajas.\n",
    "        showfliers (bool): Indica si se muestran o no los valores \n",
    "         atípicos en el diagrama de cajas. Valor predeterminado es True.\n",
    "\n",
    "    Returns:\n",
    "        None: Muestra el gráfico de barras.\n",
    "        \n",
    "    \"\"\"\n",
    "    # Generar el diagrama de cajas utilizando df.plot(kind='box')\n",
    "    ax = df.plot(kind='box', patch_artist=True, figsize=(8, 5), showfliers=showfliers, vert=False)\n",
    "    \n",
    "    # Configurar el mapa de colores\n",
    "    cmap = plt.cm.RdYlGn\n",
    "    \n",
    "    # Personalizar el color de las cajas utilizando el mapa de colores\n",
    "    for patch, color in zip(ax.artists, cmap(np.linspace(0.1, 0.9, len(ax.artists)))):\n",
    "        patch.set_facecolor(color)\n",
    "\n",
    "    plt.show()"
   ]
  },
  {
   "cell_type": "code",
   "execution_count": 4,
   "id": "41e8c5aa-35d5-49c0-bb26-5cd3f9bcdbdd",
   "metadata": {},
   "outputs": [],
   "source": [
    "def bar_subplots(df: pd.DataFrame, \n",
    "                 columnas: List[str],\n",
    "                 savefig: bool = False) -> None:\n",
    "    \"\"\"\n",
    "    Genera diagramas de barras para contar la cantidad \n",
    "     de hurtos en cada columna especificada.\n",
    "\n",
    "    Args:\n",
    "        df: DataFrame que contiene los datos de los hurtos.\n",
    "        columnas: Lista de columnas del DataFrame a \n",
    "         mostrar en los diagramas de barras.\n",
    "        savefig: Opcional. Si se quiere guardar la imagen \n",
    "         en output.\n",
    "\n",
    "    \"\"\"\n",
    "    num_columnas = len(columnas)\n",
    "    num_filas = num_columnas // 2 + num_columnas % 2 \n",
    "\n",
    "    fig, axs = plt.subplots(num_filas, 2, figsize=(12, 4 * num_filas))\n",
    "    fig.tight_layout(pad=4.0)\n",
    "\n",
    "    for i, columna in enumerate(columnas):\n",
    "        ax = axs[i // 2, i % 2] if num_filas > 1 else axs[i]\n",
    "        valores = df[columna].value_counts()\n",
    "\n",
    "        ax.bar(valores.index, valores.values)\n",
    "        ax.set_title(f\"Transacciones {columna}\")\n",
    "        plt.xlabel(None)\n",
    "        ax.yaxis.set_visible(False)\n",
    "        \n",
    "        ax.set_xticks(range(len(valores.index))) \n",
    "        ax.set_xticklabels(valores.index, rotation=20) \n",
    "\n",
    "        for p in ax.patches:\n",
    "            ax.annotate(\n",
    "                '{:,.0f}'.format(int(p.get_height())).replace(\",\", \".\"),\n",
    "                (p.get_x() + p.get_width() / 2.0, p.get_height()),\n",
    "                ha='center',\n",
    "                va='center',\n",
    "                xytext=(0, 10),\n",
    "                textcoords='offset points',\n",
    "                fontsize=10)\n",
    "\n",
    "        for spine in ax.spines:\n",
    "            ax.spines[spine].set_visible(False)\n",
    "    \n",
    "    if savefig:\n",
    "        plt.savefig(Path('..') / 'output' / 'fig.png', bbox_inches='tight')\n",
    "    plt.show()"
   ]
  },
  {
   "cell_type": "markdown",
   "id": "94f985fc-c553-434a-af55-48dc3c521a96",
   "metadata": {},
   "source": [
    "### Limpieza"
   ]
  },
  {
   "cell_type": "code",
   "execution_count": 5,
   "id": "5fc48b02-6fea-413f-9304-f8dc645faf3b",
   "metadata": {},
   "outputs": [],
   "source": [
    "def find_missing(df: pd.DataFrame) -> pd.DataFrame:\n",
    "    \"\"\"Encuentra los valores faltantes en un DataFrame y devuelve un nuevo DataFrame\n",
    "     que muestra la cantidad de valores faltantes y el porcentaje correspondiente.\n",
    "\n",
    "    Args:\n",
    "        df (pd.DataFrame): El DataFrame que se va a analizar.\n",
    "\n",
    "    Returns:\n",
    "        pd.DataFrame: Un nuevo DataFrame que muestra las columnas, la cantidad de\n",
    "        valores faltantes y el porcentaje de valores faltantes para cada columna.\n",
    "\n",
    "    \"\"\"\n",
    "    lista = []\n",
    "    for col in df.columns:\n",
    "        num = df[df[col].isnull()].shape[0]\n",
    "        lista.append(num)\n",
    "    \n",
    "    dic = {\n",
    "        'Columnas': df.columns,\n",
    "        'Faltantes': lista}\n",
    "    df_faltantes = pd.DataFrame(dic)\n",
    "    \n",
    "    df_faltantes['Porcentaje'] = df_faltantes['Faltantes'] / df.shape[0]\n",
    "    \n",
    "    return df_faltantes"
   ]
  },
  {
   "cell_type": "markdown",
   "id": "5e0ca97a-2000-4de8-ab6e-5ebc2082e484",
   "metadata": {},
   "source": [
    "# Exploración de datos"
   ]
  },
  {
   "cell_type": "markdown",
   "id": "8f4445bd-2b6e-45d0-ae36-f66762e141f6",
   "metadata": {},
   "source": [
    "## Carga de datos"
   ]
  },
  {
   "cell_type": "code",
   "execution_count": 6,
   "id": "c543d190-25a9-45ad-af1c-57ffd8b1bdec",
   "metadata": {},
   "outputs": [],
   "source": [
    "path = os.path.join('..', 'data', 'customer_shopping_data.csv')\n",
    "shopping_data = pd.read_csv(path)"
   ]
  },
  {
   "cell_type": "code",
   "execution_count": 7,
   "id": "2fa4da3e-e5a7-4e7b-aabd-673a7a2eaae7",
   "metadata": {},
   "outputs": [
    {
     "data": {
      "text/html": [
       "<div>\n",
       "<style scoped>\n",
       "    .dataframe tbody tr th:only-of-type {\n",
       "        vertical-align: middle;\n",
       "    }\n",
       "\n",
       "    .dataframe tbody tr th {\n",
       "        vertical-align: top;\n",
       "    }\n",
       "\n",
       "    .dataframe thead th {\n",
       "        text-align: right;\n",
       "    }\n",
       "</style>\n",
       "<table border=\"1\" class=\"dataframe\">\n",
       "  <thead>\n",
       "    <tr style=\"text-align: right;\">\n",
       "      <th></th>\n",
       "      <th>invoice_no</th>\n",
       "      <th>customer_id</th>\n",
       "      <th>gender</th>\n",
       "      <th>age</th>\n",
       "      <th>category</th>\n",
       "      <th>quantity</th>\n",
       "      <th>price</th>\n",
       "      <th>payment_method</th>\n",
       "      <th>invoice_date</th>\n",
       "      <th>shopping_mall</th>\n",
       "    </tr>\n",
       "  </thead>\n",
       "  <tbody>\n",
       "    <tr>\n",
       "      <th>0</th>\n",
       "      <td>I138884</td>\n",
       "      <td>C241288</td>\n",
       "      <td>Female</td>\n",
       "      <td>28</td>\n",
       "      <td>Clothing</td>\n",
       "      <td>5</td>\n",
       "      <td>1500.40</td>\n",
       "      <td>Credit Card</td>\n",
       "      <td>5/8/2022</td>\n",
       "      <td>Kanyon</td>\n",
       "    </tr>\n",
       "    <tr>\n",
       "      <th>1</th>\n",
       "      <td>I317333</td>\n",
       "      <td>C111565</td>\n",
       "      <td>Male</td>\n",
       "      <td>21</td>\n",
       "      <td>Shoes</td>\n",
       "      <td>3</td>\n",
       "      <td>1800.51</td>\n",
       "      <td>Debit Card</td>\n",
       "      <td>12/12/2021</td>\n",
       "      <td>Forum Istanbul</td>\n",
       "    </tr>\n",
       "  </tbody>\n",
       "</table>\n",
       "</div>"
      ],
      "text/plain": [
       "  invoice_no customer_id  gender  age  category  quantity    price  \\\n",
       "0    I138884     C241288  Female   28  Clothing         5  1500.40   \n",
       "1    I317333     C111565    Male   21     Shoes         3  1800.51   \n",
       "\n",
       "  payment_method invoice_date   shopping_mall  \n",
       "0    Credit Card     5/8/2022          Kanyon  \n",
       "1     Debit Card   12/12/2021  Forum Istanbul  "
      ]
     },
     "execution_count": 7,
     "metadata": {},
     "output_type": "execute_result"
    }
   ],
   "source": [
    "shopping_data.head(2)"
   ]
  },
  {
   "cell_type": "code",
   "execution_count": 8,
   "id": "ff4fc655-ae14-4753-ae11-c6cb97201886",
   "metadata": {},
   "outputs": [
    {
     "data": {
      "text/plain": [
       "(99457, 10)"
      ]
     },
     "execution_count": 8,
     "metadata": {},
     "output_type": "execute_result"
    }
   ],
   "source": [
    "shopping_data.shape"
   ]
  },
  {
   "cell_type": "code",
   "execution_count": 9,
   "id": "8aacb888-14a7-455a-b574-104c19bf56a4",
   "metadata": {},
   "outputs": [
    {
     "data": {
      "text/plain": [
       "Mall of Istanbul     19943\n",
       "Kanyon               19823\n",
       "Metrocity            15011\n",
       "Metropol AVM         10161\n",
       "Istinye Park          9781\n",
       "Zorlu Center          5075\n",
       "Cevahir AVM           4991\n",
       "Forum Istanbul        4947\n",
       "Viaport Outlet        4914\n",
       "Emaar Square Mall     4811\n",
       "Name: shopping_mall, dtype: int64"
      ]
     },
     "execution_count": 9,
     "metadata": {},
     "output_type": "execute_result"
    }
   ],
   "source": [
    "shopping_data['shopping_mall'].value_counts()"
   ]
  },
  {
   "cell_type": "code",
   "execution_count": 10,
   "id": "d36b7866-f832-4558-9b78-53f70c940887",
   "metadata": {},
   "outputs": [
    {
     "name": "stdout",
     "output_type": "stream",
     "text": [
      "<class 'pandas.core.frame.DataFrame'>\n",
      "RangeIndex: 99457 entries, 0 to 99456\n",
      "Data columns (total 10 columns):\n",
      " #   Column          Non-Null Count  Dtype  \n",
      "---  ------          --------------  -----  \n",
      " 0   invoice_no      99457 non-null  object \n",
      " 1   customer_id     99457 non-null  object \n",
      " 2   gender          99457 non-null  object \n",
      " 3   age             99457 non-null  int64  \n",
      " 4   category        99457 non-null  object \n",
      " 5   quantity        99457 non-null  int64  \n",
      " 6   price           99457 non-null  float64\n",
      " 7   payment_method  99457 non-null  object \n",
      " 8   invoice_date    99457 non-null  object \n",
      " 9   shopping_mall   99457 non-null  object \n",
      "dtypes: float64(1), int64(2), object(7)\n",
      "memory usage: 7.6+ MB\n"
     ]
    }
   ],
   "source": [
    "shopping_data.info()"
   ]
  },
  {
   "cell_type": "markdown",
   "id": "e698e5e4-e5f6-464c-b9c4-66174ce96355",
   "metadata": {},
   "source": [
    "## Visualización características"
   ]
  },
  {
   "cell_type": "code",
   "execution_count": 11,
   "id": "c9cff477-775f-4cfd-bc2a-00526597d7c3",
   "metadata": {},
   "outputs": [
    {
     "data": {
      "image/png": "[encoded data removed]",
      "text/plain": [
       "<Figure size 864x576 with 4 Axes>"
      ]
     },
     "metadata": {},
     "output_type": "display_data"
    }
   ],
   "source": [
    "cols = ['gender', 'category', 'payment_method']\n",
    "\n",
    "bar_subplots(shopping_data, cols, savefig=False)"
   ]
  },
  {
   "cell_type": "code",
   "execution_count": 12,
   "id": "c9cca739-a3c8-4755-8f06-f5db82480c58",
   "metadata": {},
   "outputs": [],
   "source": [
    "gender = shopping_data.groupby('gender').agg({'customer_id': 'count'})"
   ]
  },
  {
   "cell_type": "code",
   "execution_count": 13,
   "id": "5e542a3a-c525-415c-b3f5-6bfc74663ed8",
   "metadata": {},
   "outputs": [
    {
     "data": {
      "text/html": [
       "<div>\n",
       "<style scoped>\n",
       "    .dataframe tbody tr th:only-of-type {\n",
       "        vertical-align: middle;\n",
       "    }\n",
       "\n",
       "    .dataframe tbody tr th {\n",
       "        vertical-align: top;\n",
       "    }\n",
       "\n",
       "    .dataframe thead th {\n",
       "        text-align: right;\n",
       "    }\n",
       "</style>\n",
       "<table border=\"1\" class=\"dataframe\">\n",
       "  <thead>\n",
       "    <tr style=\"text-align: right;\">\n",
       "      <th></th>\n",
       "      <th>customer_id</th>\n",
       "    </tr>\n",
       "    <tr>\n",
       "      <th>gender</th>\n",
       "      <th></th>\n",
       "    </tr>\n",
       "  </thead>\n",
       "  <tbody>\n",
       "    <tr>\n",
       "      <th>Female</th>\n",
       "      <td>59482</td>\n",
       "    </tr>\n",
       "    <tr>\n",
       "      <th>Male</th>\n",
       "      <td>39975</td>\n",
       "    </tr>\n",
       "  </tbody>\n",
       "</table>\n",
       "</div>"
      ],
      "text/plain": [
       "        customer_id\n",
       "gender             \n",
       "Female        59482\n",
       "Male          39975"
      ]
     },
     "execution_count": 13,
     "metadata": {},
     "output_type": "execute_result"
    }
   ],
   "source": [
    "gender"
   ]
  },
  {
   "cell_type": "code",
   "execution_count": 14,
   "id": "c3ec90ab-a4cd-4693-aa52-26ba8d9104d4",
   "metadata": {},
   "outputs": [
    {
     "data": {
      "image/png": "[encoded data removed]",
      "text/plain": [
       "<Figure size 576x360 with 1 Axes>"
      ]
     },
     "metadata": {},
     "output_type": "display_data"
    }
   ],
   "source": [
    "pie_plot(gender, 'customer_id')"
   ]
  },
  {
   "cell_type": "markdown",
   "id": "bc3c9cd9-ac99-4e22-b8e0-a8a17b3e655b",
   "metadata": {},
   "source": [
    "* En la gráfica anterior se evidencia que son las mujeres las que tienen una mayor participación en las compras con una diferencia de $19.507$ transacciones de diferencia."
   ]
  },
  {
   "cell_type": "code",
   "execution_count": 15,
   "id": "b0d6693c-c33e-45cf-b70a-9e1aefac052c",
   "metadata": {},
   "outputs": [],
   "source": [
    "payment_method = shopping_data.groupby('payment_method').agg({'customer_id': 'count'})"
   ]
  },
  {
   "cell_type": "code",
   "execution_count": 16,
   "id": "138c33e9-93e7-48a9-9307-4018b9d906a8",
   "metadata": {},
   "outputs": [
    {
     "data": {
      "text/html": [
       "<div>\n",
       "<style scoped>\n",
       "    .dataframe tbody tr th:only-of-type {\n",
       "        vertical-align: middle;\n",
       "    }\n",
       "\n",
       "    .dataframe tbody tr th {\n",
       "        vertical-align: top;\n",
       "    }\n",
       "\n",
       "    .dataframe thead th {\n",
       "        text-align: right;\n",
       "    }\n",
       "</style>\n",
       "<table border=\"1\" class=\"dataframe\">\n",
       "  <thead>\n",
       "    <tr style=\"text-align: right;\">\n",
       "      <th></th>\n",
       "      <th>customer_id</th>\n",
       "    </tr>\n",
       "    <tr>\n",
       "      <th>payment_method</th>\n",
       "      <th></th>\n",
       "    </tr>\n",
       "  </thead>\n",
       "  <tbody>\n",
       "    <tr>\n",
       "      <th>Cash</th>\n",
       "      <td>44447</td>\n",
       "    </tr>\n",
       "    <tr>\n",
       "      <th>Credit Card</th>\n",
       "      <td>34931</td>\n",
       "    </tr>\n",
       "    <tr>\n",
       "      <th>Debit Card</th>\n",
       "      <td>20079</td>\n",
       "    </tr>\n",
       "  </tbody>\n",
       "</table>\n",
       "</div>"
      ],
      "text/plain": [
       "                customer_id\n",
       "payment_method             \n",
       "Cash                  44447\n",
       "Credit Card           34931\n",
       "Debit Card            20079"
      ]
     },
     "execution_count": 16,
     "metadata": {},
     "output_type": "execute_result"
    }
   ],
   "source": [
    "payment_method"
   ]
  },
  {
   "cell_type": "code",
   "execution_count": 17,
   "id": "c996d042-9172-4e58-bb49-2aa226e656b4",
   "metadata": {},
   "outputs": [
    {
     "data": {
      "image/png": "[encoded data removed]",
      "text/plain": [
       "<Figure size 576x360 with 1 Axes>"
      ]
     },
     "metadata": {},
     "output_type": "display_data"
    }
   ],
   "source": [
    "pie_plot(payment_method, 'customer_id')"
   ]
  },
  {
   "cell_type": "markdown",
   "id": "bb2a74f4-e7cb-41d9-a1ad-fdabc966a864",
   "metadata": {},
   "source": [
    "* La mayoría de las compras registradas en el data set se realizan con efectivo, teniendo una participación del 44.75%, seguido de las tarjetas crédito y débito con 35.1% y 20.2% respectivamente."
   ]
  },
  {
   "cell_type": "markdown",
   "id": "10f80903-2e73-4d47-a1e4-c50889a405b9",
   "metadata": {},
   "source": [
    "## Imputación de datos"
   ]
  },
  {
   "cell_type": "code",
   "execution_count": 18,
   "id": "4c37995d-b252-436e-b7de-7accef50ee8d",
   "metadata": {},
   "outputs": [],
   "source": [
    "missing_values = find_missing(shopping_data)"
   ]
  },
  {
   "cell_type": "code",
   "execution_count": 19,
   "id": "0fc38587-a30c-4b93-902c-31a8b1ecda1f",
   "metadata": {},
   "outputs": [
    {
     "data": {
      "text/html": [
       "<div>\n",
       "<style scoped>\n",
       "    .dataframe tbody tr th:only-of-type {\n",
       "        vertical-align: middle;\n",
       "    }\n",
       "\n",
       "    .dataframe tbody tr th {\n",
       "        vertical-align: top;\n",
       "    }\n",
       "\n",
       "    .dataframe thead th {\n",
       "        text-align: right;\n",
       "    }\n",
       "</style>\n",
       "<table border=\"1\" class=\"dataframe\">\n",
       "  <thead>\n",
       "    <tr style=\"text-align: right;\">\n",
       "      <th></th>\n",
       "      <th>Columnas</th>\n",
       "      <th>Faltantes</th>\n",
       "      <th>Porcentaje</th>\n",
       "    </tr>\n",
       "  </thead>\n",
       "  <tbody>\n",
       "    <tr>\n",
       "      <th>0</th>\n",
       "      <td>invoice_no</td>\n",
       "      <td>0</td>\n",
       "      <td>0.0</td>\n",
       "    </tr>\n",
       "    <tr>\n",
       "      <th>1</th>\n",
       "      <td>customer_id</td>\n",
       "      <td>0</td>\n",
       "      <td>0.0</td>\n",
       "    </tr>\n",
       "    <tr>\n",
       "      <th>2</th>\n",
       "      <td>gender</td>\n",
       "      <td>0</td>\n",
       "      <td>0.0</td>\n",
       "    </tr>\n",
       "    <tr>\n",
       "      <th>3</th>\n",
       "      <td>age</td>\n",
       "      <td>0</td>\n",
       "      <td>0.0</td>\n",
       "    </tr>\n",
       "    <tr>\n",
       "      <th>4</th>\n",
       "      <td>category</td>\n",
       "      <td>0</td>\n",
       "      <td>0.0</td>\n",
       "    </tr>\n",
       "    <tr>\n",
       "      <th>5</th>\n",
       "      <td>quantity</td>\n",
       "      <td>0</td>\n",
       "      <td>0.0</td>\n",
       "    </tr>\n",
       "    <tr>\n",
       "      <th>6</th>\n",
       "      <td>price</td>\n",
       "      <td>0</td>\n",
       "      <td>0.0</td>\n",
       "    </tr>\n",
       "    <tr>\n",
       "      <th>7</th>\n",
       "      <td>payment_method</td>\n",
       "      <td>0</td>\n",
       "      <td>0.0</td>\n",
       "    </tr>\n",
       "    <tr>\n",
       "      <th>8</th>\n",
       "      <td>invoice_date</td>\n",
       "      <td>0</td>\n",
       "      <td>0.0</td>\n",
       "    </tr>\n",
       "    <tr>\n",
       "      <th>9</th>\n",
       "      <td>shopping_mall</td>\n",
       "      <td>0</td>\n",
       "      <td>0.0</td>\n",
       "    </tr>\n",
       "  </tbody>\n",
       "</table>\n",
       "</div>"
      ],
      "text/plain": [
       "         Columnas  Faltantes  Porcentaje\n",
       "0      invoice_no          0         0.0\n",
       "1     customer_id          0         0.0\n",
       "2          gender          0         0.0\n",
       "3             age          0         0.0\n",
       "4        category          0         0.0\n",
       "5        quantity          0         0.0\n",
       "6           price          0         0.0\n",
       "7  payment_method          0         0.0\n",
       "8    invoice_date          0         0.0\n",
       "9   shopping_mall          0         0.0"
      ]
     },
     "execution_count": 19,
     "metadata": {},
     "output_type": "execute_result"
    }
   ],
   "source": [
    "missing_values"
   ]
  },
  {
   "cell_type": "markdown",
   "id": "983609b6-9f1f-4fed-9a9e-b5e1289557a5",
   "metadata": {},
   "source": [
    "## Datos atípicos"
   ]
  },
  {
   "cell_type": "code",
   "execution_count": 20,
   "id": "34e21986-ce44-4a7c-a212-8ce6dc59838f",
   "metadata": {},
   "outputs": [
    {
     "data": {
      "image/png": "[encoded data removed]",
      "text/plain": [
       "<Figure size 576x360 with 1 Axes>"
      ]
     },
     "metadata": {},
     "output_type": "display_data"
    }
   ],
   "source": [
    "box_plot(shopping_data)"
   ]
  },
  {
   "cell_type": "markdown",
   "id": "f62a3977-5b9c-4fd6-98c7-36331d531415",
   "metadata": {},
   "source": [
    "* Se seleccionan las columnas numéricas para escalar y tener un diagrama de cajas con las caracteríscas en la misma escala"
   ]
  },
  {
   "cell_type": "code",
   "execution_count": 21,
   "id": "cdefa644-ab9e-4b5c-b44f-e7e04c510824",
   "metadata": {},
   "outputs": [],
   "source": [
    "columns_numeric = shopping_data.select_dtypes(include=['float64', 'int64'])"
   ]
  },
  {
   "cell_type": "code",
   "execution_count": 22,
   "id": "b42b3aa9-c03c-4261-a7bd-976c4f524d76",
   "metadata": {},
   "outputs": [
    {
     "data": {
      "text/html": [
       "<div>\n",
       "<style scoped>\n",
       "    .dataframe tbody tr th:only-of-type {\n",
       "        vertical-align: middle;\n",
       "    }\n",
       "\n",
       "    .dataframe tbody tr th {\n",
       "        vertical-align: top;\n",
       "    }\n",
       "\n",
       "    .dataframe thead th {\n",
       "        text-align: right;\n",
       "    }\n",
       "</style>\n",
       "<table border=\"1\" class=\"dataframe\">\n",
       "  <thead>\n",
       "    <tr style=\"text-align: right;\">\n",
       "      <th></th>\n",
       "      <th>age</th>\n",
       "      <th>quantity</th>\n",
       "      <th>price</th>\n",
       "    </tr>\n",
       "  </thead>\n",
       "  <tbody>\n",
       "    <tr>\n",
       "      <th>0</th>\n",
       "      <td>28</td>\n",
       "      <td>5</td>\n",
       "      <td>1500.40</td>\n",
       "    </tr>\n",
       "    <tr>\n",
       "      <th>1</th>\n",
       "      <td>21</td>\n",
       "      <td>3</td>\n",
       "      <td>1800.51</td>\n",
       "    </tr>\n",
       "    <tr>\n",
       "      <th>2</th>\n",
       "      <td>20</td>\n",
       "      <td>1</td>\n",
       "      <td>300.08</td>\n",
       "    </tr>\n",
       "    <tr>\n",
       "      <th>3</th>\n",
       "      <td>66</td>\n",
       "      <td>5</td>\n",
       "      <td>3000.85</td>\n",
       "    </tr>\n",
       "    <tr>\n",
       "      <th>4</th>\n",
       "      <td>53</td>\n",
       "      <td>4</td>\n",
       "      <td>60.60</td>\n",
       "    </tr>\n",
       "    <tr>\n",
       "      <th>...</th>\n",
       "      <td>...</td>\n",
       "      <td>...</td>\n",
       "      <td>...</td>\n",
       "    </tr>\n",
       "    <tr>\n",
       "      <th>99452</th>\n",
       "      <td>45</td>\n",
       "      <td>5</td>\n",
       "      <td>58.65</td>\n",
       "    </tr>\n",
       "    <tr>\n",
       "      <th>99453</th>\n",
       "      <td>27</td>\n",
       "      <td>2</td>\n",
       "      <td>10.46</td>\n",
       "    </tr>\n",
       "    <tr>\n",
       "      <th>99454</th>\n",
       "      <td>63</td>\n",
       "      <td>2</td>\n",
       "      <td>10.46</td>\n",
       "    </tr>\n",
       "    <tr>\n",
       "      <th>99455</th>\n",
       "      <td>56</td>\n",
       "      <td>4</td>\n",
       "      <td>4200.00</td>\n",
       "    </tr>\n",
       "    <tr>\n",
       "      <th>99456</th>\n",
       "      <td>36</td>\n",
       "      <td>3</td>\n",
       "      <td>35.19</td>\n",
       "    </tr>\n",
       "  </tbody>\n",
       "</table>\n",
       "<p>99457 rows × 3 columns</p>\n",
       "</div>"
      ],
      "text/plain": [
       "       age  quantity    price\n",
       "0       28         5  1500.40\n",
       "1       21         3  1800.51\n",
       "2       20         1   300.08\n",
       "3       66         5  3000.85\n",
       "4       53         4    60.60\n",
       "...    ...       ...      ...\n",
       "99452   45         5    58.65\n",
       "99453   27         2    10.46\n",
       "99454   63         2    10.46\n",
       "99455   56         4  4200.00\n",
       "99456   36         3    35.19\n",
       "\n",
       "[99457 rows x 3 columns]"
      ]
     },
     "execution_count": 22,
     "metadata": {},
     "output_type": "execute_result"
    }
   ],
   "source": [
    "columns_numeric"
   ]
  },
  {
   "cell_type": "code",
   "execution_count": 23,
   "id": "9556fb03-26d0-4caf-b76c-2eba063df7c2",
   "metadata": {},
   "outputs": [],
   "source": [
    "# Normalización de los datos\n",
    "\n",
    "min_max = MinMaxScaler()\n",
    "\n",
    "numeric_scale = min_max.fit_transform(columns_numeric)\n",
    "\n",
    "numeric_scale = pd.DataFrame(numeric_scale, columns=columns_numeric.columns)"
   ]
  },
  {
   "cell_type": "code",
   "execution_count": 24,
   "id": "1cc1e11c-911d-4f68-aac6-551ff04ea8f7",
   "metadata": {},
   "outputs": [
    {
     "data": {
      "image/png": "[encoded data removed]",
      "text/plain": [
       "<Figure size 576x360 with 1 Axes>"
      ]
     },
     "metadata": {},
     "output_type": "display_data"
    }
   ],
   "source": [
    "box_plot(numeric_scale)"
   ]
  },
  {
   "cell_type": "markdown",
   "id": "f886dbeb-ff1d-4a66-967a-9c7a1eb50b82",
   "metadata": {},
   "source": [
    "## Detección de outliers con el algoritmo LOF"
   ]
  },
  {
   "cell_type": "code",
   "execution_count": 25,
   "id": "419344bb-4893-4818-a9d5-cf873067a6ae",
   "metadata": {},
   "outputs": [],
   "source": [
    "lof = LocalOutlierFactor(\n",
    "    n_neighbors=5, \n",
    "    algorithm='auto', \n",
    "    contamination='auto', \n",
    "    metric='euclidean')"
   ]
  },
  {
   "cell_type": "code",
   "execution_count": 26,
   "id": "84954b2f-cb5f-49e7-90d5-32162bdc9900",
   "metadata": {},
   "outputs": [],
   "source": [
    "lof_array = lof.fit_predict(numeric_scale)"
   ]
  },
  {
   "cell_type": "code",
   "execution_count": 27,
   "id": "1b39d81f-11ce-48b9-847c-a3e25a7c9368",
   "metadata": {},
   "outputs": [],
   "source": [
    "ground_truth = np.ones(len(numeric_scale), dtype=int)"
   ]
  },
  {
   "cell_type": "code",
   "execution_count": 28,
   "id": "5bb90f42-6db0-482b-bf86-e57c58dddce2",
   "metadata": {},
   "outputs": [],
   "source": [
    "n_errors = (lof_array != ground_truth).sum()"
   ]
  },
  {
   "cell_type": "code",
   "execution_count": 29,
   "id": "cebf1ed3-e892-488a-9891-6967e2a37f6c",
   "metadata": {},
   "outputs": [
    {
     "data": {
      "text/plain": [
       "0"
      ]
     },
     "execution_count": 29,
     "metadata": {},
     "output_type": "execute_result"
    }
   ],
   "source": [
    "n_errors"
   ]
  },
  {
   "cell_type": "markdown",
   "id": "ca836b1a-bd97-458c-9272-ee8c790b1301",
   "metadata": {},
   "source": [
    "Bajo el algoritmo LOF no se encontraron datos atípicos por lo que no hay necesidad de realizar imputación de datos."
   ]
  },
  {
   "cell_type": "markdown",
   "id": "f0b81492-f251-419a-abae-9a6dbc3dddad",
   "metadata": {},
   "source": [
    "# Transformaciones"
   ]
  },
  {
   "cell_type": "markdown",
   "id": "c32b0a9f-bb92-4fc6-ad5c-b3c6a6407371",
   "metadata": {},
   "source": [
    "Se realizará una revisión acerca de la distribución de la categorias que están en la columna payment_method"
   ]
  },
  {
   "cell_type": "code",
   "execution_count": 30,
   "id": "f305da59-eb01-4696-ab98-ed2beae8cc25",
   "metadata": {},
   "outputs": [
    {
     "data": {
      "text/plain": [
       "Clothing           34487\n",
       "Cosmetics          15097\n",
       "Food & Beverage    14776\n",
       "Toys               10087\n",
       "Shoes              10034\n",
       "Souvenir            4999\n",
       "Technology          4996\n",
       "Books               4981\n",
       "Name: category, dtype: int64"
      ]
     },
     "execution_count": 30,
     "metadata": {},
     "output_type": "execute_result"
    }
   ],
   "source": [
    "shopping_data['category'].value_counts()"
   ]
  },
  {
   "cell_type": "code",
   "execution_count": 31,
   "id": "653672c5-6ff2-4687-aacd-6d57ab0f0d34",
   "metadata": {},
   "outputs": [],
   "source": [
    "categories_shopping = shopping_data.groupby('category').agg({'customer_id': 'count'})"
   ]
  },
  {
   "cell_type": "code",
   "execution_count": 32,
   "id": "0514facf-4f15-4f81-b8f5-881a0ff06d43",
   "metadata": {},
   "outputs": [
    {
     "data": {
      "text/html": [
       "<div>\n",
       "<style scoped>\n",
       "    .dataframe tbody tr th:only-of-type {\n",
       "        vertical-align: middle;\n",
       "    }\n",
       "\n",
       "    .dataframe tbody tr th {\n",
       "        vertical-align: top;\n",
       "    }\n",
       "\n",
       "    .dataframe thead th {\n",
       "        text-align: right;\n",
       "    }\n",
       "</style>\n",
       "<table border=\"1\" class=\"dataframe\">\n",
       "  <thead>\n",
       "    <tr style=\"text-align: right;\">\n",
       "      <th></th>\n",
       "      <th>customer_id</th>\n",
       "    </tr>\n",
       "    <tr>\n",
       "      <th>category</th>\n",
       "      <th></th>\n",
       "    </tr>\n",
       "  </thead>\n",
       "  <tbody>\n",
       "    <tr>\n",
       "      <th>Books</th>\n",
       "      <td>4981</td>\n",
       "    </tr>\n",
       "    <tr>\n",
       "      <th>Clothing</th>\n",
       "      <td>34487</td>\n",
       "    </tr>\n",
       "    <tr>\n",
       "      <th>Cosmetics</th>\n",
       "      <td>15097</td>\n",
       "    </tr>\n",
       "    <tr>\n",
       "      <th>Food &amp; Beverage</th>\n",
       "      <td>14776</td>\n",
       "    </tr>\n",
       "    <tr>\n",
       "      <th>Shoes</th>\n",
       "      <td>10034</td>\n",
       "    </tr>\n",
       "    <tr>\n",
       "      <th>Souvenir</th>\n",
       "      <td>4999</td>\n",
       "    </tr>\n",
       "    <tr>\n",
       "      <th>Technology</th>\n",
       "      <td>4996</td>\n",
       "    </tr>\n",
       "    <tr>\n",
       "      <th>Toys</th>\n",
       "      <td>10087</td>\n",
       "    </tr>\n",
       "  </tbody>\n",
       "</table>\n",
       "</div>"
      ],
      "text/plain": [
       "                 customer_id\n",
       "category                    \n",
       "Books                   4981\n",
       "Clothing               34487\n",
       "Cosmetics              15097\n",
       "Food & Beverage        14776\n",
       "Shoes                  10034\n",
       "Souvenir                4999\n",
       "Technology              4996\n",
       "Toys                   10087"
      ]
     },
     "execution_count": 32,
     "metadata": {},
     "output_type": "execute_result"
    }
   ],
   "source": [
    "categories_shopping"
   ]
  },
  {
   "cell_type": "code",
   "execution_count": 33,
   "id": "024e52bf-87d9-43a7-9560-5f04068b0fdc",
   "metadata": {},
   "outputs": [],
   "source": [
    "categories_shopping['per'] = categories_shopping['customer_id'] / categories_shopping['customer_id'].sum() * 100"
   ]
  },
  {
   "cell_type": "code",
   "execution_count": 34,
   "id": "3f6ab2fb-5edd-42cd-9aeb-fbf1ee23d484",
   "metadata": {},
   "outputs": [],
   "source": [
    "categories_shopping = categories_shopping.sort_values(by='customer_id', ascending=False)"
   ]
  },
  {
   "cell_type": "code",
   "execution_count": 35,
   "id": "f5bcf7c2-bd16-43ee-88e4-d5ef1e2d73cc",
   "metadata": {},
   "outputs": [
    {
     "data": {
      "text/html": [
       "<div>\n",
       "<style scoped>\n",
       "    .dataframe tbody tr th:only-of-type {\n",
       "        vertical-align: middle;\n",
       "    }\n",
       "\n",
       "    .dataframe tbody tr th {\n",
       "        vertical-align: top;\n",
       "    }\n",
       "\n",
       "    .dataframe thead th {\n",
       "        text-align: right;\n",
       "    }\n",
       "</style>\n",
       "<table border=\"1\" class=\"dataframe\">\n",
       "  <thead>\n",
       "    <tr style=\"text-align: right;\">\n",
       "      <th></th>\n",
       "      <th>customer_id</th>\n",
       "      <th>per</th>\n",
       "    </tr>\n",
       "    <tr>\n",
       "      <th>category</th>\n",
       "      <th></th>\n",
       "      <th></th>\n",
       "    </tr>\n",
       "  </thead>\n",
       "  <tbody>\n",
       "    <tr>\n",
       "      <th>Clothing</th>\n",
       "      <td>34487</td>\n",
       "      <td>34.675287</td>\n",
       "    </tr>\n",
       "    <tr>\n",
       "      <th>Cosmetics</th>\n",
       "      <td>15097</td>\n",
       "      <td>15.179424</td>\n",
       "    </tr>\n",
       "    <tr>\n",
       "      <th>Food &amp; Beverage</th>\n",
       "      <td>14776</td>\n",
       "      <td>14.856672</td>\n",
       "    </tr>\n",
       "    <tr>\n",
       "      <th>Toys</th>\n",
       "      <td>10087</td>\n",
       "      <td>10.142071</td>\n",
       "    </tr>\n",
       "    <tr>\n",
       "      <th>Shoes</th>\n",
       "      <td>10034</td>\n",
       "      <td>10.088782</td>\n",
       "    </tr>\n",
       "    <tr>\n",
       "      <th>Souvenir</th>\n",
       "      <td>4999</td>\n",
       "      <td>5.026293</td>\n",
       "    </tr>\n",
       "    <tr>\n",
       "      <th>Technology</th>\n",
       "      <td>4996</td>\n",
       "      <td>5.023276</td>\n",
       "    </tr>\n",
       "    <tr>\n",
       "      <th>Books</th>\n",
       "      <td>4981</td>\n",
       "      <td>5.008194</td>\n",
       "    </tr>\n",
       "  </tbody>\n",
       "</table>\n",
       "</div>"
      ],
      "text/plain": [
       "                 customer_id        per\n",
       "category                               \n",
       "Clothing               34487  34.675287\n",
       "Cosmetics              15097  15.179424\n",
       "Food & Beverage        14776  14.856672\n",
       "Toys                   10087  10.142071\n",
       "Shoes                  10034  10.088782\n",
       "Souvenir                4999   5.026293\n",
       "Technology              4996   5.023276\n",
       "Books                   4981   5.008194"
      ]
     },
     "execution_count": 35,
     "metadata": {},
     "output_type": "execute_result"
    }
   ],
   "source": [
    "categories_shopping"
   ]
  },
  {
   "cell_type": "code",
   "execution_count": 36,
   "id": "2a1a0d55-eca8-4837-83b0-b2e1244de02b",
   "metadata": {},
   "outputs": [
    {
     "data": {
      "image/png": "[encoded data removed]",
      "text/plain": [
       "<Figure size 576x360 with 1 Axes>"
      ]
     },
     "metadata": {},
     "output_type": "display_data"
    }
   ],
   "source": [
    "pie_plot(categories_shopping, 'customer_id')"
   ]
  },
  {
   "cell_type": "markdown",
   "id": "f8a0c0ce-5f44-41e9-af61-9d8d4a7224be",
   "metadata": {},
   "source": [
    "## Agrupación de categorias de bajo porcentaje de participación"
   ]
  },
  {
   "cell_type": "markdown",
   "id": "c808c7b6-661b-4c00-af19-c491ebe1779e",
   "metadata": {},
   "source": [
    "* Eliminar la columna Technology porque no aporta suficientes datos al modelo."
   ]
  },
  {
   "cell_type": "code",
   "execution_count": 37,
   "id": "2a5ab502-bd30-4fbe-94ee-a42d83194398",
   "metadata": {},
   "outputs": [],
   "source": [
    "cond = shopping_data['category'] != 'Technology'\n",
    "shopping_data = shopping_data[cond]"
   ]
  },
  {
   "cell_type": "code",
   "execution_count": 38,
   "id": "b47327cd-3735-4d48-a092-321e101b0e6f",
   "metadata": {},
   "outputs": [],
   "source": [
    "cats = ['Souvenir', 'Books']\n",
    "\n",
    "for cat in cats:\n",
    "    cond = shopping_data['category'] == cat\n",
    "    shopping_data.loc[cond, 'category'] = 'Other'"
   ]
  },
  {
   "cell_type": "code",
   "execution_count": 39,
   "id": "ecfdc273-5312-483f-a187-7d8b4dc429a2",
   "metadata": {},
   "outputs": [],
   "source": [
    "categories_shopping = shopping_data.groupby('category').agg({'customer_id': 'count'})"
   ]
  },
  {
   "cell_type": "code",
   "execution_count": 40,
   "id": "9683e086-21d7-423c-8708-d2353074a383",
   "metadata": {},
   "outputs": [
    {
     "data": {
      "text/html": [
       "<div>\n",
       "<style scoped>\n",
       "    .dataframe tbody tr th:only-of-type {\n",
       "        vertical-align: middle;\n",
       "    }\n",
       "\n",
       "    .dataframe tbody tr th {\n",
       "        vertical-align: top;\n",
       "    }\n",
       "\n",
       "    .dataframe thead th {\n",
       "        text-align: right;\n",
       "    }\n",
       "</style>\n",
       "<table border=\"1\" class=\"dataframe\">\n",
       "  <thead>\n",
       "    <tr style=\"text-align: right;\">\n",
       "      <th></th>\n",
       "      <th>customer_id</th>\n",
       "    </tr>\n",
       "    <tr>\n",
       "      <th>category</th>\n",
       "      <th></th>\n",
       "    </tr>\n",
       "  </thead>\n",
       "  <tbody>\n",
       "    <tr>\n",
       "      <th>Clothing</th>\n",
       "      <td>34487</td>\n",
       "    </tr>\n",
       "    <tr>\n",
       "      <th>Cosmetics</th>\n",
       "      <td>15097</td>\n",
       "    </tr>\n",
       "    <tr>\n",
       "      <th>Food &amp; Beverage</th>\n",
       "      <td>14776</td>\n",
       "    </tr>\n",
       "    <tr>\n",
       "      <th>Other</th>\n",
       "      <td>9980</td>\n",
       "    </tr>\n",
       "    <tr>\n",
       "      <th>Shoes</th>\n",
       "      <td>10034</td>\n",
       "    </tr>\n",
       "    <tr>\n",
       "      <th>Toys</th>\n",
       "      <td>10087</td>\n",
       "    </tr>\n",
       "  </tbody>\n",
       "</table>\n",
       "</div>"
      ],
      "text/plain": [
       "                 customer_id\n",
       "category                    \n",
       "Clothing               34487\n",
       "Cosmetics              15097\n",
       "Food & Beverage        14776\n",
       "Other                   9980\n",
       "Shoes                  10034\n",
       "Toys                   10087"
      ]
     },
     "execution_count": 40,
     "metadata": {},
     "output_type": "execute_result"
    }
   ],
   "source": [
    "categories_shopping"
   ]
  },
  {
   "cell_type": "code",
   "execution_count": 41,
   "id": "e00a962b-3a00-4506-9077-5e5bb960e362",
   "metadata": {},
   "outputs": [
    {
     "data": {
      "image/png": "[encoded data removed]",
      "text/plain": [
       "<Figure size 576x360 with 1 Axes>"
      ]
     },
     "metadata": {},
     "output_type": "display_data"
    }
   ],
   "source": [
    "pie_plot(categories_shopping, 'customer_id')"
   ]
  },
  {
   "cell_type": "markdown",
   "id": "27fc8545-a7be-4673-9057-2b27e5d4a8b2",
   "metadata": {},
   "source": [
    "## Creación de nuevas columnas"
   ]
  },
  {
   "cell_type": "code",
   "execution_count": 42,
   "id": "ba1e83d7-32db-410b-b3c8-2fa062416e1d",
   "metadata": {},
   "outputs": [
    {
     "data": {
      "text/plain": [
       "Index(['invoice_no', 'customer_id', 'gender', 'age', 'category', 'quantity',\n",
       "       'price', 'payment_method', 'invoice_date', 'shopping_mall'],\n",
       "      dtype='object')"
      ]
     },
     "execution_count": 42,
     "metadata": {},
     "output_type": "execute_result"
    }
   ],
   "source": [
    "shopping_data.columns"
   ]
  },
  {
   "cell_type": "code",
   "execution_count": 43,
   "id": "d15b63a0-6787-4393-9d6b-026ba9ad9db1",
   "metadata": {},
   "outputs": [],
   "source": [
    "columns = ['gender', 'age', 'category', 'quantity', 'price', 'payment_method']"
   ]
  },
  {
   "cell_type": "code",
   "execution_count": 44,
   "id": "0378fc89-118d-40eb-a3d7-99b0bf8c25e3",
   "metadata": {},
   "outputs": [],
   "source": [
    "data_set = shopping_data[columns]"
   ]
  },
  {
   "cell_type": "markdown",
   "id": "9e113123-99bc-4c82-aee4-32a3d5102b21",
   "metadata": {},
   "source": [
    "Se aplicara el metodo get dummies para de esta forma ampliar el data set y tener un mayor número de columnas"
   ]
  },
  {
   "cell_type": "code",
   "execution_count": 45,
   "id": "9fe9a795-b45f-4322-928a-53300e44615b",
   "metadata": {},
   "outputs": [],
   "source": [
    "data_set = pd.get_dummies(data_set, columns=['gender', 'payment_method'])"
   ]
  },
  {
   "cell_type": "code",
   "execution_count": 46,
   "id": "d6e993dd-874c-4597-8735-bf4ec3ce1b76",
   "metadata": {},
   "outputs": [
    {
     "data": {
      "text/html": [
       "<div>\n",
       "<style scoped>\n",
       "    .dataframe tbody tr th:only-of-type {\n",
       "        vertical-align: middle;\n",
       "    }\n",
       "\n",
       "    .dataframe tbody tr th {\n",
       "        vertical-align: top;\n",
       "    }\n",
       "\n",
       "    .dataframe thead th {\n",
       "        text-align: right;\n",
       "    }\n",
       "</style>\n",
       "<table border=\"1\" class=\"dataframe\">\n",
       "  <thead>\n",
       "    <tr style=\"text-align: right;\">\n",
       "      <th></th>\n",
       "      <th>age</th>\n",
       "      <th>category</th>\n",
       "      <th>quantity</th>\n",
       "      <th>price</th>\n",
       "      <th>gender_Female</th>\n",
       "      <th>gender_Male</th>\n",
       "      <th>payment_method_Cash</th>\n",
       "      <th>payment_method_Credit Card</th>\n",
       "      <th>payment_method_Debit Card</th>\n",
       "    </tr>\n",
       "  </thead>\n",
       "  <tbody>\n",
       "    <tr>\n",
       "      <th>0</th>\n",
       "      <td>28</td>\n",
       "      <td>Clothing</td>\n",
       "      <td>5</td>\n",
       "      <td>1500.40</td>\n",
       "      <td>1</td>\n",
       "      <td>0</td>\n",
       "      <td>0</td>\n",
       "      <td>1</td>\n",
       "      <td>0</td>\n",
       "    </tr>\n",
       "    <tr>\n",
       "      <th>1</th>\n",
       "      <td>21</td>\n",
       "      <td>Shoes</td>\n",
       "      <td>3</td>\n",
       "      <td>1800.51</td>\n",
       "      <td>0</td>\n",
       "      <td>1</td>\n",
       "      <td>0</td>\n",
       "      <td>0</td>\n",
       "      <td>1</td>\n",
       "    </tr>\n",
       "    <tr>\n",
       "      <th>2</th>\n",
       "      <td>20</td>\n",
       "      <td>Clothing</td>\n",
       "      <td>1</td>\n",
       "      <td>300.08</td>\n",
       "      <td>0</td>\n",
       "      <td>1</td>\n",
       "      <td>1</td>\n",
       "      <td>0</td>\n",
       "      <td>0</td>\n",
       "    </tr>\n",
       "    <tr>\n",
       "      <th>3</th>\n",
       "      <td>66</td>\n",
       "      <td>Shoes</td>\n",
       "      <td>5</td>\n",
       "      <td>3000.85</td>\n",
       "      <td>1</td>\n",
       "      <td>0</td>\n",
       "      <td>0</td>\n",
       "      <td>1</td>\n",
       "      <td>0</td>\n",
       "    </tr>\n",
       "    <tr>\n",
       "      <th>4</th>\n",
       "      <td>53</td>\n",
       "      <td>Other</td>\n",
       "      <td>4</td>\n",
       "      <td>60.60</td>\n",
       "      <td>1</td>\n",
       "      <td>0</td>\n",
       "      <td>1</td>\n",
       "      <td>0</td>\n",
       "      <td>0</td>\n",
       "    </tr>\n",
       "  </tbody>\n",
       "</table>\n",
       "</div>"
      ],
      "text/plain": [
       "   age  category  quantity    price  gender_Female  gender_Male  \\\n",
       "0   28  Clothing         5  1500.40              1            0   \n",
       "1   21     Shoes         3  1800.51              0            1   \n",
       "2   20  Clothing         1   300.08              0            1   \n",
       "3   66     Shoes         5  3000.85              1            0   \n",
       "4   53     Other         4    60.60              1            0   \n",
       "\n",
       "   payment_method_Cash  payment_method_Credit Card  payment_method_Debit Card  \n",
       "0                    0                           1                          0  \n",
       "1                    0                           0                          1  \n",
       "2                    1                           0                          0  \n",
       "3                    0                           1                          0  \n",
       "4                    1                           0                          0  "
      ]
     },
     "execution_count": 46,
     "metadata": {},
     "output_type": "execute_result"
    }
   ],
   "source": [
    "data_set.head()"
   ]
  },
  {
   "cell_type": "code",
   "execution_count": 47,
   "id": "a5965e3d-fd3a-492b-9a06-a9e6e0da5e5a",
   "metadata": {},
   "outputs": [],
   "source": [
    "path_save = os.path.join('..', 'data', 'customers_model.csv')\n",
    "data_set.to_csv(path_save, index=False)"
   ]
  },
  {
   "cell_type": "code",
   "execution_count": null,
   "id": "1f14c0f3-0632-4021-bf3a-3a8d9780fd88",
   "metadata": {},
   "outputs": [],
   "source": []
  }
 ],
 "metadata": {
  "kernelspec": {
   "display_name": "Python 3 (ipykernel)",
   "language": "python",
   "name": "python3"
  },
  "language_info": {
   "codemirror_mode": {
    "name": "ipython",
    "version": 3
   },
   "file_extension": ".py",
   "mimetype": "text/x-python",
   "name": "python",
   "nbconvert_exporter": "python",
   "pygments_lexer": "ipython3",
   "version": "3.9.13"
  },
  "toc-autonumbering": true
 },
 "nbformat": 4,
 "nbformat_minor": 5
}
