{
 "cells": [
  {
   "cell_type": "markdown",
   "id": "20909546-8773-4b04-b68a-b7143fe8865f",
   "metadata": {},
   "source": [
    "# Customer shopping"
   ]
  },
  {
   "cell_type": "markdown",
   "id": "a3171ceb-98be-4532-ba6c-561b4f57f96e",
   "metadata": {},
   "source": [
    "## Librearías"
   ]
  },
  {
   "cell_type": "code",
   "execution_count": 1,
   "id": "2f2501d7-e492-4ef5-8e8e-bd0dda31ce86",
   "metadata": {},
   "outputs": [],
   "source": [
    "import matplotlib.pyplot as plt\n",
    "import numpy as np\n",
    "import os\n",
    "import pandas as pd\n",
    "import seaborn as sns\n",
    "\n",
    "from scipy.stats import chi2_contingency\n",
    "from scipy.stats import pearsonr\n",
    "from sklearn.metrics import mutual_info_score\n",
    "from sklearn.neighbors import LocalOutlierFactor\n",
    "from sklearn.preprocessing import MinMaxScaler\n",
    "from typing import List\n",
    "\n",
    "%matplotlib inline\n",
    "plt.style.use('ggplot')"
   ]
  },
  {
   "cell_type": "code",
   "execution_count": 2,
   "id": "885113eb-8914-4d04-bb4d-d8175956331b",
   "metadata": {},
   "outputs": [],
   "source": [
    "pd.set_option('display.max_colwidth', None)\n",
    "pd.set_option('display.max_columns', None)"
   ]
  },
  {
   "cell_type": "markdown",
   "id": "ab5a5cf0-80f3-4d07-b48f-3eee8b5e7be6",
   "metadata": {},
   "source": [
    "## Funciones utiles"
   ]
  },
  {
   "cell_type": "markdown",
   "id": "1c5a8704-046e-4a32-9af5-3a8c1da2ea2e",
   "metadata": {},
   "source": [
    "### Gráficas"
   ]
  },
  {
   "cell_type": "code",
   "execution_count": 3,
   "id": "5023be15-8864-4c95-99a8-1d05ab884cff",
   "metadata": {},
   "outputs": [],
   "source": [
    "def pie_plot(data: pd.DataFrame, \n",
    "             col: str,\n",
    "             title: str,\n",
    "             savefig: bool = False) -> None:\n",
    "    \"\"\"Genera un gráfico de torta basado en una columna de un DataFrame.\n",
    "\n",
    "    Args:\n",
    "        data (pd.DataFrame): El DataFrame que contiene los datos.\n",
    "        col (str): El nombre de la columna a graficar.\n",
    "        title: Título de la gráfica.\n",
    "        savefig: Opcional. Si se quiere guardar la imagen \n",
    "         en output.\n",
    "\n",
    "    Returns:\n",
    "        None: Muestra el gráfico de pastel.\n",
    "\n",
    "    \"\"\"\n",
    "    plt.figure(figsize=(8, 5))\n",
    "    datos = data[col]\n",
    "    labels = data.index\n",
    "    \n",
    "    # Se agregan colores con plt.cm estableciendo un color para cada espacio en el \n",
    "    # diagrama, por eso se usa un linspace de la misma magnitud de los datos.\n",
    "    colors = plt.cm.RdYlGn(np.linspace(0.1, 0.7, len(datos)))\n",
    "    \n",
    "    # Generación del diagrama circular\n",
    "    patches, texts = plt.pie(datos, labels=labels, colors=colors)\n",
    "\n",
    "    # Para que siempre se vea como un círculo\n",
    "    plt.axis('equal')\n",
    "    \n",
    "    # Se eliminan las líneas\n",
    "    plt.rcParams['patch.linewidth'] = 0\n",
    "    \n",
    "    # Estimación porcentaje\n",
    "    porcent = 100 * datos / sum(datos)\n",
    "    # Lista que será expuesta en la legenda\n",
    "    labels = ['{0} - {1:1.1f} %'.format(i,j) for i, j in zip(labels, porcent)]\n",
    "    \n",
    "    # Se genera la legenda\n",
    "    # bbox_to_anchor especifica en coordenadas la posición de la legenda\n",
    "    plt.legend(patches, labels, bbox_to_anchor=(-0.1, 1.), fontsize=8)\n",
    "    \n",
    "    # Agregar título\n",
    "    plt.title(title)\n",
    "    \n",
    "    # Guardar la figura si savefig es True y se proporciona una ruta\n",
    "    if savefig:\n",
    "        plt.savefig(os.path.join('..', 'output', f'{title}.png'), bbox_inches='tight')\n",
    "        \n",
    "    plt.show()"
   ]
  },
  {
   "cell_type": "code",
   "execution_count": 4,
   "id": "57bb8f12-35ed-4cfc-90b8-f957980d8e1a",
   "metadata": {},
   "outputs": [],
   "source": [
    "def box_plot(df: pd.DataFrame,\n",
    "             title: str,\n",
    "             savefig: bool = False,\n",
    "             showfliers: bool = True):\n",
    "    \"\"\"Genera un diagrama de cajas utilizando el mapa de colores RdYlGn.\n",
    "\n",
    "    Args:\n",
    "        df (pd.DataFrame): El DataFrame que se utilizará para generar \n",
    "         el diagrama de cajas.\n",
    "         title: Título de la gráfica.\n",
    "        savefig: Opcional. Si se quiere guardar la imagen \n",
    "         en output.\n",
    "        showfliers (bool): Indica si se muestran o no los valores \n",
    "         atípicos en el diagrama de cajas. Valor predeterminado es True.\n",
    "\n",
    "    Returns:\n",
    "        None: Muestra el gráfico de barras.\n",
    "        \n",
    "    \"\"\"\n",
    "    # Generar el diagrama de cajas utilizando df.plot(kind='box')\n",
    "    ax = df.plot(kind='box', patch_artist=True, figsize=(8, 5), showfliers=showfliers, vert=False)\n",
    "    \n",
    "    # Configurar el mapa de colores\n",
    "    cmap = plt.cm.RdYlGn\n",
    "    \n",
    "    # Personalizar el color de las cajas utilizando el mapa de colores\n",
    "    for patch, color in zip(ax.artists, cmap(np.linspace(0.1, 0.9, len(ax.artists)))):\n",
    "        patch.set_facecolor(color)\n",
    "        \n",
    "    # Agregar título\n",
    "    plt.title(title)\n",
    "    \n",
    "    # Guardar la figura si savefig es True y se proporciona una ruta\n",
    "    if savefig:\n",
    "        plt.savefig(os.path.join('..', 'output', f'{title}.png'), bbox_inches='tight')\n",
    "\n",
    "    plt.show()"
   ]
  },
  {
   "cell_type": "code",
   "execution_count": 5,
   "id": "41e8c5aa-35d5-49c0-bb26-5cd3f9bcdbdd",
   "metadata": {},
   "outputs": [],
   "source": [
    "def bar_subplots(df: pd.DataFrame, \n",
    "                 columns: List[str],\n",
    "                 title: str,\n",
    "                 savefig: bool = False) -> None:\n",
    "    \"\"\"Genera diagramas de barras para contar la cantidad \n",
    "     según columna especificada.\n",
    "\n",
    "    Args:\n",
    "        df: DataFrame que contiene los datos de los hurtos.\n",
    "        columns: Lista de columnas del DataFrame a \n",
    "         mostrar en los diagramas de barras.\n",
    "        title: Título de la gráfica.\n",
    "        savefig: Opcional. Si se quiere guardar la imagen \n",
    "         en output.\n",
    "\n",
    "    \"\"\"\n",
    "    num_columnas = len(columns)\n",
    "    num_filas = num_columnas // 2 + num_columnas % 2 \n",
    "\n",
    "    fig, axs = plt.subplots(num_filas, 2, figsize=(12, 4 * num_filas))\n",
    "    fig.tight_layout(pad=4.0)\n",
    "    \n",
    "    fig.suptitle(title, fontsize=16)\n",
    "\n",
    "    for i, columna in enumerate(columns):\n",
    "        ax = axs[i // 2, i % 2] if num_filas > 1 else axs[i]\n",
    "        valores = df[columna].value_counts()\n",
    "\n",
    "        ax.bar(valores.index, valores.values)\n",
    "        ax.set_title(f\"Transacciones {columna}\")\n",
    "        plt.xlabel(None)\n",
    "        ax.yaxis.set_visible(False)\n",
    "        \n",
    "        ax.set_xticks(range(len(valores.index))) \n",
    "        ax.set_xticklabels(valores.index, rotation=20) \n",
    "\n",
    "        for p in ax.patches:\n",
    "            ax.annotate(\n",
    "                '{:,.0f}'.format(int(p.get_height())).replace(\",\", \".\"),\n",
    "                (p.get_x() + p.get_width() / 2.0, p.get_height()),\n",
    "                ha='center',\n",
    "                va='center',\n",
    "                xytext=(0, 10),\n",
    "                textcoords='offset points',\n",
    "                fontsize=10)\n",
    "\n",
    "        for spine in ax.spines:\n",
    "            ax.spines[spine].set_visible(False)\n",
    "    \n",
    "    if savefig:\n",
    "        plt.savefig(os.path.join('..', 'output', f'{title}.png'), bbox_inches='tight')\n",
    "    plt.show()"
   ]
  },
  {
   "cell_type": "markdown",
   "id": "94f985fc-c553-434a-af55-48dc3c521a96",
   "metadata": {},
   "source": [
    "### Limpieza"
   ]
  },
  {
   "cell_type": "code",
   "execution_count": 6,
   "id": "5fc48b02-6fea-413f-9304-f8dc645faf3b",
   "metadata": {},
   "outputs": [],
   "source": [
    "def find_missing(df: pd.DataFrame) -> pd.DataFrame:\n",
    "    \"\"\"Encuentra los valores faltantes en un DataFrame y devuelve un nuevo DataFrame\n",
    "     que muestra la cantidad de valores faltantes y el porcentaje correspondiente.\n",
    "\n",
    "    Args:\n",
    "        df (pd.DataFrame): El DataFrame que se va a analizar.\n",
    "\n",
    "    Returns:\n",
    "        pd.DataFrame: Un nuevo DataFrame que muestra las columnas, la cantidad de\n",
    "        valores faltantes y el porcentaje de valores faltantes para cada columna.\n",
    "\n",
    "    \"\"\"\n",
    "    lista = []\n",
    "    for col in df.columns:\n",
    "        num = df[df[col].isnull()].shape[0]\n",
    "        lista.append(num)\n",
    "    \n",
    "    dic = {\n",
    "        'Columnas': df.columns,\n",
    "        'Faltantes': lista}\n",
    "    df_faltantes = pd.DataFrame(dic)\n",
    "    \n",
    "    df_faltantes['Porcentaje'] = df_faltantes['Faltantes'] / df.shape[0]\n",
    "    \n",
    "    return df_faltantes"
   ]
  },
  {
   "cell_type": "markdown",
   "id": "5e0ca97a-2000-4de8-ab6e-5ebc2082e484",
   "metadata": {},
   "source": [
    "# Exploración de datos"
   ]
  },
  {
   "cell_type": "markdown",
   "id": "8f4445bd-2b6e-45d0-ae36-f66762e141f6",
   "metadata": {},
   "source": [
    "## Carga de datos"
   ]
  },
  {
   "cell_type": "code",
   "execution_count": 7,
   "id": "c543d190-25a9-45ad-af1c-57ffd8b1bdec",
   "metadata": {},
   "outputs": [],
   "source": [
    "path = os.path.join('..', 'data', 'customer_shopping_data.csv')\n",
    "shopping_data = pd.read_csv(path)"
   ]
  },
  {
   "cell_type": "code",
   "execution_count": 8,
   "id": "2fa4da3e-e5a7-4e7b-aabd-673a7a2eaae7",
   "metadata": {},
   "outputs": [
    {
     "data": {
      "text/html": [
       "<div>\n",
       "<style scoped>\n",
       "    .dataframe tbody tr th:only-of-type {\n",
       "        vertical-align: middle;\n",
       "    }\n",
       "\n",
       "    .dataframe tbody tr th {\n",
       "        vertical-align: top;\n",
       "    }\n",
       "\n",
       "    .dataframe thead th {\n",
       "        text-align: right;\n",
       "    }\n",
       "</style>\n",
       "<table border=\"1\" class=\"dataframe\">\n",
       "  <thead>\n",
       "    <tr style=\"text-align: right;\">\n",
       "      <th></th>\n",
       "      <th>invoice_no</th>\n",
       "      <th>customer_id</th>\n",
       "      <th>gender</th>\n",
       "      <th>age</th>\n",
       "      <th>category</th>\n",
       "      <th>quantity</th>\n",
       "      <th>price</th>\n",
       "      <th>payment_method</th>\n",
       "      <th>invoice_date</th>\n",
       "      <th>shopping_mall</th>\n",
       "    </tr>\n",
       "  </thead>\n",
       "  <tbody>\n",
       "    <tr>\n",
       "      <th>0</th>\n",
       "      <td>I138884</td>\n",
       "      <td>C241288</td>\n",
       "      <td>Female</td>\n",
       "      <td>28</td>\n",
       "      <td>Clothing</td>\n",
       "      <td>5</td>\n",
       "      <td>1500.40</td>\n",
       "      <td>Credit Card</td>\n",
       "      <td>5/8/2022</td>\n",
       "      <td>Kanyon</td>\n",
       "    </tr>\n",
       "    <tr>\n",
       "      <th>1</th>\n",
       "      <td>I317333</td>\n",
       "      <td>C111565</td>\n",
       "      <td>Male</td>\n",
       "      <td>21</td>\n",
       "      <td>Shoes</td>\n",
       "      <td>3</td>\n",
       "      <td>1800.51</td>\n",
       "      <td>Debit Card</td>\n",
       "      <td>12/12/2021</td>\n",
       "      <td>Forum Istanbul</td>\n",
       "    </tr>\n",
       "  </tbody>\n",
       "</table>\n",
       "</div>"
      ],
      "text/plain": [
       "  invoice_no customer_id  gender  age  category  quantity    price  \\\n",
       "0    I138884     C241288  Female   28  Clothing         5  1500.40   \n",
       "1    I317333     C111565    Male   21     Shoes         3  1800.51   \n",
       "\n",
       "  payment_method invoice_date   shopping_mall  \n",
       "0    Credit Card     5/8/2022          Kanyon  \n",
       "1     Debit Card   12/12/2021  Forum Istanbul  "
      ]
     },
     "execution_count": 8,
     "metadata": {},
     "output_type": "execute_result"
    }
   ],
   "source": [
    "shopping_data.head(2)"
   ]
  },
  {
   "cell_type": "code",
   "execution_count": 9,
   "id": "ff4fc655-ae14-4753-ae11-c6cb97201886",
   "metadata": {},
   "outputs": [
    {
     "data": {
      "text/plain": [
       "(99457, 10)"
      ]
     },
     "execution_count": 9,
     "metadata": {},
     "output_type": "execute_result"
    }
   ],
   "source": [
    "shopping_data.shape"
   ]
  },
  {
   "cell_type": "code",
   "execution_count": 10,
   "id": "d36b7866-f832-4558-9b78-53f70c940887",
   "metadata": {},
   "outputs": [
    {
     "name": "stdout",
     "output_type": "stream",
     "text": [
      "<class 'pandas.core.frame.DataFrame'>\n",
      "RangeIndex: 99457 entries, 0 to 99456\n",
      "Data columns (total 10 columns):\n",
      " #   Column          Non-Null Count  Dtype  \n",
      "---  ------          --------------  -----  \n",
      " 0   invoice_no      99457 non-null  object \n",
      " 1   customer_id     99457 non-null  object \n",
      " 2   gender          99457 non-null  object \n",
      " 3   age             99457 non-null  int64  \n",
      " 4   category        99457 non-null  object \n",
      " 5   quantity        99457 non-null  int64  \n",
      " 6   price           99457 non-null  float64\n",
      " 7   payment_method  99457 non-null  object \n",
      " 8   invoice_date    99457 non-null  object \n",
      " 9   shopping_mall   99457 non-null  object \n",
      "dtypes: float64(1), int64(2), object(7)\n",
      "memory usage: 7.6+ MB\n"
     ]
    }
   ],
   "source": [
    "shopping_data.info()"
   ]
  },
  {
   "cell_type": "code",
   "execution_count": 11,
   "id": "74782b3a-d0f0-46ac-8f73-c93433cc532b",
   "metadata": {},
   "outputs": [
    {
     "data": {
      "text/html": [
       "<div>\n",
       "<style scoped>\n",
       "    .dataframe tbody tr th:only-of-type {\n",
       "        vertical-align: middle;\n",
       "    }\n",
       "\n",
       "    .dataframe tbody tr th {\n",
       "        vertical-align: top;\n",
       "    }\n",
       "\n",
       "    .dataframe thead th {\n",
       "        text-align: right;\n",
       "    }\n",
       "</style>\n",
       "<table border=\"1\" class=\"dataframe\">\n",
       "  <thead>\n",
       "    <tr style=\"text-align: right;\">\n",
       "      <th></th>\n",
       "      <th>age</th>\n",
       "      <th>quantity</th>\n",
       "      <th>price</th>\n",
       "    </tr>\n",
       "  </thead>\n",
       "  <tbody>\n",
       "    <tr>\n",
       "      <th>count</th>\n",
       "      <td>99457.000000</td>\n",
       "      <td>99457.000000</td>\n",
       "      <td>99457.000000</td>\n",
       "    </tr>\n",
       "    <tr>\n",
       "      <th>mean</th>\n",
       "      <td>43.427089</td>\n",
       "      <td>3.003429</td>\n",
       "      <td>689.256321</td>\n",
       "    </tr>\n",
       "    <tr>\n",
       "      <th>std</th>\n",
       "      <td>14.990054</td>\n",
       "      <td>1.413025</td>\n",
       "      <td>941.184567</td>\n",
       "    </tr>\n",
       "    <tr>\n",
       "      <th>min</th>\n",
       "      <td>18.000000</td>\n",
       "      <td>1.000000</td>\n",
       "      <td>5.230000</td>\n",
       "    </tr>\n",
       "    <tr>\n",
       "      <th>25%</th>\n",
       "      <td>30.000000</td>\n",
       "      <td>2.000000</td>\n",
       "      <td>45.450000</td>\n",
       "    </tr>\n",
       "    <tr>\n",
       "      <th>50%</th>\n",
       "      <td>43.000000</td>\n",
       "      <td>3.000000</td>\n",
       "      <td>203.300000</td>\n",
       "    </tr>\n",
       "    <tr>\n",
       "      <th>75%</th>\n",
       "      <td>56.000000</td>\n",
       "      <td>4.000000</td>\n",
       "      <td>1200.320000</td>\n",
       "    </tr>\n",
       "    <tr>\n",
       "      <th>max</th>\n",
       "      <td>69.000000</td>\n",
       "      <td>5.000000</td>\n",
       "      <td>5250.000000</td>\n",
       "    </tr>\n",
       "  </tbody>\n",
       "</table>\n",
       "</div>"
      ],
      "text/plain": [
       "                age      quantity         price\n",
       "count  99457.000000  99457.000000  99457.000000\n",
       "mean      43.427089      3.003429    689.256321\n",
       "std       14.990054      1.413025    941.184567\n",
       "min       18.000000      1.000000      5.230000\n",
       "25%       30.000000      2.000000     45.450000\n",
       "50%       43.000000      3.000000    203.300000\n",
       "75%       56.000000      4.000000   1200.320000\n",
       "max       69.000000      5.000000   5250.000000"
      ]
     },
     "execution_count": 11,
     "metadata": {},
     "output_type": "execute_result"
    }
   ],
   "source": [
    "shopping_data.describe()"
   ]
  },
  {
   "cell_type": "markdown",
   "id": "e698e5e4-e5f6-464c-b9c4-66174ce96355",
   "metadata": {},
   "source": [
    "## Visualización de características"
   ]
  },
  {
   "cell_type": "code",
   "execution_count": 12,
   "id": "54aa5a33-c2e2-4fce-9f42-90871709265b",
   "metadata": {},
   "outputs": [],
   "source": [
    "# Se realiza la separación de las columnas categoricas y numéricas para realizar la imputación de datos\n",
    "shopping_categorical = shopping_data.select_dtypes(include=['object'])\n",
    "shopping_numeric = shopping_data.select_dtypes(include=[np.number])"
   ]
  },
  {
   "cell_type": "markdown",
   "id": "7786873e-8f55-4153-a7ba-2d980d5fe45c",
   "metadata": {},
   "source": [
    "### Características categóricas"
   ]
  },
  {
   "cell_type": "code",
   "execution_count": 13,
   "id": "c9cff477-775f-4cfd-bc2a-00526597d7c3",
   "metadata": {},
   "outputs": [
    {
     "data": {
      "image/png": "[encoded data removed]",
      "text/plain": [
       "<Figure size 864x576 with 4 Axes>"
      ]
     },
     "metadata": {},
     "output_type": "display_data"
    }
   ],
   "source": [
    "cols = ['gender', 'category', 'payment_method', 'shopping_mall']\n",
    "\n",
    "bar_subplots(\n",
    "    df=shopping_categorical, \n",
    "    columns=cols, \n",
    "    title='Variables categóricas', \n",
    "    savefig=True)"
   ]
  },
  {
   "cell_type": "code",
   "execution_count": 14,
   "id": "c9cca739-a3c8-4755-8f06-f5db82480c58",
   "metadata": {},
   "outputs": [],
   "source": [
    "gender = shopping_data.groupby('gender').agg({'customer_id': 'count'})"
   ]
  },
  {
   "cell_type": "code",
   "execution_count": 15,
   "id": "5e542a3a-c525-415c-b3f5-6bfc74663ed8",
   "metadata": {},
   "outputs": [
    {
     "data": {
      "text/html": [
       "<div>\n",
       "<style scoped>\n",
       "    .dataframe tbody tr th:only-of-type {\n",
       "        vertical-align: middle;\n",
       "    }\n",
       "\n",
       "    .dataframe tbody tr th {\n",
       "        vertical-align: top;\n",
       "    }\n",
       "\n",
       "    .dataframe thead th {\n",
       "        text-align: right;\n",
       "    }\n",
       "</style>\n",
       "<table border=\"1\" class=\"dataframe\">\n",
       "  <thead>\n",
       "    <tr style=\"text-align: right;\">\n",
       "      <th></th>\n",
       "      <th>customer_id</th>\n",
       "    </tr>\n",
       "    <tr>\n",
       "      <th>gender</th>\n",
       "      <th></th>\n",
       "    </tr>\n",
       "  </thead>\n",
       "  <tbody>\n",
       "    <tr>\n",
       "      <th>Female</th>\n",
       "      <td>59482</td>\n",
       "    </tr>\n",
       "    <tr>\n",
       "      <th>Male</th>\n",
       "      <td>39975</td>\n",
       "    </tr>\n",
       "  </tbody>\n",
       "</table>\n",
       "</div>"
      ],
      "text/plain": [
       "        customer_id\n",
       "gender             \n",
       "Female        59482\n",
       "Male          39975"
      ]
     },
     "execution_count": 15,
     "metadata": {},
     "output_type": "execute_result"
    }
   ],
   "source": [
    "gender"
   ]
  },
  {
   "cell_type": "code",
   "execution_count": 16,
   "id": "c3ec90ab-a4cd-4693-aa52-26ba8d9104d4",
   "metadata": {},
   "outputs": [
    {
     "data": {
      "image/png": "[encoded data removed]",
      "text/plain": [
       "<Figure size 576x360 with 1 Axes>"
      ]
     },
     "metadata": {},
     "output_type": "display_data"
    }
   ],
   "source": [
    "pie_plot(\n",
    "    data=gender, \n",
    "    col='customer_id',\n",
    "    title='Género',\n",
    "    savefig=True)"
   ]
  },
  {
   "cell_type": "markdown",
   "id": "bc3c9cd9-ac99-4e22-b8e0-a8a17b3e655b",
   "metadata": {},
   "source": [
    "* En la gráfica anterior se evidencia que son las mujeres las que tienen una mayor participación en las compras con una diferencia de $19.507$ transacciones de diferencia."
   ]
  },
  {
   "cell_type": "code",
   "execution_count": 17,
   "id": "b0d6693c-c33e-45cf-b70a-9e1aefac052c",
   "metadata": {},
   "outputs": [],
   "source": [
    "payment_method = shopping_data.groupby('payment_method').agg({'customer_id': 'count'})"
   ]
  },
  {
   "cell_type": "code",
   "execution_count": 18,
   "id": "138c33e9-93e7-48a9-9307-4018b9d906a8",
   "metadata": {},
   "outputs": [
    {
     "data": {
      "text/html": [
       "<div>\n",
       "<style scoped>\n",
       "    .dataframe tbody tr th:only-of-type {\n",
       "        vertical-align: middle;\n",
       "    }\n",
       "\n",
       "    .dataframe tbody tr th {\n",
       "        vertical-align: top;\n",
       "    }\n",
       "\n",
       "    .dataframe thead th {\n",
       "        text-align: right;\n",
       "    }\n",
       "</style>\n",
       "<table border=\"1\" class=\"dataframe\">\n",
       "  <thead>\n",
       "    <tr style=\"text-align: right;\">\n",
       "      <th></th>\n",
       "      <th>customer_id</th>\n",
       "    </tr>\n",
       "    <tr>\n",
       "      <th>payment_method</th>\n",
       "      <th></th>\n",
       "    </tr>\n",
       "  </thead>\n",
       "  <tbody>\n",
       "    <tr>\n",
       "      <th>Cash</th>\n",
       "      <td>44447</td>\n",
       "    </tr>\n",
       "    <tr>\n",
       "      <th>Credit Card</th>\n",
       "      <td>34931</td>\n",
       "    </tr>\n",
       "    <tr>\n",
       "      <th>Debit Card</th>\n",
       "      <td>20079</td>\n",
       "    </tr>\n",
       "  </tbody>\n",
       "</table>\n",
       "</div>"
      ],
      "text/plain": [
       "                customer_id\n",
       "payment_method             \n",
       "Cash                  44447\n",
       "Credit Card           34931\n",
       "Debit Card            20079"
      ]
     },
     "execution_count": 18,
     "metadata": {},
     "output_type": "execute_result"
    }
   ],
   "source": [
    "payment_method"
   ]
  },
  {
   "cell_type": "code",
   "execution_count": 19,
   "id": "c996d042-9172-4e58-bb49-2aa226e656b4",
   "metadata": {},
   "outputs": [
    {
     "data": {
      "image/png": "[encoded data removed]",
      "text/plain": [
       "<Figure size 576x360 with 1 Axes>"
      ]
     },
     "metadata": {},
     "output_type": "display_data"
    }
   ],
   "source": [
    "pie_plot(\n",
    "    data=payment_method, \n",
    "    col='customer_id',\n",
    "    title='Medio de pago',\n",
    "    savefig=True)"
   ]
  },
  {
   "cell_type": "markdown",
   "id": "bb2a74f4-e7cb-41d9-a1ad-fdabc966a864",
   "metadata": {},
   "source": [
    "* La mayoría de las compras registradas en el data set se realizan con efectivo, teniendo una participación del 44.75%, seguido de las tarjetas crédito y débito con 35.1% y 20.2% respectivamente."
   ]
  },
  {
   "cell_type": "code",
   "execution_count": 20,
   "id": "e43d647d-fafd-4f63-99c5-071496a05336",
   "metadata": {},
   "outputs": [],
   "source": [
    "shopping_mall = shopping_data.groupby('shopping_mall').agg({'customer_id': 'count'})"
   ]
  },
  {
   "cell_type": "code",
   "execution_count": 21,
   "id": "e89b4430-f9e5-4b0e-ab9e-85626e16a19c",
   "metadata": {},
   "outputs": [
    {
     "data": {
      "text/html": [
       "<div>\n",
       "<style scoped>\n",
       "    .dataframe tbody tr th:only-of-type {\n",
       "        vertical-align: middle;\n",
       "    }\n",
       "\n",
       "    .dataframe tbody tr th {\n",
       "        vertical-align: top;\n",
       "    }\n",
       "\n",
       "    .dataframe thead th {\n",
       "        text-align: right;\n",
       "    }\n",
       "</style>\n",
       "<table border=\"1\" class=\"dataframe\">\n",
       "  <thead>\n",
       "    <tr style=\"text-align: right;\">\n",
       "      <th></th>\n",
       "      <th>customer_id</th>\n",
       "    </tr>\n",
       "    <tr>\n",
       "      <th>shopping_mall</th>\n",
       "      <th></th>\n",
       "    </tr>\n",
       "  </thead>\n",
       "  <tbody>\n",
       "    <tr>\n",
       "      <th>Cevahir AVM</th>\n",
       "      <td>4991</td>\n",
       "    </tr>\n",
       "    <tr>\n",
       "      <th>Emaar Square Mall</th>\n",
       "      <td>4811</td>\n",
       "    </tr>\n",
       "    <tr>\n",
       "      <th>Forum Istanbul</th>\n",
       "      <td>4947</td>\n",
       "    </tr>\n",
       "    <tr>\n",
       "      <th>Istinye Park</th>\n",
       "      <td>9781</td>\n",
       "    </tr>\n",
       "    <tr>\n",
       "      <th>Kanyon</th>\n",
       "      <td>19823</td>\n",
       "    </tr>\n",
       "    <tr>\n",
       "      <th>Mall of Istanbul</th>\n",
       "      <td>19943</td>\n",
       "    </tr>\n",
       "    <tr>\n",
       "      <th>Metrocity</th>\n",
       "      <td>15011</td>\n",
       "    </tr>\n",
       "    <tr>\n",
       "      <th>Metropol AVM</th>\n",
       "      <td>10161</td>\n",
       "    </tr>\n",
       "    <tr>\n",
       "      <th>Viaport Outlet</th>\n",
       "      <td>4914</td>\n",
       "    </tr>\n",
       "    <tr>\n",
       "      <th>Zorlu Center</th>\n",
       "      <td>5075</td>\n",
       "    </tr>\n",
       "  </tbody>\n",
       "</table>\n",
       "</div>"
      ],
      "text/plain": [
       "                   customer_id\n",
       "shopping_mall                 \n",
       "Cevahir AVM               4991\n",
       "Emaar Square Mall         4811\n",
       "Forum Istanbul            4947\n",
       "Istinye Park              9781\n",
       "Kanyon                   19823\n",
       "Mall of Istanbul         19943\n",
       "Metrocity                15011\n",
       "Metropol AVM             10161\n",
       "Viaport Outlet            4914\n",
       "Zorlu Center              5075"
      ]
     },
     "execution_count": 21,
     "metadata": {},
     "output_type": "execute_result"
    }
   ],
   "source": [
    "shopping_mall"
   ]
  },
  {
   "cell_type": "code",
   "execution_count": 22,
   "id": "e33ec923-e2c3-4dba-a814-04ebc937a719",
   "metadata": {},
   "outputs": [
    {
     "data": {
      "image/png": "[encoded data removed]",
      "text/plain": [
       "<Figure size 576x360 with 1 Axes>"
      ]
     },
     "metadata": {},
     "output_type": "display_data"
    }
   ],
   "source": [
    "pie_plot(\n",
    "    data=shopping_mall.sort_values('customer_id', ascending=False), \n",
    "    col='customer_id',\n",
    "    title='Locación',\n",
    "    savefig=True)"
   ]
  },
  {
   "cell_type": "code",
   "execution_count": 23,
   "id": "4331c7c9-aab6-4e4a-811d-833c9125b82b",
   "metadata": {},
   "outputs": [],
   "source": [
    "category = shopping_data.groupby('category').agg({'customer_id': 'count'})"
   ]
  },
  {
   "cell_type": "code",
   "execution_count": 24,
   "id": "6139e963-c9be-4d0a-afd0-4c33aa841118",
   "metadata": {},
   "outputs": [
    {
     "data": {
      "text/html": [
       "<div>\n",
       "<style scoped>\n",
       "    .dataframe tbody tr th:only-of-type {\n",
       "        vertical-align: middle;\n",
       "    }\n",
       "\n",
       "    .dataframe tbody tr th {\n",
       "        vertical-align: top;\n",
       "    }\n",
       "\n",
       "    .dataframe thead th {\n",
       "        text-align: right;\n",
       "    }\n",
       "</style>\n",
       "<table border=\"1\" class=\"dataframe\">\n",
       "  <thead>\n",
       "    <tr style=\"text-align: right;\">\n",
       "      <th></th>\n",
       "      <th>customer_id</th>\n",
       "    </tr>\n",
       "    <tr>\n",
       "      <th>category</th>\n",
       "      <th></th>\n",
       "    </tr>\n",
       "  </thead>\n",
       "  <tbody>\n",
       "    <tr>\n",
       "      <th>Books</th>\n",
       "      <td>4981</td>\n",
       "    </tr>\n",
       "    <tr>\n",
       "      <th>Clothing</th>\n",
       "      <td>34487</td>\n",
       "    </tr>\n",
       "    <tr>\n",
       "      <th>Cosmetics</th>\n",
       "      <td>15097</td>\n",
       "    </tr>\n",
       "    <tr>\n",
       "      <th>Food &amp; Beverage</th>\n",
       "      <td>14776</td>\n",
       "    </tr>\n",
       "    <tr>\n",
       "      <th>Shoes</th>\n",
       "      <td>10034</td>\n",
       "    </tr>\n",
       "    <tr>\n",
       "      <th>Souvenir</th>\n",
       "      <td>4999</td>\n",
       "    </tr>\n",
       "    <tr>\n",
       "      <th>Technology</th>\n",
       "      <td>4996</td>\n",
       "    </tr>\n",
       "    <tr>\n",
       "      <th>Toys</th>\n",
       "      <td>10087</td>\n",
       "    </tr>\n",
       "  </tbody>\n",
       "</table>\n",
       "</div>"
      ],
      "text/plain": [
       "                 customer_id\n",
       "category                    \n",
       "Books                   4981\n",
       "Clothing               34487\n",
       "Cosmetics              15097\n",
       "Food & Beverage        14776\n",
       "Shoes                  10034\n",
       "Souvenir                4999\n",
       "Technology              4996\n",
       "Toys                   10087"
      ]
     },
     "execution_count": 24,
     "metadata": {},
     "output_type": "execute_result"
    }
   ],
   "source": [
    "category"
   ]
  },
  {
   "cell_type": "code",
   "execution_count": 25,
   "id": "4651be39-5c55-4d5a-aa25-46e9e2d496b1",
   "metadata": {},
   "outputs": [
    {
     "data": {
      "image/png": "[encoded data removed]",
      "text/plain": [
       "<Figure size 576x360 with 1 Axes>"
      ]
     },
     "metadata": {},
     "output_type": "display_data"
    }
   ],
   "source": [
    "pie_plot(\n",
    "    data=category.sort_values('customer_id', ascending=False), \n",
    "    col='customer_id',\n",
    "    title='Categoría',\n",
    "    savefig=True)"
   ]
  },
  {
   "cell_type": "markdown",
   "id": "6619a3a4-778d-4271-a747-b32aad5ebdbd",
   "metadata": {},
   "source": [
    "### Características numéricas"
   ]
  },
  {
   "cell_type": "markdown",
   "id": "f62a3977-5b9c-4fd6-98c7-36331d531415",
   "metadata": {},
   "source": [
    "* Se seleccionan las columnas numéricas para escalar y tener un diagrama de cajas con las caracteríscas en la misma escala"
   ]
  },
  {
   "cell_type": "code",
   "execution_count": 26,
   "id": "945dcdd7-fa7f-4bb4-8873-0b82a042d105",
   "metadata": {},
   "outputs": [
    {
     "data": {
      "text/html": [
       "<div>\n",
       "<style scoped>\n",
       "    .dataframe tbody tr th:only-of-type {\n",
       "        vertical-align: middle;\n",
       "    }\n",
       "\n",
       "    .dataframe tbody tr th {\n",
       "        vertical-align: top;\n",
       "    }\n",
       "\n",
       "    .dataframe thead th {\n",
       "        text-align: right;\n",
       "    }\n",
       "</style>\n",
       "<table border=\"1\" class=\"dataframe\">\n",
       "  <thead>\n",
       "    <tr style=\"text-align: right;\">\n",
       "      <th></th>\n",
       "      <th>age</th>\n",
       "      <th>quantity</th>\n",
       "      <th>price</th>\n",
       "    </tr>\n",
       "  </thead>\n",
       "  <tbody>\n",
       "    <tr>\n",
       "      <th>count</th>\n",
       "      <td>99457.000000</td>\n",
       "      <td>99457.000000</td>\n",
       "      <td>99457.000000</td>\n",
       "    </tr>\n",
       "    <tr>\n",
       "      <th>mean</th>\n",
       "      <td>43.427089</td>\n",
       "      <td>3.003429</td>\n",
       "      <td>689.256321</td>\n",
       "    </tr>\n",
       "    <tr>\n",
       "      <th>std</th>\n",
       "      <td>14.990054</td>\n",
       "      <td>1.413025</td>\n",
       "      <td>941.184567</td>\n",
       "    </tr>\n",
       "    <tr>\n",
       "      <th>min</th>\n",
       "      <td>18.000000</td>\n",
       "      <td>1.000000</td>\n",
       "      <td>5.230000</td>\n",
       "    </tr>\n",
       "    <tr>\n",
       "      <th>25%</th>\n",
       "      <td>30.000000</td>\n",
       "      <td>2.000000</td>\n",
       "      <td>45.450000</td>\n",
       "    </tr>\n",
       "    <tr>\n",
       "      <th>50%</th>\n",
       "      <td>43.000000</td>\n",
       "      <td>3.000000</td>\n",
       "      <td>203.300000</td>\n",
       "    </tr>\n",
       "    <tr>\n",
       "      <th>75%</th>\n",
       "      <td>56.000000</td>\n",
       "      <td>4.000000</td>\n",
       "      <td>1200.320000</td>\n",
       "    </tr>\n",
       "    <tr>\n",
       "      <th>max</th>\n",
       "      <td>69.000000</td>\n",
       "      <td>5.000000</td>\n",
       "      <td>5250.000000</td>\n",
       "    </tr>\n",
       "  </tbody>\n",
       "</table>\n",
       "</div>"
      ],
      "text/plain": [
       "                age      quantity         price\n",
       "count  99457.000000  99457.000000  99457.000000\n",
       "mean      43.427089      3.003429    689.256321\n",
       "std       14.990054      1.413025    941.184567\n",
       "min       18.000000      1.000000      5.230000\n",
       "25%       30.000000      2.000000     45.450000\n",
       "50%       43.000000      3.000000    203.300000\n",
       "75%       56.000000      4.000000   1200.320000\n",
       "max       69.000000      5.000000   5250.000000"
      ]
     },
     "execution_count": 26,
     "metadata": {},
     "output_type": "execute_result"
    }
   ],
   "source": [
    "shopping_numeric.describe()"
   ]
  },
  {
   "cell_type": "code",
   "execution_count": 27,
   "id": "3c1fcb1a-f01c-4693-8020-9db8db763fbc",
   "metadata": {},
   "outputs": [
    {
     "data": {
      "image/png": "[encoded data removed]",
      "text/plain": [
       "<Figure size 432x432 with 9 Axes>"
      ]
     },
     "metadata": {},
     "output_type": "display_data"
    }
   ],
   "source": [
    "axes = pd.plotting.scatter_matrix(\n",
    "    shopping_numeric,\n",
    "    alpha=0.7,\n",
    "    figsize=(6, 6),\n",
    "    range_padding=0.1,\n",
    "    diagonal='hist',\n",
    "    color='m',\n",
    "    hist_kwds={\n",
    "        'bins': 30, \n",
    "        'color': 'blue'\n",
    "    }\n",
    ")\n",
    "\n",
    "for ax in axes.flatten():\n",
    "    ax.xaxis.label.set_rotation(90)\n",
    "    ax.yaxis.label.set_rotation(0)\n",
    "    ax.yaxis.label.set_ha('right')\n",
    "plt.show()"
   ]
  },
  {
   "cell_type": "markdown",
   "id": "10f80903-2e73-4d47-a1e4-c50889a405b9",
   "metadata": {},
   "source": [
    "## Imputación de datos"
   ]
  },
  {
   "cell_type": "code",
   "execution_count": 28,
   "id": "4c37995d-b252-436e-b7de-7accef50ee8d",
   "metadata": {},
   "outputs": [],
   "source": [
    "missing_values = find_missing(shopping_data)"
   ]
  },
  {
   "cell_type": "code",
   "execution_count": 29,
   "id": "0fc38587-a30c-4b93-902c-31a8b1ecda1f",
   "metadata": {},
   "outputs": [
    {
     "data": {
      "text/html": [
       "<div>\n",
       "<style scoped>\n",
       "    .dataframe tbody tr th:only-of-type {\n",
       "        vertical-align: middle;\n",
       "    }\n",
       "\n",
       "    .dataframe tbody tr th {\n",
       "        vertical-align: top;\n",
       "    }\n",
       "\n",
       "    .dataframe thead th {\n",
       "        text-align: right;\n",
       "    }\n",
       "</style>\n",
       "<table border=\"1\" class=\"dataframe\">\n",
       "  <thead>\n",
       "    <tr style=\"text-align: right;\">\n",
       "      <th></th>\n",
       "      <th>Columnas</th>\n",
       "      <th>Faltantes</th>\n",
       "      <th>Porcentaje</th>\n",
       "    </tr>\n",
       "  </thead>\n",
       "  <tbody>\n",
       "    <tr>\n",
       "      <th>0</th>\n",
       "      <td>invoice_no</td>\n",
       "      <td>0</td>\n",
       "      <td>0.0</td>\n",
       "    </tr>\n",
       "    <tr>\n",
       "      <th>1</th>\n",
       "      <td>customer_id</td>\n",
       "      <td>0</td>\n",
       "      <td>0.0</td>\n",
       "    </tr>\n",
       "    <tr>\n",
       "      <th>2</th>\n",
       "      <td>gender</td>\n",
       "      <td>0</td>\n",
       "      <td>0.0</td>\n",
       "    </tr>\n",
       "    <tr>\n",
       "      <th>3</th>\n",
       "      <td>age</td>\n",
       "      <td>0</td>\n",
       "      <td>0.0</td>\n",
       "    </tr>\n",
       "    <tr>\n",
       "      <th>4</th>\n",
       "      <td>category</td>\n",
       "      <td>0</td>\n",
       "      <td>0.0</td>\n",
       "    </tr>\n",
       "    <tr>\n",
       "      <th>5</th>\n",
       "      <td>quantity</td>\n",
       "      <td>0</td>\n",
       "      <td>0.0</td>\n",
       "    </tr>\n",
       "    <tr>\n",
       "      <th>6</th>\n",
       "      <td>price</td>\n",
       "      <td>0</td>\n",
       "      <td>0.0</td>\n",
       "    </tr>\n",
       "    <tr>\n",
       "      <th>7</th>\n",
       "      <td>payment_method</td>\n",
       "      <td>0</td>\n",
       "      <td>0.0</td>\n",
       "    </tr>\n",
       "    <tr>\n",
       "      <th>8</th>\n",
       "      <td>invoice_date</td>\n",
       "      <td>0</td>\n",
       "      <td>0.0</td>\n",
       "    </tr>\n",
       "    <tr>\n",
       "      <th>9</th>\n",
       "      <td>shopping_mall</td>\n",
       "      <td>0</td>\n",
       "      <td>0.0</td>\n",
       "    </tr>\n",
       "  </tbody>\n",
       "</table>\n",
       "</div>"
      ],
      "text/plain": [
       "         Columnas  Faltantes  Porcentaje\n",
       "0      invoice_no          0         0.0\n",
       "1     customer_id          0         0.0\n",
       "2          gender          0         0.0\n",
       "3             age          0         0.0\n",
       "4        category          0         0.0\n",
       "5        quantity          0         0.0\n",
       "6           price          0         0.0\n",
       "7  payment_method          0         0.0\n",
       "8    invoice_date          0         0.0\n",
       "9   shopping_mall          0         0.0"
      ]
     },
     "execution_count": 29,
     "metadata": {},
     "output_type": "execute_result"
    }
   ],
   "source": [
    "missing_values"
   ]
  },
  {
   "cell_type": "markdown",
   "id": "983609b6-9f1f-4fed-9a9e-b5e1289557a5",
   "metadata": {},
   "source": [
    "## Datos atípicos"
   ]
  },
  {
   "cell_type": "code",
   "execution_count": 30,
   "id": "34e21986-ce44-4a7c-a212-8ce6dc59838f",
   "metadata": {},
   "outputs": [
    {
     "data": {
      "image/png": "[encoded data removed]",
      "text/plain": [
       "<Figure size 576x360 with 1 Axes>"
      ]
     },
     "metadata": {},
     "output_type": "display_data"
    }
   ],
   "source": [
    "box_plot(\n",
    "    df=shopping_numeric,\n",
    "    title='Boxplot customer shopping',\n",
    "    savefig=True)"
   ]
  },
  {
   "cell_type": "code",
   "execution_count": 31,
   "id": "9556fb03-26d0-4caf-b76c-2eba063df7c2",
   "metadata": {},
   "outputs": [],
   "source": [
    "# Normalización de los datos\n",
    "min_max = MinMaxScaler()\n",
    "\n",
    "numeric_scale = min_max.fit_transform(shopping_numeric)\n",
    "\n",
    "numeric_scale = pd.DataFrame(numeric_scale, columns=shopping_numeric.columns)"
   ]
  },
  {
   "cell_type": "code",
   "execution_count": 32,
   "id": "1cc1e11c-911d-4f68-aac6-551ff04ea8f7",
   "metadata": {},
   "outputs": [
    {
     "data": {
      "image/png": "[encoded data removed]",
      "text/plain": [
       "<Figure size 576x360 with 1 Axes>"
      ]
     },
     "metadata": {},
     "output_type": "display_data"
    }
   ],
   "source": [
    "box_plot(\n",
    "    df=numeric_scale,\n",
    "    title='Boxplot customer shopping normalizado',\n",
    "    savefig=True)"
   ]
  },
  {
   "cell_type": "markdown",
   "id": "f886dbeb-ff1d-4a66-967a-9c7a1eb50b82",
   "metadata": {},
   "source": [
    "## Detección de outliers con el algoritmo LOF"
   ]
  },
  {
   "cell_type": "code",
   "execution_count": 33,
   "id": "419344bb-4893-4818-a9d5-cf873067a6ae",
   "metadata": {},
   "outputs": [],
   "source": [
    "lof = LocalOutlierFactor(\n",
    "    n_neighbors=3, \n",
    "    algorithm='auto', \n",
    "    contamination='auto', \n",
    "    metric='euclidean')"
   ]
  },
  {
   "cell_type": "code",
   "execution_count": 34,
   "id": "84954b2f-cb5f-49e7-90d5-32162bdc9900",
   "metadata": {},
   "outputs": [],
   "source": [
    "lof_array = lof.fit_predict(numeric_scale)"
   ]
  },
  {
   "cell_type": "code",
   "execution_count": 35,
   "id": "1b39d81f-11ce-48b9-847c-a3e25a7c9368",
   "metadata": {},
   "outputs": [],
   "source": [
    "ground_truth = np.ones(len(numeric_scale), dtype=int)"
   ]
  },
  {
   "cell_type": "code",
   "execution_count": 36,
   "id": "5bb90f42-6db0-482b-bf86-e57c58dddce2",
   "metadata": {},
   "outputs": [],
   "source": [
    "n_errors = (lof_array != ground_truth).sum()"
   ]
  },
  {
   "cell_type": "code",
   "execution_count": 37,
   "id": "cebf1ed3-e892-488a-9891-6967e2a37f6c",
   "metadata": {},
   "outputs": [
    {
     "data": {
      "text/plain": [
       "0"
      ]
     },
     "execution_count": 37,
     "metadata": {},
     "output_type": "execute_result"
    }
   ],
   "source": [
    "n_errors"
   ]
  },
  {
   "cell_type": "markdown",
   "id": "ca836b1a-bd97-458c-9272-ee8c790b1301",
   "metadata": {},
   "source": [
    "Bajo el algoritmo LOF no se encontraron datos atípicos por lo que no hay necesidad de realizar imputación de datos."
   ]
  },
  {
   "cell_type": "markdown",
   "id": "b1fe2c8a-1c46-4fef-99e7-a4dd3fd7e57b",
   "metadata": {},
   "source": [
    "# Análisis estadístico"
   ]
  },
  {
   "cell_type": "code",
   "execution_count": 38,
   "id": "25f65351-059c-46d3-90fd-b6088a578779",
   "metadata": {},
   "outputs": [],
   "source": [
    "cols = ['gender', 'payment_method', 'shopping_mall']\n",
    "shopping_categorical = shopping_categorical[cols]"
   ]
  },
  {
   "cell_type": "markdown",
   "id": "1be2de93-13a8-4a49-97c5-d6f5da4b0ac9",
   "metadata": {},
   "source": [
    "## Variables categóricas"
   ]
  },
  {
   "cell_type": "markdown",
   "id": "3edf5ee3-48ea-4f50-a716-2fb3f584bf2b",
   "metadata": {},
   "source": [
    "### Tablas de contingencia"
   ]
  },
  {
   "cell_type": "markdown",
   "id": "47f90d22-a928-4886-9777-c66731844477",
   "metadata": {},
   "source": [
    "Una tabla de contingencia, es una herramienta estadística que se utiliza para resumir y analizar la relación entre dos o más variables categóricas. En una tabla de contingencia, se registran las frecuencias conjuntas de las categorías de las variables categóricas, lo que permite visualizar y analizar patrones de asociación o independencia entre ellas."
   ]
  },
  {
   "cell_type": "code",
   "execution_count": 39,
   "id": "b49d1564-e525-409c-8975-24d2142a1324",
   "metadata": {},
   "outputs": [
    {
     "data": {
      "text/html": [
       "<div>\n",
       "<style scoped>\n",
       "    .dataframe tbody tr th:only-of-type {\n",
       "        vertical-align: middle;\n",
       "    }\n",
       "\n",
       "    .dataframe tbody tr th {\n",
       "        vertical-align: top;\n",
       "    }\n",
       "\n",
       "    .dataframe thead th {\n",
       "        text-align: right;\n",
       "    }\n",
       "</style>\n",
       "<table border=\"1\" class=\"dataframe\">\n",
       "  <thead>\n",
       "    <tr style=\"text-align: right;\">\n",
       "      <th>payment_method</th>\n",
       "      <th>Cash</th>\n",
       "      <th>Credit Card</th>\n",
       "      <th>Debit Card</th>\n",
       "      <th>Total</th>\n",
       "    </tr>\n",
       "    <tr>\n",
       "      <th>gender</th>\n",
       "      <th></th>\n",
       "      <th></th>\n",
       "      <th></th>\n",
       "      <th></th>\n",
       "    </tr>\n",
       "  </thead>\n",
       "  <tbody>\n",
       "    <tr>\n",
       "      <th>Female</th>\n",
       "      <td>26509</td>\n",
       "      <td>21011</td>\n",
       "      <td>11962</td>\n",
       "      <td>59482</td>\n",
       "    </tr>\n",
       "    <tr>\n",
       "      <th>Male</th>\n",
       "      <td>17938</td>\n",
       "      <td>13920</td>\n",
       "      <td>8117</td>\n",
       "      <td>39975</td>\n",
       "    </tr>\n",
       "    <tr>\n",
       "      <th>Total</th>\n",
       "      <td>44447</td>\n",
       "      <td>34931</td>\n",
       "      <td>20079</td>\n",
       "      <td>99457</td>\n",
       "    </tr>\n",
       "  </tbody>\n",
       "</table>\n",
       "</div>"
      ],
      "text/plain": [
       "payment_method   Cash  Credit Card  Debit Card  Total\n",
       "gender                                               \n",
       "Female          26509        21011       11962  59482\n",
       "Male            17938        13920        8117  39975\n",
       "Total           44447        34931       20079  99457"
      ]
     },
     "execution_count": 39,
     "metadata": {},
     "output_type": "execute_result"
    }
   ],
   "source": [
    "gender_payment = pd.crosstab(\n",
    "    index=shopping_categorical['gender'],\n",
    "    columns=shopping_categorical['payment_method'],\n",
    "    margins=True,\n",
    "    margins_name=\"Total\")\n",
    "\n",
    "gender_payment"
   ]
  },
  {
   "cell_type": "code",
   "execution_count": 40,
   "id": "efee3fc0-a90c-4906-8e7f-e12bbf35e47c",
   "metadata": {},
   "outputs": [
    {
     "data": {
      "text/html": [
       "<div>\n",
       "<style scoped>\n",
       "    .dataframe tbody tr th:only-of-type {\n",
       "        vertical-align: middle;\n",
       "    }\n",
       "\n",
       "    .dataframe tbody tr th {\n",
       "        vertical-align: top;\n",
       "    }\n",
       "\n",
       "    .dataframe thead th {\n",
       "        text-align: right;\n",
       "    }\n",
       "</style>\n",
       "<table border=\"1\" class=\"dataframe\">\n",
       "  <thead>\n",
       "    <tr style=\"text-align: right;\">\n",
       "      <th>shopping_mall</th>\n",
       "      <th>Cevahir AVM</th>\n",
       "      <th>Emaar Square Mall</th>\n",
       "      <th>Forum Istanbul</th>\n",
       "      <th>Istinye Park</th>\n",
       "      <th>Kanyon</th>\n",
       "      <th>Mall of Istanbul</th>\n",
       "      <th>Metrocity</th>\n",
       "      <th>Metropol AVM</th>\n",
       "      <th>Viaport Outlet</th>\n",
       "      <th>Zorlu Center</th>\n",
       "      <th>Total</th>\n",
       "    </tr>\n",
       "    <tr>\n",
       "      <th>gender</th>\n",
       "      <th></th>\n",
       "      <th></th>\n",
       "      <th></th>\n",
       "      <th></th>\n",
       "      <th></th>\n",
       "      <th></th>\n",
       "      <th></th>\n",
       "      <th></th>\n",
       "      <th></th>\n",
       "      <th></th>\n",
       "      <th></th>\n",
       "    </tr>\n",
       "  </thead>\n",
       "  <tbody>\n",
       "    <tr>\n",
       "      <th>Female</th>\n",
       "      <td>2940</td>\n",
       "      <td>2842</td>\n",
       "      <td>3016</td>\n",
       "      <td>5874</td>\n",
       "      <td>11906</td>\n",
       "      <td>11902</td>\n",
       "      <td>8941</td>\n",
       "      <td>6144</td>\n",
       "      <td>2949</td>\n",
       "      <td>2968</td>\n",
       "      <td>59482</td>\n",
       "    </tr>\n",
       "    <tr>\n",
       "      <th>Male</th>\n",
       "      <td>2051</td>\n",
       "      <td>1969</td>\n",
       "      <td>1931</td>\n",
       "      <td>3907</td>\n",
       "      <td>7917</td>\n",
       "      <td>8041</td>\n",
       "      <td>6070</td>\n",
       "      <td>4017</td>\n",
       "      <td>1965</td>\n",
       "      <td>2107</td>\n",
       "      <td>39975</td>\n",
       "    </tr>\n",
       "    <tr>\n",
       "      <th>Total</th>\n",
       "      <td>4991</td>\n",
       "      <td>4811</td>\n",
       "      <td>4947</td>\n",
       "      <td>9781</td>\n",
       "      <td>19823</td>\n",
       "      <td>19943</td>\n",
       "      <td>15011</td>\n",
       "      <td>10161</td>\n",
       "      <td>4914</td>\n",
       "      <td>5075</td>\n",
       "      <td>99457</td>\n",
       "    </tr>\n",
       "  </tbody>\n",
       "</table>\n",
       "</div>"
      ],
      "text/plain": [
       "shopping_mall  Cevahir AVM  Emaar Square Mall  Forum Istanbul  Istinye Park  \\\n",
       "gender                                                                        \n",
       "Female                2940               2842            3016          5874   \n",
       "Male                  2051               1969            1931          3907   \n",
       "Total                 4991               4811            4947          9781   \n",
       "\n",
       "shopping_mall  Kanyon  Mall of Istanbul  Metrocity  Metropol AVM  \\\n",
       "gender                                                             \n",
       "Female          11906             11902       8941          6144   \n",
       "Male             7917              8041       6070          4017   \n",
       "Total           19823             19943      15011         10161   \n",
       "\n",
       "shopping_mall  Viaport Outlet  Zorlu Center  Total  \n",
       "gender                                              \n",
       "Female                   2949          2968  59482  \n",
       "Male                     1965          2107  39975  \n",
       "Total                    4914          5075  99457  "
      ]
     },
     "execution_count": 40,
     "metadata": {},
     "output_type": "execute_result"
    }
   ],
   "source": [
    "gender_mall = pd.crosstab(\n",
    "    index=shopping_categorical['gender'],\n",
    "    columns=shopping_categorical['shopping_mall'],\n",
    "    margins=True,\n",
    "    margins_name=\"Total\")\n",
    "\n",
    "gender_mall"
   ]
  },
  {
   "cell_type": "code",
   "execution_count": 41,
   "id": "bc393a77-dfc8-4a29-886d-c4e79a42e840",
   "metadata": {},
   "outputs": [
    {
     "data": {
      "text/html": [
       "<div>\n",
       "<style scoped>\n",
       "    .dataframe tbody tr th:only-of-type {\n",
       "        vertical-align: middle;\n",
       "    }\n",
       "\n",
       "    .dataframe tbody tr th {\n",
       "        vertical-align: top;\n",
       "    }\n",
       "\n",
       "    .dataframe thead th {\n",
       "        text-align: right;\n",
       "    }\n",
       "</style>\n",
       "<table border=\"1\" class=\"dataframe\">\n",
       "  <thead>\n",
       "    <tr style=\"text-align: right;\">\n",
       "      <th>shopping_mall</th>\n",
       "      <th>Cevahir AVM</th>\n",
       "      <th>Emaar Square Mall</th>\n",
       "      <th>Forum Istanbul</th>\n",
       "      <th>Istinye Park</th>\n",
       "      <th>Kanyon</th>\n",
       "      <th>Mall of Istanbul</th>\n",
       "      <th>Metrocity</th>\n",
       "      <th>Metropol AVM</th>\n",
       "      <th>Viaport Outlet</th>\n",
       "      <th>Zorlu Center</th>\n",
       "      <th>Total</th>\n",
       "    </tr>\n",
       "    <tr>\n",
       "      <th>payment_method</th>\n",
       "      <th></th>\n",
       "      <th></th>\n",
       "      <th></th>\n",
       "      <th></th>\n",
       "      <th></th>\n",
       "      <th></th>\n",
       "      <th></th>\n",
       "      <th></th>\n",
       "      <th></th>\n",
       "      <th></th>\n",
       "      <th></th>\n",
       "    </tr>\n",
       "  </thead>\n",
       "  <tbody>\n",
       "    <tr>\n",
       "      <th>Cash</th>\n",
       "      <td>2228</td>\n",
       "      <td>2114</td>\n",
       "      <td>2183</td>\n",
       "      <td>4436</td>\n",
       "      <td>8853</td>\n",
       "      <td>8894</td>\n",
       "      <td>6625</td>\n",
       "      <td>4559</td>\n",
       "      <td>2231</td>\n",
       "      <td>2324</td>\n",
       "      <td>44447</td>\n",
       "    </tr>\n",
       "    <tr>\n",
       "      <th>Credit Card</th>\n",
       "      <td>1779</td>\n",
       "      <td>1696</td>\n",
       "      <td>1750</td>\n",
       "      <td>3422</td>\n",
       "      <td>6916</td>\n",
       "      <td>7019</td>\n",
       "      <td>5347</td>\n",
       "      <td>3521</td>\n",
       "      <td>1721</td>\n",
       "      <td>1760</td>\n",
       "      <td>34931</td>\n",
       "    </tr>\n",
       "    <tr>\n",
       "      <th>Debit Card</th>\n",
       "      <td>984</td>\n",
       "      <td>1001</td>\n",
       "      <td>1014</td>\n",
       "      <td>1923</td>\n",
       "      <td>4054</td>\n",
       "      <td>4030</td>\n",
       "      <td>3039</td>\n",
       "      <td>2081</td>\n",
       "      <td>962</td>\n",
       "      <td>991</td>\n",
       "      <td>20079</td>\n",
       "    </tr>\n",
       "    <tr>\n",
       "      <th>Total</th>\n",
       "      <td>4991</td>\n",
       "      <td>4811</td>\n",
       "      <td>4947</td>\n",
       "      <td>9781</td>\n",
       "      <td>19823</td>\n",
       "      <td>19943</td>\n",
       "      <td>15011</td>\n",
       "      <td>10161</td>\n",
       "      <td>4914</td>\n",
       "      <td>5075</td>\n",
       "      <td>99457</td>\n",
       "    </tr>\n",
       "  </tbody>\n",
       "</table>\n",
       "</div>"
      ],
      "text/plain": [
       "shopping_mall   Cevahir AVM  Emaar Square Mall  Forum Istanbul  Istinye Park  \\\n",
       "payment_method                                                                 \n",
       "Cash                   2228               2114            2183          4436   \n",
       "Credit Card            1779               1696            1750          3422   \n",
       "Debit Card              984               1001            1014          1923   \n",
       "Total                  4991               4811            4947          9781   \n",
       "\n",
       "shopping_mall   Kanyon  Mall of Istanbul  Metrocity  Metropol AVM  \\\n",
       "payment_method                                                      \n",
       "Cash              8853              8894       6625          4559   \n",
       "Credit Card       6916              7019       5347          3521   \n",
       "Debit Card        4054              4030       3039          2081   \n",
       "Total            19823             19943      15011         10161   \n",
       "\n",
       "shopping_mall   Viaport Outlet  Zorlu Center  Total  \n",
       "payment_method                                       \n",
       "Cash                      2231          2324  44447  \n",
       "Credit Card               1721          1760  34931  \n",
       "Debit Card                 962           991  20079  \n",
       "Total                     4914          5075  99457  "
      ]
     },
     "execution_count": 41,
     "metadata": {},
     "output_type": "execute_result"
    }
   ],
   "source": [
    "payment_mall = pd.crosstab(\n",
    "    index=shopping_categorical['payment_method'],\n",
    "    columns=shopping_categorical['shopping_mall'],\n",
    "    margins=True,\n",
    "    margins_name=\"Total\")\n",
    "\n",
    "payment_mall"
   ]
  },
  {
   "cell_type": "markdown",
   "id": "6387276b-30fb-41a0-8e28-40c092c6d6ba",
   "metadata": {},
   "source": [
    "### Test Chi-Cuadrado"
   ]
  },
  {
   "cell_type": "markdown",
   "id": "f1a99fe8-6896-4ea3-8384-ee30a5d1ea9d",
   "metadata": {},
   "source": [
    "El test de chi-cuadrado, es una prueba estadística que se utiliza para determinar si existe una asociación significativa entre dos variables categóricas en una tabla de contingencia. El objetivo principal del test de chi-cuadrado es evaluar si las dos variables son independientes o si existe una relación significativa entre ellas."
   ]
  },
  {
   "cell_type": "code",
   "execution_count": 42,
   "id": "b05869fe-dacd-4179-a408-b55322f1999d",
   "metadata": {},
   "outputs": [
    {
     "name": "stdout",
     "output_type": "stream",
     "text": [
      "Estadístico Chi-cuadrado: 2.66502007287277\n",
      "Valor p: 0.8495614219432935\n",
      "No se rechaza la hipótesis nula:No hay evidencia suficiente para concluir una relación significativa.\n"
     ]
    }
   ],
   "source": [
    "chi2, p, _, _ = chi2_contingency(gender_payment)\n",
    "\n",
    "print('Estadístico Chi-cuadrado:', chi2)\n",
    "print('Valor p:', p)\n",
    "\n",
    "# Determina si rechazar o no la hipótesis nula\n",
    "alpha = 0.05  # Nivel de significancia\n",
    "if p < alpha:\n",
    "    print('Se rechaza la hipótesis nula:'\n",
    "          'Hay una relación significativa entre gender y payment_method.')\n",
    "else:\n",
    "    print('No se rechaza la hipótesis nula:'\n",
    "          'No hay evidencia suficiente para concluir una relación significativa.')"
   ]
  },
  {
   "cell_type": "markdown",
   "id": "80122d5d-a7f4-4ddb-a4b9-55e6e1ba7565",
   "metadata": {},
   "source": [
    "Como el valor p (0.85) es mayor que un nivel de significancia predefinido (generalmente 0.05), no tenemos evidencia suficiente para concluir que hay una relación significativa entre el género y el método de pago.\n",
    "En otras palabras, no podemos decir con confianza que el género de las personas está relacionado de manera significativa con el método de pago que eligen."
   ]
  },
  {
   "cell_type": "code",
   "execution_count": 43,
   "id": "12080a13-7d79-4e98-ae2b-025a9d6f95ff",
   "metadata": {},
   "outputs": [
    {
     "name": "stdout",
     "output_type": "stream",
     "text": [
      "Estadístico Chi-cuadrado: 12.446589184688174\n",
      "Valor p: 0.8998478278721687\n",
      "No se rechaza la hipótesis nula:No hay evidencia suficiente para concluir una relación significativa.\n"
     ]
    }
   ],
   "source": [
    "chi2, p, _, _ = chi2_contingency(gender_mall)\n",
    "\n",
    "print('Estadístico Chi-cuadrado:', chi2)\n",
    "print('Valor p:', p)\n",
    "\n",
    "# Determina si rechazar o no la hipótesis nula\n",
    "alpha = 0.05  # Nivel de significancia\n",
    "if p < alpha:\n",
    "    print('Se rechaza la hipótesis nula:'\n",
    "          'Hay una relación significativa entre gender y shopping_mall.')\n",
    "else:\n",
    "    print('No se rechaza la hipótesis nula:'\n",
    "          'No hay evidencia suficiente para concluir una relación significativa.')"
   ]
  },
  {
   "cell_type": "code",
   "execution_count": 44,
   "id": "8b8460ca-6820-412f-866c-714741d8cbba",
   "metadata": {},
   "outputs": [
    {
     "name": "stdout",
     "output_type": "stream",
     "text": [
      "Estadístico Chi-cuadrado: 14.086052029704614\n",
      "Valor p: 0.9939709287574926\n",
      "No se rechaza la hipótesis nula:No hay evidencia suficiente para concluir una relación significativa.\n"
     ]
    }
   ],
   "source": [
    "chi2, p, _, _ = chi2_contingency(payment_mall)\n",
    "\n",
    "print('Estadístico Chi-cuadrado:', chi2)\n",
    "print('Valor p:', p)\n",
    "\n",
    "# Determina si rechazar o no la hipótesis nula\n",
    "alpha = 0.05  # Nivel de significancia\n",
    "if p < alpha:\n",
    "    print('Se rechaza la hipótesis nula:'\n",
    "          'Hay una relación significativa entre payment_method y shopping_mall.')\n",
    "else:\n",
    "    print('No se rechaza la hipótesis nula:'\n",
    "          'No hay evidencia suficiente para concluir una relación significativa.')"
   ]
  },
  {
   "cell_type": "markdown",
   "id": "11b7245b-0c59-4474-bbb1-69d5e6f608b2",
   "metadata": {},
   "source": [
    "### Matriz de Información Mutua"
   ]
  },
  {
   "cell_type": "markdown",
   "id": "b545ad18-e08c-4a1e-8e12-bf8bbd4f30ad",
   "metadata": {},
   "source": [
    "La Matriz de Información Mutua (MIM), es una herramienta utilizada en el campo de la estadística y el análisis de datos para medir la relación o la dependencia entre dos o más variables aleatorias, especialmente en el contexto de variables discretas o categóricas. La Información Mutua (MI) es una medida que cuantifica la dependencia entre dos variables aleatorias al medir cuánta información proporciona una variable sobre la otra."
   ]
  },
  {
   "cell_type": "code",
   "execution_count": 45,
   "id": "7e3dcc83-384f-4632-ba83-4b27ef9b7f5f",
   "metadata": {},
   "outputs": [],
   "source": [
    "datos_array = shopping_categorical.values\n",
    "features = np.arange(0, datos_array.shape[1])\n",
    "MI = []\n",
    "\n",
    "for d in features:\n",
    "    for e in features:\n",
    "        Tabla_Contingencia = pd.crosstab(datos_array[:,d], datos_array[:,e])\n",
    "        mi = mutual_info_score(labels_true=None, labels_pred=None, contingency = Tabla_Contingencia)\n",
    "        MI.append(mi)"
   ]
  },
  {
   "cell_type": "code",
   "execution_count": 46,
   "id": "ac68831f-6d09-4644-828a-7ec89e7ac0a5",
   "metadata": {},
   "outputs": [
    {
     "data": {
      "image/png": "[encoded data removed]",
      "text/plain": [
       "<Figure size 576x576 with 2 Axes>"
      ]
     },
     "metadata": {},
     "output_type": "display_data"
    }
   ],
   "source": [
    "MI = np.asarray(MI)\n",
    "MI = MI.reshape(datos_array.shape[1], datos_array.shape[1])\n",
    "\n",
    "plt.figure(figsize=(8, 8))\n",
    "ax = sns.heatmap(\n",
    "    MI, \n",
    "    annot=True, \n",
    "    fmt='g', \n",
    "    xticklabels = shopping_categorical.columns,\n",
    "    yticklabels = shopping_categorical.columns)\n",
    "plt.show()"
   ]
  },
  {
   "cell_type": "markdown",
   "id": "42525636-0309-4b92-b7e2-6473cbe58f75",
   "metadata": {},
   "source": [
    "Los valores de infomración mutua son muy pequeños por lo que podemos concluir que las variables categóricas no están relacionadas."
   ]
  },
  {
   "cell_type": "markdown",
   "id": "935a6874-8a21-4b61-86da-d1edabecc514",
   "metadata": {},
   "source": [
    "## Variables numéricas"
   ]
  },
  {
   "cell_type": "markdown",
   "id": "c23204e7-2be2-40a6-92b0-2509ea0a3760",
   "metadata": {},
   "source": [
    "### Coeficiente de Correlación de Pearson"
   ]
  },
  {
   "cell_type": "code",
   "execution_count": 47,
   "id": "3062b3a7-1ee4-41b8-968f-724812981f5d",
   "metadata": {},
   "outputs": [],
   "source": [
    "r = []\n",
    "valor_p = []\n",
    "\n",
    "data = shopping_numeric.values\n",
    "caracteristicas = shopping_numeric.columns\n",
    "data = np.asarray(data)\n",
    "\n",
    "for _, n in enumerate(np.arange(0, data.shape[1])):\n",
    "    for _, m in enumerate(np.arange(0, data.shape[1])):\n",
    "        r_valor, p_valor = pearsonr(data[:, n], data[:, m])\n",
    "        r.append(r_valor)\n",
    "        valor_p.append(p_valor)"
   ]
  },
  {
   "cell_type": "code",
   "execution_count": 48,
   "id": "7cbe63d2-506b-4586-987c-43b87d8209e4",
   "metadata": {},
   "outputs": [
    {
     "data": {
      "image/png": "[encoded data removed]",
      "text/plain": [
       "<Figure size 576x576 with 2 Axes>"
      ]
     },
     "metadata": {},
     "output_type": "display_data"
    }
   ],
   "source": [
    "r = np.asarray(r)\n",
    "valor_p = np.asarray(valor_p)\n",
    "\n",
    "# Reshape de los arreglos para coincidir con las dimensiones de los datos originales\n",
    "pearson_r = r.reshape(data.shape[1], data.shape[1])\n",
    "p_value = valor_p.reshape(data.shape[1], data.shape[1])\n",
    "\n",
    "# Creación de un gráfico de mapa de calor\n",
    "plt.figure(figsize=(8, 8))\n",
    "ax = sns.heatmap(\n",
    "    pearson_r, \n",
    "    annot=True, \n",
    "    fmt='g', \n",
    "    xticklabels=caracteristicas, \n",
    "    yticklabels=caracteristicas)\n",
    "\n",
    "plt.show()"
   ]
  },
  {
   "cell_type": "code",
   "execution_count": 49,
   "id": "9e10987b-c864-497a-a4b8-f7b5fa30ab85",
   "metadata": {},
   "outputs": [
    {
     "data": {
      "image/png": "[encoded data removed]",
      "text/plain": [
       "<Figure size 576x576 with 2 Axes>"
      ]
     },
     "metadata": {},
     "output_type": "display_data"
    }
   ],
   "source": [
    "plt.figure(figsize=(8, 8))\n",
    "ax = sns.heatmap(\n",
    "    p_value, \n",
    "    annot=True, \n",
    "    fmt='g', \n",
    "    xticklabels=caracteristicas, \n",
    "    yticklabels=caracteristicas)\n",
    "\n",
    "plt.show()"
   ]
  },
  {
   "cell_type": "markdown",
   "id": "2148bf7d-6c4e-4b49-9186-19b6b2d48fb0",
   "metadata": {},
   "source": [
    "Si $ \\rho <= 0.05 $, la correlación es estadísticamente significativo lo cual hay una relación lineal entre las dos características o variables.\n",
    "Si $ \\rho > 0.05 $, la correlación no es estadísticamente significativo lo cual no hay una correlación lineal significativa entre las dos características o variables.\n",
    "\n",
    "Por lo tanto, $price$ y $quantity$ estan correlacionadas linealmente."
   ]
  },
  {
   "cell_type": "markdown",
   "id": "f0b81492-f251-419a-abae-9a6dbc3dddad",
   "metadata": {},
   "source": [
    "# Transformaciones"
   ]
  },
  {
   "cell_type": "code",
   "execution_count": 50,
   "id": "90430abf-bd67-4a07-a4b8-2189c3818f84",
   "metadata": {},
   "outputs": [],
   "source": [
    "shopping_categorical_dummy = pd.get_dummies(shopping_categorical, drop_first=True)"
   ]
  },
  {
   "cell_type": "code",
   "execution_count": 51,
   "id": "3a1d76db-fd27-4669-8909-b20b6dd71d06",
   "metadata": {},
   "outputs": [
    {
     "data": {
      "text/html": [
       "<div>\n",
       "<style scoped>\n",
       "    .dataframe tbody tr th:only-of-type {\n",
       "        vertical-align: middle;\n",
       "    }\n",
       "\n",
       "    .dataframe tbody tr th {\n",
       "        vertical-align: top;\n",
       "    }\n",
       "\n",
       "    .dataframe thead th {\n",
       "        text-align: right;\n",
       "    }\n",
       "</style>\n",
       "<table border=\"1\" class=\"dataframe\">\n",
       "  <thead>\n",
       "    <tr style=\"text-align: right;\">\n",
       "      <th></th>\n",
       "      <th>gender_Male</th>\n",
       "      <th>payment_method_Credit Card</th>\n",
       "      <th>payment_method_Debit Card</th>\n",
       "      <th>shopping_mall_Emaar Square Mall</th>\n",
       "      <th>shopping_mall_Forum Istanbul</th>\n",
       "      <th>shopping_mall_Istinye Park</th>\n",
       "      <th>shopping_mall_Kanyon</th>\n",
       "      <th>shopping_mall_Mall of Istanbul</th>\n",
       "      <th>shopping_mall_Metrocity</th>\n",
       "      <th>shopping_mall_Metropol AVM</th>\n",
       "      <th>shopping_mall_Viaport Outlet</th>\n",
       "      <th>shopping_mall_Zorlu Center</th>\n",
       "    </tr>\n",
       "  </thead>\n",
       "  <tbody>\n",
       "    <tr>\n",
       "      <th>0</th>\n",
       "      <td>0</td>\n",
       "      <td>1</td>\n",
       "      <td>0</td>\n",
       "      <td>0</td>\n",
       "      <td>0</td>\n",
       "      <td>0</td>\n",
       "      <td>1</td>\n",
       "      <td>0</td>\n",
       "      <td>0</td>\n",
       "      <td>0</td>\n",
       "      <td>0</td>\n",
       "      <td>0</td>\n",
       "    </tr>\n",
       "    <tr>\n",
       "      <th>1</th>\n",
       "      <td>1</td>\n",
       "      <td>0</td>\n",
       "      <td>1</td>\n",
       "      <td>0</td>\n",
       "      <td>1</td>\n",
       "      <td>0</td>\n",
       "      <td>0</td>\n",
       "      <td>0</td>\n",
       "      <td>0</td>\n",
       "      <td>0</td>\n",
       "      <td>0</td>\n",
       "      <td>0</td>\n",
       "    </tr>\n",
       "    <tr>\n",
       "      <th>2</th>\n",
       "      <td>1</td>\n",
       "      <td>0</td>\n",
       "      <td>0</td>\n",
       "      <td>0</td>\n",
       "      <td>0</td>\n",
       "      <td>0</td>\n",
       "      <td>0</td>\n",
       "      <td>0</td>\n",
       "      <td>1</td>\n",
       "      <td>0</td>\n",
       "      <td>0</td>\n",
       "      <td>0</td>\n",
       "    </tr>\n",
       "    <tr>\n",
       "      <th>3</th>\n",
       "      <td>0</td>\n",
       "      <td>1</td>\n",
       "      <td>0</td>\n",
       "      <td>0</td>\n",
       "      <td>0</td>\n",
       "      <td>0</td>\n",
       "      <td>0</td>\n",
       "      <td>0</td>\n",
       "      <td>0</td>\n",
       "      <td>1</td>\n",
       "      <td>0</td>\n",
       "      <td>0</td>\n",
       "    </tr>\n",
       "    <tr>\n",
       "      <th>4</th>\n",
       "      <td>0</td>\n",
       "      <td>0</td>\n",
       "      <td>0</td>\n",
       "      <td>0</td>\n",
       "      <td>0</td>\n",
       "      <td>0</td>\n",
       "      <td>1</td>\n",
       "      <td>0</td>\n",
       "      <td>0</td>\n",
       "      <td>0</td>\n",
       "      <td>0</td>\n",
       "      <td>0</td>\n",
       "    </tr>\n",
       "  </tbody>\n",
       "</table>\n",
       "</div>"
      ],
      "text/plain": [
       "   gender_Male  payment_method_Credit Card  payment_method_Debit Card  \\\n",
       "0            0                           1                          0   \n",
       "1            1                           0                          1   \n",
       "2            1                           0                          0   \n",
       "3            0                           1                          0   \n",
       "4            0                           0                          0   \n",
       "\n",
       "   shopping_mall_Emaar Square Mall  shopping_mall_Forum Istanbul  \\\n",
       "0                                0                             0   \n",
       "1                                0                             1   \n",
       "2                                0                             0   \n",
       "3                                0                             0   \n",
       "4                                0                             0   \n",
       "\n",
       "   shopping_mall_Istinye Park  shopping_mall_Kanyon  \\\n",
       "0                           0                     1   \n",
       "1                           0                     0   \n",
       "2                           0                     0   \n",
       "3                           0                     0   \n",
       "4                           0                     1   \n",
       "\n",
       "   shopping_mall_Mall of Istanbul  shopping_mall_Metrocity  \\\n",
       "0                               0                        0   \n",
       "1                               0                        0   \n",
       "2                               0                        1   \n",
       "3                               0                        0   \n",
       "4                               0                        0   \n",
       "\n",
       "   shopping_mall_Metropol AVM  shopping_mall_Viaport Outlet  \\\n",
       "0                           0                             0   \n",
       "1                           0                             0   \n",
       "2                           0                             0   \n",
       "3                           1                             0   \n",
       "4                           0                             0   \n",
       "\n",
       "   shopping_mall_Zorlu Center  \n",
       "0                           0  \n",
       "1                           0  \n",
       "2                           0  \n",
       "3                           0  \n",
       "4                           0  "
      ]
     },
     "execution_count": 51,
     "metadata": {},
     "output_type": "execute_result"
    }
   ],
   "source": [
    "shopping_categorical_dummy.head()"
   ]
  },
  {
   "cell_type": "code",
   "execution_count": 52,
   "id": "f305da59-eb01-4696-ab98-ed2beae8cc25",
   "metadata": {},
   "outputs": [
    {
     "data": {
      "text/plain": [
       "Clothing           34487\n",
       "Cosmetics          15097\n",
       "Food & Beverage    14776\n",
       "Toys               10087\n",
       "Shoes              10034\n",
       "Souvenir            4999\n",
       "Technology          4996\n",
       "Books               4981\n",
       "Name: category, dtype: int64"
      ]
     },
     "execution_count": 52,
     "metadata": {},
     "output_type": "execute_result"
    }
   ],
   "source": [
    "shopping_data['category'].value_counts()"
   ]
  },
  {
   "cell_type": "code",
   "execution_count": 53,
   "id": "653672c5-6ff2-4687-aacd-6d57ab0f0d34",
   "metadata": {},
   "outputs": [],
   "source": [
    "categories_shopping = shopping_data.groupby('category').agg({'customer_id': 'count'})"
   ]
  },
  {
   "cell_type": "code",
   "execution_count": 54,
   "id": "0514facf-4f15-4f81-b8f5-881a0ff06d43",
   "metadata": {},
   "outputs": [
    {
     "data": {
      "text/html": [
       "<div>\n",
       "<style scoped>\n",
       "    .dataframe tbody tr th:only-of-type {\n",
       "        vertical-align: middle;\n",
       "    }\n",
       "\n",
       "    .dataframe tbody tr th {\n",
       "        vertical-align: top;\n",
       "    }\n",
       "\n",
       "    .dataframe thead th {\n",
       "        text-align: right;\n",
       "    }\n",
       "</style>\n",
       "<table border=\"1\" class=\"dataframe\">\n",
       "  <thead>\n",
       "    <tr style=\"text-align: right;\">\n",
       "      <th></th>\n",
       "      <th>customer_id</th>\n",
       "    </tr>\n",
       "    <tr>\n",
       "      <th>category</th>\n",
       "      <th></th>\n",
       "    </tr>\n",
       "  </thead>\n",
       "  <tbody>\n",
       "    <tr>\n",
       "      <th>Books</th>\n",
       "      <td>4981</td>\n",
       "    </tr>\n",
       "    <tr>\n",
       "      <th>Clothing</th>\n",
       "      <td>34487</td>\n",
       "    </tr>\n",
       "    <tr>\n",
       "      <th>Cosmetics</th>\n",
       "      <td>15097</td>\n",
       "    </tr>\n",
       "    <tr>\n",
       "      <th>Food &amp; Beverage</th>\n",
       "      <td>14776</td>\n",
       "    </tr>\n",
       "    <tr>\n",
       "      <th>Shoes</th>\n",
       "      <td>10034</td>\n",
       "    </tr>\n",
       "    <tr>\n",
       "      <th>Souvenir</th>\n",
       "      <td>4999</td>\n",
       "    </tr>\n",
       "    <tr>\n",
       "      <th>Technology</th>\n",
       "      <td>4996</td>\n",
       "    </tr>\n",
       "    <tr>\n",
       "      <th>Toys</th>\n",
       "      <td>10087</td>\n",
       "    </tr>\n",
       "  </tbody>\n",
       "</table>\n",
       "</div>"
      ],
      "text/plain": [
       "                 customer_id\n",
       "category                    \n",
       "Books                   4981\n",
       "Clothing               34487\n",
       "Cosmetics              15097\n",
       "Food & Beverage        14776\n",
       "Shoes                  10034\n",
       "Souvenir                4999\n",
       "Technology              4996\n",
       "Toys                   10087"
      ]
     },
     "execution_count": 54,
     "metadata": {},
     "output_type": "execute_result"
    }
   ],
   "source": [
    "categories_shopping"
   ]
  },
  {
   "cell_type": "code",
   "execution_count": 55,
   "id": "024e52bf-87d9-43a7-9560-5f04068b0fdc",
   "metadata": {},
   "outputs": [],
   "source": [
    "categories_shopping['per'] = categories_shopping['customer_id'] / categories_shopping['customer_id'].sum() * 100"
   ]
  },
  {
   "cell_type": "code",
   "execution_count": 56,
   "id": "3f6ab2fb-5edd-42cd-9aeb-fbf1ee23d484",
   "metadata": {},
   "outputs": [],
   "source": [
    "categories_shopping = categories_shopping.sort_values(by='customer_id', ascending=False)"
   ]
  },
  {
   "cell_type": "code",
   "execution_count": 57,
   "id": "f5bcf7c2-bd16-43ee-88e4-d5ef1e2d73cc",
   "metadata": {},
   "outputs": [
    {
     "data": {
      "text/html": [
       "<div>\n",
       "<style scoped>\n",
       "    .dataframe tbody tr th:only-of-type {\n",
       "        vertical-align: middle;\n",
       "    }\n",
       "\n",
       "    .dataframe tbody tr th {\n",
       "        vertical-align: top;\n",
       "    }\n",
       "\n",
       "    .dataframe thead th {\n",
       "        text-align: right;\n",
       "    }\n",
       "</style>\n",
       "<table border=\"1\" class=\"dataframe\">\n",
       "  <thead>\n",
       "    <tr style=\"text-align: right;\">\n",
       "      <th></th>\n",
       "      <th>customer_id</th>\n",
       "      <th>per</th>\n",
       "    </tr>\n",
       "    <tr>\n",
       "      <th>category</th>\n",
       "      <th></th>\n",
       "      <th></th>\n",
       "    </tr>\n",
       "  </thead>\n",
       "  <tbody>\n",
       "    <tr>\n",
       "      <th>Clothing</th>\n",
       "      <td>34487</td>\n",
       "      <td>34.675287</td>\n",
       "    </tr>\n",
       "    <tr>\n",
       "      <th>Cosmetics</th>\n",
       "      <td>15097</td>\n",
       "      <td>15.179424</td>\n",
       "    </tr>\n",
       "    <tr>\n",
       "      <th>Food &amp; Beverage</th>\n",
       "      <td>14776</td>\n",
       "      <td>14.856672</td>\n",
       "    </tr>\n",
       "    <tr>\n",
       "      <th>Toys</th>\n",
       "      <td>10087</td>\n",
       "      <td>10.142071</td>\n",
       "    </tr>\n",
       "    <tr>\n",
       "      <th>Shoes</th>\n",
       "      <td>10034</td>\n",
       "      <td>10.088782</td>\n",
       "    </tr>\n",
       "    <tr>\n",
       "      <th>Souvenir</th>\n",
       "      <td>4999</td>\n",
       "      <td>5.026293</td>\n",
       "    </tr>\n",
       "    <tr>\n",
       "      <th>Technology</th>\n",
       "      <td>4996</td>\n",
       "      <td>5.023276</td>\n",
       "    </tr>\n",
       "    <tr>\n",
       "      <th>Books</th>\n",
       "      <td>4981</td>\n",
       "      <td>5.008194</td>\n",
       "    </tr>\n",
       "  </tbody>\n",
       "</table>\n",
       "</div>"
      ],
      "text/plain": [
       "                 customer_id        per\n",
       "category                               \n",
       "Clothing               34487  34.675287\n",
       "Cosmetics              15097  15.179424\n",
       "Food & Beverage        14776  14.856672\n",
       "Toys                   10087  10.142071\n",
       "Shoes                  10034  10.088782\n",
       "Souvenir                4999   5.026293\n",
       "Technology              4996   5.023276\n",
       "Books                   4981   5.008194"
      ]
     },
     "execution_count": 57,
     "metadata": {},
     "output_type": "execute_result"
    }
   ],
   "source": [
    "categories_shopping"
   ]
  },
  {
   "cell_type": "code",
   "execution_count": 58,
   "id": "2a1a0d55-eca8-4837-83b0-b2e1244de02b",
   "metadata": {},
   "outputs": [
    {
     "data": {
      "image/png": "[encoded data removed]",
      "text/plain": [
       "<Figure size 576x360 with 1 Axes>"
      ]
     },
     "metadata": {},
     "output_type": "display_data"
    }
   ],
   "source": [
    "pie_plot(\n",
    "    data=categories_shopping, \n",
    "    col='customer_id',\n",
    "    title='Categorías',\n",
    "    savefig=True)"
   ]
  },
  {
   "cell_type": "markdown",
   "id": "f8a0c0ce-5f44-41e9-af61-9d8d4a7224be",
   "metadata": {},
   "source": [
    "## Agrupación de categorias de bajo porcentaje de participación"
   ]
  },
  {
   "cell_type": "markdown",
   "id": "c808c7b6-661b-4c00-af19-c491ebe1779e",
   "metadata": {},
   "source": [
    "* Eliminar la columna Technology porque no aporta suficientes datos al modelo."
   ]
  },
  {
   "cell_type": "code",
   "execution_count": 59,
   "id": "2a5ab502-bd30-4fbe-94ee-a42d83194398",
   "metadata": {},
   "outputs": [],
   "source": [
    "cond = shopping_data['category'] != 'Technology'\n",
    "shopping_data = shopping_data[cond]"
   ]
  },
  {
   "cell_type": "code",
   "execution_count": 60,
   "id": "b47327cd-3735-4d48-a092-321e101b0e6f",
   "metadata": {},
   "outputs": [],
   "source": [
    "cats = ['Souvenir', 'Books']\n",
    "\n",
    "for cat in cats:\n",
    "    cond = shopping_data['category'] == cat\n",
    "    shopping_data.loc[cond, 'category'] = 'Other'"
   ]
  },
  {
   "cell_type": "code",
   "execution_count": 61,
   "id": "ecfdc273-5312-483f-a187-7d8b4dc429a2",
   "metadata": {},
   "outputs": [],
   "source": [
    "categories_shopping = shopping_data.groupby('category').agg({'customer_id': 'count'})"
   ]
  },
  {
   "cell_type": "code",
   "execution_count": 62,
   "id": "9683e086-21d7-423c-8708-d2353074a383",
   "metadata": {},
   "outputs": [
    {
     "data": {
      "text/html": [
       "<div>\n",
       "<style scoped>\n",
       "    .dataframe tbody tr th:only-of-type {\n",
       "        vertical-align: middle;\n",
       "    }\n",
       "\n",
       "    .dataframe tbody tr th {\n",
       "        vertical-align: top;\n",
       "    }\n",
       "\n",
       "    .dataframe thead th {\n",
       "        text-align: right;\n",
       "    }\n",
       "</style>\n",
       "<table border=\"1\" class=\"dataframe\">\n",
       "  <thead>\n",
       "    <tr style=\"text-align: right;\">\n",
       "      <th></th>\n",
       "      <th>customer_id</th>\n",
       "    </tr>\n",
       "    <tr>\n",
       "      <th>category</th>\n",
       "      <th></th>\n",
       "    </tr>\n",
       "  </thead>\n",
       "  <tbody>\n",
       "    <tr>\n",
       "      <th>Clothing</th>\n",
       "      <td>34487</td>\n",
       "    </tr>\n",
       "    <tr>\n",
       "      <th>Cosmetics</th>\n",
       "      <td>15097</td>\n",
       "    </tr>\n",
       "    <tr>\n",
       "      <th>Food &amp; Beverage</th>\n",
       "      <td>14776</td>\n",
       "    </tr>\n",
       "    <tr>\n",
       "      <th>Other</th>\n",
       "      <td>9980</td>\n",
       "    </tr>\n",
       "    <tr>\n",
       "      <th>Shoes</th>\n",
       "      <td>10034</td>\n",
       "    </tr>\n",
       "    <tr>\n",
       "      <th>Toys</th>\n",
       "      <td>10087</td>\n",
       "    </tr>\n",
       "  </tbody>\n",
       "</table>\n",
       "</div>"
      ],
      "text/plain": [
       "                 customer_id\n",
       "category                    \n",
       "Clothing               34487\n",
       "Cosmetics              15097\n",
       "Food & Beverage        14776\n",
       "Other                   9980\n",
       "Shoes                  10034\n",
       "Toys                   10087"
      ]
     },
     "execution_count": 62,
     "metadata": {},
     "output_type": "execute_result"
    }
   ],
   "source": [
    "categories_shopping"
   ]
  },
  {
   "cell_type": "code",
   "execution_count": 63,
   "id": "e00a962b-3a00-4506-9077-5e5bb960e362",
   "metadata": {},
   "outputs": [
    {
     "data": {
      "image/png": "[encoded data removed]",
      "text/plain": [
       "<Figure size 576x360 with 1 Axes>"
      ]
     },
     "metadata": {},
     "output_type": "display_data"
    }
   ],
   "source": [
    "pie_plot(\n",
    "    data=categories_shopping, \n",
    "    col='customer_id',\n",
    "    title='Categorías agrupadas',\n",
    "    savefig=True)"
   ]
  },
  {
   "cell_type": "markdown",
   "id": "27fc8545-a7be-4673-9057-2b27e5d4a8b2",
   "metadata": {},
   "source": [
    "## Creación de nuevas columnas"
   ]
  },
  {
   "cell_type": "code",
   "execution_count": 64,
   "id": "ba1e83d7-32db-410b-b3c8-2fa062416e1d",
   "metadata": {},
   "outputs": [
    {
     "data": {
      "text/plain": [
       "Index(['invoice_no', 'customer_id', 'gender', 'age', 'category', 'quantity',\n",
       "       'price', 'payment_method', 'invoice_date', 'shopping_mall'],\n",
       "      dtype='object')"
      ]
     },
     "execution_count": 64,
     "metadata": {},
     "output_type": "execute_result"
    }
   ],
   "source": [
    "shopping_data.columns"
   ]
  },
  {
   "cell_type": "code",
   "execution_count": 65,
   "id": "d15b63a0-6787-4393-9d6b-026ba9ad9db1",
   "metadata": {},
   "outputs": [],
   "source": [
    "columns = ['age', 'category', 'price']"
   ]
  },
  {
   "cell_type": "code",
   "execution_count": 66,
   "id": "0378fc89-118d-40eb-a3d7-99b0bf8c25e3",
   "metadata": {},
   "outputs": [],
   "source": [
    "data_set = shopping_data[columns]"
   ]
  },
  {
   "cell_type": "code",
   "execution_count": 67,
   "id": "a6e3dfb6-ba57-405c-9856-11d42b6b605d",
   "metadata": {},
   "outputs": [],
   "source": [
    "data_set = pd.concat([data_set, shopping_categorical_dummy], axis=1)"
   ]
  },
  {
   "cell_type": "code",
   "execution_count": 68,
   "id": "d6e993dd-874c-4597-8735-bf4ec3ce1b76",
   "metadata": {},
   "outputs": [
    {
     "data": {
      "text/html": [
       "<div>\n",
       "<style scoped>\n",
       "    .dataframe tbody tr th:only-of-type {\n",
       "        vertical-align: middle;\n",
       "    }\n",
       "\n",
       "    .dataframe tbody tr th {\n",
       "        vertical-align: top;\n",
       "    }\n",
       "\n",
       "    .dataframe thead th {\n",
       "        text-align: right;\n",
       "    }\n",
       "</style>\n",
       "<table border=\"1\" class=\"dataframe\">\n",
       "  <thead>\n",
       "    <tr style=\"text-align: right;\">\n",
       "      <th></th>\n",
       "      <th>age</th>\n",
       "      <th>category</th>\n",
       "      <th>price</th>\n",
       "      <th>gender_Male</th>\n",
       "      <th>payment_method_Credit Card</th>\n",
       "      <th>payment_method_Debit Card</th>\n",
       "      <th>shopping_mall_Emaar Square Mall</th>\n",
       "      <th>shopping_mall_Forum Istanbul</th>\n",
       "      <th>shopping_mall_Istinye Park</th>\n",
       "      <th>shopping_mall_Kanyon</th>\n",
       "      <th>shopping_mall_Mall of Istanbul</th>\n",
       "      <th>shopping_mall_Metrocity</th>\n",
       "      <th>shopping_mall_Metropol AVM</th>\n",
       "      <th>shopping_mall_Viaport Outlet</th>\n",
       "      <th>shopping_mall_Zorlu Center</th>\n",
       "    </tr>\n",
       "  </thead>\n",
       "  <tbody>\n",
       "    <tr>\n",
       "      <th>0</th>\n",
       "      <td>28.0</td>\n",
       "      <td>Clothing</td>\n",
       "      <td>1500.40</td>\n",
       "      <td>0</td>\n",
       "      <td>1</td>\n",
       "      <td>0</td>\n",
       "      <td>0</td>\n",
       "      <td>0</td>\n",
       "      <td>0</td>\n",
       "      <td>1</td>\n",
       "      <td>0</td>\n",
       "      <td>0</td>\n",
       "      <td>0</td>\n",
       "      <td>0</td>\n",
       "      <td>0</td>\n",
       "    </tr>\n",
       "    <tr>\n",
       "      <th>1</th>\n",
       "      <td>21.0</td>\n",
       "      <td>Shoes</td>\n",
       "      <td>1800.51</td>\n",
       "      <td>1</td>\n",
       "      <td>0</td>\n",
       "      <td>1</td>\n",
       "      <td>0</td>\n",
       "      <td>1</td>\n",
       "      <td>0</td>\n",
       "      <td>0</td>\n",
       "      <td>0</td>\n",
       "      <td>0</td>\n",
       "      <td>0</td>\n",
       "      <td>0</td>\n",
       "      <td>0</td>\n",
       "    </tr>\n",
       "    <tr>\n",
       "      <th>2</th>\n",
       "      <td>20.0</td>\n",
       "      <td>Clothing</td>\n",
       "      <td>300.08</td>\n",
       "      <td>1</td>\n",
       "      <td>0</td>\n",
       "      <td>0</td>\n",
       "      <td>0</td>\n",
       "      <td>0</td>\n",
       "      <td>0</td>\n",
       "      <td>0</td>\n",
       "      <td>0</td>\n",
       "      <td>1</td>\n",
       "      <td>0</td>\n",
       "      <td>0</td>\n",
       "      <td>0</td>\n",
       "    </tr>\n",
       "    <tr>\n",
       "      <th>3</th>\n",
       "      <td>66.0</td>\n",
       "      <td>Shoes</td>\n",
       "      <td>3000.85</td>\n",
       "      <td>0</td>\n",
       "      <td>1</td>\n",
       "      <td>0</td>\n",
       "      <td>0</td>\n",
       "      <td>0</td>\n",
       "      <td>0</td>\n",
       "      <td>0</td>\n",
       "      <td>0</td>\n",
       "      <td>0</td>\n",
       "      <td>1</td>\n",
       "      <td>0</td>\n",
       "      <td>0</td>\n",
       "    </tr>\n",
       "    <tr>\n",
       "      <th>4</th>\n",
       "      <td>53.0</td>\n",
       "      <td>Other</td>\n",
       "      <td>60.60</td>\n",
       "      <td>0</td>\n",
       "      <td>0</td>\n",
       "      <td>0</td>\n",
       "      <td>0</td>\n",
       "      <td>0</td>\n",
       "      <td>0</td>\n",
       "      <td>1</td>\n",
       "      <td>0</td>\n",
       "      <td>0</td>\n",
       "      <td>0</td>\n",
       "      <td>0</td>\n",
       "      <td>0</td>\n",
       "    </tr>\n",
       "  </tbody>\n",
       "</table>\n",
       "</div>"
      ],
      "text/plain": [
       "    age  category    price  gender_Male  payment_method_Credit Card  \\\n",
       "0  28.0  Clothing  1500.40            0                           1   \n",
       "1  21.0     Shoes  1800.51            1                           0   \n",
       "2  20.0  Clothing   300.08            1                           0   \n",
       "3  66.0     Shoes  3000.85            0                           1   \n",
       "4  53.0     Other    60.60            0                           0   \n",
       "\n",
       "   payment_method_Debit Card  shopping_mall_Emaar Square Mall  \\\n",
       "0                          0                                0   \n",
       "1                          1                                0   \n",
       "2                          0                                0   \n",
       "3                          0                                0   \n",
       "4                          0                                0   \n",
       "\n",
       "   shopping_mall_Forum Istanbul  shopping_mall_Istinye Park  \\\n",
       "0                             0                           0   \n",
       "1                             1                           0   \n",
       "2                             0                           0   \n",
       "3                             0                           0   \n",
       "4                             0                           0   \n",
       "\n",
       "   shopping_mall_Kanyon  shopping_mall_Mall of Istanbul  \\\n",
       "0                     1                               0   \n",
       "1                     0                               0   \n",
       "2                     0                               0   \n",
       "3                     0                               0   \n",
       "4                     1                               0   \n",
       "\n",
       "   shopping_mall_Metrocity  shopping_mall_Metropol AVM  \\\n",
       "0                        0                           0   \n",
       "1                        0                           0   \n",
       "2                        1                           0   \n",
       "3                        0                           1   \n",
       "4                        0                           0   \n",
       "\n",
       "   shopping_mall_Viaport Outlet  shopping_mall_Zorlu Center  \n",
       "0                             0                           0  \n",
       "1                             0                           0  \n",
       "2                             0                           0  \n",
       "3                             0                           0  \n",
       "4                             0                           0  "
      ]
     },
     "execution_count": 68,
     "metadata": {},
     "output_type": "execute_result"
    }
   ],
   "source": [
    "data_set.head()"
   ]
  },
  {
   "cell_type": "code",
   "execution_count": 69,
   "id": "a5965e3d-fd3a-492b-9a06-a9e6e0da5e5a",
   "metadata": {},
   "outputs": [],
   "source": [
    "path_save = os.path.join('..', 'data', 'customers_model.csv')\n",
    "data_set.to_csv(path_save, index=False)"
   ]
  },
  {
   "cell_type": "code",
   "execution_count": null,
   "id": "1f14c0f3-0632-4021-bf3a-3a8d9780fd88",
   "metadata": {},
   "outputs": [],
   "source": []
  }
 ],
 "metadata": {
  "kernelspec": {
   "display_name": "Python 3 (ipykernel)",
   "language": "python",
   "name": "python3"
  },
  "language_info": {
   "codemirror_mode": {
    "name": "ipython",
    "version": 3
   },
   "file_extension": ".py",
   "mimetype": "text/x-python",
   "name": "python",
   "nbconvert_exporter": "python",
   "pygments_lexer": "ipython3",
   "version": "3.9.13"
  },
  "toc-autonumbering": true
 },
 "nbformat": 4,
 "nbformat_minor": 5
}
