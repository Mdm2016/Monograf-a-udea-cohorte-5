{
 "cells": [
  {
   "cell_type": "markdown",
   "id": "20909546-8773-4b04-b68a-b7143fe8865f",
   "metadata": {},
   "source": [
    "# Customer shopping"
   ]
  },
  {
   "cell_type": "markdown",
   "id": "a3171ceb-98be-4532-ba6c-561b4f57f96e",
   "metadata": {},
   "source": [
    "## Librerías"
   ]
  },
  {
   "cell_type": "code",
   "execution_count": 1,
   "id": "2f2501d7-e492-4ef5-8e8e-bd0dda31ce86",
   "metadata": {},
   "outputs": [],
   "source": [
    "import matplotlib.pyplot as plt\n",
    "import numpy as np\n",
    "import os\n",
    "import pandas as pd\n",
    "import seaborn as sns\n",
    "\n",
    "from typing import Any\n",
    "from typing import List"
   ]
  },
  {
   "cell_type": "code",
   "execution_count": 2,
   "id": "af3b8a03-a166-413a-b09e-98a034ece03f",
   "metadata": {},
   "outputs": [],
   "source": [
    "%matplotlib inline\n",
    "\n",
    "plt.style.use('ggplot')\n",
    "sns.set(style=\"whitegrid\")"
   ]
  },
  {
   "cell_type": "code",
   "execution_count": 3,
   "id": "885113eb-8914-4d04-bb4d-d8175956331b",
   "metadata": {},
   "outputs": [],
   "source": [
    "pd.set_option('display.max_colwidth', None)\n",
    "pd.set_option('display.max_columns', None)"
   ]
  },
  {
   "cell_type": "markdown",
   "id": "ab5a5cf0-80f3-4d07-b48f-3eee8b5e7be6",
   "metadata": {},
   "source": [
    "## Funciones utiles"
   ]
  },
  {
   "cell_type": "markdown",
   "id": "1c5a8704-046e-4a32-9af5-3a8c1da2ea2e",
   "metadata": {},
   "source": [
    "### Gráficas"
   ]
  },
  {
   "cell_type": "code",
   "execution_count": 4,
   "id": "5023be15-8864-4c95-99a8-1d05ab884cff",
   "metadata": {},
   "outputs": [],
   "source": [
    "def pie_plot(data: pd.DataFrame, \n",
    "             col: str,\n",
    "             title: str,\n",
    "             savefig: bool = False) -> None:\n",
    "    \"\"\"Genera un gráfico de torta basado en una columna de un \n",
    "     DataFrame.\n",
    "\n",
    "    Args:\n",
    "        data (pd.DataFrame): El DataFrame que contiene los datos.\n",
    "        col (str): El nombre de la columna a graficar.\n",
    "        title (str): Título de la gráfica.\n",
    "        savefig (bool): Opcional. Si se quiere guardar la imagen en output.\n",
    "\n",
    "    Returns:\n",
    "        None: Muestra el gráfico de pastel.\n",
    "\n",
    "    \"\"\"\n",
    "    plt.figure(figsize=(8, 5))\n",
    "    \n",
    "    datos = data[col]\n",
    "    labels = datos.index\n",
    "    \n",
    "    # Generar paleta de colores con Seaborn\n",
    "    colors = sns.color_palette(\"blend:#7AB,#EDA\", len(datos))\n",
    "    \n",
    "    # Generación del diagrama circular\n",
    "    patches, texts, autotexts = plt.pie(\n",
    "        datos, \n",
    "        labels=labels, \n",
    "        colors=colors, \n",
    "        autopct='%1.1f%%', \n",
    "        startangle=90, \n",
    "        textprops={'fontsize': 12})\n",
    "    \n",
    "    # Para que siempre se vea como un círculo\n",
    "    plt.axis('equal')\n",
    "    \n",
    "    # Agregar título\n",
    "    plt.title(title)\n",
    "    \n",
    "    # Guardar la figura si savefig es True y se proporciona una ruta\n",
    "    if savefig:\n",
    "        path_save = os.path.join('..', 'output', f'{title.replace(\" \", \"_\")}.png')\n",
    "        plt.savefig(path_save, bbox_inches='tight')\n",
    "        \n",
    "    plt.show()"
   ]
  },
  {
   "cell_type": "code",
   "execution_count": 5,
   "id": "41e8c5aa-35d5-49c0-bb26-5cd3f9bcdbdd",
   "metadata": {},
   "outputs": [],
   "source": [
    "def bar_subplots(df: pd.DataFrame, \n",
    "                 columns: List[str],\n",
    "                 title: str,\n",
    "                 savefig: bool = False) -> None:\n",
    "    \"\"\"Genera diagramas de barras para contar la cantidad \n",
    "     según columna especificada.\n",
    "\n",
    "    Args:\n",
    "        df: DataFrame que contiene los datos de los hurtos.\n",
    "        columns: Lista de columnas del DataFrame a \n",
    "         mostrar en los diagramas de barras.\n",
    "        title: Título de la gráfica.\n",
    "        savefig: Opcional. Si se quiere guardar la imagen \n",
    "         en output.\n",
    "\n",
    "    \"\"\"\n",
    "    num_columnas = len(columns)\n",
    "    num_filas = num_columnas // 2 + num_columnas % 2 \n",
    "\n",
    "    fig, axs = plt.subplots(num_filas, 2, figsize=(12, 4 * num_filas))\n",
    "    fig.tight_layout(pad=4.0)\n",
    "    \n",
    "    fig.suptitle(title, fontsize=16)\n",
    "\n",
    "    for i, columna in enumerate(columns):\n",
    "        ax = axs[i // 2, i % 2] if num_filas > 1 else axs[i]\n",
    "        valores = df[columna].value_counts()\n",
    "\n",
    "        ax.bar(valores.index, valores.values)\n",
    "        ax.set_title(f\"Transacciones {columna}\")\n",
    "        plt.xlabel(None)\n",
    "        ax.yaxis.set_visible(False)\n",
    "        \n",
    "        ax.set_xticks(range(len(valores.index))) \n",
    "        ax.set_xticklabels(valores.index, rotation=20) \n",
    "\n",
    "        for p in ax.patches:\n",
    "            ax.annotate(\n",
    "                '{:,.0f}'.format(int(p.get_height())).replace(\",\", \".\"),\n",
    "                (p.get_x() + p.get_width() / 2.0, p.get_height()),\n",
    "                ha='center',\n",
    "                va='center',\n",
    "                xytext=(0, 10),\n",
    "                textcoords='offset points',\n",
    "                fontsize=10)\n",
    "\n",
    "        for spine in ax.spines:\n",
    "            ax.spines[spine].set_visible(False)\n",
    "    \n",
    "    if savefig:\n",
    "        path_save = os.path.join('..', 'output', f'{title}.png')\n",
    "        plt.savefig(path_save, bbox_inches='tight')\n",
    "\n",
    "    plt.show()"
   ]
  },
  {
   "cell_type": "code",
   "execution_count": 6,
   "id": "cfdba70f-ec43-4f43-ab1b-73eac2960030",
   "metadata": {},
   "outputs": [],
   "source": [
    "def bar_plot(df: pd.DataFrame, \n",
    "             column: str, \n",
    "             title: str, \n",
    "             savefig: bool = False) -> None:\n",
    "    \"\"\"Genera un gráfico de barras para visualizar datos de una columna \n",
    "     específica en un DataFrame.\n",
    "\n",
    "    Args:\n",
    "        df (pd.DataFrame): El DataFrame que contiene los datos.\n",
    "        column (str): El nombre de la columna que se desea visualizar.\n",
    "        title (str): Título de la gráfica.\n",
    "        savefig (bool, optional): Indica si se debe guardar la imagen del gráfico.\n",
    "\n",
    "    \"\"\"\n",
    "    plt.figure(figsize=(8, 6))\n",
    "\n",
    "    ax = sns.barplot(x=df.index, y=df[column], color='skyblue')\n",
    "\n",
    "    for p in ax.patches:\n",
    "        ax.annotate(\n",
    "            '{:,.0f}'.format(int(p.get_height())).replace(\",\", \".\"),\n",
    "            (p.get_x() + p.get_width() / 2.0, p.get_height()),\n",
    "            ha='center',\n",
    "            va='center',\n",
    "            xytext=(0, 10),\n",
    "            textcoords='offset points',\n",
    "            fontsize=10)\n",
    "\n",
    "    ax.spines['top'].set_visible(False)\n",
    "    ax.spines['right'].set_visible(False)\n",
    "    ax.spines['bottom'].set_visible(False)\n",
    "    ax.spines['left'].set_visible(False)\n",
    "\n",
    "    ax.yaxis.set_visible(False)\n",
    "    ax.xaxis.set_visible(True)\n",
    "    \n",
    "    ax.set_xticklabels(ax.get_xticklabels(), rotation=90)\n",
    "\n",
    "    plt.title(title)\n",
    "    plt.xlabel('')\n",
    "\n",
    "    if savefig:\n",
    "        plt.savefig(\n",
    "            os.path.join('..', 'output', f'{title.replace(\" \", \"_\")}.png'),\n",
    "            bbox_inches='tight')\n",
    "\n",
    "    plt.show()"
   ]
  },
  {
   "cell_type": "code",
   "execution_count": 7,
   "id": "561c150c-e1c9-4b27-9eee-d0a133a8612b",
   "metadata": {},
   "outputs": [],
   "source": [
    "def bar_numeric(data: pd.DataFrame, \n",
    "                col: str, \n",
    "                title: str,\n",
    "                bins: Any = 'auto',\n",
    "                kde: bool = False,\n",
    "                xticks: bool = False,\n",
    "                savefig: bool = False) -> None:\n",
    "    \"\"\"Genera un histograma de una columna específica de un DataFrame.\n",
    "    Esta función toma un DataFrame de pandas, el nombre de una columna, y \n",
    "    genera un histograma de los datos en esa columna. Opcionalmente, \n",
    "    también puede añadir una estimación de la densidad del kernel (KDE) y \n",
    "    guardar la figura en un archivo.\n",
    "\n",
    "    Args:\n",
    "        data (pd.DataFrame): DataFrame de pandas que contiene los datos.\n",
    "        col (str): Nombre de la columna de la cual se generará el histograma.\n",
    "        title (str): Título del gráfico.\n",
    "        xticks (bool): Si es True, añade eje x.\n",
    "        kde (bool, opcional): Si es True, añade una estimación de la densidad del \n",
    "         kernel al histograma.\n",
    "        savefig (bool, opcional): Si es True, guarda la figura en un archivo.\n",
    "\n",
    "    Returns:\n",
    "        None\n",
    "\n",
    "    \"\"\"\n",
    "    plt.figure(figsize=(10, 5))\n",
    "    \n",
    "    sns.histplot(data[col], kde=kde, color='skyblue', bins=bins)\n",
    "    \n",
    "    new_title = f'Distribución de {title}'\n",
    "    \n",
    "    plt.title(new_title)\n",
    "    plt.xlabel('')\n",
    "    plt.ylabel('Frecuencia')\n",
    "    \n",
    "    if xticks:\n",
    "        plt.xticks(range(1, 6))\n",
    "    \n",
    "    if savefig:\n",
    "        path_save = os.path.join('..', 'output', f'{new_title}.png')\n",
    "        plt.savefig(path_save, bbox_inches='tight')\n",
    "    \n",
    "    plt.show()"
   ]
  },
  {
   "cell_type": "markdown",
   "id": "5e0ca97a-2000-4de8-ab6e-5ebc2082e484",
   "metadata": {},
   "source": [
    "# Exploración de datos"
   ]
  },
  {
   "cell_type": "markdown",
   "id": "8f4445bd-2b6e-45d0-ae36-f66762e141f6",
   "metadata": {},
   "source": [
    "## Carga de datos"
   ]
  },
  {
   "cell_type": "code",
   "execution_count": 8,
   "id": "c543d190-25a9-45ad-af1c-57ffd8b1bdec",
   "metadata": {},
   "outputs": [],
   "source": [
    "path = os.path.join('data', 'customer_shopping_data.csv')\n",
    "shopping_data = pd.read_csv(path)"
   ]
  },
  {
   "cell_type": "code",
   "execution_count": 9,
   "id": "2fa4da3e-e5a7-4e7b-aabd-673a7a2eaae7",
   "metadata": {},
   "outputs": [
    {
     "data": {
      "text/html": [
       "<div>\n",
       "<style scoped>\n",
       "    .dataframe tbody tr th:only-of-type {\n",
       "        vertical-align: middle;\n",
       "    }\n",
       "\n",
       "    .dataframe tbody tr th {\n",
       "        vertical-align: top;\n",
       "    }\n",
       "\n",
       "    .dataframe thead th {\n",
       "        text-align: right;\n",
       "    }\n",
       "</style>\n",
       "<table border=\"1\" class=\"dataframe\">\n",
       "  <thead>\n",
       "    <tr style=\"text-align: right;\">\n",
       "      <th></th>\n",
       "      <th>invoice_no</th>\n",
       "      <th>customer_id</th>\n",
       "      <th>gender</th>\n",
       "      <th>age</th>\n",
       "      <th>category</th>\n",
       "      <th>quantity</th>\n",
       "      <th>price</th>\n",
       "      <th>payment_method</th>\n",
       "      <th>invoice_date</th>\n",
       "      <th>shopping_mall</th>\n",
       "    </tr>\n",
       "  </thead>\n",
       "  <tbody>\n",
       "    <tr>\n",
       "      <th>0</th>\n",
       "      <td>I138884</td>\n",
       "      <td>C241288</td>\n",
       "      <td>Female</td>\n",
       "      <td>28</td>\n",
       "      <td>Clothing</td>\n",
       "      <td>5</td>\n",
       "      <td>1500.40</td>\n",
       "      <td>Credit Card</td>\n",
       "      <td>5/8/2022</td>\n",
       "      <td>Kanyon</td>\n",
       "    </tr>\n",
       "    <tr>\n",
       "      <th>1</th>\n",
       "      <td>I317333</td>\n",
       "      <td>C111565</td>\n",
       "      <td>Male</td>\n",
       "      <td>21</td>\n",
       "      <td>Shoes</td>\n",
       "      <td>3</td>\n",
       "      <td>1800.51</td>\n",
       "      <td>Debit Card</td>\n",
       "      <td>12/12/2021</td>\n",
       "      <td>Forum Istanbul</td>\n",
       "    </tr>\n",
       "  </tbody>\n",
       "</table>\n",
       "</div>"
      ],
      "text/plain": [
       "  invoice_no customer_id  gender  age  category  quantity    price  \\\n",
       "0    I138884     C241288  Female   28  Clothing         5  1500.40   \n",
       "1    I317333     C111565    Male   21     Shoes         3  1800.51   \n",
       "\n",
       "  payment_method invoice_date   shopping_mall  \n",
       "0    Credit Card     5/8/2022          Kanyon  \n",
       "1     Debit Card   12/12/2021  Forum Istanbul  "
      ]
     },
     "execution_count": 9,
     "metadata": {},
     "output_type": "execute_result"
    }
   ],
   "source": [
    "shopping_data.head(2)"
   ]
  },
  {
   "cell_type": "code",
   "execution_count": 10,
   "id": "ff4fc655-ae14-4753-ae11-c6cb97201886",
   "metadata": {},
   "outputs": [
    {
     "data": {
      "text/plain": [
       "(99457, 10)"
      ]
     },
     "execution_count": 10,
     "metadata": {},
     "output_type": "execute_result"
    }
   ],
   "source": [
    "shopping_data.shape"
   ]
  },
  {
   "cell_type": "code",
   "execution_count": 11,
   "id": "d36b7866-f832-4558-9b78-53f70c940887",
   "metadata": {},
   "outputs": [
    {
     "name": "stdout",
     "output_type": "stream",
     "text": [
      "<class 'pandas.core.frame.DataFrame'>\n",
      "RangeIndex: 99457 entries, 0 to 99456\n",
      "Data columns (total 10 columns):\n",
      " #   Column          Non-Null Count  Dtype  \n",
      "---  ------          --------------  -----  \n",
      " 0   invoice_no      99457 non-null  object \n",
      " 1   customer_id     99457 non-null  object \n",
      " 2   gender          99457 non-null  object \n",
      " 3   age             99457 non-null  int64  \n",
      " 4   category        99457 non-null  object \n",
      " 5   quantity        99457 non-null  int64  \n",
      " 6   price           99457 non-null  float64\n",
      " 7   payment_method  99457 non-null  object \n",
      " 8   invoice_date    99457 non-null  object \n",
      " 9   shopping_mall   99457 non-null  object \n",
      "dtypes: float64(1), int64(2), object(7)\n",
      "memory usage: 7.6+ MB\n"
     ]
    }
   ],
   "source": [
    "shopping_data.info()"
   ]
  },
  {
   "cell_type": "markdown",
   "id": "fcd2d932-1d8a-491a-8400-924cccd9f15e",
   "metadata": {},
   "source": [
    "* *invoice_no*: Número de factura.\n",
    "\n",
    "* *customer_id*: ID del cliente.\n",
    "\n",
    "* *gender*: Género del cliente.\n",
    "\n",
    "* *age*: Edad del cliente.\n",
    "\n",
    "* *category*: Categoría de los productos comprados.\n",
    "\n",
    "* *quantity*: Cantidad de productos comprados.\n",
    "\n",
    "* *price*: Precio total de los productos comprados.\n",
    "\n",
    "* *payment_method*: Método de pago utilizado.\n",
    "\n",
    "* *invoice_date*: Fecha de la factura.\n",
    "\n",
    "* *shopping_mall*: Centro comercial donde se realizó la compra."
   ]
  },
  {
   "cell_type": "code",
   "execution_count": 12,
   "id": "0227e60c-05a4-4080-afc0-b91f847349da",
   "metadata": {},
   "outputs": [
    {
     "data": {
      "text/html": [
       "<div>\n",
       "<style scoped>\n",
       "    .dataframe tbody tr th:only-of-type {\n",
       "        vertical-align: middle;\n",
       "    }\n",
       "\n",
       "    .dataframe tbody tr th {\n",
       "        vertical-align: top;\n",
       "    }\n",
       "\n",
       "    .dataframe thead th {\n",
       "        text-align: right;\n",
       "    }\n",
       "</style>\n",
       "<table border=\"1\" class=\"dataframe\">\n",
       "  <thead>\n",
       "    <tr style=\"text-align: right;\">\n",
       "      <th></th>\n",
       "      <th>age</th>\n",
       "      <th>quantity</th>\n",
       "      <th>price</th>\n",
       "    </tr>\n",
       "  </thead>\n",
       "  <tbody>\n",
       "    <tr>\n",
       "      <th>count</th>\n",
       "      <td>99457.000000</td>\n",
       "      <td>99457.000000</td>\n",
       "      <td>99457.000000</td>\n",
       "    </tr>\n",
       "    <tr>\n",
       "      <th>mean</th>\n",
       "      <td>43.427089</td>\n",
       "      <td>3.003429</td>\n",
       "      <td>689.256321</td>\n",
       "    </tr>\n",
       "    <tr>\n",
       "      <th>std</th>\n",
       "      <td>14.990054</td>\n",
       "      <td>1.413025</td>\n",
       "      <td>941.184567</td>\n",
       "    </tr>\n",
       "    <tr>\n",
       "      <th>min</th>\n",
       "      <td>18.000000</td>\n",
       "      <td>1.000000</td>\n",
       "      <td>5.230000</td>\n",
       "    </tr>\n",
       "    <tr>\n",
       "      <th>25%</th>\n",
       "      <td>30.000000</td>\n",
       "      <td>2.000000</td>\n",
       "      <td>45.450000</td>\n",
       "    </tr>\n",
       "    <tr>\n",
       "      <th>50%</th>\n",
       "      <td>43.000000</td>\n",
       "      <td>3.000000</td>\n",
       "      <td>203.300000</td>\n",
       "    </tr>\n",
       "    <tr>\n",
       "      <th>75%</th>\n",
       "      <td>56.000000</td>\n",
       "      <td>4.000000</td>\n",
       "      <td>1200.320000</td>\n",
       "    </tr>\n",
       "    <tr>\n",
       "      <th>max</th>\n",
       "      <td>69.000000</td>\n",
       "      <td>5.000000</td>\n",
       "      <td>5250.000000</td>\n",
       "    </tr>\n",
       "  </tbody>\n",
       "</table>\n",
       "</div>"
      ],
      "text/plain": [
       "                age      quantity         price\n",
       "count  99457.000000  99457.000000  99457.000000\n",
       "mean      43.427089      3.003429    689.256321\n",
       "std       14.990054      1.413025    941.184567\n",
       "min       18.000000      1.000000      5.230000\n",
       "25%       30.000000      2.000000     45.450000\n",
       "50%       43.000000      3.000000    203.300000\n",
       "75%       56.000000      4.000000   1200.320000\n",
       "max       69.000000      5.000000   5250.000000"
      ]
     },
     "execution_count": 12,
     "metadata": {},
     "output_type": "execute_result"
    }
   ],
   "source": [
    "shopping_data.describe()"
   ]
  },
  {
   "cell_type": "code",
   "execution_count": 13,
   "id": "74782b3a-d0f0-46ac-8f73-c93433cc532b",
   "metadata": {},
   "outputs": [
    {
     "data": {
      "text/html": [
       "<div>\n",
       "<style scoped>\n",
       "    .dataframe tbody tr th:only-of-type {\n",
       "        vertical-align: middle;\n",
       "    }\n",
       "\n",
       "    .dataframe tbody tr th {\n",
       "        vertical-align: top;\n",
       "    }\n",
       "\n",
       "    .dataframe thead th {\n",
       "        text-align: right;\n",
       "    }\n",
       "</style>\n",
       "<table border=\"1\" class=\"dataframe\">\n",
       "  <thead>\n",
       "    <tr style=\"text-align: right;\">\n",
       "      <th></th>\n",
       "      <th>invoice_no</th>\n",
       "      <th>customer_id</th>\n",
       "      <th>gender</th>\n",
       "      <th>category</th>\n",
       "      <th>payment_method</th>\n",
       "      <th>invoice_date</th>\n",
       "      <th>shopping_mall</th>\n",
       "    </tr>\n",
       "  </thead>\n",
       "  <tbody>\n",
       "    <tr>\n",
       "      <th>count</th>\n",
       "      <td>99457</td>\n",
       "      <td>99457</td>\n",
       "      <td>99457</td>\n",
       "      <td>99457</td>\n",
       "      <td>99457</td>\n",
       "      <td>99457</td>\n",
       "      <td>99457</td>\n",
       "    </tr>\n",
       "    <tr>\n",
       "      <th>unique</th>\n",
       "      <td>99457</td>\n",
       "      <td>99457</td>\n",
       "      <td>2</td>\n",
       "      <td>8</td>\n",
       "      <td>3</td>\n",
       "      <td>797</td>\n",
       "      <td>10</td>\n",
       "    </tr>\n",
       "    <tr>\n",
       "      <th>top</th>\n",
       "      <td>I138884</td>\n",
       "      <td>C241288</td>\n",
       "      <td>Female</td>\n",
       "      <td>Clothing</td>\n",
       "      <td>Cash</td>\n",
       "      <td>24/11/2021</td>\n",
       "      <td>Mall of Istanbul</td>\n",
       "    </tr>\n",
       "    <tr>\n",
       "      <th>freq</th>\n",
       "      <td>1</td>\n",
       "      <td>1</td>\n",
       "      <td>59482</td>\n",
       "      <td>34487</td>\n",
       "      <td>44447</td>\n",
       "      <td>159</td>\n",
       "      <td>19943</td>\n",
       "    </tr>\n",
       "  </tbody>\n",
       "</table>\n",
       "</div>"
      ],
      "text/plain": [
       "       invoice_no customer_id  gender  category payment_method invoice_date  \\\n",
       "count       99457       99457   99457     99457          99457        99457   \n",
       "unique      99457       99457       2         8              3          797   \n",
       "top       I138884     C241288  Female  Clothing           Cash   24/11/2021   \n",
       "freq            1           1   59482     34487          44447          159   \n",
       "\n",
       "           shopping_mall  \n",
       "count              99457  \n",
       "unique                10  \n",
       "top     Mall of Istanbul  \n",
       "freq               19943  "
      ]
     },
     "execution_count": 13,
     "metadata": {},
     "output_type": "execute_result"
    }
   ],
   "source": [
    "shopping_data.describe(include=[object])"
   ]
  },
  {
   "cell_type": "markdown",
   "id": "e698e5e4-e5f6-464c-b9c4-66174ce96355",
   "metadata": {},
   "source": [
    "## Visualización de características"
   ]
  },
  {
   "cell_type": "markdown",
   "id": "24a0c3ef-3a38-4d17-a051-df417d7cfb54",
   "metadata": {},
   "source": [
    "El conjunto de datos \"Customer Shopping Dataset\" contiene información sobre las transacciones de compras realizadas en una tienda minorista en Turquía desde el año 2021 hasta el 2023. Todas las columnas tienen 99,457 entradas no nulas, lo que indica que no hay valores faltantes en el conjunto de datos. Las columnas invoice_no, customer_id, gender, category, payment_method, invoice_date, y shopping_mall son de tipo objeto, lo que sugiere que contienen texto o categorías. Las columnas age, quantity, y price son numéricas, con age y quantity siendo enteros y price siendo de punto flotante."
   ]
  },
  {
   "cell_type": "code",
   "execution_count": 14,
   "id": "54aa5a33-c2e2-4fce-9f42-90871709265b",
   "metadata": {},
   "outputs": [],
   "source": [
    "shopping_categorical = shopping_data.select_dtypes(include=['object'])\n",
    "shopping_numeric = shopping_data.select_dtypes(include=[np.number])"
   ]
  },
  {
   "cell_type": "markdown",
   "id": "7786873e-8f55-4153-a7ba-2d980d5fe45c",
   "metadata": {},
   "source": [
    "### Características categóricas"
   ]
  },
  {
   "cell_type": "code",
   "execution_count": 15,
   "id": "c9cca739-a3c8-4755-8f06-f5db82480c58",
   "metadata": {},
   "outputs": [],
   "source": [
    "gender = shopping_data.groupby('gender').agg({'customer_id': 'count'})"
   ]
  },
  {
   "cell_type": "code",
   "execution_count": 16,
   "id": "5e542a3a-c525-415c-b3f5-6bfc74663ed8",
   "metadata": {},
   "outputs": [
    {
     "data": {
      "text/html": [
       "<div>\n",
       "<style scoped>\n",
       "    .dataframe tbody tr th:only-of-type {\n",
       "        vertical-align: middle;\n",
       "    }\n",
       "\n",
       "    .dataframe tbody tr th {\n",
       "        vertical-align: top;\n",
       "    }\n",
       "\n",
       "    .dataframe thead th {\n",
       "        text-align: right;\n",
       "    }\n",
       "</style>\n",
       "<table border=\"1\" class=\"dataframe\">\n",
       "  <thead>\n",
       "    <tr style=\"text-align: right;\">\n",
       "      <th></th>\n",
       "      <th>customer_id</th>\n",
       "    </tr>\n",
       "    <tr>\n",
       "      <th>gender</th>\n",
       "      <th></th>\n",
       "    </tr>\n",
       "  </thead>\n",
       "  <tbody>\n",
       "    <tr>\n",
       "      <th>Female</th>\n",
       "      <td>59482</td>\n",
       "    </tr>\n",
       "    <tr>\n",
       "      <th>Male</th>\n",
       "      <td>39975</td>\n",
       "    </tr>\n",
       "  </tbody>\n",
       "</table>\n",
       "</div>"
      ],
      "text/plain": [
       "        customer_id\n",
       "gender             \n",
       "Female        59482\n",
       "Male          39975"
      ]
     },
     "execution_count": 16,
     "metadata": {},
     "output_type": "execute_result"
    }
   ],
   "source": [
    "gender"
   ]
  },
  {
   "cell_type": "code",
   "execution_count": 17,
   "id": "c3ec90ab-a4cd-4693-aa52-26ba8d9104d4",
   "metadata": {},
   "outputs": [
    {
     "data": {
      "image/png": "[encoded data removed]",
      "text/plain": [
       "<Figure size 576x360 with 1 Axes>"
      ]
     },
     "metadata": {},
     "output_type": "display_data"
    }
   ],
   "source": [
    "pie_plot(\n",
    "    data=gender, \n",
    "    col='customer_id',\n",
    "    title='Participación género',\n",
    "    savefig=True)"
   ]
  },
  {
   "cell_type": "markdown",
   "id": "bc3c9cd9-ac99-4e22-b8e0-a8a17b3e655b",
   "metadata": {},
   "source": [
    "* En la gráfica anterior se evidencia que son las mujeres las que tienen una mayor participación en las compras con una diferencia de $19.507$ transacciones de diferencia."
   ]
  },
  {
   "cell_type": "code",
   "execution_count": 18,
   "id": "b0d6693c-c33e-45cf-b70a-9e1aefac052c",
   "metadata": {},
   "outputs": [],
   "source": [
    "payment_method = shopping_data.groupby('payment_method').agg({'customer_id': 'count'})"
   ]
  },
  {
   "cell_type": "code",
   "execution_count": 19,
   "id": "138c33e9-93e7-48a9-9307-4018b9d906a8",
   "metadata": {},
   "outputs": [
    {
     "data": {
      "text/html": [
       "<div>\n",
       "<style scoped>\n",
       "    .dataframe tbody tr th:only-of-type {\n",
       "        vertical-align: middle;\n",
       "    }\n",
       "\n",
       "    .dataframe tbody tr th {\n",
       "        vertical-align: top;\n",
       "    }\n",
       "\n",
       "    .dataframe thead th {\n",
       "        text-align: right;\n",
       "    }\n",
       "</style>\n",
       "<table border=\"1\" class=\"dataframe\">\n",
       "  <thead>\n",
       "    <tr style=\"text-align: right;\">\n",
       "      <th></th>\n",
       "      <th>customer_id</th>\n",
       "    </tr>\n",
       "    <tr>\n",
       "      <th>payment_method</th>\n",
       "      <th></th>\n",
       "    </tr>\n",
       "  </thead>\n",
       "  <tbody>\n",
       "    <tr>\n",
       "      <th>Cash</th>\n",
       "      <td>44447</td>\n",
       "    </tr>\n",
       "    <tr>\n",
       "      <th>Credit Card</th>\n",
       "      <td>34931</td>\n",
       "    </tr>\n",
       "    <tr>\n",
       "      <th>Debit Card</th>\n",
       "      <td>20079</td>\n",
       "    </tr>\n",
       "  </tbody>\n",
       "</table>\n",
       "</div>"
      ],
      "text/plain": [
       "                customer_id\n",
       "payment_method             \n",
       "Cash                  44447\n",
       "Credit Card           34931\n",
       "Debit Card            20079"
      ]
     },
     "execution_count": 19,
     "metadata": {},
     "output_type": "execute_result"
    }
   ],
   "source": [
    "payment_method"
   ]
  },
  {
   "cell_type": "code",
   "execution_count": 20,
   "id": "c996d042-9172-4e58-bb49-2aa226e656b4",
   "metadata": {},
   "outputs": [
    {
     "data": {
      "image/png": "[encoded data removed]",
      "text/plain": [
       "<Figure size 576x360 with 1 Axes>"
      ]
     },
     "metadata": {},
     "output_type": "display_data"
    }
   ],
   "source": [
    "pie_plot(\n",
    "    data=payment_method, \n",
    "    col='customer_id',\n",
    "    title='Participación medio de pago',\n",
    "    savefig=True)"
   ]
  },
  {
   "cell_type": "markdown",
   "id": "bb2a74f4-e7cb-41d9-a1ad-fdabc966a864",
   "metadata": {},
   "source": [
    "* La mayoría de las compras registradas en el data set se realizan con efectivo, teniendo una participación del 44.75%, seguido de las tarjetas crédito y débito con 35.1% y 20.2% respectivamente."
   ]
  },
  {
   "cell_type": "code",
   "execution_count": 21,
   "id": "e43d647d-fafd-4f63-99c5-071496a05336",
   "metadata": {},
   "outputs": [],
   "source": [
    "shopping_mall = shopping_data.groupby('shopping_mall').agg({'customer_id': 'count'})"
   ]
  },
  {
   "cell_type": "code",
   "execution_count": 22,
   "id": "e89b4430-f9e5-4b0e-ab9e-85626e16a19c",
   "metadata": {},
   "outputs": [],
   "source": [
    "shopping_mall = shopping_mall.sort_values(by='customer_id', ascending=False)"
   ]
  },
  {
   "cell_type": "code",
   "execution_count": 23,
   "id": "aee5235c-c2c4-41be-b801-28336f8e15eb",
   "metadata": {},
   "outputs": [],
   "source": [
    "shopping_mall['% participacion'] = shopping_mall['customer_id'] / shopping_mall['customer_id'].sum()"
   ]
  },
  {
   "cell_type": "code",
   "execution_count": 24,
   "id": "fd3b0dd6-521c-41f9-9b70-39abbd4de8f4",
   "metadata": {},
   "outputs": [],
   "source": [
    "shopping_mall['acumulado'] = shopping_mall['% participacion'].cumsum()"
   ]
  },
  {
   "cell_type": "code",
   "execution_count": 25,
   "id": "1de9a976-ade3-43f8-a26b-a478f966d7b4",
   "metadata": {},
   "outputs": [
    {
     "data": {
      "text/html": [
       "<div>\n",
       "<style scoped>\n",
       "    .dataframe tbody tr th:only-of-type {\n",
       "        vertical-align: middle;\n",
       "    }\n",
       "\n",
       "    .dataframe tbody tr th {\n",
       "        vertical-align: top;\n",
       "    }\n",
       "\n",
       "    .dataframe thead th {\n",
       "        text-align: right;\n",
       "    }\n",
       "</style>\n",
       "<table border=\"1\" class=\"dataframe\">\n",
       "  <thead>\n",
       "    <tr style=\"text-align: right;\">\n",
       "      <th></th>\n",
       "      <th>customer_id</th>\n",
       "      <th>% participacion</th>\n",
       "      <th>acumulado</th>\n",
       "    </tr>\n",
       "    <tr>\n",
       "      <th>shopping_mall</th>\n",
       "      <th></th>\n",
       "      <th></th>\n",
       "      <th></th>\n",
       "    </tr>\n",
       "  </thead>\n",
       "  <tbody>\n",
       "    <tr>\n",
       "      <th>Mall of Istanbul</th>\n",
       "      <td>19943</td>\n",
       "      <td>0.200519</td>\n",
       "      <td>0.200519</td>\n",
       "    </tr>\n",
       "    <tr>\n",
       "      <th>Kanyon</th>\n",
       "      <td>19823</td>\n",
       "      <td>0.199312</td>\n",
       "      <td>0.399831</td>\n",
       "    </tr>\n",
       "    <tr>\n",
       "      <th>Metrocity</th>\n",
       "      <td>15011</td>\n",
       "      <td>0.150930</td>\n",
       "      <td>0.550761</td>\n",
       "    </tr>\n",
       "    <tr>\n",
       "      <th>Metropol AVM</th>\n",
       "      <td>10161</td>\n",
       "      <td>0.102165</td>\n",
       "      <td>0.652925</td>\n",
       "    </tr>\n",
       "    <tr>\n",
       "      <th>Istinye Park</th>\n",
       "      <td>9781</td>\n",
       "      <td>0.098344</td>\n",
       "      <td>0.751269</td>\n",
       "    </tr>\n",
       "    <tr>\n",
       "      <th>Zorlu Center</th>\n",
       "      <td>5075</td>\n",
       "      <td>0.051027</td>\n",
       "      <td>0.802296</td>\n",
       "    </tr>\n",
       "    <tr>\n",
       "      <th>Cevahir AVM</th>\n",
       "      <td>4991</td>\n",
       "      <td>0.050182</td>\n",
       "      <td>0.852479</td>\n",
       "    </tr>\n",
       "    <tr>\n",
       "      <th>Forum Istanbul</th>\n",
       "      <td>4947</td>\n",
       "      <td>0.049740</td>\n",
       "      <td>0.902219</td>\n",
       "    </tr>\n",
       "    <tr>\n",
       "      <th>Viaport Outlet</th>\n",
       "      <td>4914</td>\n",
       "      <td>0.049408</td>\n",
       "      <td>0.951627</td>\n",
       "    </tr>\n",
       "    <tr>\n",
       "      <th>Emaar Square Mall</th>\n",
       "      <td>4811</td>\n",
       "      <td>0.048373</td>\n",
       "      <td>1.000000</td>\n",
       "    </tr>\n",
       "  </tbody>\n",
       "</table>\n",
       "</div>"
      ],
      "text/plain": [
       "                   customer_id  % participacion  acumulado\n",
       "shopping_mall                                             \n",
       "Mall of Istanbul         19943         0.200519   0.200519\n",
       "Kanyon                   19823         0.199312   0.399831\n",
       "Metrocity                15011         0.150930   0.550761\n",
       "Metropol AVM             10161         0.102165   0.652925\n",
       "Istinye Park              9781         0.098344   0.751269\n",
       "Zorlu Center              5075         0.051027   0.802296\n",
       "Cevahir AVM               4991         0.050182   0.852479\n",
       "Forum Istanbul            4947         0.049740   0.902219\n",
       "Viaport Outlet            4914         0.049408   0.951627\n",
       "Emaar Square Mall         4811         0.048373   1.000000"
      ]
     },
     "execution_count": 25,
     "metadata": {},
     "output_type": "execute_result"
    }
   ],
   "source": [
    "shopping_mall"
   ]
  },
  {
   "cell_type": "code",
   "execution_count": 26,
   "id": "29a29c4c-40bf-4947-a04f-9a3c3924fc50",
   "metadata": {},
   "outputs": [
    {
     "data": {
      "image/png": "[encoded data removed]",
      "text/plain": [
       "<Figure size 576x432 with 1 Axes>"
      ]
     },
     "metadata": {},
     "output_type": "display_data"
    }
   ],
   "source": [
    "bar_plot(df=shopping_mall, \n",
    "         column='customer_id',\n",
    "         title='Participación locación',\n",
    "         savefig=True)"
   ]
  },
  {
   "cell_type": "markdown",
   "id": "2b069379-c519-44fc-b8c3-f83e43e2e652",
   "metadata": {},
   "source": [
    "* Se evidencia que un poco más de la mitad del total de las transacciones realizadas en el periodo de tiempo estudiado, es decir el 55.07% se centra en 3 centros comerciales: Mall of Istanbul, Kanyon y Metrocity."
   ]
  },
  {
   "cell_type": "code",
   "execution_count": 27,
   "id": "4331c7c9-aab6-4e4a-811d-833c9125b82b",
   "metadata": {},
   "outputs": [],
   "source": [
    "category = shopping_data.groupby('category').agg({'customer_id': 'count'})"
   ]
  },
  {
   "cell_type": "code",
   "execution_count": 28,
   "id": "6139e963-c9be-4d0a-afd0-4c33aa841118",
   "metadata": {},
   "outputs": [],
   "source": [
    "category = category.sort_values(by='customer_id', ascending=False)"
   ]
  },
  {
   "cell_type": "code",
   "execution_count": 29,
   "id": "b88d0113-d130-467f-bc60-a5064fa46b2d",
   "metadata": {},
   "outputs": [],
   "source": [
    "category['% participacion'] = category['customer_id'] / category['customer_id'].sum()"
   ]
  },
  {
   "cell_type": "code",
   "execution_count": 30,
   "id": "d86c9772-d23a-4b67-8d60-fbb818d4580f",
   "metadata": {},
   "outputs": [],
   "source": [
    "category['acumulado'] = category['% participacion'].cumsum()"
   ]
  },
  {
   "cell_type": "code",
   "execution_count": 31,
   "id": "33a73aa2-ec2a-419c-9c32-18d19905ed11",
   "metadata": {},
   "outputs": [
    {
     "data": {
      "text/html": [
       "<div>\n",
       "<style scoped>\n",
       "    .dataframe tbody tr th:only-of-type {\n",
       "        vertical-align: middle;\n",
       "    }\n",
       "\n",
       "    .dataframe tbody tr th {\n",
       "        vertical-align: top;\n",
       "    }\n",
       "\n",
       "    .dataframe thead th {\n",
       "        text-align: right;\n",
       "    }\n",
       "</style>\n",
       "<table border=\"1\" class=\"dataframe\">\n",
       "  <thead>\n",
       "    <tr style=\"text-align: right;\">\n",
       "      <th></th>\n",
       "      <th>customer_id</th>\n",
       "      <th>% participacion</th>\n",
       "      <th>acumulado</th>\n",
       "    </tr>\n",
       "    <tr>\n",
       "      <th>category</th>\n",
       "      <th></th>\n",
       "      <th></th>\n",
       "      <th></th>\n",
       "    </tr>\n",
       "  </thead>\n",
       "  <tbody>\n",
       "    <tr>\n",
       "      <th>Clothing</th>\n",
       "      <td>34487</td>\n",
       "      <td>0.346753</td>\n",
       "      <td>0.346753</td>\n",
       "    </tr>\n",
       "    <tr>\n",
       "      <th>Cosmetics</th>\n",
       "      <td>15097</td>\n",
       "      <td>0.151794</td>\n",
       "      <td>0.498547</td>\n",
       "    </tr>\n",
       "    <tr>\n",
       "      <th>Food &amp; Beverage</th>\n",
       "      <td>14776</td>\n",
       "      <td>0.148567</td>\n",
       "      <td>0.647114</td>\n",
       "    </tr>\n",
       "    <tr>\n",
       "      <th>Toys</th>\n",
       "      <td>10087</td>\n",
       "      <td>0.101421</td>\n",
       "      <td>0.748535</td>\n",
       "    </tr>\n",
       "    <tr>\n",
       "      <th>Shoes</th>\n",
       "      <td>10034</td>\n",
       "      <td>0.100888</td>\n",
       "      <td>0.849422</td>\n",
       "    </tr>\n",
       "    <tr>\n",
       "      <th>Souvenir</th>\n",
       "      <td>4999</td>\n",
       "      <td>0.050263</td>\n",
       "      <td>0.899685</td>\n",
       "    </tr>\n",
       "    <tr>\n",
       "      <th>Technology</th>\n",
       "      <td>4996</td>\n",
       "      <td>0.050233</td>\n",
       "      <td>0.949918</td>\n",
       "    </tr>\n",
       "    <tr>\n",
       "      <th>Books</th>\n",
       "      <td>4981</td>\n",
       "      <td>0.050082</td>\n",
       "      <td>1.000000</td>\n",
       "    </tr>\n",
       "  </tbody>\n",
       "</table>\n",
       "</div>"
      ],
      "text/plain": [
       "                 customer_id  % participacion  acumulado\n",
       "category                                                \n",
       "Clothing               34487         0.346753   0.346753\n",
       "Cosmetics              15097         0.151794   0.498547\n",
       "Food & Beverage        14776         0.148567   0.647114\n",
       "Toys                   10087         0.101421   0.748535\n",
       "Shoes                  10034         0.100888   0.849422\n",
       "Souvenir                4999         0.050263   0.899685\n",
       "Technology              4996         0.050233   0.949918\n",
       "Books                   4981         0.050082   1.000000"
      ]
     },
     "execution_count": 31,
     "metadata": {},
     "output_type": "execute_result"
    }
   ],
   "source": [
    "category"
   ]
  },
  {
   "cell_type": "code",
   "execution_count": 32,
   "id": "03de4172-9229-4636-9b11-6427d2745493",
   "metadata": {},
   "outputs": [
    {
     "data": {
      "image/png": "[encoded data removed]",
      "text/plain": [
       "<Figure size 576x432 with 1 Axes>"
      ]
     },
     "metadata": {},
     "output_type": "display_data"
    }
   ],
   "source": [
    "bar_plot(df=category, \n",
    "         column='customer_id',\n",
    "         title='Participación categoría', \n",
    "         savefig=True)"
   ]
  },
  {
   "cell_type": "code",
   "execution_count": 33,
   "id": "4651be39-5c55-4d5a-aa25-46e9e2d496b1",
   "metadata": {},
   "outputs": [
    {
     "data": {
      "image/png": "[encoded data removed]",
      "text/plain": [
       "<Figure size 576x360 with 1 Axes>"
      ]
     },
     "metadata": {},
     "output_type": "display_data"
    }
   ],
   "source": [
    "pie_plot(\n",
    "    data=category.sort_values('customer_id', ascending=False), \n",
    "    col='customer_id',\n",
    "    title='Categorías',\n",
    "    savefig=True)"
   ]
  },
  {
   "cell_type": "markdown",
   "id": "3ee0f4d2-75c4-4657-ae22-a013e1ef05e7",
   "metadata": {},
   "source": [
    "* Debido a que el obetivo de esta monografia es tratar de predecir las categorias de compra, es importante realizar un análisis de la distribución de los datos de las 8 categorias, ya que el 35% de las transacciones es de ropa y 5 de las categorias, no alcanzan una participación mayor al 10% de los datos."
   ]
  },
  {
   "cell_type": "markdown",
   "id": "6619a3a4-778d-4271-a747-b32aad5ebdbd",
   "metadata": {},
   "source": [
    "### Características numéricas"
   ]
  },
  {
   "cell_type": "code",
   "execution_count": 34,
   "id": "6fe6160a-d033-4a50-87e9-c08893ed2e59",
   "metadata": {},
   "outputs": [
    {
     "data": {
      "image/png": "[encoded data removed]",
      "text/plain": [
       "<Figure size 720x360 with 1 Axes>"
      ]
     },
     "metadata": {},
     "output_type": "display_data"
    }
   ],
   "source": [
    "bar_numeric(data=shopping_data, \n",
    "            col='age', \n",
    "            title='Edad', \n",
    "            kde=True, \n",
    "            savefig=True)"
   ]
  },
  {
   "cell_type": "code",
   "execution_count": 35,
   "id": "aa2371d6-5339-41ab-8bbc-1b5629cb1be7",
   "metadata": {},
   "outputs": [
    {
     "data": {
      "image/png": "[encoded data removed]",
      "text/plain": [
       "<Figure size 720x360 with 1 Axes>"
      ]
     },
     "metadata": {},
     "output_type": "display_data"
    }
   ],
   "source": [
    "bar_numeric(data=shopping_data, \n",
    "            col='quantity', \n",
    "            title='Cantidad',\n",
    "            bins=5,\n",
    "            xticks=True, \n",
    "            savefig=True)"
   ]
  },
  {
   "cell_type": "code",
   "execution_count": 36,
   "id": "5be206b9-a82b-4b2f-a7cf-33b7f632a0d2",
   "metadata": {},
   "outputs": [
    {
     "data": {
      "image/png": "[encoded data removed]",
      "text/plain": [
       "<Figure size 720x360 with 1 Axes>"
      ]
     },
     "metadata": {},
     "output_type": "display_data"
    }
   ],
   "source": [
    "bar_numeric(data=shopping_data, \n",
    "            col='price', \n",
    "            title='Precios',\n",
    "            kde=True,\n",
    "            savefig=True)"
   ]
  },
  {
   "cell_type": "code",
   "execution_count": null,
   "id": "de300a61-4f39-48d3-9a06-67a3664404ec",
   "metadata": {},
   "outputs": [],
   "source": []
  }
 ],
 "metadata": {
  "kernelspec": {
   "display_name": "Python 3 (ipykernel)",
   "language": "python",
   "name": "python3"
  },
  "language_info": {
   "codemirror_mode": {
    "name": "ipython",
    "version": 3
   },
   "file_extension": ".py",
   "mimetype": "text/x-python",
   "name": "python",
   "nbconvert_exporter": "python",
   "pygments_lexer": "ipython3",
   "version": "3.9.13"
  },
  "toc-autonumbering": true
 },
 "nbformat": 4,
 "nbformat_minor": 5
}
