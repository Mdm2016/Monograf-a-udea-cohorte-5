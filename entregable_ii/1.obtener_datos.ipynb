{
 "cells": [
  {
   "cell_type": "markdown",
   "id": "6cf9d636-a7e7-4f26-beb1-496660384367",
   "metadata": {},
   "source": [
    "# Customer shopping"
   ]
  },
  {
   "cell_type": "markdown",
   "id": "d332b458-11e0-40bb-a656-2ea3b31a5e38",
   "metadata": {},
   "source": [
    "## Librerías"
   ]
  },
  {
   "cell_type": "code",
   "execution_count": 1,
   "id": "db8f7024-9d7d-4d12-984c-ad4ce51eeeae",
   "metadata": {},
   "outputs": [],
   "source": [
    "import json\n",
    "import os\n",
    "import pandas as pd\n",
    "import json\n",
    "import zipfile\n",
    "\n",
    "from kaggle.api.kaggle_api_extended import KaggleApi"
   ]
  },
  {
   "cell_type": "markdown",
   "id": "1b852858-0060-491f-acdd-4d26baba1687",
   "metadata": {},
   "source": [
    "## Configuración del API de Kaggle"
   ]
  },
  {
   "cell_type": "markdown",
   "id": "72b74a13-23b0-4bbe-9e3c-c2d0d8013fe9",
   "metadata": {},
   "source": [
    "1. Iniciar sesión en tu cuenta de Kaggle en `https://www.kaggle.com`\n",
    "2. Hacer clic en tu foto de perfil en la esquina superior derecha de la página y seleccionar \"Cuenta\" en el menú desplaable.\n",
    "3. Desplazar hacia abajo hasta la sección `API` y haz clic en `Crear nueva clave de API`.\n",
    "4. Se descargará automáticamente el archivo `kaggle.json` que contiene las credenciales de API de Kaggle.\n",
    "5. Guardar el archivo kaggle.json en una `input`."
   ]
  },
  {
   "cell_type": "code",
   "execution_count": 2,
   "id": "bb49c3bb-4ce0-4945-ac04-73cb960d9819",
   "metadata": {},
   "outputs": [],
   "source": [
    "def set_environ_kaggle(path: str) -> None:\n",
    "    \"\"\"Establece las variables de entorno para la autenticación \n",
    "     de la API de Kaggle.\n",
    "\n",
    "    Args:\n",
    "        path: Ruta al archivo kaggle.json que contiene las \n",
    "         credenciales de API de Kaggle.\n",
    "\n",
    "    \"\"\"\n",
    "    with open(path, 'r') as f:\n",
    "        data = json.load(f)\n",
    "\n",
    "    os.environ['KAGGLE_USERNAME'] = data['username']\n",
    "    os.environ['KAGGLE_KEY'] = data['key']"
   ]
  },
  {
   "cell_type": "code",
   "execution_count": 3,
   "id": "baedc6e3-2a11-4e64-9d9a-bf31af613c48",
   "metadata": {},
   "outputs": [],
   "source": [
    "kaggle_path = os.path.join('..', 'input', 'kaggle.json')"
   ]
  },
  {
   "cell_type": "code",
   "execution_count": 4,
   "id": "9c9d7e90-4f2a-46ab-adcd-fb5b9593859a",
   "metadata": {},
   "outputs": [],
   "source": [
    "# Se configura el entorno para autenticarse en KAGGLE.\n",
    "set_environ_kaggle(kaggle_path)"
   ]
  },
  {
   "cell_type": "markdown",
   "id": "13f40bd2-a4da-4418-a8c4-c1fd0e09d98c",
   "metadata": {},
   "source": [
    "## Descargar el conjunto de datos"
   ]
  },
  {
   "cell_type": "code",
   "execution_count": 5,
   "id": "8bb9e73c-814f-4c4e-9e28-29fad7c19b77",
   "metadata": {},
   "outputs": [],
   "source": [
    "def download_dataset(dataset_name: str, output_path: str) -> None:\n",
    "    \"\"\"Descarga un conjunto de datos de Kaggle y lo extrae en \n",
    "     la ubicación especificada.\n",
    "\n",
    "    Args:\n",
    "        dataset_name: Nombre del conjunto de datos en Kaggle.\n",
    "         Debe seguir el formato 'nombre-usuario/nombre-conjunto-datos'.\n",
    "        output_path: Ruta donde se extraerán los archivos \n",
    "         del conjunto de datos.\n",
    "\n",
    "    \"\"\"\n",
    "    api = KaggleApi()\n",
    "    api.authenticate()\n",
    "\n",
    "    api.dataset_download_files(dataset_name)\n",
    "\n",
    "    file_name = dataset_name.split('/')[1]\n",
    "    with zipfile.ZipFile(f'{file_name}.zip', 'r') as zip_ref:\n",
    "        zip_ref.extractall(output_path)\n",
    "\n",
    "    os.remove(f'{file_name}.zip')"
   ]
  },
  {
   "cell_type": "markdown",
   "id": "a670e0ff-a983-4738-8648-18c47bc8bbd4",
   "metadata": {},
   "source": [
    "El dataset se encuentra en el link: https://www.kaggle.com/datasets/mehmettahiraslan/customer-shopping-dataset"
   ]
  },
  {
   "cell_type": "code",
   "execution_count": 6,
   "id": "426acc6f-4165-42e9-ba82-7bd46c76548d",
   "metadata": {},
   "outputs": [],
   "source": [
    "dataset_name = 'mehmettahiraslan/customer-shopping-dataset'"
   ]
  },
  {
   "cell_type": "code",
   "execution_count": 7,
   "id": "541ad08a-fdab-461f-9342-9e31080541b8",
   "metadata": {},
   "outputs": [],
   "source": [
    "data_path = os.path.join('..', 'data')"
   ]
  },
  {
   "cell_type": "code",
   "execution_count": 8,
   "id": "8034087d-3ba3-48e0-a456-7fc309d4ad1e",
   "metadata": {},
   "outputs": [],
   "source": [
    "download_dataset(dataset_name, data_path)"
   ]
  },
  {
   "cell_type": "markdown",
   "id": "43baf6be-b2f9-4e3f-b3ca-5fa767abe57e",
   "metadata": {},
   "source": [
    "### Se muestra el resultado"
   ]
  },
  {
   "cell_type": "code",
   "execution_count": 9,
   "id": "2946c706-faf1-4b22-adfb-7c1c1d3877ec",
   "metadata": {},
   "outputs": [],
   "source": [
    "path_df = os.path.join('..', 'data', 'customer_shopping_data.csv')\n",
    "\n",
    "customers = pd.read_csv(path_df)"
   ]
  },
  {
   "cell_type": "code",
   "execution_count": 10,
   "id": "0829db84-7aea-482e-8dd2-886ef8cf084b",
   "metadata": {},
   "outputs": [
    {
     "data": {
      "text/html": [
       "<div>\n",
       "<style scoped>\n",
       "    .dataframe tbody tr th:only-of-type {\n",
       "        vertical-align: middle;\n",
       "    }\n",
       "\n",
       "    .dataframe tbody tr th {\n",
       "        vertical-align: top;\n",
       "    }\n",
       "\n",
       "    .dataframe thead th {\n",
       "        text-align: right;\n",
       "    }\n",
       "</style>\n",
       "<table border=\"1\" class=\"dataframe\">\n",
       "  <thead>\n",
       "    <tr style=\"text-align: right;\">\n",
       "      <th></th>\n",
       "      <th>invoice_no</th>\n",
       "      <th>customer_id</th>\n",
       "      <th>gender</th>\n",
       "      <th>age</th>\n",
       "      <th>category</th>\n",
       "      <th>quantity</th>\n",
       "      <th>price</th>\n",
       "      <th>payment_method</th>\n",
       "      <th>invoice_date</th>\n",
       "      <th>shopping_mall</th>\n",
       "    </tr>\n",
       "  </thead>\n",
       "  <tbody>\n",
       "    <tr>\n",
       "      <th>0</th>\n",
       "      <td>I138884</td>\n",
       "      <td>C241288</td>\n",
       "      <td>Female</td>\n",
       "      <td>28</td>\n",
       "      <td>Clothing</td>\n",
       "      <td>5</td>\n",
       "      <td>1500.40</td>\n",
       "      <td>Credit Card</td>\n",
       "      <td>5/8/2022</td>\n",
       "      <td>Kanyon</td>\n",
       "    </tr>\n",
       "    <tr>\n",
       "      <th>1</th>\n",
       "      <td>I317333</td>\n",
       "      <td>C111565</td>\n",
       "      <td>Male</td>\n",
       "      <td>21</td>\n",
       "      <td>Shoes</td>\n",
       "      <td>3</td>\n",
       "      <td>1800.51</td>\n",
       "      <td>Debit Card</td>\n",
       "      <td>12/12/2021</td>\n",
       "      <td>Forum Istanbul</td>\n",
       "    </tr>\n",
       "    <tr>\n",
       "      <th>2</th>\n",
       "      <td>I127801</td>\n",
       "      <td>C266599</td>\n",
       "      <td>Male</td>\n",
       "      <td>20</td>\n",
       "      <td>Clothing</td>\n",
       "      <td>1</td>\n",
       "      <td>300.08</td>\n",
       "      <td>Cash</td>\n",
       "      <td>9/11/2021</td>\n",
       "      <td>Metrocity</td>\n",
       "    </tr>\n",
       "    <tr>\n",
       "      <th>3</th>\n",
       "      <td>I173702</td>\n",
       "      <td>C988172</td>\n",
       "      <td>Female</td>\n",
       "      <td>66</td>\n",
       "      <td>Shoes</td>\n",
       "      <td>5</td>\n",
       "      <td>3000.85</td>\n",
       "      <td>Credit Card</td>\n",
       "      <td>16/05/2021</td>\n",
       "      <td>Metropol AVM</td>\n",
       "    </tr>\n",
       "    <tr>\n",
       "      <th>4</th>\n",
       "      <td>I337046</td>\n",
       "      <td>C189076</td>\n",
       "      <td>Female</td>\n",
       "      <td>53</td>\n",
       "      <td>Books</td>\n",
       "      <td>4</td>\n",
       "      <td>60.60</td>\n",
       "      <td>Cash</td>\n",
       "      <td>24/10/2021</td>\n",
       "      <td>Kanyon</td>\n",
       "    </tr>\n",
       "  </tbody>\n",
       "</table>\n",
       "</div>"
      ],
      "text/plain": [
       "  invoice_no customer_id  gender  age  category  quantity    price  \\\n",
       "0    I138884     C241288  Female   28  Clothing         5  1500.40   \n",
       "1    I317333     C111565    Male   21     Shoes         3  1800.51   \n",
       "2    I127801     C266599    Male   20  Clothing         1   300.08   \n",
       "3    I173702     C988172  Female   66     Shoes         5  3000.85   \n",
       "4    I337046     C189076  Female   53     Books         4    60.60   \n",
       "\n",
       "  payment_method invoice_date   shopping_mall  \n",
       "0    Credit Card     5/8/2022          Kanyon  \n",
       "1     Debit Card   12/12/2021  Forum Istanbul  \n",
       "2           Cash    9/11/2021       Metrocity  \n",
       "3    Credit Card   16/05/2021    Metropol AVM  \n",
       "4           Cash   24/10/2021          Kanyon  "
      ]
     },
     "execution_count": 10,
     "metadata": {},
     "output_type": "execute_result"
    }
   ],
   "source": [
    "customers.head()"
   ]
  },
  {
   "cell_type": "code",
   "execution_count": null,
   "id": "d644ccfa-3e2c-41bc-bb21-87a423f4211c",
   "metadata": {},
   "outputs": [],
   "source": []
  }
 ],
 "metadata": {
  "kernelspec": {
   "display_name": "Python 3 (ipykernel)",
   "language": "python",
   "name": "python3"
  },
  "language_info": {
   "codemirror_mode": {
    "name": "ipython",
    "version": 3
   },
   "file_extension": ".py",
   "mimetype": "text/x-python",
   "name": "python",
   "nbconvert_exporter": "python",
   "pygments_lexer": "ipython3",
   "version": "3.9.13"
  },
  "toc-autonumbering": true
 },
 "nbformat": 4,
 "nbformat_minor": 5
}
